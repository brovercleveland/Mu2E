{
 "cells": [
  {
   "cell_type": "code",
   "execution_count": null,
   "metadata": {},
   "outputs": [],
   "source": [
    "import os\n",
    "from mu2e import mu2e_ext_path\n",
    "from mu2e.dataframeprod import DataFrameMaker\n",
    "from mu2e.mu2eplots import mu2e_plot, mu2e_plot3d\n",
    "from matplotlib import gridspec\n",
    "%matplotlib inline\n",
    "plt.rcParams['figure.figsize'] = (12,8)\n",
    "import pandas as pd\n",
    "from time import sleep"
   ]
  },
  {
   "cell_type": "code",
   "execution_count": null,
   "metadata": {},
   "outputs": [],
   "source": [
    "#df_helix_v1 = DataFrameMaker(mu2e_ext_path+'datafiles/FieldMapsPure/DS-8_helix_no_leads',use_pickle = True).data_frame\n",
    "#df_helix_v2 = DataFrameMaker(mu2e_ext_path+'datafiles/FieldMapsPure/DS-8_with_leads_TOL1e-5',use_pickle = True).data_frame\n",
    "#df_helix_v4 = DataFrameMaker(mu2e_ext_path+'datafiles/FieldMapsPure/test_helix_5L_detail',use_pickle = True).data_frame\n",
    "#df_helix_v3 = DataFrameMaker(mu2e_ext_path+'datafiles/FieldMapsPure/test_helix_5L',input_type = 'pkl').data_frame\n",
    "#df_helix_v5 = DataFrameMaker(mu2e_ext_path+'datafiles/FieldMapsPure/test_helix_10cm_pitch',input_type = 'pkl').data_frame\n",
    "df_helix_v6 = DataFrameMaker(mu2e_ext_path+'datafiles/FieldMapsPure/test_helix_10cm_pitch_tol6',input_type = 'pkl').data_frame\n",
    "df_helix_v7 = DataFrameMaker(mu2e_ext_path+'datafiles/FieldMapsCole/bfield_map_3453103pts_06-29_231454',input_type = 'pkl').data_frame\n",
    "#df_helix_v8 = DataFrameMaker(mu2e_ext_path+'datafiles/FieldMapsCole/bfield_map_cylin_845568pts_07-03_145644',input_type = 'pkl').data_frame\n",
    "#df_helix_v9 = DataFrameMaker(mu2e_ext_path+'datafiles/FieldMapsCole/bfield_map_cylin_845568pts_07-06_160144',input_type = 'pkl').data_frame\n",
    "df_helix_v10 = DataFrameMaker(mu2e_ext_path+'datafiles/FieldMapsCole/bfield_map_3453103pts_08-10_003436',input_type = 'pkl').data_frame\n",
    "#df_helix_v11 = DataFrameMaker(mu2e_ext_path+'datafiles/FieldMapsCole/bfield_map_1232173pts_08-10_094943',input_type = 'pkl').data_frame\n",
    "#df_helix_v12 = DataFrameMaker(mu2e_ext_path+'datafiles/FieldMapsCole/solcalc_map_3453103pts_08-24_092341_ends',input_type = 'pkl').data_frame\n",
    "df_helix_v13 = DataFrameMaker(mu2e_ext_path+'datafiles/FieldMapsCole/endsonly_both_3453103pts_08-28_150638',input_type = 'pkl').data_frame\n",
    "df_helix_v14 = DataFrameMaker(mu2e_ext_path+'datafiles/FieldMapsCole/endsonly_both_3453103pts_08-28_184114',input_type = 'pkl').data_frame"
   ]
  },
  {
   "cell_type": "code",
   "execution_count": null,
   "metadata": {},
   "outputs": [],
   "source": [
    "df_helix_v7.columns"
   ]
  },
  {
   "cell_type": "code",
   "execution_count": null,
   "metadata": {},
   "outputs": [],
   "source": [
    "sort(df_helix_v8.Phi.unique())"
   ]
  },
  {
   "cell_type": "code",
   "execution_count": null,
   "metadata": {},
   "outputs": [],
   "source": [
    "df_diff = df_helix_v7.copy()\n",
    "df_diff['Bz'] = df_helix_v7.Bz-df_helix_v10.Bz\n",
    "df_diff['Br'] = df_helix_v7.Br-df_helix_v10.Br\n",
    "df_diff['Bphi'] = df_helix_v7.Bphi-df_helix_v10.Bphi\n"
   ]
  },
  {
   "cell_type": "code",
   "execution_count": null,
   "metadata": {},
   "outputs": [],
   "source": [
    "phi=0\n",
    "# _ = mu2e_plot3d(df_helix_v7, 'Z', 'Y', 'Bphi', '-4500<Z<4500 and R<950 and X==0',\n",
    "#             title_simp = 'Cole', df_fit=False, mode='plotly_nb', ptype='3d')\n",
    "#_ = mu2e_plot3d(df_helix_v7, 'Z', 'R', 'Bphi', 'R<800 and Phi==0 and -2000<Z<2000',\n",
    "#            title_simp = 'cole1', df_fit=False, mode='plotly_nb', ptype='3d')\n",
    "_ = mu2e_plot3d(df_helix_v10, 'Z', 'R', 'Bphi', f'R<800 and Phi=={phi} and -2000<Z<2000',\n",
    "            title_simp = 'cole2', df_fit=False, mode='plotly_nb', ptype='3d')\n",
    "#_ = mu2e_plot3d(df_helix_v11, 'Z', 'R', 'Br', 'R<=100 and Phi==0 and -2000<Z<2000',\n",
    "#            title_simp = 'cole3', df_fit=False, mode='plotly_nb', ptype='3d')\n",
    "_ = mu2e_plot3d(df_helix_v14, 'Z', 'R', 'Bphi', f'R<0.8 and Phi=={phi} and -2<Z<2',\n",
    "            title_simp = 'solcalc_b', df_fit=False, mode='plotly_nb', ptype='3d')"
   ]
  },
  {
   "cell_type": "code",
   "execution_count": null,
   "metadata": {},
   "outputs": [],
   "source": [
    "df_helix_v11[np.isclose(df_helix_v11.Phi, np.pi/4)].R.unique()"
   ]
  },
  {
   "cell_type": "code",
   "execution_count": null,
   "metadata": {
    "scrolled": false
   },
   "outputs": [],
   "source": [
    "_ = mu2e_plot3d(df_helix_v7, 'X', 'Y', 'Bphi', 'Z==350 and R<925',\n",
    "            title_simp = 'Cole1', df_fit=False, mode='mpl', ptype='heat')\n",
    "plt.figure()\n",
    "_ = mu2e_plot3d(df_helix_v10, 'X', 'Y', 'Bphi', 'Z==350 and R<925',\n",
    "            title_simp = 'Cole2', df_fit=False, mode='mpl', ptype='heat')\n",
    "\n",
    "#_ = mu2e_plot3d(df_diff, 'X', 'Y', 'Bphi', 'Z==350 and R<925',\n",
    "#            title_simp = 'Opera-Matlab', df_fit=False, mode='mpl', ptype='heat')\n",
    "#plt.figure()\n",
    "#_ = mu2e_plot3d(df_helix_v3, 'X', 'Y', 'Bz', 'Z==350 and R<925',\n",
    "#            title_simp = 'Bz for Pure Opera Helix', df_fit=False, mode='mpl', ptype='heat')"
   ]
  },
  {
   "cell_type": "code",
   "execution_count": null,
   "metadata": {},
   "outputs": [],
   "source": [
    "_ = mu2e_plot3d(df_helix_v6, 'X', 'Y', 'Bx', 'Z==350 and R<925',\n",
    "            title_simp = 'Opera', df_fit=False, mode='mpl', ptype='heat')\n",
    "_ = mu2e_plot3d(df_helix_v6, 'X', 'Y', 'Bx', 'Z==325 and R<925',\n",
    "            title_simp = 'Opera', df_fit=False, mode='mpl', ptype='heat')\n",
    "_ = mu2e_plot3d(df_helix_v6, 'X', 'Y', 'Bx', 'Z==300 and R<925',\n",
    "            title_simp = 'Opera', df_fit=False, mode='mpl', ptype='heat')"
   ]
  },
  {
   "cell_type": "code",
   "execution_count": null,
   "metadata": {},
   "outputs": [],
   "source": [
    "_ = mu2e_plot3d(df_diff, 'Z', 'R', 'Bphi', 'R<=900 and Phi==0',\n",
    "            title_simp = 'cole_diff', df_fit=False, mode='plotly_nb', ptype='3d')"
   ]
  },
  {
   "cell_type": "code",
   "execution_count": null,
   "metadata": {},
   "outputs": [],
   "source": []
  },
  {
   "cell_type": "code",
   "execution_count": null,
   "metadata": {},
   "outputs": [],
   "source": [
    "tmp_df = df_helix_v3.query('Z==500')\n",
    "piv_bx = tmp_df.pivot('X', 'Y', 'Bx')\n",
    "piv_by = tmp_df.pivot('X', 'Y', 'By')\n",
    "piv_br = tmp_df.pivot('X', 'Y', 'Br')\n",
    "x = piv_bx.columns.values\n",
    "y = piv_bx.index.values\n",
    "bx = piv_bx.values\n",
    "by = piv_by.values\n",
    "br = piv_br.values\n",
    "\n",
    "fig = plt.figure()\n",
    "ax = fig.add_subplot(111)\n",
    "color=2*np.log(np.hypot(bx, by))\n",
    "ax.streamplot(x, y, by, bx, linewidth=1, cmap='viridis',\n",
    "              density=2, color=color, arrowstyle='->', arrowsize=1.5)\n",
    "\n",
    "\n"
   ]
  },
  {
   "cell_type": "code",
   "execution_count": null,
   "metadata": {},
   "outputs": [],
   "source": [
    "tmp_df = df_helix_v3.query('Y==0')\n",
    "piv_bx = tmp_df.pivot('X', 'Z', 'Bx')\n",
    "piv_bz = tmp_df.pivot('X', 'Z', 'Bz')\n",
    "x = piv_bx.columns.values\n",
    "z = piv_bx.index.values\n",
    "bx = piv_bx.values\n",
    "bz = piv_bz.values\n",
    "\n",
    "fig = plt.figure()\n",
    "ax = fig.add_subplot(111)\n",
    "color=2*np.log(np.hypot(bz, bx))\n",
    "ax.streamplot(x, z, bz, bx, linewidth=2, cmap='viridis',\n",
    "              density=1.2, color=color, arrowstyle='->', arrowsize=1.5)\n",
    "plt.title('Field Lines for 2D Slice')\n",
    "plt.xlabel('Z (mm)')\n",
    "plt.ylabel('X (mm)')\n",
    "\n"
   ]
  },
  {
   "cell_type": "code",
   "execution_count": null,
   "metadata": {},
   "outputs": [],
   "source": [
    "tmp_df_bottom = df_helix_v3.query('Y==0')\n",
    "piv_bx_bottom = tmp_df_bottom.pivot('X', 'Z', 'Bx')\n",
    "piv_bz_bottom = tmp_df_bottom.pivot('X', 'Z', 'Bz')\n",
    "x_bottom = piv_bx_bottom.columns.values\n",
    "z_bottom = piv_bx_bottom.index.values\n",
    "bx_bottom = piv_bx_bottom.values\n",
    "bz_bottom = piv_bz_bottom.values\n",
    "\n",
    "for z_sel in range(-3000,3000,25):\n",
    "    fig = plt.figure(figsize=(12, 12))\n",
    "    gs = gridspec.GridSpec(2, 1, height_ratios=[3, 1])\n",
    "    ax0 = plt.subplot(gs[0])\n",
    "\n",
    "    tmp_df = df_helix_v3.query(f'Z=={z_sel}')\n",
    "    piv_bx = tmp_df.pivot('X', 'Y', 'Bx')\n",
    "    piv_by = tmp_df.pivot('X', 'Y', 'By')\n",
    "    x = piv_bx.columns.values\n",
    "    y = piv_bx.index.values\n",
    "    bx = piv_bx.values\n",
    "    by = piv_by.values\n",
    "\n",
    "    color=2*np.log(np.hypot(bx, by))\n",
    "    ax0.streamplot(x, y, by, bx, linewidth=1, cmap='viridis',\n",
    "                  density=2, color=color, arrowstyle='->', arrowsize=1.5)\n",
    "\n",
    "    ax1 = plt.subplot(gs[1])\n",
    "    color=2*np.log(np.hypot(bz_bottom, bx_bottom))\n",
    "    ax1.streamplot(x_bottom, z_bottom, bz_bottom, bx_bottom, linewidth=1, cmap='viridis',\n",
    "                  density=1.6, color=color, arrowstyle='->', arrowsize=1.5)\n",
    "\n",
    "\n",
    "\n",
    "    ax1.axvline(x=z_sel, color='red')\n",
    "    plt.savefig(f'/Users/brianpollack/Desktop/streamline_ct/slice_z={z_sel}.png', bbox_inches='tight')\n",
    "    sleep(0.5)\n",
    "    plt.close()"
   ]
  },
  {
   "cell_type": "code",
   "execution_count": null,
   "metadata": {},
   "outputs": [],
   "source": []
  }
 ],
 "metadata": {
  "kernelspec": {
   "display_name": "Python 3",
   "language": "python",
   "name": "python3"
  },
  "language_info": {
   "codemirror_mode": {
    "name": "ipython",
    "version": 3
   },
   "file_extension": ".py",
   "mimetype": "text/x-python",
   "name": "python",
   "nbconvert_exporter": "python",
   "pygments_lexer": "ipython3",
   "version": "3.6.5"
  }
 },
 "nbformat": 4,
 "nbformat_minor": 2
}
