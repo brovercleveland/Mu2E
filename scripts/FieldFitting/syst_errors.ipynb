{
 "cells": [
  {
   "cell_type": "code",
   "execution_count": null,
   "metadata": {},
   "outputs": [],
   "source": [
    "import numpy as np\n",
    "import cPickle as pkl\n",
    "from mu2e import mu2e_ext_path\n",
    "from mu2e.mu2eplots import mu2e_plot, mu2e_plot3d\n",
    "%matplotlib inline\n",
    "plt.rcParams['figure.figsize'] = (12,8)"
   ]
  },
  {
   "cell_type": "code",
   "execution_count": null,
   "metadata": {},
   "outputs": [],
   "source": [
    "df_set = pkl.load(open(mu2e_ext_path+'datafiles/df_set.p', 'r'))"
   ]
  },
  {
   "cell_type": "code",
   "execution_count": null,
   "metadata": {},
   "outputs": [],
   "source": [
    "df_set[0]"
   ]
  },
  {
   "cell_type": "code",
   "execution_count": null,
   "metadata": {},
   "outputs": [],
   "source": [
    "df_rms = df_set[0].copy()"
   ]
  },
  {
   "cell_type": "code",
   "execution_count": null,
   "metadata": {},
   "outputs": [],
   "source": [
    "df_rms"
   ]
  },
  {
   "cell_type": "code",
   "execution_count": null,
   "metadata": {},
   "outputs": [],
   "source": [
    "df_rms['Br_rms'] = (df_rms['Br']*10000-df_rms['Br_fit']*10000)**2\n",
    "df_rms['Bphi_rms'] = (df_rms['Bphi']*10000-df_rms['Bphi_fit']*10000)**2\n",
    "df_rms['Bz_rms'] = (df_rms['Bz']*10000-df_rms['Bz_fit']*10000)**2"
   ]
  },
  {
   "cell_type": "code",
   "execution_count": null,
   "metadata": {},
   "outputs": [],
   "source": [
    "for df in df_set[1:]:\n",
    "    df_rms['Br_rms'] += (df['Br']*10000-df['Br_fit']*10000)**2\n",
    "    df_rms['Bphi_rms'] += (df['Bphi']*10000-df['Bphi_fit']*10000)**2\n",
    "    df_rms['Bz_rms'] += (df['Bz']*10000-df['Bz_fit']*10000)**2\n",
    "df_rms['Br_rms'] = np.sqrt(df_rms['Br']/20.0)\n",
    "df_rms['Bphi_rms'] = np.sqrt(df_rms['Bphi']/20.0)\n",
    "df_rms['Bz_rms'] = np.sqrt(df_rms['Bz']/20.0)"
   ]
  },
  {
   "cell_type": "code",
   "execution_count": null,
   "metadata": {},
   "outputs": [],
   "source": [
    "df_rms"
   ]
  },
  {
   "cell_type": "code",
   "execution_count": null,
   "metadata": {},
   "outputs": [],
   "source": [
    "matplotlib.rc('xtick', labelsize=18) \n",
    "matplotlib.rc('ytick', labelsize=18)\n",
    "mu2e_plot3d(df_rms, 'X', 'Z', 'Bz_rms', '-800<=X<=800 and Y==0 and 4200<Z<13900',\n",
    "            info = 'Mau10', df_fit=False, mode='mpl', ptype='heat')\n",
    "plt.title('RMS of Bz Residuals for 20 Toys', fontsize=20)\n",
    "fig = plt.gcf()\n",
    "ax = fig.axes[-1]\n",
    "ax.set_ylabel('RMS Residual (G)')"
   ]
  },
  {
   "cell_type": "code",
   "execution_count": null,
   "metadata": {},
   "outputs": [],
   "source": [
    "ax"
   ]
  },
  {
   "cell_type": "code",
   "execution_count": null,
   "metadata": {},
   "outputs": [],
   "source": [
    "ax.set_title('lol')"
   ]
  },
  {
   "cell_type": "code",
   "execution_count": null,
   "metadata": {},
   "outputs": [],
   "source": []
  }
 ],
 "metadata": {
  "kernelspec": {
   "display_name": "Python 2",
   "language": "python",
   "name": "python2"
  },
  "language_info": {
   "codemirror_mode": {
    "name": "ipython",
    "version": 2
   },
   "file_extension": ".py",
   "mimetype": "text/x-python",
   "name": "python",
   "nbconvert_exporter": "python",
   "pygments_lexer": "ipython2",
   "version": "2.7.12"
  }
 },
 "nbformat": 4,
 "nbformat_minor": 0
}
