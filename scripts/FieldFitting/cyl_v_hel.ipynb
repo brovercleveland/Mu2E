{
 "cells": [
  {
   "cell_type": "markdown",
   "metadata": {},
   "source": [
    "# Cylindrical vs Helical"
   ]
  },
  {
   "cell_type": "markdown",
   "metadata": {},
   "source": [
    "Comparing 2D slices of helical and cylindrical models of solenoid windings.  No return buses are included.  Simple schematic of given values included below:"
   ]
  },
  {
   "cell_type": "markdown",
   "metadata": {},
   "source": [
    "<img src=\"helical_toy_schematic.png\" height=800 width=1000 align=\"left\"/>"
   ]
  },
  {
   "cell_type": "code",
   "execution_count": null,
   "metadata": {},
   "outputs": [],
   "source": [
    "import os\n",
    "from mu2e import mu2e_ext_path\n",
    "from mu2e.dataframeprod import DataFrameMaker\n",
    "from mu2e.mu2eplots import mu2e_plot, mu2e_plot3d\n",
    "%matplotlib inline\n",
    "plt.rcParams['figure.figsize'] = (12,8)"
   ]
  },
  {
   "cell_type": "code",
   "execution_count": null,
   "metadata": {},
   "outputs": [],
   "source": [
    "df_pure_cyl = DataFrameMaker(mu2e_ext_path+'datafiles/FieldMapsPure/DS8_Bz_xzplane',input_type= 'pkl').data_frame\n",
    "df_pure_hel = DataFrameMaker(mu2e_ext_path+'datafiles/FieldMapsPure/DS8_HeliCalcfields',input_type = 'pkl').data_frame"
   ]
  },
  {
   "cell_type": "code",
   "execution_count": null,
   "metadata": {},
   "outputs": [],
   "source": [
    "df_pure_hel['Bz_diff'] = df_pure_hel['Bzeta'] - df_pure_hel['Bz']\n",
    "df_pure_hel['Bphi_diff'] = df_pure_hel['Bphi_wald'] - df_pure_hel['Bphi']"
   ]
  },
  {
   "cell_type": "code",
   "execution_count": null,
   "metadata": {},
   "outputs": [],
   "source": [
    "df_pure_hel.columns"
   ]
  },
  {
   "cell_type": "code",
   "execution_count": null,
   "metadata": {},
   "outputs": [],
   "source": [
    "df_diff = df_pure_hel-df_pure_cyl\n",
    "df_diff['X'] = df_pure_hel['X']\n",
    "df_diff['Y'] = df_pure_hel['Y']\n",
    "df_diff['Z'] = df_pure_hel['Z']\n",
    "df_diff['R'] = df_pure_hel['R']\n",
    "df_diff['Phi'] = df_pure_hel['Phi']"
   ]
  },
  {
   "cell_type": "code",
   "execution_count": null,
   "metadata": {},
   "outputs": [],
   "source": [
    "_ = mu2e_plot3d(df_pure_cyl, 'X', 'Z', 'Bphi', 'Y==0 and -800<=Z<=800 and X<800',\n",
    "            info = 'Cyl', df_fit=False, mode='plotly_nb', ptype='3d')"
   ]
  },
  {
   "cell_type": "code",
   "execution_count": null,
   "metadata": {},
   "outputs": [],
   "source": [
    "_ = mu2e_plot3d(df_pure_cyl, 'X', 'Z', 'Bphi', 'Y==0 and -800<=Z<=800 and X<800',\n",
    "            info = 'Cyl', df_fit=False, mode='plotly_nb', ptype='3d')"
   ]
  },
  {
   "cell_type": "code",
   "execution_count": null,
   "metadata": {},
   "outputs": [],
   "source": [
    "mu2e_plot3d(df_diff, 'X', 'Z', 'Bz', 'Y==0 and -800<=Z<=800 and X<800',\n",
    "            info = 'Hel', df_fit=False, mode='plotly_nb', ptype='3d')"
   ]
  },
  {
   "cell_type": "code",
   "execution_count": null,
   "metadata": {},
   "outputs": [],
   "source": [
    "df_pure_hel.query('X==700')[['Bz', 'Bzeta']]"
   ]
  },
  {
   "cell_type": "code",
   "execution_count": null,
   "metadata": {},
   "outputs": [],
   "source": []
  }
 ],
 "metadata": {
  "kernelspec": {
   "display_name": "Python 3",
   "language": "python",
   "name": "python3"
  },
  "language_info": {
   "codemirror_mode": {
    "name": "ipython",
    "version": 3
   },
   "file_extension": ".py",
   "mimetype": "text/x-python",
   "name": "python",
   "nbconvert_exporter": "python",
   "pygments_lexer": "ipython3",
   "version": "3.6.5"
  }
 },
 "nbformat": 4,
 "nbformat_minor": 1
}
