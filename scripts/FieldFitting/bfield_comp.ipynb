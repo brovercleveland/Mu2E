{
 "cells": [
  {
   "cell_type": "code",
   "execution_count": null,
   "metadata": {},
   "outputs": [],
   "source": [
    "import os\n",
    "from mu2e import mu2e_ext_path\n",
    "from mu2e.dataframeprod import DataFrameMaker\n",
    "from mu2e.mu2eplots import mu2e_plot, mu2e_plot3d\n",
    "import pandas as pd\n",
    "%matplotlib inline\n",
    "plt.rcParams['figure.figsize'] = (12,8)\n",
    "from skhep.visual import MplPlotter as splt"
   ]
  },
  {
   "cell_type": "code",
   "execution_count": null,
   "metadata": {},
   "outputs": [],
   "source": [
    "df_rand = DataFrameMaker(mu2e_ext_path+'datafiles/Mau10/Standard_Maps/Mu2e_DSMap_rand1mil_noOffset',use_pickle = True).data_frame"
   ]
  },
  {
   "cell_type": "code",
   "execution_count": null,
   "metadata": {},
   "outputs": [],
   "source": [
    "df_rand.query('-800-3896<=X<=800-3896 and -800<=Y<=800').describe()"
   ]
  },
  {
   "cell_type": "code",
   "execution_count": null,
   "metadata": {},
   "outputs": [],
   "source": [
    "df_rand_sample = df_rand.query('-800-3896<=X<=800-3896 and -800<=Y<=800').sample(10000, random_state=101).to_csv('bfield_rand_csv.txt', columns=['X','Y','Z'], index=False, header=False)"
   ]
  },
  {
   "cell_type": "code",
   "execution_count": null,
   "metadata": {},
   "outputs": [],
   "source": [
    "df_fit = pd.read_csv?"
   ]
  },
  {
   "cell_type": "code",
   "execution_count": null,
   "metadata": {},
   "outputs": [],
   "source": [
    "df_fit = pd.read_csv"
   ]
  },
  {
   "cell_type": "code",
   "execution_count": null,
   "metadata": {},
   "outputs": [],
   "source": [
    "df_fit = pd.read_csv('beamdump_Mau10_fit.txt', header=None, names=['X','Y','Z','Bx','By','Bz'], delim_whitespace=True)\n",
    "df_interp = pd.read_csv('beamdump_Mau10_interp.txt', header=None, names=['X','Y','Z','Bx','By','Bz'], delim_whitespace=True)\n",
    "df_rand_sample = df_rand.query('-800-3896<=X<=800-3896 and -800<=Y<=800').sample(10000, random_state=101).drop(['R','Phi','Br','Bphi'], axis=1).reset_index(drop=True)"
   ]
  },
  {
   "cell_type": "code",
   "execution_count": null,
   "metadata": {},
   "outputs": [],
   "source": [
    "df_fit.head()"
   ]
  },
  {
   "cell_type": "code",
   "execution_count": null,
   "metadata": {},
   "outputs": [],
   "source": []
  },
  {
   "cell_type": "code",
   "execution_count": null,
   "metadata": {},
   "outputs": [],
   "source": [
    "df_rand_sample['dBx_fit'] = (df_rand_sample['Bx']-df_fit['Bx'])*10000\n",
    "df_rand_sample['dBy_fit'] = (df_rand_sample['By']-df_fit['By'])*10000\n",
    "df_rand_sample['dBz_fit'] = (df_rand_sample['Bz']-df_fit['Bz'])*10000\n",
    "\n",
    "df_rand_sample['dBx_intep'] = (df_rand_sample['Bx']-df_interp['Bx'])*10000\n",
    "df_rand_sample['dBy_intep'] = (df_rand_sample['By']-df_interp['By'])*10000\n",
    "df_rand_sample['dBz_intep'] = (df_rand_sample['Bz']-df_interp['Bz'])*10000"
   ]
  },
  {
   "cell_type": "code",
   "execution_count": null,
   "metadata": {},
   "outputs": [],
   "source": [
    "splt.hist(df_rand_sample['dBx_intep'], bins=50, label='interp', log=True)\n",
    "splt.hist(df_rand_sample['dBx_fit'], bins=50, label='fit', log=True)"
   ]
  },
  {
   "cell_type": "code",
   "execution_count": null,
   "metadata": {},
   "outputs": [],
   "source": [
    "splt.hist(df_rand_sample_cut['dBy_intep'].values, bins=50, label='interp', log=True)\n",
    "splt.hist(df_rand_sample_cut['dBy_fit'].values, bins=50, label='fit', log=True)"
   ]
  },
  {
   "cell_type": "code",
   "execution_count": null,
   "metadata": {},
   "outputs": [],
   "source": [
    "splt.hist(df_rand_sample_cut['dBz_intep'].values, bins=50, label='interp', log=True)\n",
    "splt.hist(df_rand_sample_cut['dBz_fit'].values, bins=50, label='fit', log=True)\n",
    "plt.legend()"
   ]
  },
  {
   "cell_type": "code",
   "execution_count": null,
   "metadata": {},
   "outputs": [],
   "source": [
    "df_rand_sample_cut = df_rand_sample.query('-400-3896<=X<=400-3896 and -400<=Y<=400 and 8000<=Z<=11000')"
   ]
  },
  {
   "cell_type": "code",
   "execution_count": null,
   "metadata": {},
   "outputs": [],
   "source": [
    "df_rand_sample_cut"
   ]
  },
  {
   "cell_type": "code",
   "execution_count": null,
   "metadata": {},
   "outputs": [],
   "source": [
    "df_fit.ix[5273]"
   ]
  },
  {
   "cell_type": "code",
   "execution_count": null,
   "metadata": {},
   "outputs": [],
   "source": [
    "df_rand_sample.query('abs(dBz_fit)>10').Z.hist(bins=20)"
   ]
  },
  {
   "cell_type": "code",
   "execution_count": null,
   "metadata": {},
   "outputs": [],
   "source": [
    "df_rand_sample.query('abs(dBz_fit)>10').X.hist(bins=20)"
   ]
  },
  {
   "cell_type": "code",
   "execution_count": null,
   "metadata": {},
   "outputs": [],
   "source": [
    "df_rand_sample.query('abs(dBz_fit)>10').Y.hist(bins=20)"
   ]
  },
  {
   "cell_type": "code",
   "execution_count": null,
   "metadata": {},
   "outputs": [],
   "source": []
  }
 ],
 "metadata": {
  "kernelspec": {
   "display_name": "Python 3",
   "language": "python",
   "name": "python3"
  },
  "language_info": {
   "codemirror_mode": {
    "name": "ipython",
    "version": 3
   },
   "file_extension": ".py",
   "mimetype": "text/x-python",
   "name": "python",
   "nbconvert_exporter": "python",
   "pygments_lexer": "ipython3",
   "version": "3.6.2"
  }
 },
 "nbformat": 4,
 "nbformat_minor": 2
}
