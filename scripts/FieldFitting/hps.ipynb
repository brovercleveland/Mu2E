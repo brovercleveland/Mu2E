{
 "cells": [
  {
   "cell_type": "code",
   "execution_count": null,
   "metadata": {},
   "outputs": [],
   "source": [
    "import os\n",
    "from mu2e import mu2e_ext_path\n",
    "from mu2e.dataframeprod import DataFrameMaker\n",
    "from mu2e.mu2eplots import mu2e_plot, mu2e_plot3d\n",
    "import pandas as pd\n",
    "%matplotlib inline\n",
    "plt.rcParams['figure.figsize'] = (12,8)\n",
    "from skhep.visual import MplPlotter as splt\n",
    "from copy import deepcopy\n",
    "from lmfit import Model, Parameters, report_fit\n",
    "from hallprobesim import *\n",
    "from tqdm import tnrange"
   ]
  },
  {
   "cell_type": "markdown",
   "metadata": {
    "collapsed": true
   },
   "source": [
    "# 1 Slice v 1 Slice"
   ]
  },
  {
   "cell_type": "code",
   "execution_count": null,
   "metadata": {},
   "outputs": [],
   "source": [
    "helix_res = []\n",
    "helix_ns = []\n",
    "helix_ks = []\n",
    "for n in tnrange (1,10, desc='ns'):\n",
    "    for k in tnrange(1,10, desc='ks'):\n",
    "        cfg_params_Glass_DS_Hel_Test        = cfg_params(ns=n, ms=k, cns=0, cms=0, nms=0, Reff=43982,\n",
    "                                                          n_scale=1, m_scale=1, func_version=115)\n",
    "        hmd, ff = field_map_analysis('halltoy_Glass_Hel_Test', cfg_data_DS_Glass_Hel_3_mod,\n",
    "                                          cfg_geom_hel_glass_test, cfg_params_Glass_DS_Hel_Test,\n",
    "                                          cfg_pickle_Glass_Hel_Test, cfg_plot_none)\n",
    "        helix_res.append(ff.result.chisqr)\n",
    "        helix_ks.append(k)\n",
    "        helix_ns.append(n)"
   ]
  },
  {
   "cell_type": "code",
   "execution_count": null,
   "metadata": {},
   "outputs": [],
   "source": [
    "cyl_chi2s = []\n",
    "cyl_ns = []\n",
    "cyl_ms = []\n",
    "for m in tnrange(1,10, desc='ms'):\n",
    "    for n in tnrange (1,10, desc='ns'):\n",
    "        cfg_params_Glass_DS_Hel_Test        = cfg_params(ns=n, ms=m, cns=0, cms=0, nms=0, Reff=7000,\n",
    "                                                          n_scale=1, m_scale=1, func_version=6)\n",
    "        hmd, ff = field_map_analysis('halltoy_Glass_Hel_Test', cfg_data_DS_Glass_Hel_3,\n",
    "                                          cfg_geom_hel_glass_test, cfg_params_Glass_DS_Hel_Test,\n",
    "                                          cfg_pickle_Glass_Hel_Test, cfg_plot_none)\n",
    "        cyl_chi2s.append(ff.result.chisqr)\n",
    "        cyl_ms.append(m)\n",
    "        cyl_ns.append(n)"
   ]
  },
  {
   "cell_type": "code",
   "execution_count": null,
   "metadata": {},
   "outputs": [],
   "source": [
    "np.sum(ff.result.residual)"
   ]
  },
  {
   "cell_type": "code",
   "execution_count": null,
   "metadata": {},
   "outputs": [],
   "source": [
    "plt.semilogy(range(len(cyl_chi2s)), cyl_chi2s, label='cyl')\n",
    "plt.semilogy(range(len(cyl_chi2s)), helix_res, label='helix')\n",
    "plt.legend()\n",
    "plt.ylabel('sum square errs')\n",
    "plt.xlabel('n+m')"
   ]
  },
  {
   "cell_type": "code",
   "execution_count": null,
   "metadata": {},
   "outputs": [],
   "source": [
    "cfg_params_Glass_DS_Hel_Test        = cfg_params(ns=8, ms=3, cns=0, cms=0, nms=0, Reff=43982,\n",
    "                                                  n_scale=0.9, m_scale=1, func_version=115)\n",
    "hmd, ff = field_map_analysis('halltoy_Glass_Hel_Test', cfg_data_DS_Glass_Hel_3_mod,\n",
    "                                  cfg_geom_hel_glass_test, cfg_params_Glass_DS_Hel_Test,\n",
    "                                  cfg_pickle_Glass_Hel_Test, cfg_plot_mpl)"
   ]
  },
  {
   "cell_type": "code",
   "execution_count": null,
   "metadata": {},
   "outputs": [],
   "source": [
    "cfg_params_Glass_DS_Hel_Test        = cfg_params(ns=10, ms=10, cns=0, cms=0, nms=0, Reff=13350,\n",
    "                                                  n_scale=1, m_scale=1, func_version=6)\n",
    "hmd, ff = field_map_analysis('halltoy_Glass_Hel_Test', cfg_data_DS_Glass_Hel_3,\n",
    "                                  cfg_geom_hel_glass_test, cfg_params_Glass_DS_Hel_Test,\n",
    "                                  cfg_pickle_Glass_Hel_Test, cfg_plot_mpl)"
   ]
  },
  {
   "cell_type": "code",
   "execution_count": null,
   "metadata": {},
   "outputs": [],
   "source": [
    "labs=[i[2:] for i in ff1.params if ('A' in i and ff1.params[i].vary==True and i.split('_')[1] != '0')]\n",
    "\n",
    "As_1=[ff1.params[i].value for i in ff1.params if ('A' in i and ff1.params[i].vary==True and i.split('_')[1] != '0')]\n",
    "As_2=[ff2.params[i].value for i in ff2.params if ('A' in i and ff2.params[i].vary==True and i.split('_')[1] != '0')]\n",
    "As_3=[ff3.params[i].value for i in ff3.params if ('A' in i and ff3.params[i].vary==True and i.split('_')[1] != '0')]\n",
    "\n",
    "\n",
    "Bs_1=[ff1.params[i].value for i in ff1.params if ('B' in i and ff1.params[i].vary==True and i.split('_')[1] != '0')]\n",
    "Bs_2=[ff2.params[i].value for i in ff2.params if ('B' in i and ff2.params[i].vary==True and i.split('_')[1] != '0')]\n",
    "Bs_3=[ff3.params[i].value for i in ff3.params if ('B' in i and ff3.params[i].vary==True and i.split('_')[1] != '0')]"
   ]
  },
  {
   "cell_type": "code",
   "execution_count": null,
   "metadata": {},
   "outputs": [],
   "source": [
    "_ = plt.plot(range(len(As_1)),As_1, 'o-', label='As, phi=0')\n",
    "_ = plt.plot(range(len(As_1)),As_2, 'o-', label='As, phi=pi/2')\n",
    "_ = plt.plot(range(len(As_1)),As_3, 'o-', label='As, phi=pi/8')\n",
    "_ = plt.axhline(0,0, 1, linestyle='--', color='k')\n",
    "\n",
    "_ = plt.xticks(range(len(As_1)), labs, rotation='vertical')\n",
    "plt.yscale('symlog')\n",
    "plt.legend()\n",
    "plt.title('Free param values for A')"
   ]
  },
  {
   "cell_type": "code",
   "execution_count": null,
   "metadata": {},
   "outputs": [],
   "source": [
    "_ = plt.plot(range(len(Bs_1)),Bs_1, 'o-', label='Bs, phi=0')\n",
    "_ = plt.plot(range(len(Bs_1)),Bs_2, 'o-', label='Bs, phi=pi/2')\n",
    "_ = plt.plot(range(len(Bs_1)),Bs_3, 'o-', label='Bs, phi=pi/8')\n",
    "_ = plt.axhline(0,0, 1, linestyle='--', color='k')\n",
    "\n",
    "\n",
    "_ = plt.xticks(range(len(Bs_1)), labs, rotation='vertical')\n",
    "plt.yscale('symlog')\n",
    "plt.legend()\n",
    "plt.title('Free param values for B')"
   ]
  },
  {
   "cell_type": "code",
   "execution_count": null,
   "metadata": {},
   "outputs": [],
   "source": [
    "_ = plt.plot(As_1,As_2, 'o', label='As')\n",
    "_ = plt.plot(Bs_1,Bs_2, 's', label='Bs')\n",
    "plt.ylim(-10e7, 10e7)\n",
    "plt.xlim(-10e7, 10e7)\n",
    "_ =plt.plot(plt.gca().get_xlim(), plt.gca().get_ylim(), 'k--', zorder=0)\n",
    "_ =plt.plot(plt.gca().get_xlim(), plt.gca().get_ylim()[::-1], 'k--', zorder=0)\n",
    "\n",
    "#_ = plt.plot(range(len(Bs_1)),Bs_2, 'o-', label='Bs, 2 slices')\n",
    "#_ = plt.xticks(range(len(Bs_1)), labs, rotation='vertical')\n",
    "plt.xscale('symlog')\n",
    "plt.yscale('symlog')\n",
    "plt.legend()\n",
    "plt.title('Free param values, phi=0 vs phi=pi/2')\n",
    "plt.xlabel('1 slice phi=0')\n",
    "plt.ylabel('1 slice phi=pi/2')"
   ]
  },
  {
   "cell_type": "code",
   "execution_count": null,
   "metadata": {},
   "outputs": [],
   "source": [
    "_ = plt.plot(As_1,As_3, 'o', color='C2', label='As')\n",
    "_ = plt.plot(Bs_1,Bs_3, 's', color='C4', label='Bs')\n",
    "plt.ylim(-10e7, 10e7)\n",
    "plt.xlim(-10e7, 10e7)\n",
    "_ =plt.plot(plt.gca().get_xlim(), plt.gca().get_ylim(), 'k--', zorder=0)\n",
    "_ =plt.plot(plt.gca().get_xlim(), plt.gca().get_ylim()[::-1], 'k--', zorder=0)\n",
    "\n",
    "#_ = plt.plot(range(len(Bs_1)),Bs_2, 'o-', label='Bs, 2 slices')\n",
    "#_ = plt.xticks(range(len(Bs_1)), labs, rotation='vertical')\n",
    "plt.xscale('symlog')\n",
    "plt.yscale('symlog')\n",
    "plt.legend()\n",
    "plt.title('Free param values, phi=0 vs phi=pi/8')\n",
    "plt.xlabel('1 slice phi=0')\n",
    "plt.ylabel('1 slice phi=pi/8')"
   ]
  },
  {
   "cell_type": "code",
   "execution_count": null,
   "metadata": {},
   "outputs": [],
   "source": [
    "_ = plt.plot(range(len(Bs_1)),[Bs_1[i]/Bs_2[i] for i in range(len(Bs_2))], 'o-', label='B(phi 0)/B(phi pi/2)')\n",
    "#_ = plt.plot(range(len(Bs_1)),Bs_1b, 'o-', label='Bs, 1 slice phi=pi/2')\n",
    "_ = plt.xticks(range(len(Bs_1)), labs, rotation='vertical')\n",
    "plt.yscale('symlog')\n",
    "plt.legend()\n",
    "plt.title('Ratio of B values')"
   ]
  },
  {
   "cell_type": "code",
   "execution_count": null,
   "metadata": {},
   "outputs": [],
   "source": [
    "_ = plt.plot(range(len(As_1)),[As_1[i]/As_2[i] for i in range(len(As_2))], 'o-', label='A(phi 0)/A(phi pi/2)')\n",
    "#_ = plt.plot(range(len(Bs_1)),Bs_1b, 'o-', label='Bs, 1 slice phi=pi/2')\n",
    "_ = plt.xticks(range(len(As_1)), labs, rotation='vertical')\n",
    "plt.yscale('symlog')\n",
    "plt.legend()\n",
    "plt.title('Ratio of A values')"
   ]
  },
  {
   "cell_type": "code",
   "execution_count": null,
   "metadata": {},
   "outputs": [],
   "source": [
    "n,m = np.meshgrid(range(11),range(11))\n",
    "Anm = np.asarray([ff1.params[i] for i in ff1.params if 'A' in i]).reshape(10,10)\n",
    "Bnm = np.asarray([ff1.params[i] for i in ff1.params if 'B' in i]).reshape(10,10)\n",
    "Anmb = np.asarray([ff2.params[i] for i in ff1.params if 'A' in i]).reshape(10,10)\n",
    "Bnmb = np.asarray([ff2.params[i] for i in ff1.params if 'B' in i]).reshape(10,10)\n",
    "Anm_rat = np.nan_to_num(Anm/Anmb)\n",
    "Bnm_rat = np.nan_to_num(Bnm/Bnmb)\n",
    "AB_comb = Anm**2+Bnm**2"
   ]
  },
  {
   "cell_type": "code",
   "execution_count": null,
   "metadata": {},
   "outputs": [],
   "source": [
    "import matplotlib.colors as colors\n",
    "plt.pcolor(n,m, Anm,\n",
    "          norm=colors.SymLogNorm(linthresh=0.03, linscale=0.03, vmin=Anm.min(), vmax=Anm.max()))\n",
    "plt.colorbar()\n",
    "plt.title('Amn for Phi=0')\n",
    "plt.xlabel('m')\n",
    "plt.ylabel('n')\n",
    "plt.figure()\n",
    "plt.pcolor(n,m, Bnm,\n",
    "          norm=colors.SymLogNorm(linthresh=0.03, linscale=0.03, vmin=Bnm.min(), vmax=Bnm.max()))\n",
    "plt.colorbar()\n",
    "plt.title('Bmn for Phi=0')\n",
    "plt.xlabel('m')\n",
    "plt.ylabel('n')"
   ]
  },
  {
   "cell_type": "code",
   "execution_count": null,
   "metadata": {},
   "outputs": [],
   "source": [
    "import matplotlib.colors as colors\n",
    "plt.pcolor(n,m, abs(Anm),\n",
    "          norm=colors.SymLogNorm(linthresh=0.03, linscale=0.03, vmin=0, vmax=Anm.max()))\n",
    "plt.colorbar()\n",
    "plt.title('abs(Amn) for Phi=0')\n",
    "plt.xlabel('m')\n",
    "plt.ylabel('n')\n",
    "plt.figure()\n",
    "plt.pcolor(n,m, abs(Bnm),\n",
    "          norm=colors.SymLogNorm(linthresh=0.03, linscale=0.03, vmin=0, vmax=Bnm.max()))\n",
    "plt.colorbar()\n",
    "plt.title('abs(Bmn) for Phi=0')\n",
    "plt.xlabel('m')\n",
    "plt.ylabel('n')"
   ]
  },
  {
   "cell_type": "code",
   "execution_count": null,
   "metadata": {},
   "outputs": [],
   "source": [
    "import matplotlib.colors as colors\n",
    "plt.pcolor(n,m, Anm_rat,\n",
    "          norm=colors.SymLogNorm(linthresh=0.03, linscale=0.03, vmin=Anm_rat.min(), vmax=Anm_rat.max()))\n",
    "plt.colorbar()\n",
    "plt.title('Amn (phi=0)/Amn (phi=pi/2)')\n",
    "plt.xlabel('m')\n",
    "plt.ylabel('n')\n",
    "plt.figure()\n",
    "plt.pcolor(n,m, Bnm_rat,\n",
    "          norm=colors.SymLogNorm(linthresh=0.03, linscale=0.03, vmin=Bnm_rat.min(), vmax=Bnm_rat.max()))\n",
    "plt.colorbar()\n",
    "plt.title('Bmn (phi=0)/Bmn (phi=pi/2)')\n",
    "plt.xlabel('m')\n",
    "plt.ylabel('n')"
   ]
  },
  {
   "cell_type": "code",
   "execution_count": null,
   "metadata": {},
   "outputs": [],
   "source": [
    "import matplotlib.colors as colors\n",
    "plt.pcolor(n,m, AB_comb,\n",
    "          norm=colors.SymLogNorm(linthresh=0.03, linscale=0.03, vmin=AB_comb.min(), vmax=AB_comb.max()))\n",
    "plt.colorbar()\n",
    "plt.title('Anm^2+Bnm^2, phi=0')\n",
    "plt.xlabel('m')\n",
    "plt.ylabel('n')"
   ]
  },
  {
   "cell_type": "code",
   "execution_count": null,
   "metadata": {},
   "outputs": [],
   "source": []
  }
 ],
 "metadata": {
  "kernelspec": {
   "display_name": "Python 3",
   "language": "python",
   "name": "python3"
  },
  "language_info": {
   "codemirror_mode": {
    "name": "ipython",
    "version": 3
   },
   "file_extension": ".py",
   "mimetype": "text/x-python",
   "name": "python",
   "nbconvert_exporter": "python",
   "pygments_lexer": "ipython3",
   "version": "3.6.5"
  }
 },
 "nbformat": 4,
 "nbformat_minor": 2
}
