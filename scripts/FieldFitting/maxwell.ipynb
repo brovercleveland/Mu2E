{
 "cells": [
  {
   "cell_type": "markdown",
   "metadata": {},
   "source": [
    "# Validating Simulation Grids via Maxwell's Equations"
   ]
  },
  {
   "cell_type": "code",
   "execution_count": null,
   "metadata": {},
   "outputs": [],
   "source": [
    "import pandas as pd\n",
    "import matplotlib.pyplot as plt\n",
    "from mu2e.dataframeprod import DataFrameMaker\n",
    "#from mu2e.src.fiteval_c import FitFunctionMaker\n",
    "import six.moves.cPickle as pkl\n",
    "%matplotlib inline\n",
    "plt.rcParams['figure.figsize'] = (12,8)\n",
    "#ffm= FitFunctionMaker(\"../mu2e/src/param_825.csv\")\n",
    "#def ffm_wrapper(x):\n",
    "#    out = ffm.mag_field_function(x.X,x.Y,x.Z,True)\n",
    "#    return pd.Series({'Bx':out[0], 'By':out[1], 'Bz':out[2]})\n",
    "from mu2e import mu2e_ext_path"
   ]
  },
  {
   "cell_type": "code",
   "execution_count": null,
   "metadata": {},
   "outputs": [],
   "source": [
    "#df_GA05= DataFrameMaker(mu2e_ext_path+'datafiles/FieldMapsGA05/DSMap',use_pickle = True).data_frame\n",
    "# df_Mau10 = DataFrameMaker(mu2e_ext_path+'datafiles/Mau10/Standard_Maps/Mu2e_DSMap',input_type='pkl').data_frame\n",
    "#df_Bus = DataFrameMaker(mu2e_ext_path+'datafiles/FieldMapsPure/TS5_DS_longbus',use_pickle = True).data_frame\n",
    "#df_Bessel = pkl.load(open('df_Bessel.p','rb'))\n",
    "df_Glass = DataFrameMaker(mu2e_ext_path+'datafiles/FieldMapsPure/test_helix_5L_detail', input_type='pkl').data_frame\n",
    "# df_Pel = DataFrameMaker(mu2e_ext_path+'datafiles/synth/synth3',input_type='pkl').data_frame"
   ]
  },
  {
   "cell_type": "code",
   "execution_count": null,
   "metadata": {},
   "outputs": [],
   "source": [
    "df_Glass.Z.unique()"
   ]
  },
  {
   "cell_type": "code",
   "execution_count": null,
   "metadata": {},
   "outputs": [],
   "source": [
    "# df_Mau10_selection = df_Mau10.query('6000<Z<12000 and -800<X<800 and -100<Y<100')[['X','Y','Z','Bx','By','Bz']]\n",
    "#df_GA05_selection = df_GA05.query('6000<Z<12000 and -800<X<800 and -100<Y<100')[['X','Y','Z','Bx','By','Bz']]\n",
    "#df_Bessel_selection = df_Bessel.query('6000<Z<12000 and -600<X<600 and -600<Y<600')[['X','Y','Z','Bx','By','Bz']]\n",
    "#df_Bus_selection = df_Bus.query('6000<Z<12000 and -800<X<800 and -100<Y<100')[['X','Y','Z','Bx','By','Bz']]\n",
    "df_Glass_selection = df_Glass.query('-50<=Z<=50 and -1000<X<1000 and -1000<Y<1000')[['X','Y','Z','Bx','By','Bz']]\n",
    "df_combo = df_Glass.query('-50<=Z<=50 and -1000<X<1000 and -1000<Y<1000')[['X','Y','Z','Bx','By','Bz']]\n",
    "# df_Pel_selection = df_Pel.query('-3000<Z<3000 and -800<X<800 and -100<Y<100')[['X','Y','Z','Bx','By','Bz']]"
   ]
  },
  {
   "cell_type": "code",
   "execution_count": null,
   "metadata": {},
   "outputs": [],
   "source": []
  },
  {
   "cell_type": "markdown",
   "metadata": {},
   "source": [
    "We have generated a dataframe out of the fitting function as well, in order to determine the qualities of an object with known perfect adherence to Maxwell's equations."
   ]
  },
  {
   "cell_type": "code",
   "execution_count": null,
   "metadata": {},
   "outputs": [],
   "source": [
    "#df_combo = pd.merge(df_Pel_selection,df_Glass_selection,on=['X','Y','Z'],suffixes=('p','g'))\n",
    "#df_combo = pd.merge(df_combo,df_Bessel_selection,on=['X','Y','Z'])\n",
    "#df_combo = pd.merge(df_combo,df_Pel_selection,on=['X','Y','Z'])\n",
    "df_combo.sort_values(['X','Y','Z'],inplace=True)\n"
   ]
  },
  {
   "cell_type": "code",
   "execution_count": null,
   "metadata": {},
   "outputs": [],
   "source": [
    "df_combo.head()"
   ]
  },
  {
   "cell_type": "markdown",
   "metadata": {
    "collapsed": true
   },
   "source": [
    "For our first pass, we are going to calculate the divergence of the magnetic field.  We are going to do so by using using the Divergence Theorem,\n",
    "$$\\iiint_V(\\nabla \\cdot F)\\ dV = \\bigcirc \\!\\!\\!\\!\\!\\!\\!\\!\\iint_S (F\\cdot \\mathbf{n})\\ dS,$$\n",
    "where we calculate the surface integral around some volume of the normal components of the magnetic field.  In our case, it makes logical sense to calculate the surface integral over a cubic surface.  Using the simulation grid, in which Bx,By,Bz triplets are given in 25mm spacings, we will create 3x3x3 cubes.  The central node on each face will represent the field vector for that face, and thus the total flux is the sum of all 6 faces (properly accounting for the direction of the normal).\n",
    "\n",
    "We can accomplish this by creating 3D numpy arrays, and using vectorization in an intelligent manner.  We will label each cube by its central node.  We can then compare the total flux for each cube in the two simulations (Mau10 and GA05) that we are considering.  In principle, the flux should be 0 for all cubes; there are no magnetic monopoles (as far as we know).  In practice, the total flux will be non-zero, due to numeric errors."
   ]
  },
  {
   "cell_type": "code",
   "execution_count": null,
   "metadata": {},
   "outputs": [],
   "source": [
    "xs = df_combo.X.unique()\n",
    "ys = df_combo.Y.unique()\n",
    "zs = df_combo.Z.unique()\n",
    "\n",
    "#bxs_Pel = df_combo.Bxp.reshape(len(xs),len(ys),len(zs))\n",
    "#bys_Pel = df_combo.Byp.reshape(len(xs),len(ys),len(zs))\n",
    "#bzs_Pel = df_combo.Bzp.reshape(len(xs),len(ys),len(zs))\n",
    "\n",
    "bxs_Glass = df_combo.Bx.reshape(len(xs),len(ys),len(zs))\n",
    "bys_Glass = df_combo.By.reshape(len(xs),len(ys),len(zs))\n",
    "bzs_Glass = df_combo.Bz.reshape(len(xs),len(ys),len(zs))\n",
    "\n"
   ]
  },
  {
   "cell_type": "code",
   "execution_count": null,
   "metadata": {},
   "outputs": [],
   "source": [
    "#div_Pel = bxs_Pel[:-2,1:-1,1:-1] - bxs_Pel[2:,1:-1,1:-1]\\\n",
    "#+ bys_Pel[1:-1,:-2,1:-1] - bys_Pel[1:-1,2:,1:-1]\\\n",
    "#+ bzs_Pel[1:-1,1:-1,:-2] - bzs_Pel[1:-1,1:-1,2:]\n",
    "\n",
    "div_Glass = bxs_Glass[:-2,1:-1,1:-1] - bxs_Glass[2:,1:-1,1:-1]\\\n",
    "+ bys_Glass[1:-1,:-2,1:-1] - bys_Glass[1:-1,2:,1:-1]\\\n",
    "+ bzs_Glass[1:-1,1:-1,:-2] - bzs_Glass[1:-1,1:-1,2:]"
   ]
  },
  {
   "cell_type": "code",
   "execution_count": null,
   "metadata": {},
   "outputs": [],
   "source": [
    "# curlxy_Pel = bxs_Pel[1:-1,:-2,1:-1] - bxs_Pel[1:-1,2:,1:-1]\\\n",
    "# + bys_Pel[:-2,1:-1,1:-1] - bys_Pel[2:,1:-1,1:-1]\n",
    "# \n",
    "# curlxz_Pel = bxs_Pel[1:-1,1:-1,:-2] - bxs_Pel[1:-1,1:-1,2:]\\\n",
    "# + bzs_Pel[:-2,1:-1,1:-1] - bzs_Pel[2:,1:-1,1:-1]\n",
    "# \n",
    "# curlyz_Pel = bys_Pel[1:-1,1:-1,:-2] - bys_Pel[1:-1,1:-1,2:]\\\n",
    "# + bzs_Pel[1:-1,:-2,1:-1] - bzs_Pel[1:-1,2:,1:-1]\n",
    "\n",
    "\n",
    "curlxy_Glass = bxs_Glass[1:-1,:-2,1:-1] - bxs_Glass[1:-1,2:,1:-1]\\\n",
    "+ bys_Glass[:-2,1:-1,1:-1] - bys_Glass[2:,1:-1,1:-1]\n",
    "\n",
    "curlxz_Glass = bxs_Glass[1:-1,1:-1,:-2] - bxs_Glass[1:-1,1:-1,2:]\\\n",
    "+ bzs_Glass[:-2,1:-1,1:-1] - bzs_Glass[2:,1:-1,1:-1]\n",
    "\n",
    "curlyz_Glass = bys_Glass[1:-1,1:-1,:-2] - bys_Glass[1:-1,1:-1,2:]\\\n",
    "+ bzs_Glass[1:-1,:-2,1:-1] - bzs_Glass[1:-1,2:,1:-1]"
   ]
  },
  {
   "cell_type": "code",
   "execution_count": null,
   "metadata": {},
   "outputs": [],
   "source": [
    "cube_centers = []\n",
    "for x in xs[1:-1]:\n",
    "    for y in ys[1:-1]:\n",
    "        for z in zs[1:-1]:\n",
    "            cube_centers.append('x{0}_y{1}_z{2}'.format(x,y,z))"
   ]
  },
  {
   "cell_type": "code",
   "execution_count": null,
   "metadata": {},
   "outputs": [],
   "source": [
    "# df_maxwell = pd.DataFrame({'div_Pel':div_Pel.flatten(),'div_Glass':div_Glass.flatten(),\n",
    "#                           'curlxy_Pel':curlxy_Pel.flatten(),'curlxy_Glass':curlxy_Glass.flatten(), \n",
    "#                           'curlxz_Pel':curlxz_Pel.flatten(),'curlxz_Glass':curlxz_Glass.flatten(), \n",
    "#                           'curlyz_Pel':curlyz_Pel.flatten(),'curlyz_Glass':curlyz_Glass.flatten(), \n",
    "#                           'b_tot_Pel':np.sqrt(bxs_Pel[1:-1, 1:-1, 1:-1]**2+bys_Pel[1:-1, 1:-1, 1:-1]**2+bzs_Pel[1:-1, 1:-1, 1:-1]**2).flatten(),\n",
    "#                           'b_tot_Glass':np.sqrt(bxs_Glass[1:-1, 1:-1, 1:-1]**2+bys_Glass[1:-1, 1:-1, 1:-1]**2+bzs_Glass[1:-1, 1:-1, 1:-1]**2).flatten()},\n",
    "#                           index=cube_centers)\n",
    "df_maxwell = pd.DataFrame({'div_Glass':div_Glass.flatten(),\n",
    "                          'curlxy_Glass':curlxy_Glass.flatten(), \n",
    "                          'curlxz_Glass':curlxz_Glass.flatten(), \n",
    "                          'curlyz_Glass':curlyz_Glass.flatten(), \n",
    "                          'b_tot_Glass':np.sqrt(bxs_Glass[1:-1, 1:-1, 1:-1]**2+bys_Glass[1:-1, 1:-1, 1:-1]**2+bzs_Glass[1:-1, 1:-1, 1:-1]**2).flatten()},\n",
    "                          index=cube_centers)\n",
    "df_maxwell.head()"
   ]
  },
  {
   "cell_type": "code",
   "execution_count": null,
   "metadata": {},
   "outputs": [],
   "source": [
    "df_maxwell['div_Pel_rel'] = df_maxwell['div_Pel']/df_maxwell['b_tot_Pel']\n",
    "df_maxwell['div_Glass_rel'] = df_maxwell['div_Glass']/df_maxwell['b_tot_Glass']"
   ]
  },
  {
   "cell_type": "code",
   "execution_count": null,
   "metadata": {},
   "outputs": [],
   "source": [
    "df_maxwell['curlxy_Pel_rel'] = df_maxwell['curlxy_Pel']/df_maxwell['b_tot_Pel']\n",
    "df_maxwell['curlxy_Glass_rel'] = df_maxwell['curlxy_Glass']/df_maxwell['b_tot_Glass']"
   ]
  },
  {
   "cell_type": "code",
   "execution_count": null,
   "metadata": {},
   "outputs": [],
   "source": [
    "df_maxwell['curlxz_Pel_rel'] = df_maxwell['curlxz_Pel']/df_maxwell['b_tot_Pel']\n",
    "df_maxwell['curlxz_Glass_rel'] = df_maxwell['curlxz_Glass']/df_maxwell['b_tot_Glass']"
   ]
  },
  {
   "cell_type": "code",
   "execution_count": null,
   "metadata": {},
   "outputs": [],
   "source": [
    "df_maxwell['curlyz_Pel_rel'] = df_maxwell['curlyz_Pel']/df_maxwell['b_tot_Pel']\n",
    "df_maxwell['curlyz_Glass_rel'] = df_maxwell['curlyz_Glass']/df_maxwell['b_tot_Glass']"
   ]
  },
  {
   "cell_type": "code",
   "execution_count": null,
   "metadata": {},
   "outputs": [],
   "source": [
    "df_maxwell[['div_Glass']].plot.hist(alpha=0.5, bins=100, logy=True, title='Divergence')\n",
    "# df_maxwell[['div_Pel_rel','div_Glass_rel']].plot.hist(alpha=0.5, bins=100, logy=True, title='Relative Divergence')"
   ]
  },
  {
   "cell_type": "code",
   "execution_count": null,
   "metadata": {},
   "outputs": [],
   "source": [
    "df_maxwell[['curlxy_Glass']].plot.hist(alpha=0.5, bins=100, logy=True, title='XY Curl of Cubes')"
   ]
  },
  {
   "cell_type": "code",
   "execution_count": null,
   "metadata": {},
   "outputs": [],
   "source": [
    "df_maxwell[['curlxz_Glass']].plot.hist(alpha=0.5, bins=100, logy=True, title='XZ Curl')"
   ]
  },
  {
   "cell_type": "code",
   "execution_count": null,
   "metadata": {},
   "outputs": [],
   "source": [
    "df_maxwell[['curlyz_Glass']].plot.hist(alpha=0.5, bins=100, logy=True, title='YZ Curl')"
   ]
  },
  {
   "cell_type": "code",
   "execution_count": null,
   "metadata": {},
   "outputs": [],
   "source": []
  }
 ],
 "metadata": {
  "kernelspec": {
   "display_name": "Python 3",
   "language": "python",
   "name": "python3"
  },
  "language_info": {
   "codemirror_mode": {
    "name": "ipython",
    "version": 3
   },
   "file_extension": ".py",
   "mimetype": "text/x-python",
   "name": "python",
   "nbconvert_exporter": "python",
   "pygments_lexer": "ipython3",
   "version": "3.6.5"
  }
 },
 "nbformat": 4,
 "nbformat_minor": 1
}
