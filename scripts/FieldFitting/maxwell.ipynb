{
 "cells": [
  {
   "cell_type": "markdown",
   "metadata": {},
   "source": [
    "# Validating Simulation Grids via Maxwell's Equations"
   ]
  },
  {
   "cell_type": "code",
   "execution_count": 5,
   "metadata": {
    "collapsed": false
   },
   "outputs": [],
   "source": [
    "import pandas as pd\n",
    "import matplotlib.pyplot as plt\n",
    "from mu2e.dataframeprod import DataFrameMaker\n",
    "#from mu2e.src.fiteval_c import FitFunctionMaker\n",
    "import cPickle as pkl\n",
    "%matplotlib inline\n",
    "plt.rcParams['figure.figsize'] = (12,8)\n",
    "#ffm= FitFunctionMaker(\"../mu2e/src/param_825.csv\")\n",
    "#def ffm_wrapper(x):\n",
    "#    out = ffm.mag_field_function(x.X,x.Y,x.Z,True)\n",
    "#    return pd.Series({'Bx':out[0], 'By':out[1], 'Bz':out[2]})\n",
    "from mu2e import mu2e_ext_path"
   ]
  },
  {
   "cell_type": "code",
   "execution_count": 7,
   "metadata": {
    "collapsed": false
   },
   "outputs": [],
   "source": [
    "df_GA05= DataFrameMaker(mu2e_ext_path+'datafiles/FieldMapsGA05/DSMap',use_pickle = True).data_frame\n",
    "df_Mau10 = DataFrameMaker(mu2e_ext_path+'datafiles/Mau10/Standard_Maps/Mu2e_DSMap',use_pickle = True).data_frame\n",
    "df_Bus = DataFrameMaker(mu2e_ext_path+'datafiles/FieldMapsPure/DS_buswork_only_fullmap',use_pickle = True).data_frame\n",
    "#df_Bessel = pkl.load(open('df_Bessel.p','rb'))"
   ]
  },
  {
   "cell_type": "code",
   "execution_count": 8,
   "metadata": {
    "collapsed": false
   },
   "outputs": [],
   "source": [
    "df_Mau10_selection = df_Mau10.query('6000<Z<12000 and -600<X<600 and -600<Y<600')[['X','Y','Z','Bx','By','Bz']]\n",
    "df_GA05_selection = df_GA05.query('6000<Z<12000 and -600<X<600 and -600<Y<600')[['X','Y','Z','Bx','By','Bz']]\n",
    "#df_Bessel_selection = df_Bessel.query('6000<Z<12000 and -600<X<600 and -600<Y<600')[['X','Y','Z','Bx','By','Bz']]\n",
    "df_Bus_selection = df_Bus.query('6000<Z<12000 and -600<X<600 and -600<Y<600')[['X','Y','Z','Bx','By','Bz']]"
   ]
  },
  {
   "cell_type": "code",
   "execution_count": 10,
   "metadata": {
    "collapsed": true
   },
   "outputs": [],
   "source": []
  },
  {
   "cell_type": "markdown",
   "metadata": {},
   "source": [
    "We have generated a dataframe out of the fitting function as well, in order to determine the qualities of an object with known perfect adherence to Maxwell's equations."
   ]
  },
  {
   "cell_type": "code",
   "execution_count": 16,
   "metadata": {
    "collapsed": false
   },
   "outputs": [],
   "source": [
    "df_combo = pd.merge(df_Mau10_selection,df_GA05_selection,on=['X','Y','Z'],suffixes=('m','g'))\n",
    "#df_Bessel_selection.rename(columns={'Bx':'Bxb','By':'Byb','Bz':'Bzb'},inplace=True)\n",
    "df_Bus_selection.rename(columns={'Bx':'Bxb','By':'Byb','Bz':'Bzb'},inplace=True)\n",
    "#df_combo = pd.merge(df_combo,df_Bessel_selection,on=['X','Y','Z'])\n",
    "df_combo = pd.merge(df_combo,df_Bus_selection,on=['X','Y','Z'])\n",
    "df_combo.sort_values(['X','Y','Z'],inplace=True)\n"
   ]
  },
  {
   "cell_type": "code",
   "execution_count": 15,
   "metadata": {
    "collapsed": true
   },
   "outputs": [],
   "source": [
    "pd.merge?"
   ]
  },
  {
   "cell_type": "code",
   "execution_count": 17,
   "metadata": {
    "collapsed": false
   },
   "outputs": [
    {
     "data": {
      "text/html": [
       "<div>\n",
       "<table border=\"1\" class=\"dataframe\">\n",
       "  <thead>\n",
       "    <tr style=\"text-align: right;\">\n",
       "      <th></th>\n",
       "      <th>X</th>\n",
       "      <th>Y</th>\n",
       "      <th>Z</th>\n",
       "      <th>Bxm</th>\n",
       "      <th>Bym</th>\n",
       "      <th>Bzm</th>\n",
       "      <th>Bxg</th>\n",
       "      <th>Byg</th>\n",
       "      <th>Bzg</th>\n",
       "      <th>Bxb</th>\n",
       "      <th>Byb</th>\n",
       "      <th>Bzb</th>\n",
       "    </tr>\n",
       "  </thead>\n",
       "  <tbody>\n",
       "    <tr>\n",
       "      <th>0</th>\n",
       "      <td>-575.0</td>\n",
       "      <td>-575.0</td>\n",
       "      <td>6021.0</td>\n",
       "      <td>-0.129526</td>\n",
       "      <td>-0.130187</td>\n",
       "      <td>1.453117</td>\n",
       "      <td>-0.130382</td>\n",
       "      <td>-0.131042</td>\n",
       "      <td>1.460711</td>\n",
       "      <td>-0.000383</td>\n",
       "      <td>-0.000530</td>\n",
       "      <td>0.004837</td>\n",
       "    </tr>\n",
       "    <tr>\n",
       "      <th>1</th>\n",
       "      <td>-575.0</td>\n",
       "      <td>-575.0</td>\n",
       "      <td>6046.0</td>\n",
       "      <td>-0.130943</td>\n",
       "      <td>-0.131631</td>\n",
       "      <td>1.426714</td>\n",
       "      <td>-0.132953</td>\n",
       "      <td>-0.133664</td>\n",
       "      <td>1.434105</td>\n",
       "      <td>-0.000458</td>\n",
       "      <td>-0.000585</td>\n",
       "      <td>0.004849</td>\n",
       "    </tr>\n",
       "    <tr>\n",
       "      <th>2</th>\n",
       "      <td>-575.0</td>\n",
       "      <td>-575.0</td>\n",
       "      <td>6071.0</td>\n",
       "      <td>-0.129244</td>\n",
       "      <td>-0.129916</td>\n",
       "      <td>1.400023</td>\n",
       "      <td>-0.132376</td>\n",
       "      <td>-0.133093</td>\n",
       "      <td>1.406756</td>\n",
       "      <td>-0.000536</td>\n",
       "      <td>-0.000643</td>\n",
       "      <td>0.004837</td>\n",
       "    </tr>\n",
       "    <tr>\n",
       "      <th>3</th>\n",
       "      <td>-575.0</td>\n",
       "      <td>-575.0</td>\n",
       "      <td>6096.0</td>\n",
       "      <td>-0.124433</td>\n",
       "      <td>-0.125043</td>\n",
       "      <td>1.374212</td>\n",
       "      <td>-0.128573</td>\n",
       "      <td>-0.129250</td>\n",
       "      <td>1.379852</td>\n",
       "      <td>-0.000611</td>\n",
       "      <td>-0.000699</td>\n",
       "      <td>0.004800</td>\n",
       "    </tr>\n",
       "    <tr>\n",
       "      <th>4</th>\n",
       "      <td>-575.0</td>\n",
       "      <td>-575.0</td>\n",
       "      <td>6121.0</td>\n",
       "      <td>-0.116712</td>\n",
       "      <td>-0.117221</td>\n",
       "      <td>1.350412</td>\n",
       "      <td>-0.121676</td>\n",
       "      <td>-0.122268</td>\n",
       "      <td>1.354585</td>\n",
       "      <td>-0.000679</td>\n",
       "      <td>-0.000749</td>\n",
       "      <td>0.004741</td>\n",
       "    </tr>\n",
       "  </tbody>\n",
       "</table>\n",
       "</div>"
      ],
      "text/plain": [
       "       X      Y       Z       Bxm       Bym       Bzm       Bxg       Byg  \\\n",
       "0 -575.0 -575.0  6021.0 -0.129526 -0.130187  1.453117 -0.130382 -0.131042   \n",
       "1 -575.0 -575.0  6046.0 -0.130943 -0.131631  1.426714 -0.132953 -0.133664   \n",
       "2 -575.0 -575.0  6071.0 -0.129244 -0.129916  1.400023 -0.132376 -0.133093   \n",
       "3 -575.0 -575.0  6096.0 -0.124433 -0.125043  1.374212 -0.128573 -0.129250   \n",
       "4 -575.0 -575.0  6121.0 -0.116712 -0.117221  1.350412 -0.121676 -0.122268   \n",
       "\n",
       "        Bzg       Bxb       Byb       Bzb  \n",
       "0  1.460711 -0.000383 -0.000530  0.004837  \n",
       "1  1.434105 -0.000458 -0.000585  0.004849  \n",
       "2  1.406756 -0.000536 -0.000643  0.004837  \n",
       "3  1.379852 -0.000611 -0.000699  0.004800  \n",
       "4  1.354585 -0.000679 -0.000749  0.004741  "
      ]
     },
     "execution_count": 17,
     "metadata": {},
     "output_type": "execute_result"
    }
   ],
   "source": [
    "df_combo.head()"
   ]
  },
  {
   "cell_type": "markdown",
   "metadata": {
    "collapsed": true
   },
   "source": [
    "For our first pass, we are going to calculate the divergence of the magnetic field.  We are going to do so by using using the Divergence Theorem,\n",
    "$$\\iiint_V(\\nabla \\cdot F)\\ dV = \\bigcirc \\!\\!\\!\\!\\!\\!\\!\\!\\iint_S (F\\cdot \\mathbf{n})\\ dS,$$\n",
    "where we calculate the surface integral around some volume of the normal components of the magnetic field.  In our case, it makes logical sense to calculate the surface integral over a cubic surface.  Using the simulation grid, in which Bx,By,Bz triplets are given in 25mm spacings, we will create 3x3x3 cubes.  The central node on each face will represent the field vector for that face, and thus the total flux is the sum of all 6 faces (properly accounting for the direction of the normal).\n",
    "\n",
    "We can accomplish this by creating 3D numpy arrays, and using vectorization in an intelligent manner.  We will label each cube by its central node.  We can then compare the total flux for each cube in the two simulations (Mau10 and GA05) that we are considering.  In principle, the flux should be 0 for all cubes; there are no magnetic monopoles (as far as we know).  In practice, the total flux will be non-zero, due to numeric errors."
   ]
  },
  {
   "cell_type": "code",
   "execution_count": 18,
   "metadata": {
    "collapsed": false,
    "scrolled": true
   },
   "outputs": [
    {
     "name": "stderr",
     "output_type": "stream",
     "text": [
      "/usr/local/lib/python2.7/site-packages/ipykernel/__main__.py:5: FutureWarning: reshape is deprecated and will raise in a subsequent release. Please use .values.reshape(...) instead\n",
      "/usr/local/lib/python2.7/site-packages/ipykernel/__main__.py:6: FutureWarning: reshape is deprecated and will raise in a subsequent release. Please use .values.reshape(...) instead\n",
      "/usr/local/lib/python2.7/site-packages/ipykernel/__main__.py:7: FutureWarning: reshape is deprecated and will raise in a subsequent release. Please use .values.reshape(...) instead\n",
      "/usr/local/lib/python2.7/site-packages/ipykernel/__main__.py:9: FutureWarning: reshape is deprecated and will raise in a subsequent release. Please use .values.reshape(...) instead\n",
      "/usr/local/lib/python2.7/site-packages/ipykernel/__main__.py:10: FutureWarning: reshape is deprecated and will raise in a subsequent release. Please use .values.reshape(...) instead\n",
      "/usr/local/lib/python2.7/site-packages/ipykernel/__main__.py:11: FutureWarning: reshape is deprecated and will raise in a subsequent release. Please use .values.reshape(...) instead\n",
      "/usr/local/lib/python2.7/site-packages/ipykernel/__main__.py:17: FutureWarning: reshape is deprecated and will raise in a subsequent release. Please use .values.reshape(...) instead\n",
      "/usr/local/lib/python2.7/site-packages/ipykernel/__main__.py:18: FutureWarning: reshape is deprecated and will raise in a subsequent release. Please use .values.reshape(...) instead\n",
      "/usr/local/lib/python2.7/site-packages/ipykernel/__main__.py:19: FutureWarning: reshape is deprecated and will raise in a subsequent release. Please use .values.reshape(...) instead\n"
     ]
    }
   ],
   "source": [
    "xs = df_combo.X.unique()\n",
    "ys = df_combo.Y.unique()\n",
    "zs = df_combo.Z.unique()\n",
    "\n",
    "bxs_Mau10 = df_combo.Bxm.reshape(len(xs),len(ys),len(zs))\n",
    "bys_Mau10 = df_combo.Bym.reshape(len(xs),len(ys),len(zs))\n",
    "bzs_Mau10 = df_combo.Bzm.reshape(len(xs),len(ys),len(zs))\n",
    "\n",
    "bxs_GA05 = df_combo.Bxg.reshape(len(xs),len(ys),len(zs))\n",
    "bys_GA05 = df_combo.Byg.reshape(len(xs),len(ys),len(zs))\n",
    "bzs_GA05 = df_combo.Bzg.reshape(len(xs),len(ys),len(zs))\n",
    "\n",
    "#bxs_Bessel = df_combo.Bxb.reshape(len(xs),len(ys),len(zs))\n",
    "#bys_Bessel = df_combo.Byb.reshape(len(xs),len(ys),len(zs))\n",
    "#bzs_Bessel = df_combo.Bzb.reshape(len(xs),len(ys),len(zs))\n",
    "\n",
    "bxs_Bus = df_combo.Bxb.reshape(len(xs),len(ys),len(zs))\n",
    "bys_Bus = df_combo.Byb.reshape(len(xs),len(ys),len(zs))\n",
    "bzs_Bus = df_combo.Bzb.reshape(len(xs),len(ys),len(zs))\n"
   ]
  },
  {
   "cell_type": "code",
   "execution_count": 19,
   "metadata": {
    "collapsed": false
   },
   "outputs": [],
   "source": [
    "div_Mau10 = bxs_Mau10[:-2,1:-1,1:-1] - bxs_Mau10[2:,1:-1,1:-1]\\\n",
    "+ bys_Mau10[1:-1,:-2,1:-1] - bys_Mau10[1:-1,2:,1:-1]\\\n",
    "+ bzs_Mau10[1:-1,1:-1,:-2] - bzs_Mau10[1:-1,1:-1,2:]\n",
    "\n",
    "div_GA05 = bxs_GA05[:-2,1:-1,1:-1] - bxs_GA05[2:,1:-1,1:-1]\\\n",
    "+ bys_GA05[1:-1,:-2,1:-1] - bys_GA05[1:-1,2:,1:-1]\\\n",
    "+ bzs_GA05[1:-1,1:-1,:-2] - bzs_GA05[1:-1,1:-1,2:]\n",
    "\n",
    "#div_Bessel = bxs_Bessel[:-2,1:-1,1:-1] - bxs_Bessel[2:,1:-1,1:-1]\\\n",
    "#+ bys_Bessel[1:-1,:-2,1:-1] - bys_Bessel[1:-1,2:,1:-1]\\\n",
    "#+ bzs_Bessel[1:-1,1:-1,:-2] - bzs_Bessel[1:-1,1:-1,2:]\n",
    "\n",
    "div_Bus = bxs_Bus[:-2,1:-1,1:-1] - bxs_Bus[2:,1:-1,1:-1]\\\n",
    "+ bys_Bus[1:-1,:-2,1:-1] - bys_Bus[1:-1,2:,1:-1]\\\n",
    "+ bzs_Bus[1:-1,1:-1,:-2] - bzs_Bus[1:-1,1:-1,2:]"
   ]
  },
  {
   "cell_type": "code",
   "execution_count": 21,
   "metadata": {
    "collapsed": false
   },
   "outputs": [],
   "source": [
    "curlxy_Mau10 = bxs_Mau10[1:-1,:-2,1:-1] - bxs_Mau10[1:-1,2:,1:-1]\\\n",
    "+ bys_Mau10[:-2,1:-1,1:-1] - bys_Mau10[2:,1:-1,1:-1]\n",
    "\n",
    "curlxz_Mau10 = bxs_Mau10[1:-1,1:-1,:-2] - bxs_Mau10[1:-1,1:-1,2:]\\\n",
    "+ bzs_Mau10[:-2,1:-1,1:-1] - bzs_Mau10[2:,1:-1,1:-1]\n",
    "\n",
    "curlyz_Mau10 = bys_Mau10[1:-1,1:-1,:-2] - bys_Mau10[1:-1,1:-1,2:]\\\n",
    "+ bzs_Mau10[1:-1,:-2,1:-1] - bzs_Mau10[1:-1,2:,1:-1]\n",
    "\n",
    "\n",
    "curlxy_GA05 = bxs_GA05[1:-1,:-2,1:-1] - bxs_GA05[1:-1,2:,1:-1]\\\n",
    "+ bys_GA05[:-2,1:-1,1:-1] - bys_GA05[2:,1:-1,1:-1]\n",
    "\n",
    "curlxz_GA05 = bxs_GA05[1:-1,1:-1,:-2] - bxs_GA05[1:-1,1:-1,2:]\\\n",
    "+ bzs_GA05[:-2,1:-1,1:-1] - bzs_GA05[2:,1:-1,1:-1]\n",
    "\n",
    "curlyz_GA05 = bys_GA05[1:-1,1:-1,:-2] - bys_GA05[1:-1,1:-1,2:]\\\n",
    "+ bzs_GA05[1:-1,:-2,1:-1] - bzs_GA05[1:-1,2:,1:-1]\n",
    "\n",
    "\n",
    "curlxy_Bus = bxs_Bus[1:-1,:-2,1:-1] - bxs_Bus[1:-1,2:,1:-1]\\\n",
    "+ bys_Bus[:-2,1:-1,1:-1] - bys_Bus[2:,1:-1,1:-1]\n",
    "\n",
    "curlxz_Bus = bxs_Bus[1:-1,1:-1,:-2] - bxs_Bus[1:-1,1:-1,2:]\\\n",
    "+ bzs_Bus[:-2,1:-1,1:-1] - bzs_Bus[2:,1:-1,1:-1]\n",
    "\n",
    "curlyz_Bus = bys_Bus[1:-1,1:-1,:-2] - bys_Bus[1:-1,1:-1,2:]\\\n",
    "+ bzs_Bus[1:-1,:-2,1:-1] - bzs_Bus[1:-1,2:,1:-1]"
   ]
  },
  {
   "cell_type": "code",
   "execution_count": 22,
   "metadata": {
    "collapsed": false
   },
   "outputs": [],
   "source": [
    "cube_centers = []\n",
    "for x in xs[1:-1]:\n",
    "    for y in ys[1:-1]:\n",
    "        for z in zs[1:-1]:\n",
    "            cube_centers.append('x{0}_y{1}_z{2}'.format(x,y,z))"
   ]
  },
  {
   "cell_type": "code",
   "execution_count": 23,
   "metadata": {
    "collapsed": false
   },
   "outputs": [
    {
     "data": {
      "text/html": [
       "<div>\n",
       "<table border=\"1\" class=\"dataframe\">\n",
       "  <thead>\n",
       "    <tr style=\"text-align: right;\">\n",
       "      <th></th>\n",
       "      <th>curlxy_Bus</th>\n",
       "      <th>curlxy_GA05</th>\n",
       "      <th>curlxy_Mau10</th>\n",
       "      <th>curlxz_Bus</th>\n",
       "      <th>curlxz_GA05</th>\n",
       "      <th>curlxz_Mau10</th>\n",
       "      <th>curlyz_Bus</th>\n",
       "      <th>curlyz_GA05</th>\n",
       "      <th>curlyz_Mau10</th>\n",
       "      <th>div_Bus</th>\n",
       "      <th>div_GA05</th>\n",
       "      <th>div_Mau10</th>\n",
       "    </tr>\n",
       "  </thead>\n",
       "  <tbody>\n",
       "    <tr>\n",
       "      <th>x-550.0_y-550.0_z6046.0</th>\n",
       "      <td>0.000007</td>\n",
       "      <td>-0.022671</td>\n",
       "      <td>-0.022246</td>\n",
       "      <td>0.000492</td>\n",
       "      <td>0.001861</td>\n",
       "      <td>-0.001378</td>\n",
       "      <td>-0.000161</td>\n",
       "      <td>0.001936</td>\n",
       "      <td>-0.001370</td>\n",
       "      <td>8.880000e-07</td>\n",
       "      <td>-0.000464</td>\n",
       "      <td>-0.000461</td>\n",
       "    </tr>\n",
       "    <tr>\n",
       "      <th>x-550.0_y-550.0_z6071.0</th>\n",
       "      <td>-0.000024</td>\n",
       "      <td>-0.022879</td>\n",
       "      <td>-0.021960</td>\n",
       "      <td>0.000493</td>\n",
       "      <td>-0.007468</td>\n",
       "      <td>-0.010479</td>\n",
       "      <td>-0.000159</td>\n",
       "      <td>-0.007532</td>\n",
       "      <td>-0.010605</td>\n",
       "      <td>-7.820000e-07</td>\n",
       "      <td>-0.000479</td>\n",
       "      <td>-0.000463</td>\n",
       "    </tr>\n",
       "    <tr>\n",
       "      <th>x-550.0_y-550.0_z6096.0</th>\n",
       "      <td>-0.000054</td>\n",
       "      <td>-0.021795</td>\n",
       "      <td>-0.020423</td>\n",
       "      <td>0.000477</td>\n",
       "      <td>-0.016689</td>\n",
       "      <td>-0.019264</td>\n",
       "      <td>-0.000164</td>\n",
       "      <td>-0.016892</td>\n",
       "      <td>-0.019521</td>\n",
       "      <td>-1.372000e-06</td>\n",
       "      <td>-0.000461</td>\n",
       "      <td>-0.000434</td>\n",
       "    </tr>\n",
       "    <tr>\n",
       "      <th>x-550.0_y-550.0_z6121.0</th>\n",
       "      <td>-0.000080</td>\n",
       "      <td>-0.019465</td>\n",
       "      <td>-0.017715</td>\n",
       "      <td>0.000444</td>\n",
       "      <td>-0.025250</td>\n",
       "      <td>-0.027208</td>\n",
       "      <td>-0.000178</td>\n",
       "      <td>-0.025583</td>\n",
       "      <td>-0.027583</td>\n",
       "      <td>-1.580000e-06</td>\n",
       "      <td>-0.000412</td>\n",
       "      <td>-0.000376</td>\n",
       "    </tr>\n",
       "    <tr>\n",
       "      <th>x-550.0_y-550.0_z6146.0</th>\n",
       "      <td>-0.000100</td>\n",
       "      <td>-0.016026</td>\n",
       "      <td>-0.013995</td>\n",
       "      <td>0.000400</td>\n",
       "      <td>-0.032646</td>\n",
       "      <td>-0.033851</td>\n",
       "      <td>-0.000198</td>\n",
       "      <td>-0.033091</td>\n",
       "      <td>-0.034324</td>\n",
       "      <td>-2.412000e-06</td>\n",
       "      <td>-0.000338</td>\n",
       "      <td>-0.000298</td>\n",
       "    </tr>\n",
       "  </tbody>\n",
       "</table>\n",
       "</div>"
      ],
      "text/plain": [
       "                         curlxy_Bus  curlxy_GA05  curlxy_Mau10  curlxz_Bus  \\\n",
       "x-550.0_y-550.0_z6046.0    0.000007    -0.022671     -0.022246    0.000492   \n",
       "x-550.0_y-550.0_z6071.0   -0.000024    -0.022879     -0.021960    0.000493   \n",
       "x-550.0_y-550.0_z6096.0   -0.000054    -0.021795     -0.020423    0.000477   \n",
       "x-550.0_y-550.0_z6121.0   -0.000080    -0.019465     -0.017715    0.000444   \n",
       "x-550.0_y-550.0_z6146.0   -0.000100    -0.016026     -0.013995    0.000400   \n",
       "\n",
       "                         curlxz_GA05  curlxz_Mau10  curlyz_Bus  curlyz_GA05  \\\n",
       "x-550.0_y-550.0_z6046.0     0.001861     -0.001378   -0.000161     0.001936   \n",
       "x-550.0_y-550.0_z6071.0    -0.007468     -0.010479   -0.000159    -0.007532   \n",
       "x-550.0_y-550.0_z6096.0    -0.016689     -0.019264   -0.000164    -0.016892   \n",
       "x-550.0_y-550.0_z6121.0    -0.025250     -0.027208   -0.000178    -0.025583   \n",
       "x-550.0_y-550.0_z6146.0    -0.032646     -0.033851   -0.000198    -0.033091   \n",
       "\n",
       "                         curlyz_Mau10       div_Bus  div_GA05  div_Mau10  \n",
       "x-550.0_y-550.0_z6046.0     -0.001370  8.880000e-07 -0.000464  -0.000461  \n",
       "x-550.0_y-550.0_z6071.0     -0.010605 -7.820000e-07 -0.000479  -0.000463  \n",
       "x-550.0_y-550.0_z6096.0     -0.019521 -1.372000e-06 -0.000461  -0.000434  \n",
       "x-550.0_y-550.0_z6121.0     -0.027583 -1.580000e-06 -0.000412  -0.000376  \n",
       "x-550.0_y-550.0_z6146.0     -0.034324 -2.412000e-06 -0.000338  -0.000298  "
      ]
     },
     "execution_count": 23,
     "metadata": {},
     "output_type": "execute_result"
    }
   ],
   "source": [
    "df_maxwell = pd.DataFrame({'div_Mau10':div_Mau10.flatten(),'div_GA05':div_GA05.flatten(),\n",
    "                           'div_Bus':div_Bus.flatten(),\n",
    "                          'curlxy_Mau10':curlxy_Mau10.flatten(),'curlxy_GA05':curlxy_GA05.flatten(), 'curlxy_Bus':curlxy_Bus.flatten(),\n",
    "                          'curlxz_Mau10':curlxz_Mau10.flatten(),'curlxz_GA05':curlxz_GA05.flatten(), 'curlxz_Bus':curlxz_Bus.flatten(),\n",
    "                          'curlyz_Mau10':curlyz_Mau10.flatten(),'curlyz_GA05':curlyz_GA05.flatten(), 'curlyz_Bus':curlyz_Bus.flatten()},\n",
    "                          index=cube_centers)\n",
    "df_maxwell.head()"
   ]
  },
  {
   "cell_type": "code",
   "execution_count": 50,
   "metadata": {
    "collapsed": false
   },
   "outputs": [
    {
     "data": {
      "text/html": [
       "<div>\n",
       "<table border=\"1\" class=\"dataframe\">\n",
       "  <thead>\n",
       "    <tr style=\"text-align: right;\">\n",
       "      <th></th>\n",
       "      <th>div_Bessel</th>\n",
       "      <th>div_GA05</th>\n",
       "      <th>div_Mau10</th>\n",
       "    </tr>\n",
       "  </thead>\n",
       "  <tbody>\n",
       "    <tr>\n",
       "      <th>x-25.0_y25.0_z8821.0</th>\n",
       "      <td>-0.000377</td>\n",
       "      <td>6.890000e-07</td>\n",
       "      <td>6.660000e-07</td>\n",
       "    </tr>\n",
       "  </tbody>\n",
       "</table>\n",
       "</div>"
      ],
      "text/plain": [
       "                      div_Bessel      div_GA05     div_Mau10\n",
       "x-25.0_y25.0_z8821.0   -0.000377  6.890000e-07  6.660000e-07"
      ]
     },
     "execution_count": 50,
     "metadata": {},
     "output_type": "execute_result"
    }
   ],
   "source": [
    "#df_maxwell[df_maxwell.div_Bessel==df_maxwell.div_Bessel.min()]"
   ]
  },
  {
   "cell_type": "code",
   "execution_count": 48,
   "metadata": {
    "collapsed": false
   },
   "outputs": [
    {
     "data": {
      "text/plain": [
       "array([  0.00000000e+00,   1.11022302e-16,   1.11022302e-16, ...,\n",
       "         5.44386000e-04,   5.56021000e-04,   5.56163000e-04])"
      ]
     },
     "execution_count": 48,
     "metadata": {},
     "output_type": "execute_result"
    }
   ],
   "source": [
    "sort(np.abs(df_maxwell.div_GA05.unique()))"
   ]
  },
  {
   "cell_type": "code",
   "execution_count": 37,
   "metadata": {
    "collapsed": false
   },
   "outputs": [
    {
     "data": {
      "text/plain": [
       "<matplotlib.axes._subplots.AxesSubplot at 0x1281cdd90>"
      ]
     },
     "execution_count": 37,
     "metadata": {},
     "output_type": "execute_result"
    },
    {
     "data": {
      "image/png": "[encoded data removed]",
      "text/plain": [
       "<matplotlib.figure.Figure at 0x127f40190>"
      ]
     },
     "metadata": {},
     "output_type": "display_data"
    }
   ],
   "source": [
    "df_maxwell[['div_Mau10','div_GA05','div_Bus']].plot.hist(alpha=0.5, bins=100, logy=True, title='Divergence')"
   ]
  },
  {
   "cell_type": "code",
   "execution_count": 34,
   "metadata": {
    "collapsed": false
   },
   "outputs": [
    {
     "data": {
      "text/plain": [
       "<matplotlib.axes._subplots.AxesSubplot at 0x128a237d0>"
      ]
     },
     "execution_count": 34,
     "metadata": {},
     "output_type": "execute_result"
    },
    {
     "data": {
      "image/png": "[encoded data removed]",
      "text/plain": [
       "<matplotlib.figure.Figure at 0x1289a5890>"
      ]
     },
     "metadata": {},
     "output_type": "display_data"
    }
   ],
   "source": [
    "df_maxwell[['curlxy_Mau10','curlxy_GA05', 'curlxy_Bus']].plot.hist(alpha=0.5, bins=100, logy=True, title='Curl (XY)')"
   ]
  },
  {
   "cell_type": "code",
   "execution_count": 28,
   "metadata": {
    "collapsed": false
   },
   "outputs": [
    {
     "data": {
      "text/plain": [
       "<matplotlib.axes._subplots.AxesSubplot at 0x122113410>"
      ]
     },
     "execution_count": 28,
     "metadata": {},
     "output_type": "execute_result"
    },
    {
     "data": {
      "image/png": "[encoded data removed]",
      "text/plain": [
       "<matplotlib.figure.Figure at 0x1214a4790>"
      ]
     },
     "metadata": {},
     "output_type": "display_data"
    }
   ],
   "source": [
    "df_maxwell[['curlxz_Mau10','curlxz_GA05','curlxz_Bus']].plot.hist(alpha=0.5, bins=100, logy=True, title='Curl (XZ)', range=(-0.08, 0.08))"
   ]
  },
  {
   "cell_type": "code",
   "execution_count": 35,
   "metadata": {
    "collapsed": false
   },
   "outputs": [
    {
     "data": {
      "text/plain": [
       "<matplotlib.axes._subplots.AxesSubplot at 0x1282f2950>"
      ]
     },
     "execution_count": 35,
     "metadata": {},
     "output_type": "execute_result"
    },
    {
     "data": {
      "image/png": "[encoded data removed]",
      "text/plain": [
       "<matplotlib.figure.Figure at 0x127822d90>"
      ]
     },
     "metadata": {},
     "output_type": "display_data"
    }
   ],
   "source": [
    "df_maxwell[['curlyz_Mau10','curlyz_GA05','curlyz_Bus']].plot.hist(alpha=0.5, bins=100, logy=True, title='Curl (YZ)')"
   ]
  },
  {
   "cell_type": "code",
   "execution_count": null,
   "metadata": {
    "collapsed": true
   },
   "outputs": [],
   "source": []
  }
 ],
 "metadata": {
  "kernelspec": {
   "display_name": "Python 2",
   "language": "python",
   "name": "python2"
  },
  "language_info": {
   "codemirror_mode": {
    "name": "ipython",
    "version": 2
   },
   "file_extension": ".py",
   "mimetype": "text/x-python",
   "name": "python",
   "nbconvert_exporter": "python",
   "pygments_lexer": "ipython2",
   "version": "2.7.13"
  }
 },
 "nbformat": 4,
 "nbformat_minor": 0
}
