{
 "cells": [
  {
   "cell_type": "markdown",
   "metadata": {},
   "source": [
    "run plotly_test_offline.py"
   ]
  },
  {
   "cell_type": "code",
   "execution_count": null,
   "metadata": {},
   "outputs": [],
   "source": [
    "import os\n",
    "from mu2e import mu2e_ext_path\n",
    "from mu2e.dataframeprod import DataFrameMaker\n",
    "from mu2e.mu2eplots import mu2e_plot, mu2e_plot3d\n",
    "%matplotlib inline\n",
    "plt.rcParams['figure.figsize'] = (12,8)"
   ]
  },
  {
   "cell_type": "code",
   "execution_count": null,
   "metadata": {},
   "outputs": [],
   "source": [
    "df_TSd_GA05 = DataFrameMaker(mu2e_ext_path+'datafiles/FieldMapsGA05/TSdMap',use_pickle = True).data_frame"
   ]
  },
  {
   "cell_type": "code",
   "execution_count": null,
   "metadata": {},
   "outputs": [],
   "source": [
    "df_pure_cyl = DataFrameMaker(mu2e_ext_path+'datafiles/FieldMapsPure/DS8_Bz_xzplane',use_pickle = True).data_frame\n",
    "df_pure_hel = DataFrameMaker(mu2e_ext_path+'datafiles/FieldMapsPure/DS8_HeliCalcfields',use_pickle = True).data_frame"
   ]
  },
  {
   "cell_type": "code",
   "execution_count": null,
   "metadata": {},
   "outputs": [],
   "source": [
    "df = DataFrameMaker(mu2e_ext_path+'datafiles/Mau10/Standard_Maps/Mu2e_DSMap',use_pickle = True).data_frame"
   ]
  },
  {
   "cell_type": "code",
   "execution_count": null,
   "metadata": {},
   "outputs": [],
   "source": [
    "df_ga04 = DataFrameMaker(mu2e_ext_path+'datafiles/FieldMapsGA04/Mu2e_DS_GA04',use_pickle = True).data_frame"
   ]
  },
  {
   "cell_type": "code",
   "execution_count": null,
   "metadata": {},
   "outputs": [],
   "source": [
    "df_ga05 = DataFrameMaker(mu2e_ext_path+'datafiles/FieldMapsGA05/DSMap',use_pickle = True).data_frame"
   ]
  },
  {
   "cell_type": "code",
   "execution_count": null,
   "metadata": {},
   "outputs": [],
   "source": [
    "ax = mu2e_plot(df, 'Z', 'Bz', 'X==600 and Y==0 and 11000<Z<14000',\n",
    "                    info='Mau10', mode='mpl')"
   ]
  },
  {
   "cell_type": "code",
   "execution_count": null,
   "metadata": {},
   "outputs": [],
   "source": [
    "ax.lines[0].get_xydata()"
   ]
  },
  {
   "cell_type": "code",
   "execution_count": null,
   "metadata": {},
   "outputs": [],
   "source": [
    "df.query('X==600 and Y==0 and 11000<Z<14000')[['Z','Bz']].values"
   ]
  },
  {
   "cell_type": "code",
   "execution_count": null,
   "metadata": {},
   "outputs": [],
   "source": [
    "ax = mu2e_plot(df_ga04, 'Z', 'Bz', 'X==600 and Y==0 and 11000<Z<14000', info='GA04', mode='mpl')\n",
    "mu2e_plot(df_ga05, 'Z', 'Bz', 'X==600 and Y==0 and 11000<Z<14000', info='GA05', mode='mpl',ax=ax)"
   ]
  },
  {
   "cell_type": "code",
   "execution_count": null,
   "metadata": {},
   "outputs": [],
   "source": [
    "ax = mu2e_plot(df_ga04, 'Z', 'Bz', 'X==1050 and Y==0 and 11000<Z<14000', info='GA04', mode='mpl')\n",
    "mu2e_plot(df_ga05, 'Z', 'Bz', 'X==1050 and Y==0 and 11000<Z<14000', info='GA05', mode='mpl',ax=ax)"
   ]
  },
  {
   "cell_type": "code",
   "execution_count": null,
   "metadata": {},
   "outputs": [],
   "source": [
    "save_dir = os.path.abspath(os.path.dirname(mu2e.__file__))+'/../source/_plotly'"
   ]
  },
  {
   "cell_type": "code",
   "execution_count": null,
   "metadata": {},
   "outputs": [],
   "source": [
    "pi/2"
   ]
  },
  {
   "cell_type": "markdown",
   "metadata": {},
   "source": [
    "mu2e_plot3d(df_ga04, 'X', 'Z', 'Bz', '950<=X<=1060 and Phi==0 and 13000<Z<14000',\n",
    "            info='GA04', df_fit=False, mode='plotly_nb', ptype='3d')"
   ]
  },
  {
   "cell_type": "code",
   "execution_count": null,
   "metadata": {},
   "outputs": [],
   "source": [
    "disp = 1180\n",
    "phi_disp = -0.3687\n",
    "df_ga05.eval('Xp = X+1075')\n",
    "df_ga05.eval('Yp = Y-440')\n",
    "df_ga05.eval('Rp = sqrt(Xp**2+Yp**2)')\n",
    "df_ga05.eval('Phip = arctan2(Yp,Xp)')\n",
    "df_ga05.eval('Bphi_abs = abs(Bphi)')"
   ]
  },
  {
   "cell_type": "code",
   "execution_count": null,
   "metadata": {},
   "outputs": [],
   "source": [
    "\n",
    "\n"
   ]
  },
  {
   "cell_type": "code",
   "execution_count": null,
   "metadata": {},
   "outputs": [],
   "source": [
    "df_ga05.head()"
   ]
  },
  {
   "cell_type": "code",
   "execution_count": null,
   "metadata": {},
   "outputs": [],
   "source": [
    "mu2e_plot3d(df_ga05, 'Xp', 'Yp', 'Bphi_abs', 'Z==12221 and Rp<=100',\n",
    "            info = 'GA05', df_fit=False, mode='plotly_nb', ptype='3d')"
   ]
  },
  {
   "cell_type": "code",
   "execution_count": null,
   "metadata": {},
   "outputs": [],
   "source": [
    "mu2e_plot3d(df_ga05, 'X', 'Y', 'Bphi', 'Z==9421',\n",
    "            info = 'GA05', df_fit=False, mode='plotly_nb', ptype='3d')"
   ]
  },
  {
   "cell_type": "code",
   "execution_count": null,
   "metadata": {},
   "outputs": [],
   "source": [
    "mu2e_plot3d(df, 'X', 'Y', 'Bphi', 'R<1000 and Z==11421',\n",
    "            info = 'Mau10', df_fit=False, mode='plotly_nb', ptype='3d')"
   ]
  },
  {
   "cell_type": "code",
   "execution_count": null,
   "metadata": {},
   "outputs": [],
   "source": [
    "mu2e_plot3d(df_ga04, 'R', 'Z', 'Bz', 'R<1000 and Phi=={}'.format(np.pi/2),\n",
    "            info = 'GA04', df_fit=False, mode='plotly_nb', ptype='3d')"
   ]
  },
  {
   "cell_type": "code",
   "execution_count": null,
   "metadata": {},
   "outputs": [],
   "source": [
    "mu2e_plot3d(df_ga05, 'R', 'Z', 'Bz', 'R<1000 and Phi=={}'.format(np.pi/2),\n",
    "            info = 'GA05', df_fit=False, mode='plotly_nb', ptype='3d')"
   ]
  },
  {
   "cell_type": "code",
   "execution_count": null,
   "metadata": {},
   "outputs": [],
   "source": [
    "mu2e_plot3d(df_pure_cyl, 'X', 'Z', 'Bz', 'Y==0',\n",
    "            info = 'Pure_Cyl', df_fit=False, mode='plotly_nb', ptype='3d')"
   ]
  },
  {
   "cell_type": "code",
   "execution_count": null,
   "metadata": {},
   "outputs": [],
   "source": [
    "mu2e_plot3d(df_pure_hel, 'X', 'Z', 'Bz', 'Y==0',\n",
    "            info = 'Pure_Hel', df_fit=False, mode='plotly_nb', ptype='3d')"
   ]
  },
  {
   "cell_type": "code",
   "execution_count": null,
   "metadata": {},
   "outputs": [],
   "source": [
    "mu2e_plot3d(df_pure_cyl, 'X', 'Z', 'Bx', 'Y==0',\n",
    "            info = 'Pure_Cyl', df_fit=False, mode='plotly_nb', ptype='3d')"
   ]
  },
  {
   "cell_type": "code",
   "execution_count": null,
   "metadata": {},
   "outputs": [],
   "source": [
    "mu2e_plot3d(df_pure_hel, 'X', 'Z', 'Bx', 'Y==0',\n",
    "            info = 'Pure_Hel', df_fit=False, mode='plotly_nb', ptype='3d')"
   ]
  },
  {
   "cell_type": "code",
   "execution_count": null,
   "metadata": {},
   "outputs": [],
   "source": [
    "mu2e_plot3d(df_pure_cyl, 'X', 'Z', 'Bz', 'Y==0',\n",
    "            info = 'Pure_Cyl', df_fit=False, mode='plotly_nb', ptype='3d')"
   ]
  },
  {
   "cell_type": "code",
   "execution_count": null,
   "metadata": {},
   "outputs": [],
   "source": [
    "import mu2e\n",
    "import pandas as pd\n",
    "from mu2e.mu2eplots import mu2e_plot3d_ptrap\n",
    "import cPickle as pkl"
   ]
  },
  {
   "cell_type": "code",
   "execution_count": null,
   "metadata": {},
   "outputs": [],
   "source": [
    "df_nttvd, df_ntpart = pkl.load(open(mu2e.mu2e_ext_path+'datafiles/G4ParticleSim/z13k_muons_GA05.p','rb'))\n",
    "_, df_xray = pkl.load(open(mu2e.mu2e_ext_path+'datafiles/G4ParticleSim/low_e_ele.p','rb'))\n",
    "df_ntpart.eval('xstop=xstop+3904')\n",
    "df_ntpart.eval('x=x+3904')\n",
    "\n",
    "df_xray.eval('xstop=xstop+3904')"
   ]
  },
  {
   "cell_type": "code",
   "execution_count": null,
   "metadata": {},
   "outputs": [],
   "source": [
    "mu2e_plot3d_ptrap(df_ntpart.query('xstop<1000 and tstop>7000 and sqrt(xstop*xstop+ystop*ystop)<900 and pstop<70').ix[0:80000],'zstop','xstop','ystop',xray=df_xray)\n",
    "#mu2e_plot3d_ptrap(df_ntpart.ix[0:10000],'z','x','y',xray=df_xray)"
   ]
  },
  {
   "cell_type": "code",
   "execution_count": null,
   "metadata": {},
   "outputs": [],
   "source": [
    "isinstance(df_xray, pd.DataFrame)"
   ]
  },
  {
   "cell_type": "code",
   "execution_count": null,
   "metadata": {},
   "outputs": [],
   "source": [
    "df_xray.query('xstop<1000 and tstop>1000 and sqrt(xstop*xstop+ystop*ystop)<900')"
   ]
  },
  {
   "cell_type": "code",
   "execution_count": null,
   "metadata": {},
   "outputs": [],
   "source": [
    "df_tmp = df_ntpart.query('xstop<1000 and tstop>7000 and sqrt(xstop*xstop+ystop*ystop)<900 and pstop>70')"
   ]
  },
  {
   "cell_type": "code",
   "execution_count": null,
   "metadata": {},
   "outputs": [],
   "source": [
    "df_tmp.pzstop.hist()"
   ]
  },
  {
   "cell_type": "code",
   "execution_count": null,
   "metadata": {},
   "outputs": [],
   "source": []
  },
  {
   "cell_type": "code",
   "execution_count": null,
   "metadata": {},
   "outputs": [],
   "source": [
    "import plotly.plotly as py\n",
    "from plotly.graph_objs import *\n",
    "from plotly.widgets import GraphWidget\n",
    "from IPython.display import display, HTML, Image\n",
    "import numpy as np\n",
    "import math\n",
    "from IPython.html import widgets\n"
   ]
  },
  {
   "cell_type": "code",
   "execution_count": null,
   "metadata": {},
   "outputs": [],
   "source": [
    "z = np.arange(1,20,0.1)\n",
    "x = np.cos(4*z)*( np.power(z+1,3) )\n",
    "y = np.sin(4*z)*( np.power(z+1,3) )"
   ]
  },
  {
   "cell_type": "code",
   "execution_count": null,
   "metadata": {},
   "outputs": [],
   "source": [
    "class shifter:\n",
    "    def __init__(self):\n",
    "        self.x = np.cos(4*z)*( np.power(z+1,3) )\n",
    "        self.y = np.sin(4*z)*( np.power(z+1,3) )\n",
    "        \n",
    "    \n",
    "    def on_phase_change(self, name, old_value, new_value):\n",
    "        self.x = np.cos(4*z+new_value)*( np.power(z+1,3) )\n",
    "        self.y = np.sin(4*z+new_value)*( np.power(z+1,3) )\n",
    "        self.replot()\n",
    "        \n",
    "    def replot(self):\n",
    "        g.restyle({ 'x': [self.x], 'y': [self.y] })\n",
    "\n",
    "p_slider = widgets.FloatSlider(min=0,max=10,value=1,step=0.05)\n",
    "p_slider.description = 'Phase shift'\n",
    "p_slider.value = 1\n",
    "\n",
    "p_state = shifter()\n",
    "p_slider.on_trait_change(p_state.on_phase_change, 'value')"
   ]
  },
  {
   "cell_type": "code",
   "execution_count": null,
   "metadata": {},
   "outputs": [],
   "source": [
    "g = GraphWidget()\n",
    "g.restyle( { 'x':[x],\n",
    "            'y':[y],\n",
    "            'z':[z], \n",
    "            'marker':{'size':np.power(z,1.2),'opacity':0.9,'color':'blue'},             \n",
    "            'type':'scatter3d' } )"
   ]
  },
  {
   "cell_type": "code",
   "execution_count": null,
   "metadata": {},
   "outputs": [],
   "source": [
    "display(p_slider)\n",
    "display(g)"
   ]
  },
  {
   "cell_type": "code",
   "execution_count": null,
   "metadata": {},
   "outputs": [],
   "source": [
    "df = DataFrameMaker(mu2e_ext_path+'datafiles/Mau9/Mu2e_DSMap',use_pickle = True).data_frame\n",
    "df_min = DataFrameMaker(mu2e_ext_path+'datafiles/Mau9/MIN',use_pickle = True).data_frame\n",
    "df_min2 = DataFrameMaker(mu2e_ext_path+'datafiles/Mau9/MIN2',use_pickle = True).data_frame\n",
    "df_max = DataFrameMaker(mu2e_ext_path+'datafiles/Mau9/MAX',use_pickle = True).data_frame"
   ]
  },
  {
   "cell_type": "code",
   "execution_count": null,
   "metadata": {},
   "outputs": [],
   "source": [
    "q1 = '-800<=X<=800 and -800<=Y<=800 and 5500<Z<13000'"
   ]
  },
  {
   "cell_type": "code",
   "execution_count": null,
   "metadata": {},
   "outputs": [],
   "source": [
    "df = df.query(q1)[['X','Y','Z','Bz']]\n",
    "df_min = df_min.query(q1)[['X','Y','Z','Bz']]\n",
    "df_min2 = df_min2.query(q1)[['X','Y','Z','Bz']]\n",
    "df_max = df_max.query(q1)[['X','Y','Z','Bz']]"
   ]
  },
  {
   "cell_type": "code",
   "execution_count": null,
   "metadata": {},
   "outputs": [],
   "source": [
    "df_merge = df.merge(df_min, on = ['X','Y','Z'], suffixes=('', '_min1'))"
   ]
  },
  {
   "cell_type": "code",
   "execution_count": null,
   "metadata": {},
   "outputs": [],
   "source": [
    "df_merge = df_merge.merge(df_min2, on = ['X','Y','Z'], suffixes=('', '_min2'))"
   ]
  },
  {
   "cell_type": "code",
   "execution_count": null,
   "metadata": {},
   "outputs": [],
   "source": [
    "df_merge = df_merge.merge(df_max, on = ['X','Y','Z'], suffixes=('', '_max1'))"
   ]
  },
  {
   "cell_type": "code",
   "execution_count": null,
   "metadata": {},
   "outputs": [],
   "source": [
    "df_merge.head()"
   ]
  },
  {
   "cell_type": "code",
   "execution_count": null,
   "metadata": {},
   "outputs": [],
   "source": [
    "df_merge['diff_min1'] = (df_merge['Bz']-df_merge['Bz_min1'])"
   ]
  },
  {
   "cell_type": "code",
   "execution_count": null,
   "metadata": {},
   "outputs": [],
   "source": [
    "df_merge['diff_min2'] = (df_merge['Bz']-df_merge['Bz_min2'])"
   ]
  },
  {
   "cell_type": "code",
   "execution_count": null,
   "metadata": {},
   "outputs": [],
   "source": [
    "df_merge['diff_max1'] = (df_merge['Bz']-df_merge['Bz_max1'])"
   ]
  },
  {
   "cell_type": "code",
   "execution_count": null,
   "metadata": {},
   "outputs": [],
   "source": [
    "df_merge.describe()"
   ]
  },
  {
   "cell_type": "code",
   "execution_count": null,
   "metadata": {},
   "outputs": [],
   "source": [
    "mu2e_plot3d(df_ga05, 'Z', 'X', 'Bz', 'Y==0 and 6000<Z<8000 and 550<=X<=650',\n",
    "            info = 'GA05', df_fit=False, mode='plotly_html', ptype='heat', save_dir='/Users/brianpollack/Documents/PersonalWebPage/mu2e_plots/OPA', save_name='2dvis_z_x_bz')"
   ]
  },
  {
   "cell_type": "code",
   "execution_count": null,
   "metadata": {},
   "outputs": [],
   "source": [
    "df_top = df_ga05.drop(['R','Phi','Br','Bphi'], axis=1)\n",
    "df_bottom = df_TSd_GA05.query('Y==-800').drop(['R','Phi','Br','Bphi'], axis=1)\n",
    "df_bottom['Y'] = df_bottom['Y']*-1\n",
    "\n"
   ]
  },
  {
   "cell_type": "code",
   "execution_count": null,
   "metadata": {},
   "outputs": [],
   "source": [
    "df_comp = df_top.copy()"
   ]
  },
  {
   "cell_type": "code",
   "execution_count": null,
   "metadata": {},
   "outputs": [],
   "source": [
    "df_comp.drop?"
   ]
  },
  {
   "cell_type": "code",
   "execution_count": null,
   "metadata": {},
   "outputs": [],
   "source": [
    "df_comp = df_comp.merge(df_bottom, on=['X','Y','Z'], copy=True, suffixes=('_top','_bottom'))"
   ]
  },
  {
   "cell_type": "code",
   "execution_count": null,
   "metadata": {},
   "outputs": [],
   "source": [
    "df_comp['By_comp'] = df_comp['By_top']+df_comp['By_bottom']"
   ]
  },
  {
   "cell_type": "code",
   "execution_count": null,
   "metadata": {},
   "outputs": [],
   "source": [
    "df_comp"
   ]
  },
  {
   "cell_type": "code",
   "execution_count": null,
   "metadata": {},
   "outputs": [],
   "source": [
    "mu2e_plot3d(df_comp, 'Z', 'X', 'By_comp', 'Y==800',\n",
    "            info = 'top+bottom,', df_fit=False, mode='plotly_nb', ptype='heat')"
   ]
  },
  {
   "cell_type": "code",
   "execution_count": null,
   "metadata": {},
   "outputs": [],
   "source": [
    "mu2e_plot3d(df_comp, 'Z', 'X', 'By_comp', 'Y==800',\n",
    "            info = 'top+bottom,', df_fit=False, mode='plotly_nb', ptype='3d')"
   ]
  },
  {
   "cell_type": "code",
   "execution_count": null,
   "metadata": {},
   "outputs": [],
   "source": [
    "df_ga05['dBz'] = df_ga05['Bz']-df_ga04['Bz']\n",
    "df_ga05['dBr'] = df_ga05['Br']-df_ga04['Br']\n",
    "df_ga05['dBphi'] = df_ga05['Bphi']-df_ga04['Bphi']\n"
   ]
  },
  {
   "cell_type": "code",
   "execution_count": null,
   "metadata": {},
   "outputs": [],
   "source": [
    "mu2e_plot3d(df_ga05, 'R', 'Z', 'dBz', 'R<800 and 5000<Z<12000 and Phi=={}'.format(0),\n",
    "            info = 'GA05-GA04', df_fit=False, mode='plotly_nb', ptype='3d')"
   ]
  },
  {
   "cell_type": "code",
   "execution_count": null,
   "metadata": {},
   "outputs": [],
   "source": [
    "mu2e_plot3d(df_ga05, 'R', 'Z', 'dBr', 'R<800 and 5000<Z<12000 and Phi=={}'.format(np.pi/2),\n",
    "            info = 'GA05/GA04', df_fit=False, mode='plotly_nb', ptype='3d')"
   ]
  },
  {
   "cell_type": "code",
   "execution_count": null,
   "metadata": {},
   "outputs": [],
   "source": []
  }
 ],
 "metadata": {
  "kernelspec": {
   "display_name": "Python 3",
   "language": "python",
   "name": "python3"
  },
  "language_info": {
   "codemirror_mode": {
    "name": "ipython",
    "version": 3
   },
   "file_extension": ".py",
   "mimetype": "text/x-python",
   "name": "python",
   "nbconvert_exporter": "python",
   "pygments_lexer": "ipython3",
   "version": "3.6.4"
  }
 },
 "nbformat": 4,
 "nbformat_minor": 1
}
