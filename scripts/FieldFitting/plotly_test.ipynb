{
 "cells": [
  {
   "cell_type": "markdown",
   "metadata": {
    "collapsed": false
   },
   "source": [
    "run plotly_test_offline.py"
   ]
  },
  {
   "cell_type": "code",
   "execution_count": 2,
   "metadata": {
    "collapsed": false
   },
   "outputs": [
    {
     "name": "stderr",
     "output_type": "stream",
     "text": [
      "/usr/local/lib/python2.7/site-packages/IPython/html.py:14: ShimWarning:\n",
      "\n",
      "The `IPython.html` package has been deprecated. You should import from `notebook` instead. `IPython.html.widgets` has moved to `ipywidgets`.\n",
      "\n",
      "/usr/local/lib/python2.7/site-packages/IPython/utils/traitlets.py:5: UserWarning:\n",
      "\n",
      "IPython.utils.traitlets has moved to a top-level traitlets package.\n",
      "\n"
     ]
    },
    {
     "data": {
      "application/javascript": [
       "window.genUID = function() {\n",
       "    return 'xxxxxxxx-xxxx-4xxx-yxxx-xxxxxxxxxxxx'.replace(/[xy]/g, function(c) {\n",
       "        var r = Math.random()*16|0, v = c == 'x' ? r : (r&0x3|0x8);\n",
       "        return v.toString(16);\n",
       "    });\n",
       "};\n",
       "\n",
       "var IPYTHON_VERSION = '3';\n",
       "\n",
       "require([\"widgets/js/widget\", \"widgets/js/manager\"], function (widget, manager) {\n",
       "    if (!('DOMWidgetView' in widget)) {\n",
       "\n",
       "        // we're in IPython2, things moved a bit from 2 --> 3.\n",
       "        // construct the expected IPython3 widget API\n",
       "        IPYTHON_VERSION = '2';\n",
       "        manager = {WidgetManager: widget};\n",
       "        widget = {DOMWidgetView: IPython.DOMWidgetView};\n",
       "    }\n",
       "\n",
       "    var GraphView = widget.DOMWidgetView.extend({\n",
       "        render: function(){\n",
       "            var that = this;\n",
       "\n",
       "            var graphId = window.genUID();\n",
       "            var loadingId = 'loading-'+graphId;\n",
       "\n",
       "\n",
       "            var _graph_url = that.model.get('_graph_url');\n",
       "\n",
       "            // variable plotlyDomain in the case of enterprise\n",
       "            var url_parts = _graph_url.split('/');\n",
       "            var plotlyDomain = url_parts[0] + '//' + url_parts[2];\n",
       "\n",
       "            if(!('plotlyDomains' in window)){\n",
       "                window.plotlyDomains = {};\n",
       "            }\n",
       "            window.plotlyDomains[graphId] = plotlyDomain;\n",
       "\n",
       "            // Place IFrame in output cell div `$el`\n",
       "            that.$el.css('width', '100%');\n",
       "            that.$graph = $(['<iframe id=\"'+graphId+'\"',\n",
       "                             'src=\"'+_graph_url+'.embed\"',\n",
       "                             'seamless',\n",
       "                             'style=\"border: none;\"',\n",
       "                             'width=\"100%\"',\n",
       "                             'height=\"600\">',\n",
       "                             '</iframe>'].join(' '));\n",
       "            that.$graph.appendTo(that.$el);\n",
       "\n",
       "            that.$loading = $('<div id=\"'+loadingId+'\">Initializing...</div>')\n",
       "                            .appendTo(that.$el);\n",
       "\n",
       "            // for some reason the 'width' is being changed in IPython 3.0.0\n",
       "            // for the containing `div` element. There's a flicker here, but\n",
       "            // I was unable to fix it otherwise.\n",
       "            setTimeout(function ()  {\n",
       "                if (IPYTHON_VERSION === '3') {\n",
       "                    $('#' + graphId)[0].parentElement.style.width = '100%';\n",
       "                }\n",
       "            }, 500);\n",
       "\n",
       "            // initialize communication with the iframe\n",
       "            if(!('pingers' in window)){\n",
       "                window.pingers = {};\n",
       "            }\n",
       "\n",
       "            window.pingers[graphId] = setInterval(function() {\n",
       "                that.graphContentWindow = $('#'+graphId)[0].contentWindow;\n",
       "                that.graphContentWindow.postMessage({task: 'ping'}, plotlyDomain);\n",
       "            }, 200);\n",
       "\n",
       "            // Assign a message listener to the 'message' events\n",
       "            // from iframe's postMessage protocol.\n",
       "            // Filter the messages by iframe src so that the right message\n",
       "            // gets passed to the right widget\n",
       "            if(!('messageListeners' in window)){\n",
       "                 window.messageListeners = {};\n",
       "            }\n",
       "\n",
       "            window.messageListeners[graphId] = function(e) {\n",
       "                if(_graph_url.indexOf(e.origin)>-1) {\n",
       "                    var frame = document.getElementById(graphId);\n",
       "\n",
       "                    if(frame === null){\n",
       "                        // frame doesn't exist in the dom anymore, clean up it's old event listener\n",
       "                        window.removeEventListener('message', window.messageListeners[graphId]);\n",
       "                        clearInterval(window.pingers[graphId]);\n",
       "                    } else if(frame.contentWindow === e.source) {\n",
       "                        // TODO: Stop event propagation, so each frame doesn't listen and filter\n",
       "                        var frameContentWindow = $('#'+graphId)[0].contentWindow;\n",
       "                        var message = e.data;\n",
       "\n",
       "                        if('pong' in message && message.pong) {\n",
       "                            $('#loading-'+graphId).hide();\n",
       "                            clearInterval(window.pingers[graphId]);\n",
       "                            that.send({event: 'pong', graphId: graphId});\n",
       "                        } else if (message.type==='hover' ||\n",
       "                                   message.type==='zoom'  ||\n",
       "                                   message.type==='click' ||\n",
       "                                   message.type==='unhover') {\n",
       "\n",
       "                            // click and hover events contain all of the data in the traces,\n",
       "                            // which can be a very large object and may take a ton of time\n",
       "                            // to pass to the python backend. Strip out the data, and require\n",
       "                            // the user to call get_figure if they need trace information\n",
       "                            if(message.type !== 'zoom') {\n",
       "                                for(var i in message.points) {\n",
       "                                    delete message.points[i].data;\n",
       "                                    delete message.points[i].fullData;\n",
       "                                }\n",
       "                            }\n",
       "                            that.send({event: message.type, message: message, graphId: graphId});\n",
       "                        } else if (message.task === 'getAttributes') {\n",
       "                            that.send({event: 'getAttributes', response: message.response});\n",
       "                        }\n",
       "                    }\n",
       "                }\n",
       "            };\n",
       "\n",
       "            window.removeEventListener('message', window.messageListeners[graphId]);\n",
       "            window.addEventListener('message', window.messageListeners[graphId]);\n",
       "\n",
       "        },\n",
       "\n",
       "        update: function() {\n",
       "            // Listen for messages from the graph widget in python\n",
       "            var jmessage = this.model.get('_message');\n",
       "            var message = JSON.parse(jmessage);\n",
       "\n",
       "            // check for duplicate messages\n",
       "            if(!('messageIds' in window)){\n",
       "                window.messageIds = {};\n",
       "            }\n",
       "\n",
       "            if(!(message.uid in window.messageIds)){\n",
       "                // message hasn't been received yet, do stuff\n",
       "                window.messageIds[message.uid] = true;\n",
       "\n",
       "                if (message.fadeTo) {\n",
       "                    this.fadeTo(message);\n",
       "                } else {\n",
       "                    var plot = $('#' + message.graphId)[0].contentWindow;\n",
       "                    plot.postMessage(message, window.plotlyDomains[message.graphId]);\n",
       "                }\n",
       "            }\n",
       "\n",
       "            return GraphView.__super__.update.apply(this);\n",
       "        },\n",
       "\n",
       "        /**\n",
       "         * Wrapper for jquery's `fadeTo` function.\n",
       "         *\n",
       "         * @param message Contains the id we need to find the element.\n",
       "         */\n",
       "        fadeTo: function (message) {\n",
       "            var plot = $('#' + message.graphId);\n",
       "            plot.fadeTo(message.duration, message.opacity);\n",
       "        }\n",
       "    });\n",
       "\n",
       "    // Register the GraphView with the widget manager.\n",
       "    manager.WidgetManager.register_widget_view('GraphView', GraphView);\n",
       "\n",
       "});\n",
       "\n",
       "//@ sourceURL=graphWidget.js\n"
      ],
      "text/plain": [
       "<IPython.core.display.Javascript object>"
      ]
     },
     "metadata": {},
     "output_type": "display_data"
    }
   ],
   "source": [
    "import os\n",
    "from mu2e import mu2e_ext_path\n",
    "from mu2e.dataframeprod import DataFrameMaker\n",
    "from mu2e.mu2eplots import mu2e_plot, mu2e_plot3d\n",
    "%matplotlib inline\n",
    "plt.rcParams['figure.figsize'] = (12,8)"
   ]
  },
  {
   "cell_type": "code",
   "execution_count": null,
   "metadata": {
    "collapsed": true
   },
   "outputs": [],
   "source": [
    "df_pure_cyl = DataFrameMaker(mu2e_ext_path+'datafiles/FieldMapsPure/DS8_Bz_xzplane',use_pickle = True).data_frame\n",
    "df_pure_hel = DataFrameMaker(mu2e_ext_path+'datafiles/FieldMapsPure/DS8_HeliCalcfields',use_pickle = True).data_frame"
   ]
  },
  {
   "cell_type": "code",
   "execution_count": null,
   "metadata": {
    "collapsed": false
   },
   "outputs": [],
   "source": [
    "df = DataFrameMaker(mu2e_ext_path+'datafiles/Mau10/Standard_Maps/Mu2e_DSMap',use_pickle = True).data_frame"
   ]
  },
  {
   "cell_type": "code",
   "execution_count": null,
   "metadata": {
    "collapsed": false
   },
   "outputs": [],
   "source": [
    "df_ga04 = DataFrameMaker(mu2e_ext_path+'datafiles/FieldMapsGA04/Mu2e_DS_GA04',use_pickle = True).data_frame"
   ]
  },
  {
   "cell_type": "code",
   "execution_count": 3,
   "metadata": {
    "collapsed": false
   },
   "outputs": [],
   "source": [
    "df_ga05 = DataFrameMaker(mu2e_ext_path+'datafiles/FieldMapsGA05/DSMap',use_pickle = True).data_frame"
   ]
  },
  {
   "cell_type": "code",
   "execution_count": null,
   "metadata": {
    "collapsed": false
   },
   "outputs": [],
   "source": [
    "ax = mu2e_plot(df, 'Z', 'Bz', 'X==600 and Y==0 and 11000<Z<14000',\n",
    "                    info='Mau10', mode='mpl')"
   ]
  },
  {
   "cell_type": "code",
   "execution_count": null,
   "metadata": {
    "collapsed": false,
    "scrolled": true
   },
   "outputs": [],
   "source": [
    "ax.lines[0].get_xydata()"
   ]
  },
  {
   "cell_type": "code",
   "execution_count": null,
   "metadata": {
    "collapsed": false,
    "scrolled": true
   },
   "outputs": [],
   "source": [
    "df.query('X==600 and Y==0 and 11000<Z<14000')[['Z','Bz']].values"
   ]
  },
  {
   "cell_type": "code",
   "execution_count": null,
   "metadata": {
    "collapsed": false
   },
   "outputs": [],
   "source": [
    "ax = mu2e_plot(df_ga04, 'Z', 'Bz', 'X==600 and Y==0 and 11000<Z<14000', info='GA04', mode='mpl')\n",
    "mu2e_plot(df_ga05, 'Z', 'Bz', 'X==600 and Y==0 and 11000<Z<14000', info='GA05', mode='mpl',ax=ax)"
   ]
  },
  {
   "cell_type": "code",
   "execution_count": null,
   "metadata": {
    "collapsed": false
   },
   "outputs": [],
   "source": [
    "ax = mu2e_plot(df_ga04, 'Z', 'Bz', 'X==1050 and Y==0 and 11000<Z<14000', info='GA04', mode='mpl')\n",
    "mu2e_plot(df_ga05, 'Z', 'Bz', 'X==1050 and Y==0 and 11000<Z<14000', info='GA05', mode='mpl',ax=ax)"
   ]
  },
  {
   "cell_type": "code",
   "execution_count": null,
   "metadata": {
    "collapsed": false
   },
   "outputs": [],
   "source": [
    "save_dir = os.path.abspath(os.path.dirname(mu2e.__file__))+'/../source/_plotly'"
   ]
  },
  {
   "cell_type": "code",
   "execution_count": null,
   "metadata": {
    "collapsed": false
   },
   "outputs": [],
   "source": [
    "pi/2"
   ]
  },
  {
   "cell_type": "markdown",
   "metadata": {
    "collapsed": false
   },
   "source": [
    "mu2e_plot3d(df_ga04, 'X', 'Z', 'Bz', '950<=X<=1060 and Phi==0 and 13000<Z<14000',\n",
    "            info='GA04', df_fit=False, mode='plotly_nb', ptype='3d')"
   ]
  },
  {
   "cell_type": "code",
   "execution_count": null,
   "metadata": {
    "collapsed": false
   },
   "outputs": [],
   "source": [
    "disp = 1180\n",
    "phi_disp = -0.3687\n",
    "df_ga05.eval('Xp = X+1075')\n",
    "df_ga05.eval('Yp = Y-440')\n",
    "df_ga05.eval('Rp = sqrt(Xp**2+Yp**2)')\n",
    "df_ga05.eval('Phip = arctan2(Yp,Xp)')\n",
    "df_ga05.eval('Bphi_abs = abs(Bphi)')"
   ]
  },
  {
   "cell_type": "code",
   "execution_count": null,
   "metadata": {
    "collapsed": false
   },
   "outputs": [],
   "source": [
    "\n",
    "\n"
   ]
  },
  {
   "cell_type": "code",
   "execution_count": null,
   "metadata": {
    "collapsed": false
   },
   "outputs": [],
   "source": [
    "df_ga05.head()"
   ]
  },
  {
   "cell_type": "code",
   "execution_count": null,
   "metadata": {
    "collapsed": false
   },
   "outputs": [],
   "source": [
    "mu2e_plot3d(df_ga05, 'Xp', 'Yp', 'Bphi_abs', 'Z==12221 and Rp<=100',\n",
    "            info = 'GA05', df_fit=False, mode='plotly_nb', ptype='3d')"
   ]
  },
  {
   "cell_type": "code",
   "execution_count": null,
   "metadata": {
    "collapsed": false
   },
   "outputs": [],
   "source": [
    "mu2e_plot3d(df_ga05, 'X', 'Y', 'Bphi', 'Z==9421',\n",
    "            info = 'GA05', df_fit=False, mode='plotly_nb', ptype='3d')"
   ]
  },
  {
   "cell_type": "code",
   "execution_count": null,
   "metadata": {
    "collapsed": false
   },
   "outputs": [],
   "source": [
    "mu2e_plot3d(df, 'X', 'Y', 'Bphi', 'R<1000 and Z==11421',\n",
    "            info = 'Mau10', df_fit=False, mode='plotly_nb', ptype='3d')"
   ]
  },
  {
   "cell_type": "code",
   "execution_count": null,
   "metadata": {
    "collapsed": false,
    "scrolled": false
   },
   "outputs": [],
   "source": [
    "mu2e_plot3d(df_ga05, 'X', 'Z', 'Bphi', 'Y==0 and 8300<Z<13000 and -800<X<800',\n",
    "            info = 'GA05', df_fit=False, mode='plotly_nb', ptype='3d')"
   ]
  },
  {
   "cell_type": "code",
   "execution_count": null,
   "metadata": {
    "collapsed": false
   },
   "outputs": [],
   "source": [
    "mu2e_plot3d(df_ga05, 'R', 'Z', 'Bphi', 'R<800 and 8300<Z<13000 and Phi=={}'.format(np.pi/2),\n",
    "            info = 'GA05', df_fit=False, mode='plotly_nb', ptype='3d')"
   ]
  },
  {
   "cell_type": "code",
   "execution_count": null,
   "metadata": {
    "collapsed": false
   },
   "outputs": [],
   "source": [
    "mu2e_plot3d(df_pure_cyl, 'X', 'Z', 'Bz', 'Y==0',\n",
    "            info = 'Pure_Cyl', df_fit=False, mode='plotly_nb', ptype='3d')"
   ]
  },
  {
   "cell_type": "code",
   "execution_count": null,
   "metadata": {
    "collapsed": false
   },
   "outputs": [],
   "source": [
    "mu2e_plot3d(df_pure_hel, 'X', 'Z', 'Bz', 'Y==0',\n",
    "            info = 'Pure_Hel', df_fit=False, mode='plotly_nb', ptype='3d')"
   ]
  },
  {
   "cell_type": "code",
   "execution_count": null,
   "metadata": {
    "collapsed": false
   },
   "outputs": [],
   "source": [
    "mu2e_plot3d(df_pure_cyl, 'X', 'Z', 'Bx', 'Y==0',\n",
    "            info = 'Pure_Cyl', df_fit=False, mode='plotly_nb', ptype='3d')"
   ]
  },
  {
   "cell_type": "code",
   "execution_count": null,
   "metadata": {
    "collapsed": false,
    "scrolled": false
   },
   "outputs": [],
   "source": [
    "mu2e_plot3d(df_pure_hel, 'X', 'Z', 'Bx', 'Y==0',\n",
    "            info = 'Pure_Hel', df_fit=False, mode='plotly_nb', ptype='3d')"
   ]
  },
  {
   "cell_type": "code",
   "execution_count": null,
   "metadata": {
    "collapsed": true
   },
   "outputs": [],
   "source": [
    "mu2e_plot3d(df_pure_cyl, 'X', 'Z', 'Bz', 'Y==0',\n",
    "            info = 'Pure_Cyl', df_fit=False, mode='plotly_nb', ptype='3d')"
   ]
  },
  {
   "cell_type": "code",
   "execution_count": null,
   "metadata": {
    "collapsed": false
   },
   "outputs": [],
   "source": [
    "import mu2e\n",
    "import pandas as pd\n",
    "from mu2e.mu2eplots import mu2e_plot3d_ptrap\n",
    "import cPickle as pkl"
   ]
  },
  {
   "cell_type": "code",
   "execution_count": null,
   "metadata": {
    "collapsed": false
   },
   "outputs": [],
   "source": [
    "df_nttvd, df_ntpart = pkl.load(open(mu2e.mu2e_ext_path+'datafiles/G4ParticleSim/z13k_muons_GA05.p','rb'))\n",
    "_, df_xray = pkl.load(open(mu2e.mu2e_ext_path+'datafiles/G4ParticleSim/low_e_ele.p','rb'))\n",
    "df_ntpart.eval('xstop=xstop+3904')\n",
    "df_ntpart.eval('x=x+3904')\n",
    "\n",
    "df_xray.eval('xstop=xstop+3904')"
   ]
  },
  {
   "cell_type": "code",
   "execution_count": null,
   "metadata": {
    "collapsed": false,
    "scrolled": true
   },
   "outputs": [],
   "source": [
    "mu2e_plot3d_ptrap(df_ntpart.query('xstop<1000 and tstop>7000 and sqrt(xstop*xstop+ystop*ystop)<900 and pstop<70').ix[0:80000],'zstop','xstop','ystop',xray=df_xray)\n",
    "#mu2e_plot3d_ptrap(df_ntpart.ix[0:10000],'z','x','y',xray=df_xray)"
   ]
  },
  {
   "cell_type": "code",
   "execution_count": null,
   "metadata": {
    "collapsed": false
   },
   "outputs": [],
   "source": [
    "isinstance(df_xray, pd.DataFrame)"
   ]
  },
  {
   "cell_type": "code",
   "execution_count": null,
   "metadata": {
    "collapsed": false
   },
   "outputs": [],
   "source": [
    "df_xray.query('xstop<1000 and tstop>1000 and sqrt(xstop*xstop+ystop*ystop)<900')"
   ]
  },
  {
   "cell_type": "code",
   "execution_count": null,
   "metadata": {
    "collapsed": false,
    "scrolled": false
   },
   "outputs": [],
   "source": [
    "df_tmp = df_ntpart.query('xstop<1000 and tstop>7000 and sqrt(xstop*xstop+ystop*ystop)<900 and pstop>70')"
   ]
  },
  {
   "cell_type": "code",
   "execution_count": null,
   "metadata": {
    "collapsed": false
   },
   "outputs": [],
   "source": [
    "df_tmp.pzstop.hist()"
   ]
  },
  {
   "cell_type": "code",
   "execution_count": null,
   "metadata": {
    "collapsed": true
   },
   "outputs": [],
   "source": []
  },
  {
   "cell_type": "code",
   "execution_count": null,
   "metadata": {
    "collapsed": false
   },
   "outputs": [],
   "source": [
    "import plotly.plotly as py\n",
    "from plotly.graph_objs import *\n",
    "from plotly.widgets import GraphWidget\n",
    "from IPython.display import display, HTML, Image\n",
    "import numpy as np\n",
    "import math\n",
    "from IPython.html import widgets\n"
   ]
  },
  {
   "cell_type": "code",
   "execution_count": null,
   "metadata": {
    "collapsed": true
   },
   "outputs": [],
   "source": [
    "z = np.arange(1,20,0.1)\n",
    "x = np.cos(4*z)*( np.power(z+1,3) )\n",
    "y = np.sin(4*z)*( np.power(z+1,3) )"
   ]
  },
  {
   "cell_type": "code",
   "execution_count": null,
   "metadata": {
    "collapsed": false
   },
   "outputs": [],
   "source": [
    "class shifter:\n",
    "    def __init__(self):\n",
    "        self.x = np.cos(4*z)*( np.power(z+1,3) )\n",
    "        self.y = np.sin(4*z)*( np.power(z+1,3) )\n",
    "        \n",
    "    \n",
    "    def on_phase_change(self, name, old_value, new_value):\n",
    "        self.x = np.cos(4*z+new_value)*( np.power(z+1,3) )\n",
    "        self.y = np.sin(4*z+new_value)*( np.power(z+1,3) )\n",
    "        self.replot()\n",
    "        \n",
    "    def replot(self):\n",
    "        g.restyle({ 'x': [self.x], 'y': [self.y] })\n",
    "\n",
    "p_slider = widgets.FloatSlider(min=0,max=10,value=1,step=0.05)\n",
    "p_slider.description = 'Phase shift'\n",
    "p_slider.value = 1\n",
    "\n",
    "p_state = shifter()\n",
    "p_slider.on_trait_change(p_state.on_phase_change, 'value')"
   ]
  },
  {
   "cell_type": "code",
   "execution_count": null,
   "metadata": {
    "collapsed": true
   },
   "outputs": [],
   "source": [
    "g = GraphWidget()\n",
    "g.restyle( { 'x':[x],\n",
    "            'y':[y],\n",
    "            'z':[z], \n",
    "            'marker':{'size':np.power(z,1.2),'opacity':0.9,'color':'blue'},             \n",
    "            'type':'scatter3d' } )"
   ]
  },
  {
   "cell_type": "code",
   "execution_count": null,
   "metadata": {
    "collapsed": true
   },
   "outputs": [],
   "source": [
    "display(p_slider)\n",
    "display(g)"
   ]
  },
  {
   "cell_type": "code",
   "execution_count": 33,
   "metadata": {
    "collapsed": true
   },
   "outputs": [],
   "source": [
    "df = DataFrameMaker(mu2e_ext_path+'datafiles/Mau9/Mu2e_DSMap',use_pickle = True).data_frame\n",
    "df_min = DataFrameMaker(mu2e_ext_path+'datafiles/Mau9/MIN',use_pickle = True).data_frame\n",
    "df_min2 = DataFrameMaker(mu2e_ext_path+'datafiles/Mau9/MIN2',use_pickle = True).data_frame\n",
    "df_max = DataFrameMaker(mu2e_ext_path+'datafiles/Mau9/MAX',use_pickle = True).data_frame"
   ]
  },
  {
   "cell_type": "code",
   "execution_count": 34,
   "metadata": {
    "collapsed": true
   },
   "outputs": [],
   "source": [
    "q1 = '-800<=X<=800 and -800<=Y<=800 and 5500<Z<13000'"
   ]
  },
  {
   "cell_type": "code",
   "execution_count": 35,
   "metadata": {
    "collapsed": false
   },
   "outputs": [],
   "source": [
    "df = df.query(q1)[['X','Y','Z','Bz']]\n",
    "df_min = df_min.query(q1)[['X','Y','Z','Bz']]\n",
    "df_min2 = df_min2.query(q1)[['X','Y','Z','Bz']]\n",
    "df_max = df_max.query(q1)[['X','Y','Z','Bz']]"
   ]
  },
  {
   "cell_type": "code",
   "execution_count": 38,
   "metadata": {
    "collapsed": false
   },
   "outputs": [],
   "source": [
    "df_merge = df.merge(df_min, on = ['X','Y','Z'], suffixes=('', '_min1'))"
   ]
  },
  {
   "cell_type": "code",
   "execution_count": 39,
   "metadata": {
    "collapsed": false
   },
   "outputs": [],
   "source": [
    "df_merge = df_merge.merge(df_min2, on = ['X','Y','Z'], suffixes=('', '_min2'))"
   ]
  },
  {
   "cell_type": "code",
   "execution_count": 40,
   "metadata": {
    "collapsed": true
   },
   "outputs": [],
   "source": [
    "df_merge = df_merge.merge(df_max, on = ['X','Y','Z'], suffixes=('', '_max1'))"
   ]
  },
  {
   "cell_type": "code",
   "execution_count": 41,
   "metadata": {
    "collapsed": false
   },
   "outputs": [
    {
     "data": {
      "text/html": [
       "<div>\n",
       "<table border=\"1\" class=\"dataframe\">\n",
       "  <thead>\n",
       "    <tr style=\"text-align: right;\">\n",
       "      <th></th>\n",
       "      <th>X</th>\n",
       "      <th>Y</th>\n",
       "      <th>Z</th>\n",
       "      <th>Bz</th>\n",
       "      <th>Bz_min1</th>\n",
       "      <th>Bz_min2</th>\n",
       "      <th>Bz_max1</th>\n",
       "    </tr>\n",
       "  </thead>\n",
       "  <tbody>\n",
       "    <tr>\n",
       "      <th>0</th>\n",
       "      <td>-800.0</td>\n",
       "      <td>-800.0</td>\n",
       "      <td>5521.0</td>\n",
       "      <td>0.334027</td>\n",
       "      <td>0.326423</td>\n",
       "      <td>0.341831</td>\n",
       "      <td>0.335933</td>\n",
       "    </tr>\n",
       "    <tr>\n",
       "      <th>1</th>\n",
       "      <td>-800.0</td>\n",
       "      <td>-800.0</td>\n",
       "      <td>5546.0</td>\n",
       "      <td>0.379522</td>\n",
       "      <td>0.372268</td>\n",
       "      <td>0.384979</td>\n",
       "      <td>0.381219</td>\n",
       "    </tr>\n",
       "    <tr>\n",
       "      <th>2</th>\n",
       "      <td>-800.0</td>\n",
       "      <td>-800.0</td>\n",
       "      <td>5571.0</td>\n",
       "      <td>0.397307</td>\n",
       "      <td>0.390730</td>\n",
       "      <td>0.401050</td>\n",
       "      <td>0.397931</td>\n",
       "    </tr>\n",
       "    <tr>\n",
       "      <th>3</th>\n",
       "      <td>-800.0</td>\n",
       "      <td>-800.0</td>\n",
       "      <td>5596.0</td>\n",
       "      <td>0.393388</td>\n",
       "      <td>0.387306</td>\n",
       "      <td>0.395924</td>\n",
       "      <td>0.392507</td>\n",
       "    </tr>\n",
       "    <tr>\n",
       "      <th>4</th>\n",
       "      <td>-800.0</td>\n",
       "      <td>-800.0</td>\n",
       "      <td>5621.0</td>\n",
       "      <td>0.366958</td>\n",
       "      <td>0.360997</td>\n",
       "      <td>0.368719</td>\n",
       "      <td>0.364190</td>\n",
       "    </tr>\n",
       "  </tbody>\n",
       "</table>\n",
       "</div>"
      ],
      "text/plain": [
       "       X      Y       Z        Bz   Bz_min1   Bz_min2   Bz_max1\n",
       "0 -800.0 -800.0  5521.0  0.334027  0.326423  0.341831  0.335933\n",
       "1 -800.0 -800.0  5546.0  0.379522  0.372268  0.384979  0.381219\n",
       "2 -800.0 -800.0  5571.0  0.397307  0.390730  0.401050  0.397931\n",
       "3 -800.0 -800.0  5596.0  0.393388  0.387306  0.395924  0.392507\n",
       "4 -800.0 -800.0  5621.0  0.366958  0.360997  0.368719  0.364190"
      ]
     },
     "execution_count": 41,
     "metadata": {},
     "output_type": "execute_result"
    }
   ],
   "source": [
    "df_merge.head()"
   ]
  },
  {
   "cell_type": "code",
   "execution_count": 48,
   "metadata": {
    "collapsed": true
   },
   "outputs": [],
   "source": [
    "df_merge['diff_min1'] = (df_merge['Bz']-df_merge['Bz_min1'])"
   ]
  },
  {
   "cell_type": "code",
   "execution_count": 49,
   "metadata": {
    "collapsed": false
   },
   "outputs": [],
   "source": [
    "df_merge['diff_min2'] = (df_merge['Bz']-df_merge['Bz_min2'])"
   ]
  },
  {
   "cell_type": "code",
   "execution_count": 50,
   "metadata": {
    "collapsed": true
   },
   "outputs": [],
   "source": [
    "df_merge['diff_max1'] = (df_merge['Bz']-df_merge['Bz_max1'])"
   ]
  },
  {
   "cell_type": "code",
   "execution_count": 56,
   "metadata": {
    "collapsed": false
   },
   "outputs": [
    {
     "data": {
      "text/html": [
       "<div>\n",
       "<table border=\"1\" class=\"dataframe\">\n",
       "  <thead>\n",
       "    <tr style=\"text-align: right;\">\n",
       "      <th></th>\n",
       "      <th>X</th>\n",
       "      <th>Y</th>\n",
       "      <th>Z</th>\n",
       "      <th>Bz</th>\n",
       "      <th>Bz_min1</th>\n",
       "      <th>Bz_min2</th>\n",
       "      <th>Bz_max1</th>\n",
       "      <th>diff_min1</th>\n",
       "      <th>diff_min2</th>\n",
       "      <th>diff_max1</th>\n",
       "    </tr>\n",
       "  </thead>\n",
       "  <tbody>\n",
       "    <tr>\n",
       "      <th>count</th>\n",
       "      <td>1.267500e+06</td>\n",
       "      <td>1.267500e+06</td>\n",
       "      <td>1.267500e+06</td>\n",
       "      <td>1.267500e+06</td>\n",
       "      <td>1.267500e+06</td>\n",
       "      <td>1.267500e+06</td>\n",
       "      <td>1.267500e+06</td>\n",
       "      <td>1.267500e+06</td>\n",
       "      <td>1.267500e+06</td>\n",
       "      <td>1.267500e+06</td>\n",
       "    </tr>\n",
       "    <tr>\n",
       "      <th>mean</th>\n",
       "      <td>0.000000e+00</td>\n",
       "      <td>0.000000e+00</td>\n",
       "      <td>9.258500e+03</td>\n",
       "      <td>1.086060e+00</td>\n",
       "      <td>1.085907e+00</td>\n",
       "      <td>1.085958e+00</td>\n",
       "      <td>1.086095e+00</td>\n",
       "      <td>1.525590e-04</td>\n",
       "      <td>1.015208e-04</td>\n",
       "      <td>-3.557173e-05</td>\n",
       "    </tr>\n",
       "    <tr>\n",
       "      <th>std</th>\n",
       "      <td>4.690418e+02</td>\n",
       "      <td>4.690418e+02</td>\n",
       "      <td>2.165052e+03</td>\n",
       "      <td>2.009981e-01</td>\n",
       "      <td>2.010832e-01</td>\n",
       "      <td>2.009237e-01</td>\n",
       "      <td>2.006500e-01</td>\n",
       "      <td>6.274203e-03</td>\n",
       "      <td>7.399465e-03</td>\n",
       "      <td>8.966254e-03</td>\n",
       "    </tr>\n",
       "    <tr>\n",
       "      <th>min</th>\n",
       "      <td>-8.000000e+02</td>\n",
       "      <td>-8.000000e+02</td>\n",
       "      <td>5.521000e+03</td>\n",
       "      <td>-6.301737e-01</td>\n",
       "      <td>-6.291329e-01</td>\n",
       "      <td>-5.824071e-01</td>\n",
       "      <td>-5.811798e-01</td>\n",
       "      <td>-2.162517e-01</td>\n",
       "      <td>-1.738931e-01</td>\n",
       "      <td>-2.133210e-01</td>\n",
       "    </tr>\n",
       "    <tr>\n",
       "      <th>25%</th>\n",
       "      <td>-4.000000e+02</td>\n",
       "      <td>-4.000000e+02</td>\n",
       "      <td>7.389750e+03</td>\n",
       "      <td>1.001385e+00</td>\n",
       "      <td>1.000599e+00</td>\n",
       "      <td>1.001305e+00</td>\n",
       "      <td>1.001122e+00</td>\n",
       "      <td>-3.709076e-04</td>\n",
       "      <td>-4.020321e-04</td>\n",
       "      <td>-5.724831e-04</td>\n",
       "    </tr>\n",
       "    <tr>\n",
       "      <th>50%</th>\n",
       "      <td>0.000000e+00</td>\n",
       "      <td>0.000000e+00</td>\n",
       "      <td>9.258500e+03</td>\n",
       "      <td>1.018712e+00</td>\n",
       "      <td>1.019220e+00</td>\n",
       "      <td>1.018031e+00</td>\n",
       "      <td>1.019479e+00</td>\n",
       "      <td>6.506260e-05</td>\n",
       "      <td>1.494907e-04</td>\n",
       "      <td>-4.304265e-05</td>\n",
       "    </tr>\n",
       "    <tr>\n",
       "      <th>75%</th>\n",
       "      <td>4.000000e+02</td>\n",
       "      <td>4.000000e+02</td>\n",
       "      <td>1.112725e+04</td>\n",
       "      <td>1.141103e+00</td>\n",
       "      <td>1.141069e+00</td>\n",
       "      <td>1.141874e+00</td>\n",
       "      <td>1.140770e+00</td>\n",
       "      <td>5.185114e-04</td>\n",
       "      <td>6.056597e-04</td>\n",
       "      <td>5.254630e-04</td>\n",
       "    </tr>\n",
       "    <tr>\n",
       "      <th>max</th>\n",
       "      <td>8.000000e+02</td>\n",
       "      <td>8.000000e+02</td>\n",
       "      <td>1.299600e+04</td>\n",
       "      <td>2.018992e+00</td>\n",
       "      <td>2.019301e+00</td>\n",
       "      <td>2.016287e+00</td>\n",
       "      <td>2.012980e+00</td>\n",
       "      <td>2.149638e-01</td>\n",
       "      <td>1.786331e-01</td>\n",
       "      <td>2.133464e-01</td>\n",
       "    </tr>\n",
       "  </tbody>\n",
       "</table>\n",
       "</div>"
      ],
      "text/plain": [
       "                  X             Y             Z            Bz       Bz_min1  \\\n",
       "count  1.267500e+06  1.267500e+06  1.267500e+06  1.267500e+06  1.267500e+06   \n",
       "mean   0.000000e+00  0.000000e+00  9.258500e+03  1.086060e+00  1.085907e+00   \n",
       "std    4.690418e+02  4.690418e+02  2.165052e+03  2.009981e-01  2.010832e-01   \n",
       "min   -8.000000e+02 -8.000000e+02  5.521000e+03 -6.301737e-01 -6.291329e-01   \n",
       "25%   -4.000000e+02 -4.000000e+02  7.389750e+03  1.001385e+00  1.000599e+00   \n",
       "50%    0.000000e+00  0.000000e+00  9.258500e+03  1.018712e+00  1.019220e+00   \n",
       "75%    4.000000e+02  4.000000e+02  1.112725e+04  1.141103e+00  1.141069e+00   \n",
       "max    8.000000e+02  8.000000e+02  1.299600e+04  2.018992e+00  2.019301e+00   \n",
       "\n",
       "            Bz_min2       Bz_max1     diff_min1     diff_min2     diff_max1  \n",
       "count  1.267500e+06  1.267500e+06  1.267500e+06  1.267500e+06  1.267500e+06  \n",
       "mean   1.085958e+00  1.086095e+00  1.525590e-04  1.015208e-04 -3.557173e-05  \n",
       "std    2.009237e-01  2.006500e-01  6.274203e-03  7.399465e-03  8.966254e-03  \n",
       "min   -5.824071e-01 -5.811798e-01 -2.162517e-01 -1.738931e-01 -2.133210e-01  \n",
       "25%    1.001305e+00  1.001122e+00 -3.709076e-04 -4.020321e-04 -5.724831e-04  \n",
       "50%    1.018031e+00  1.019479e+00  6.506260e-05  1.494907e-04 -4.304265e-05  \n",
       "75%    1.141874e+00  1.140770e+00  5.185114e-04  6.056597e-04  5.254630e-04  \n",
       "max    2.016287e+00  2.012980e+00  2.149638e-01  1.786331e-01  2.133464e-01  "
      ]
     },
     "execution_count": 56,
     "metadata": {},
     "output_type": "execute_result"
    }
   ],
   "source": [
    "df_merge.describe()"
   ]
  },
  {
   "cell_type": "code",
   "execution_count": 34,
   "metadata": {
    "collapsed": false
   },
   "outputs": [
    {
     "data": {
      "text/plain": [
       "'2dvis_z_x_bz'"
      ]
     },
     "execution_count": 34,
     "metadata": {},
     "output_type": "execute_result"
    }
   ],
   "source": [
    "mu2e_plot3d(df_ga05, 'Z', 'X', 'Bz', 'Y==0 and 6000<Z<8000 and 550<=X<=650',\n",
    "            info = 'GA05', df_fit=False, mode='plotly_html', ptype='heat', save_dir='/Users/brianpollack/Documents/PersonalWebPage/mu2e_plots/OPA', save_name='2dvis_z_x_bz')"
   ]
  },
  {
   "cell_type": "code",
   "execution_count": null,
   "metadata": {
    "collapsed": true
   },
   "outputs": [],
   "source": []
  }
 ],
 "metadata": {
  "kernelspec": {
   "display_name": "Python 2",
   "language": "python",
   "name": "python2"
  },
  "language_info": {
   "codemirror_mode": {
    "name": "ipython",
    "version": 2
   },
   "file_extension": ".py",
   "mimetype": "text/x-python",
   "name": "python",
   "nbconvert_exporter": "python",
   "pygments_lexer": "ipython2",
   "version": "2.7.13"
  }
 },
 "nbformat": 4,
 "nbformat_minor": 0
}
