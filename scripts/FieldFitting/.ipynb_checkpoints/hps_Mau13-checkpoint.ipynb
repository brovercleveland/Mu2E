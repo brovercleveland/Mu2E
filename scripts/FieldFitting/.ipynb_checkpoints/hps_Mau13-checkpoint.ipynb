{
 "cells": [
  {
   "cell_type": "code",
   "execution_count": null,
   "metadata": {},
   "outputs": [],
   "source": [
    "import os\n",
    "from mu2e import mu2e_ext_path\n",
    "from mu2e.dataframeprod import DataFrameMaker\n",
    "from mu2e.mu2eplots import mu2e_plot, mu2e_plot3d\n",
    "import pandas as pd\n",
    "%matplotlib inline\n",
    "plt.rcParams['figure.figsize'] = (12,8)\n",
    "from skhep.visual import MplPlotter as splt\n",
    "from copy import deepcopy\n",
    "from lmfit import Model, Parameters, report_fit"
   ]
  },
  {
   "cell_type": "markdown",
   "metadata": {
    "collapsed": true
   },
   "source": [
    "# 8 Slice"
   ]
  },
  {
   "cell_type": "code",
   "execution_count": null,
   "metadata": {
    "scrolled": false
   },
   "outputs": [],
   "source": [
    "run hallprobesim.py"
   ]
  },
  {
   "cell_type": "code",
   "execution_count": null,
   "metadata": {},
   "outputs": [],
   "source": [
    "ff1 = deepcopy(ff)"
   ]
  },
  {
   "cell_type": "code",
   "execution_count": null,
   "metadata": {},
   "outputs": [],
   "source": [
    "labs=[i[2:] for i in ff1.params if ('A' in i and ff1.params[i].vary==True and i.split('_')[1] != '0')]\n",
    "\n",
    "As_1=[ff1.params[i].value for i in ff1.params if ('A' in i and ff1.params[i].vary==True and i.split('_')[1] != '0')]\n",
    "\n",
    "Bs_1=[ff1.params[i].value for i in ff1.params if ('B' in i and ff1.params[i].vary==True and i.split('_')[1] != '0')]"
   ]
  },
  {
   "cell_type": "code",
   "execution_count": null,
   "metadata": {},
   "outputs": [],
   "source": [
    "_ = plt.plot(range(len(As_1)),As_1, 'o-', label='As, phi=0')\n",
    "_ = plt.axhline(0,0, 1, linestyle='--', color='k')\n",
    "\n",
    "_ = plt.xticks(range(len(As_1)), labs, rotation='vertical')\n",
    "plt.yscale('symlog')\n",
    "plt.legend()\n",
    "plt.title('Free param values for A')"
   ]
  },
  {
   "cell_type": "code",
   "execution_count": null,
   "metadata": {},
   "outputs": [],
   "source": [
    "_ = plt.plot(range(len(Bs_1)),Bs_1, 'o-', label='Bs, phi=0')\n",
    "_ = plt.axhline(0,0, 1, linestyle='--', color='k')\n",
    "\n",
    "\n",
    "_ = plt.xticks(range(len(Bs_1)), labs, rotation='vertical')\n",
    "plt.yscale('symlog')\n",
    "plt.legend()\n",
    "plt.title('Free param values for B')"
   ]
  },
  {
   "cell_type": "code",
   "execution_count": null,
   "metadata": {},
   "outputs": [],
   "source": [
    "ns = ff1.params['ns'].value\n",
    "ks = ff1.params['ms'].value\n",
    "k,n = np.meshgrid(range(ks+1),range(ns+1))\n",
    "Ank = np.asarray([ff1.params[i] for i in ff1.params if 'A' in i]).reshape(ns,ks)\n",
    "Bnk = np.asarray([ff1.params[i] for i in ff1.params if 'B' in i]).reshape(ns,ks)\n",
    "AB_comb = Ank**2+Bnk**2"
   ]
  },
  {
   "cell_type": "code",
   "execution_count": null,
   "metadata": {},
   "outputs": [],
   "source": [
    "import matplotlib.colors as colors\n",
    "plt.pcolor(n,k, Ank,\n",
    "          norm=colors.SymLogNorm(linthresh=0.03, linscale=0.03, vmin=Ank.min(), vmax=Ank.max()))\n",
    "plt.colorbar()\n",
    "plt.title('Ank for 8 Slices')\n",
    "plt.xlabel('n')\n",
    "plt.ylabel('k')\n",
    "plt.figure()\n",
    "plt.pcolor(n,k, Bnk,\n",
    "          norm=colors.SymLogNorm(linthresh=0.03, linscale=0.03, vmin=Bnk.min(), vmax=Bnk.max()))\n",
    "plt.colorbar()\n",
    "plt.title('Bnk for 8 Slices')\n",
    "plt.xlabel('n')\n",
    "plt.ylabel('k')"
   ]
  },
  {
   "cell_type": "code",
   "execution_count": null,
   "metadata": {},
   "outputs": [],
   "source": [
    "import matplotlib.colors as colors\n",
    "plt.pcolor(n,k, abs(Ank),\n",
    "          norm=colors.SymLogNorm(linthresh=0.03, linscale=0.03, vmin=0, vmax=Ank.max()))\n",
    "plt.colorbar()\n",
    "plt.title('abs(Ank)')\n",
    "plt.xlabel('n')\n",
    "plt.ylabel('k')\n",
    "plt.figure()\n",
    "plt.pcolor(n,k, abs(Bnk),\n",
    "          norm=colors.SymLogNorm(linthresh=0.03, linscale=0.03, vmin=0, vmax=Bnk.max()))\n",
    "plt.colorbar()\n",
    "plt.title('abs(Bnk)')\n",
    "plt.xlabel('n')\n",
    "plt.ylabel('k')"
   ]
  },
  {
   "cell_type": "code",
   "execution_count": null,
   "metadata": {},
   "outputs": [],
   "source": [
    "import matplotlib.colors as colors\n",
    "plt.pcolor(n,k, AB_comb,\n",
    "          norm=colors.SymLogNorm(linthresh=0.03, linscale=0.03, vmin=AB_comb.min(), vmax=AB_comb.max()))\n",
    "plt.colorbar()\n",
    "plt.title('Ank^2+Bnk^2')\n",
    "plt.xlabel('n')\n",
    "plt.ylabel('k')\n",
    "ax = plt.gca()\n",
    "ax.text(0.1, 0.75, f'chi2={ff1.result.chisqr}',\n",
    "        horizontalalignment='left',\n",
    "        verticalalignment='top',\n",
    "        color='white',\n",
    "        fontsize=18,\n",
    "        transform=ax.transAxes)"
   ]
  },
  {
   "cell_type": "code",
   "execution_count": null,
   "metadata": {},
   "outputs": [],
   "source": [
    "ff1.result.chisqr"
   ]
  },
  {
   "cell_type": "code",
   "execution_count": null,
   "metadata": {
    "scrolled": false
   },
   "outputs": [],
   "source": [
    "run hallprobesim.py"
   ]
  },
  {
   "cell_type": "code",
   "execution_count": null,
   "metadata": {},
   "outputs": [],
   "source": [
    "df = ff.input_data"
   ]
  },
  {
   "cell_type": "code",
   "execution_count": null,
   "metadata": {},
   "outputs": [],
   "source": [
    "df.head()"
   ]
  },
  {
   "cell_type": "code",
   "execution_count": null,
   "metadata": {},
   "outputs": [],
   "source": [
    "ax = mu2e_plot(df, 'Z', 'Br', 'Y==0 and X==225 and 9000<Z<12500',\n",
    "            info = 'Mau13')\n",
    "mu2e_plot(df, 'Z', 'Br_fit', 'Y==0 and X==225 and 9000<Z<12500',\n",
    "            info = 'Mau13', ax=ax)\n",
    "plt.title('Z vs Br for Bottle Slice in Mau13 (Y=0, X=225)')\n",
    "plt.xlabel('Z (mm)')\n",
    "plt.ylabel('Br (T)')"
   ]
  },
  {
   "cell_type": "code",
   "execution_count": null,
   "metadata": {},
   "outputs": [],
   "source": [
    "ax = mu2e_plot(df, 'Z', 'Bphi', 'Y==0 and X==225 and 9000<Z<12500',\n",
    "            info = 'Mau13')\n",
    "mu2e_plot(df, 'Z', 'Bphi_fit', 'Y==0 and X==225 and 9000<Z<12500',\n",
    "            info = 'Mau13', ax=ax)\n",
    "plt.title('Z vs Bphi for Bottle Slice in Mau13 (Y=0, X=225)')\n",
    "plt.xlabel('Z (mm)')\n",
    "plt.ylabel('Bphi (T)')"
   ]
  },
  {
   "cell_type": "code",
   "execution_count": null,
   "metadata": {},
   "outputs": [],
   "source": [
    "df_mau13 = DataFrameMaker(mu2e_ext_path+'datafiles/Mau13/Mu2e_DSMap_V13',input_type = 'pkl').data_frame"
   ]
  },
  {
   "cell_type": "code",
   "execution_count": null,
   "metadata": {
    "scrolled": false
   },
   "outputs": [],
   "source": [
    "_ = mu2e_plot3d(df, 'Z', 'Y', 'Bphi', 'X==0 and 5000<Z<12000',\n",
    "            info = 'Mau13', mode='plotly_nb')\n",
    "\n"
   ]
  },
  {
   "cell_type": "code",
   "execution_count": null,
   "metadata": {},
   "outputs": [],
   "source": [
    "pi2 = np.pi/2\n",
    "_ = mu2e_plot3d(df_mau13, 'Z', 'R', 'Bphi', f'5000<Z<12000 and R<=800 and Phi=={pi2}',\n",
    "            info = 'Mau13', mode='plotly_nb')"
   ]
  },
  {
   "cell_type": "code",
   "execution_count": null,
   "metadata": {},
   "outputs": [],
   "source": []
  }
 ],
 "metadata": {
  "kernelspec": {
   "display_name": "Python 3",
   "language": "python",
   "name": "python3"
  },
  "language_info": {
   "codemirror_mode": {
    "name": "ipython",
    "version": 3
   },
   "file_extension": ".py",
   "mimetype": "text/x-python",
   "name": "python",
   "nbconvert_exporter": "python",
   "pygments_lexer": "ipython3",
   "version": "3.6.4"
  }
 },
 "nbformat": 4,
 "nbformat_minor": 2
}
