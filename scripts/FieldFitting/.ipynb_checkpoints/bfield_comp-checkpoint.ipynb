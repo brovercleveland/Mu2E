{
 "cells": [
  {
   "cell_type": "code",
   "execution_count": 51,
   "metadata": {},
   "outputs": [
    {
     "ename": "ModuleNotFoundError",
     "evalue": "No module named 'skhep'",
     "output_type": "error",
     "traceback": [
      "\u001b[0;31m---------------------------------------------------------------------------\u001b[0m",
      "\u001b[0;31mModuleNotFoundError\u001b[0m                       Traceback (most recent call last)",
      "\u001b[0;32m<ipython-input-51-45cd34c486ec>\u001b[0m in \u001b[0;36m<module>\u001b[0;34m()\u001b[0m\n\u001b[1;32m      6\u001b[0m \u001b[0mget_ipython\u001b[0m\u001b[0;34m(\u001b[0m\u001b[0;34m)\u001b[0m\u001b[0;34m.\u001b[0m\u001b[0mmagic\u001b[0m\u001b[0;34m(\u001b[0m\u001b[0;34m'matplotlib inline'\u001b[0m\u001b[0;34m)\u001b[0m\u001b[0;34m\u001b[0m\u001b[0m\n\u001b[1;32m      7\u001b[0m \u001b[0mplt\u001b[0m\u001b[0;34m.\u001b[0m\u001b[0mrcParams\u001b[0m\u001b[0;34m[\u001b[0m\u001b[0;34m'figure.figsize'\u001b[0m\u001b[0;34m]\u001b[0m \u001b[0;34m=\u001b[0m \u001b[0;34m(\u001b[0m\u001b[0;36m12\u001b[0m\u001b[0;34m,\u001b[0m\u001b[0;36m8\u001b[0m\u001b[0;34m)\u001b[0m\u001b[0;34m\u001b[0m\u001b[0m\n\u001b[0;32m----> 8\u001b[0;31m \u001b[0;32mfrom\u001b[0m \u001b[0mskhep\u001b[0m\u001b[0;34m.\u001b[0m\u001b[0mvisual\u001b[0m \u001b[0;32mimport\u001b[0m \u001b[0mhist\u001b[0m\u001b[0;34m\u001b[0m\u001b[0m\n\u001b[0m",
      "\u001b[0;31mModuleNotFoundError\u001b[0m: No module named 'skhep'"
     ]
    }
   ],
   "source": [
    "import os\n",
    "from mu2e import mu2e_ext_path\n",
    "from mu2e.dataframeprod import DataFrameMaker\n",
    "from mu2e.mu2eplots import mu2e_plot, mu2e_plot3d\n",
    "import pandas as pd\n",
    "%matplotlib inline\n",
    "plt.rcParams['figure.figsize'] = (12,8)\n",
    "from skhep.visual import hist"
   ]
  },
  {
   "cell_type": "code",
   "execution_count": 18,
   "metadata": {
    "collapsed": true
   },
   "outputs": [],
   "source": [
    "df_rand = DataFrameMaker(mu2e_ext_path+'datafiles/Mau10/Standard_Maps/Mu2e_DSMap_rand1mil_noOffset',use_pickle = True).data_frame"
   ]
  },
  {
   "cell_type": "code",
   "execution_count": 20,
   "metadata": {},
   "outputs": [
    {
     "data": {
      "text/html": [
       "<div>\n",
       "<style>\n",
       "    .dataframe thead tr:only-child th {\n",
       "        text-align: right;\n",
       "    }\n",
       "\n",
       "    .dataframe thead th {\n",
       "        text-align: left;\n",
       "    }\n",
       "\n",
       "    .dataframe tbody tr th {\n",
       "        vertical-align: top;\n",
       "    }\n",
       "</style>\n",
       "<table border=\"1\" class=\"dataframe\">\n",
       "  <thead>\n",
       "    <tr style=\"text-align: right;\">\n",
       "      <th></th>\n",
       "      <th>X</th>\n",
       "      <th>Y</th>\n",
       "      <th>Z</th>\n",
       "      <th>Bx</th>\n",
       "      <th>By</th>\n",
       "      <th>Bz</th>\n",
       "      <th>R</th>\n",
       "      <th>Phi</th>\n",
       "      <th>Bphi</th>\n",
       "      <th>Br</th>\n",
       "    </tr>\n",
       "  </thead>\n",
       "  <tbody>\n",
       "    <tr>\n",
       "      <th>count</th>\n",
       "      <td>715036.000000</td>\n",
       "      <td>715036.000000</td>\n",
       "      <td>715036.000000</td>\n",
       "      <td>715036.000000</td>\n",
       "      <td>715036.000000</td>\n",
       "      <td>715036.000000</td>\n",
       "      <td>715036.000000</td>\n",
       "      <td>715036.000000</td>\n",
       "      <td>715036.000000</td>\n",
       "      <td>715036.000000</td>\n",
       "    </tr>\n",
       "    <tr>\n",
       "      <th>mean</th>\n",
       "      <td>-3894.432879</td>\n",
       "      <td>-0.040065</td>\n",
       "      <td>8897.308873</td>\n",
       "      <td>-0.000323</td>\n",
       "      <td>-0.000025</td>\n",
       "      <td>1.196290</td>\n",
       "      <td>3920.410543</td>\n",
       "      <td>-0.002822</td>\n",
       "      <td>0.000019</td>\n",
       "      <td>0.003093</td>\n",
       "    </tr>\n",
       "    <tr>\n",
       "      <th>std</th>\n",
       "      <td>479.085926</td>\n",
       "      <td>448.320831</td>\n",
       "      <td>2830.081379</td>\n",
       "      <td>0.055379</td>\n",
       "      <td>0.052551</td>\n",
       "      <td>0.295674</td>\n",
       "      <td>476.972987</td>\n",
       "      <td>3.041965</td>\n",
       "      <td>0.053393</td>\n",
       "      <td>0.054481</td>\n",
       "    </tr>\n",
       "    <tr>\n",
       "      <th>min</th>\n",
       "      <td>-4695.998300</td>\n",
       "      <td>-799.998990</td>\n",
       "      <td>4000.003200</td>\n",
       "      <td>-0.615210</td>\n",
       "      <td>-0.615906</td>\n",
       "      <td>0.696640</td>\n",
       "      <td>3096.051829</td>\n",
       "      <td>-3.141591</td>\n",
       "      <td>-0.658423</td>\n",
       "      <td>-0.492906</td>\n",
       "    </tr>\n",
       "    <tr>\n",
       "      <th>25%</th>\n",
       "      <td>-4326.399525</td>\n",
       "      <td>-385.818365</td>\n",
       "      <td>6450.773975</td>\n",
       "      <td>-0.004609</td>\n",
       "      <td>-0.003831</td>\n",
       "      <td>1.004187</td>\n",
       "      <td>3493.563852</td>\n",
       "      <td>-3.042954</td>\n",
       "      <td>-0.003779</td>\n",
       "      <td>-0.002888</td>\n",
       "    </tr>\n",
       "    <tr>\n",
       "      <th>50%</th>\n",
       "      <td>-3893.202450</td>\n",
       "      <td>-0.685956</td>\n",
       "      <td>8895.204950</td>\n",
       "      <td>-0.000489</td>\n",
       "      <td>-0.000008</td>\n",
       "      <td>1.024874</td>\n",
       "      <td>3921.028225</td>\n",
       "      <td>-2.909429</td>\n",
       "      <td>0.000008</td>\n",
       "      <td>0.000801</td>\n",
       "    </tr>\n",
       "    <tr>\n",
       "      <th>75%</th>\n",
       "      <td>-3462.818825</td>\n",
       "      <td>386.079245</td>\n",
       "      <td>11350.421750</td>\n",
       "      <td>0.003589</td>\n",
       "      <td>0.003797</td>\n",
       "      <td>1.348759</td>\n",
       "      <td>4350.687633</td>\n",
       "      <td>3.042520</td>\n",
       "      <td>0.003818</td>\n",
       "      <td>0.005477</td>\n",
       "    </tr>\n",
       "    <tr>\n",
       "      <th>max</th>\n",
       "      <td>-3096.008400</td>\n",
       "      <td>799.994890</td>\n",
       "      <td>13799.998000</td>\n",
       "      <td>0.595678</td>\n",
       "      <td>0.580513</td>\n",
       "      <td>2.121987</td>\n",
       "      <td>4735.037607</td>\n",
       "      <td>3.141593</td>\n",
       "      <td>0.632503</td>\n",
       "      <td>0.670169</td>\n",
       "    </tr>\n",
       "  </tbody>\n",
       "</table>\n",
       "</div>"
      ],
      "text/plain": [
       "                   X              Y              Z             Bx  \\\n",
       "count  715036.000000  715036.000000  715036.000000  715036.000000   \n",
       "mean    -3894.432879      -0.040065    8897.308873      -0.000323   \n",
       "std       479.085926     448.320831    2830.081379       0.055379   \n",
       "min     -4695.998300    -799.998990    4000.003200      -0.615210   \n",
       "25%     -4326.399525    -385.818365    6450.773975      -0.004609   \n",
       "50%     -3893.202450      -0.685956    8895.204950      -0.000489   \n",
       "75%     -3462.818825     386.079245   11350.421750       0.003589   \n",
       "max     -3096.008400     799.994890   13799.998000       0.595678   \n",
       "\n",
       "                  By             Bz              R            Phi  \\\n",
       "count  715036.000000  715036.000000  715036.000000  715036.000000   \n",
       "mean       -0.000025       1.196290    3920.410543      -0.002822   \n",
       "std         0.052551       0.295674     476.972987       3.041965   \n",
       "min        -0.615906       0.696640    3096.051829      -3.141591   \n",
       "25%        -0.003831       1.004187    3493.563852      -3.042954   \n",
       "50%        -0.000008       1.024874    3921.028225      -2.909429   \n",
       "75%         0.003797       1.348759    4350.687633       3.042520   \n",
       "max         0.580513       2.121987    4735.037607       3.141593   \n",
       "\n",
       "                Bphi             Br  \n",
       "count  715036.000000  715036.000000  \n",
       "mean        0.000019       0.003093  \n",
       "std         0.053393       0.054481  \n",
       "min        -0.658423      -0.492906  \n",
       "25%        -0.003779      -0.002888  \n",
       "50%         0.000008       0.000801  \n",
       "75%         0.003818       0.005477  \n",
       "max         0.632503       0.670169  "
      ]
     },
     "execution_count": 20,
     "metadata": {},
     "output_type": "execute_result"
    }
   ],
   "source": [
    "df_rand.query('-800-3896<=X<=800-3896 and -800<=Y<=800').describe()"
   ]
  },
  {
   "cell_type": "code",
   "execution_count": 32,
   "metadata": {},
   "outputs": [],
   "source": [
    "df_rand_sample = df_rand.query('-800-3896<=X<=800-3896 and -800<=Y<=800').sample(10000, random_state=101).to_csv('bfield_rand_csv.txt', columns=['X','Y','Z'], index=False, header=False)"
   ]
  },
  {
   "cell_type": "code",
   "execution_count": 27,
   "metadata": {
    "collapsed": true
   },
   "outputs": [],
   "source": [
    "df_fit = pd.read_csv?"
   ]
  },
  {
   "cell_type": "code",
   "execution_count": null,
   "metadata": {
    "collapsed": true
   },
   "outputs": [],
   "source": [
    "df_fit = pd.read_csv"
   ]
  },
  {
   "cell_type": "code",
   "execution_count": 41,
   "metadata": {},
   "outputs": [],
   "source": [
    "df_fit = pd.read_csv('beamdump_Mau10_fit.txt', header=None, names=['X','Y','Z','Bx','By','Bz'], delim_whitespace=True)\n",
    "df_interp = pd.read_csv('beamdump_Mau10_interp.txt', header=None, names=['X','Y','Z','Bx','By','Bz'], delim_whitespace=True)\n",
    "df_rand_sample = df_rand.query('-800-3896<=X<=800-3896 and -800<=Y<=800').sample(10000, random_state=101).drop(['R','Phi','Br','Bphi'], axis=1).reset_index(drop=True)"
   ]
  },
  {
   "cell_type": "code",
   "execution_count": 43,
   "metadata": {},
   "outputs": [
    {
     "data": {
      "text/html": [
       "<div>\n",
       "<style>\n",
       "    .dataframe thead tr:only-child th {\n",
       "        text-align: right;\n",
       "    }\n",
       "\n",
       "    .dataframe thead th {\n",
       "        text-align: left;\n",
       "    }\n",
       "\n",
       "    .dataframe tbody tr th {\n",
       "        vertical-align: top;\n",
       "    }\n",
       "</style>\n",
       "<table border=\"1\" class=\"dataframe\">\n",
       "  <thead>\n",
       "    <tr style=\"text-align: right;\">\n",
       "      <th></th>\n",
       "      <th>X</th>\n",
       "      <th>Y</th>\n",
       "      <th>Z</th>\n",
       "      <th>Bx</th>\n",
       "      <th>By</th>\n",
       "      <th>Bz</th>\n",
       "    </tr>\n",
       "  </thead>\n",
       "  <tbody>\n",
       "    <tr>\n",
       "      <th>0</th>\n",
       "      <td>-3372.7548</td>\n",
       "      <td>-376.13969</td>\n",
       "      <td>6181.2546</td>\n",
       "      <td>0.068945</td>\n",
       "      <td>-0.049784</td>\n",
       "      <td>1.375157</td>\n",
       "    </tr>\n",
       "    <tr>\n",
       "      <th>1</th>\n",
       "      <td>-3192.1019</td>\n",
       "      <td>699.18820</td>\n",
       "      <td>13737.7670</td>\n",
       "      <td>0.431171</td>\n",
       "      <td>0.423677</td>\n",
       "      <td>1.401409</td>\n",
       "    </tr>\n",
       "    <tr>\n",
       "      <th>2</th>\n",
       "      <td>-4180.6337</td>\n",
       "      <td>-680.46718</td>\n",
       "      <td>11173.4630</td>\n",
       "      <td>-0.002320</td>\n",
       "      <td>-0.004735</td>\n",
       "      <td>1.004893</td>\n",
       "    </tr>\n",
       "    <tr>\n",
       "      <th>3</th>\n",
       "      <td>-3612.4090</td>\n",
       "      <td>-147.32691</td>\n",
       "      <td>5943.4104</td>\n",
       "      <td>0.037435</td>\n",
       "      <td>-0.019622</td>\n",
       "      <td>1.464480</td>\n",
       "    </tr>\n",
       "    <tr>\n",
       "      <th>4</th>\n",
       "      <td>-4054.4921</td>\n",
       "      <td>-585.89336</td>\n",
       "      <td>6366.4833</td>\n",
       "      <td>-0.015207</td>\n",
       "      <td>-0.054723</td>\n",
       "      <td>1.353358</td>\n",
       "    </tr>\n",
       "  </tbody>\n",
       "</table>\n",
       "</div>"
      ],
      "text/plain": [
       "           X          Y           Z        Bx        By        Bz\n",
       "0 -3372.7548 -376.13969   6181.2546  0.068945 -0.049784  1.375157\n",
       "1 -3192.1019  699.18820  13737.7670  0.431171  0.423677  1.401409\n",
       "2 -4180.6337 -680.46718  11173.4630 -0.002320 -0.004735  1.004893\n",
       "3 -3612.4090 -147.32691   5943.4104  0.037435 -0.019622  1.464480\n",
       "4 -4054.4921 -585.89336   6366.4833 -0.015207 -0.054723  1.353358"
      ]
     },
     "execution_count": 43,
     "metadata": {},
     "output_type": "execute_result"
    }
   ],
   "source": [
    "df_fit.head()"
   ]
  },
  {
   "cell_type": "code",
   "execution_count": 33,
   "metadata": {
    "collapsed": true
   },
   "outputs": [],
   "source": []
  },
  {
   "cell_type": "code",
   "execution_count": 46,
   "metadata": {},
   "outputs": [],
   "source": [
    "df_rand_sample['dBx_fit'] = df_rand_sample['Bx']/df_fit['Bx']\n",
    "df_rand_sample['dBy_fit'] = df_rand_sample['By']/df_fit['By']\n",
    "df_rand_sample['dBz_fit'] = df_rand_sample['Bz']/df_fit['Bz']\n",
    "\n",
    "df_rand_sample['dBx_intep'] = df_rand_sample['Bx']/df_interp['Bx']\n",
    "df_rand_sample['dBy_intep'] = df_rand_sample['By']/df_interp['By']\n",
    "df_rand_sample['dBz_intep'] = df_rand_sample['Bz']/df_interp['Bz']"
   ]
  },
  {
   "cell_type": "code",
   "execution_count": 48,
   "metadata": {},
   "outputs": [
    {
     "data": {
      "text/plain": [
       "[<matplotlib.lines.Line2D at 0x120513d30>]"
      ]
     },
     "execution_count": 48,
     "metadata": {},
     "output_type": "execute_result"
    },
    {
     "data": {
      "image/png": "[encoded data removed]",
      "text/plain": [
       "<matplotlib.figure.Figure at 0x114c19fd0>"
      ]
     },
     "metadata": {},
     "output_type": "display_data"
    }
   ],
   "source": [
    "plt.plot(range(10000), df_rand_sample['dBx_intep'], 'o')\n",
    "plt.plot(range(10000), df_rand_sample['dBx_fit'], '-o')"
   ]
  },
  {
   "cell_type": "code",
   "execution_count": null,
   "metadata": {
    "collapsed": true
   },
   "outputs": [],
   "source": []
  }
 ],
 "metadata": {
  "kernelspec": {
   "display_name": "Python 3",
   "language": "python",
   "name": "python3"
  },
  "language_info": {
   "codemirror_mode": {
    "name": "ipython",
    "version": 3
   },
   "file_extension": ".py",
   "mimetype": "text/x-python",
   "name": "python",
   "nbconvert_exporter": "python",
   "pygments_lexer": "ipython3",
   "version": "3.6.2"
  }
 },
 "nbformat": 4,
 "nbformat_minor": 2
}
