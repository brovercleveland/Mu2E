{
 "cells": [
  {
   "cell_type": "code",
   "execution_count": 10,
   "metadata": {},
   "outputs": [],
   "source": [
    "import os\n",
    "from mu2e import mu2e_ext_path\n",
    "from mu2e.dataframeprod import DataFrameMaker\n",
    "from mu2e.mu2eplots import mu2e_plot, mu2e_plot3d\n",
    "import pandas as pd\n",
    "%matplotlib inline\n",
    "plt.rcParams['figure.figsize'] = (12,8)\n",
    "from skhep.visual import MplPlotter as splt"
   ]
  },
  {
   "cell_type": "code",
   "execution_count": 4,
   "metadata": {
    "collapsed": true
   },
   "outputs": [],
   "source": [
    "df_rand = DataFrameMaker(mu2e_ext_path+'datafiles/Mau10/Standard_Maps/Mu2e_DSMap_rand1mil_noOffset',use_pickle = True).data_frame"
   ]
  },
  {
   "cell_type": "code",
   "execution_count": 20,
   "metadata": {},
   "outputs": [
    {
     "data": {
      "text/html": [
       "<div>\n",
       "<style>\n",
       "    .dataframe thead tr:only-child th {\n",
       "        text-align: right;\n",
       "    }\n",
       "\n",
       "    .dataframe thead th {\n",
       "        text-align: left;\n",
       "    }\n",
       "\n",
       "    .dataframe tbody tr th {\n",
       "        vertical-align: top;\n",
       "    }\n",
       "</style>\n",
       "<table border=\"1\" class=\"dataframe\">\n",
       "  <thead>\n",
       "    <tr style=\"text-align: right;\">\n",
       "      <th></th>\n",
       "      <th>X</th>\n",
       "      <th>Y</th>\n",
       "      <th>Z</th>\n",
       "      <th>Bx</th>\n",
       "      <th>By</th>\n",
       "      <th>Bz</th>\n",
       "      <th>R</th>\n",
       "      <th>Phi</th>\n",
       "      <th>Bphi</th>\n",
       "      <th>Br</th>\n",
       "    </tr>\n",
       "  </thead>\n",
       "  <tbody>\n",
       "    <tr>\n",
       "      <th>count</th>\n",
       "      <td>715036.000000</td>\n",
       "      <td>715036.000000</td>\n",
       "      <td>715036.000000</td>\n",
       "      <td>715036.000000</td>\n",
       "      <td>715036.000000</td>\n",
       "      <td>715036.000000</td>\n",
       "      <td>715036.000000</td>\n",
       "      <td>715036.000000</td>\n",
       "      <td>715036.000000</td>\n",
       "      <td>715036.000000</td>\n",
       "    </tr>\n",
       "    <tr>\n",
       "      <th>mean</th>\n",
       "      <td>-3894.432879</td>\n",
       "      <td>-0.040065</td>\n",
       "      <td>8897.308873</td>\n",
       "      <td>-0.000323</td>\n",
       "      <td>-0.000025</td>\n",
       "      <td>1.196290</td>\n",
       "      <td>3920.410543</td>\n",
       "      <td>-0.002822</td>\n",
       "      <td>0.000019</td>\n",
       "      <td>0.003093</td>\n",
       "    </tr>\n",
       "    <tr>\n",
       "      <th>std</th>\n",
       "      <td>479.085926</td>\n",
       "      <td>448.320831</td>\n",
       "      <td>2830.081379</td>\n",
       "      <td>0.055379</td>\n",
       "      <td>0.052551</td>\n",
       "      <td>0.295674</td>\n",
       "      <td>476.972987</td>\n",
       "      <td>3.041965</td>\n",
       "      <td>0.053393</td>\n",
       "      <td>0.054481</td>\n",
       "    </tr>\n",
       "    <tr>\n",
       "      <th>min</th>\n",
       "      <td>-4695.998300</td>\n",
       "      <td>-799.998990</td>\n",
       "      <td>4000.003200</td>\n",
       "      <td>-0.615210</td>\n",
       "      <td>-0.615906</td>\n",
       "      <td>0.696640</td>\n",
       "      <td>3096.051829</td>\n",
       "      <td>-3.141591</td>\n",
       "      <td>-0.658423</td>\n",
       "      <td>-0.492906</td>\n",
       "    </tr>\n",
       "    <tr>\n",
       "      <th>25%</th>\n",
       "      <td>-4326.399525</td>\n",
       "      <td>-385.818365</td>\n",
       "      <td>6450.773975</td>\n",
       "      <td>-0.004609</td>\n",
       "      <td>-0.003831</td>\n",
       "      <td>1.004187</td>\n",
       "      <td>3493.563852</td>\n",
       "      <td>-3.042954</td>\n",
       "      <td>-0.003779</td>\n",
       "      <td>-0.002888</td>\n",
       "    </tr>\n",
       "    <tr>\n",
       "      <th>50%</th>\n",
       "      <td>-3893.202450</td>\n",
       "      <td>-0.685956</td>\n",
       "      <td>8895.204950</td>\n",
       "      <td>-0.000489</td>\n",
       "      <td>-0.000008</td>\n",
       "      <td>1.024874</td>\n",
       "      <td>3921.028225</td>\n",
       "      <td>-2.909429</td>\n",
       "      <td>0.000008</td>\n",
       "      <td>0.000801</td>\n",
       "    </tr>\n",
       "    <tr>\n",
       "      <th>75%</th>\n",
       "      <td>-3462.818825</td>\n",
       "      <td>386.079245</td>\n",
       "      <td>11350.421750</td>\n",
       "      <td>0.003589</td>\n",
       "      <td>0.003797</td>\n",
       "      <td>1.348759</td>\n",
       "      <td>4350.687633</td>\n",
       "      <td>3.042520</td>\n",
       "      <td>0.003818</td>\n",
       "      <td>0.005477</td>\n",
       "    </tr>\n",
       "    <tr>\n",
       "      <th>max</th>\n",
       "      <td>-3096.008400</td>\n",
       "      <td>799.994890</td>\n",
       "      <td>13799.998000</td>\n",
       "      <td>0.595678</td>\n",
       "      <td>0.580513</td>\n",
       "      <td>2.121987</td>\n",
       "      <td>4735.037607</td>\n",
       "      <td>3.141593</td>\n",
       "      <td>0.632503</td>\n",
       "      <td>0.670169</td>\n",
       "    </tr>\n",
       "  </tbody>\n",
       "</table>\n",
       "</div>"
      ],
      "text/plain": [
       "                   X              Y              Z             Bx  \\\n",
       "count  715036.000000  715036.000000  715036.000000  715036.000000   \n",
       "mean    -3894.432879      -0.040065    8897.308873      -0.000323   \n",
       "std       479.085926     448.320831    2830.081379       0.055379   \n",
       "min     -4695.998300    -799.998990    4000.003200      -0.615210   \n",
       "25%     -4326.399525    -385.818365    6450.773975      -0.004609   \n",
       "50%     -3893.202450      -0.685956    8895.204950      -0.000489   \n",
       "75%     -3462.818825     386.079245   11350.421750       0.003589   \n",
       "max     -3096.008400     799.994890   13799.998000       0.595678   \n",
       "\n",
       "                  By             Bz              R            Phi  \\\n",
       "count  715036.000000  715036.000000  715036.000000  715036.000000   \n",
       "mean       -0.000025       1.196290    3920.410543      -0.002822   \n",
       "std         0.052551       0.295674     476.972987       3.041965   \n",
       "min        -0.615906       0.696640    3096.051829      -3.141591   \n",
       "25%        -0.003831       1.004187    3493.563852      -3.042954   \n",
       "50%        -0.000008       1.024874    3921.028225      -2.909429   \n",
       "75%         0.003797       1.348759    4350.687633       3.042520   \n",
       "max         0.580513       2.121987    4735.037607       3.141593   \n",
       "\n",
       "                Bphi             Br  \n",
       "count  715036.000000  715036.000000  \n",
       "mean        0.000019       0.003093  \n",
       "std         0.053393       0.054481  \n",
       "min        -0.658423      -0.492906  \n",
       "25%        -0.003779      -0.002888  \n",
       "50%         0.000008       0.000801  \n",
       "75%         0.003818       0.005477  \n",
       "max         0.632503       0.670169  "
      ]
     },
     "execution_count": 20,
     "metadata": {},
     "output_type": "execute_result"
    }
   ],
   "source": [
    "df_rand.query('-800-3896<=X<=800-3896 and -800<=Y<=800').describe()"
   ]
  },
  {
   "cell_type": "code",
   "execution_count": 32,
   "metadata": {
    "collapsed": true
   },
   "outputs": [],
   "source": [
    "df_rand_sample = df_rand.query('-800-3896<=X<=800-3896 and -800<=Y<=800').sample(10000, random_state=101).to_csv('bfield_rand_csv.txt', columns=['X','Y','Z'], index=False, header=False)"
   ]
  },
  {
   "cell_type": "code",
   "execution_count": 27,
   "metadata": {
    "collapsed": true
   },
   "outputs": [],
   "source": [
    "df_fit = pd.read_csv?"
   ]
  },
  {
   "cell_type": "code",
   "execution_count": null,
   "metadata": {
    "collapsed": true
   },
   "outputs": [],
   "source": [
    "df_fit = pd.read_csv"
   ]
  },
  {
   "cell_type": "code",
   "execution_count": 45,
   "metadata": {
    "collapsed": true
   },
   "outputs": [],
   "source": [
    "df_fit = pd.read_csv('beamdump_Mau10_fit.txt', header=None, names=['X','Y','Z','Bx','By','Bz'], delim_whitespace=True)\n",
    "df_interp = pd.read_csv('beamdump_Mau10_interp.txt', header=None, names=['X','Y','Z','Bx','By','Bz'], delim_whitespace=True)\n",
    "df_rand_sample = df_rand.query('-800-3896<=X<=800-3896 and -800<=Y<=800').sample(10000, random_state=101).drop(['R','Phi','Br','Bphi'], axis=1).reset_index(drop=True)"
   ]
  },
  {
   "cell_type": "code",
   "execution_count": 43,
   "metadata": {},
   "outputs": [
    {
     "data": {
      "text/html": [
       "<div>\n",
       "<style>\n",
       "    .dataframe thead tr:only-child th {\n",
       "        text-align: right;\n",
       "    }\n",
       "\n",
       "    .dataframe thead th {\n",
       "        text-align: left;\n",
       "    }\n",
       "\n",
       "    .dataframe tbody tr th {\n",
       "        vertical-align: top;\n",
       "    }\n",
       "</style>\n",
       "<table border=\"1\" class=\"dataframe\">\n",
       "  <thead>\n",
       "    <tr style=\"text-align: right;\">\n",
       "      <th></th>\n",
       "      <th>X</th>\n",
       "      <th>Y</th>\n",
       "      <th>Z</th>\n",
       "      <th>Bx</th>\n",
       "      <th>By</th>\n",
       "      <th>Bz</th>\n",
       "    </tr>\n",
       "  </thead>\n",
       "  <tbody>\n",
       "    <tr>\n",
       "      <th>0</th>\n",
       "      <td>-3372.7548</td>\n",
       "      <td>-376.13969</td>\n",
       "      <td>6181.2546</td>\n",
       "      <td>0.068945</td>\n",
       "      <td>-0.049784</td>\n",
       "      <td>1.375157</td>\n",
       "    </tr>\n",
       "    <tr>\n",
       "      <th>1</th>\n",
       "      <td>-3192.1019</td>\n",
       "      <td>699.18820</td>\n",
       "      <td>13737.7670</td>\n",
       "      <td>0.431171</td>\n",
       "      <td>0.423677</td>\n",
       "      <td>1.401409</td>\n",
       "    </tr>\n",
       "    <tr>\n",
       "      <th>2</th>\n",
       "      <td>-4180.6337</td>\n",
       "      <td>-680.46718</td>\n",
       "      <td>11173.4630</td>\n",
       "      <td>-0.002320</td>\n",
       "      <td>-0.004735</td>\n",
       "      <td>1.004893</td>\n",
       "    </tr>\n",
       "    <tr>\n",
       "      <th>3</th>\n",
       "      <td>-3612.4090</td>\n",
       "      <td>-147.32691</td>\n",
       "      <td>5943.4104</td>\n",
       "      <td>0.037435</td>\n",
       "      <td>-0.019622</td>\n",
       "      <td>1.464480</td>\n",
       "    </tr>\n",
       "    <tr>\n",
       "      <th>4</th>\n",
       "      <td>-4054.4921</td>\n",
       "      <td>-585.89336</td>\n",
       "      <td>6366.4833</td>\n",
       "      <td>-0.015207</td>\n",
       "      <td>-0.054723</td>\n",
       "      <td>1.353358</td>\n",
       "    </tr>\n",
       "  </tbody>\n",
       "</table>\n",
       "</div>"
      ],
      "text/plain": [
       "           X          Y           Z        Bx        By        Bz\n",
       "0 -3372.7548 -376.13969   6181.2546  0.068945 -0.049784  1.375157\n",
       "1 -3192.1019  699.18820  13737.7670  0.431171  0.423677  1.401409\n",
       "2 -4180.6337 -680.46718  11173.4630 -0.002320 -0.004735  1.004893\n",
       "3 -3612.4090 -147.32691   5943.4104  0.037435 -0.019622  1.464480\n",
       "4 -4054.4921 -585.89336   6366.4833 -0.015207 -0.054723  1.353358"
      ]
     },
     "execution_count": 43,
     "metadata": {},
     "output_type": "execute_result"
    }
   ],
   "source": [
    "df_fit.head()"
   ]
  },
  {
   "cell_type": "code",
   "execution_count": 33,
   "metadata": {
    "collapsed": true
   },
   "outputs": [],
   "source": []
  },
  {
   "cell_type": "code",
   "execution_count": 46,
   "metadata": {
    "collapsed": true
   },
   "outputs": [],
   "source": [
    "df_rand_sample['dBx_fit'] = (df_rand_sample['Bx']-df_fit['Bx'])*10000\n",
    "df_rand_sample['dBy_fit'] = (df_rand_sample['By']-df_fit['By'])*10000\n",
    "df_rand_sample['dBz_fit'] = (df_rand_sample['Bz']-df_fit['Bz'])*10000\n",
    "\n",
    "df_rand_sample['dBx_intep'] = (df_rand_sample['Bx']-df_interp['Bx'])*10000\n",
    "df_rand_sample['dBy_intep'] = (df_rand_sample['By']-df_interp['By'])*10000\n",
    "df_rand_sample['dBz_intep'] = (df_rand_sample['Bz']-df_interp['Bz'])*10000"
   ]
  },
  {
   "cell_type": "code",
   "execution_count": 47,
   "metadata": {},
   "outputs": [
    {
     "data": {
      "text/plain": [
       "(array([  1.00000000e+00,   1.00000000e+00,   0.00000000e+00,\n",
       "          0.00000000e+00,   0.00000000e+00,   0.00000000e+00,\n",
       "          2.00000000e+00,   0.00000000e+00,   0.00000000e+00,\n",
       "          1.00000000e+00,   0.00000000e+00,   0.00000000e+00,\n",
       "          2.00000000e+00,   3.00000000e+00,   0.00000000e+00,\n",
       "          4.00000000e+00,   3.00000000e+00,   6.00000000e+00,\n",
       "          0.00000000e+00,   6.00000000e+00,   7.00000000e+00,\n",
       "          6.00000000e+00,   3.20000000e+01,   8.03000000e+02,\n",
       "          6.68500000e+03,   5.80000000e+01,   2.10000000e+01,\n",
       "          1.00000000e+01,   8.00000000e+00,   5.00000000e+00,\n",
       "          4.00000000e+00,   4.00000000e+00,   3.00000000e+00,\n",
       "          1.00000000e+00,   1.00000000e+00,   0.00000000e+00,\n",
       "          0.00000000e+00,   0.00000000e+00,   0.00000000e+00,\n",
       "          1.00000000e+00,   1.00000000e+00,   0.00000000e+00,\n",
       "          2.00000000e+00,   0.00000000e+00,   0.00000000e+00,\n",
       "          0.00000000e+00,   0.00000000e+00,   1.00000000e+00,\n",
       "          1.00000000e+00,   1.00000000e+00]),\n",
       " array([-35.673187  , -34.19240176, -32.71161652, -31.23083128,\n",
       "        -29.75004604, -28.2692608 , -26.78847556, -25.30769032,\n",
       "        -23.82690508, -22.34611984, -20.8653346 , -19.38454936,\n",
       "        -17.90376412, -16.42297888, -14.94219364, -13.4614084 ,\n",
       "        -11.98062316, -10.49983792,  -9.01905268,  -7.53826744,\n",
       "         -6.0574822 ,  -4.57669696,  -3.09591172,  -1.61512648,\n",
       "         -0.13434124,   1.346444  ,   2.82722924,   4.30801448,\n",
       "          5.78879972,   7.26958496,   8.7503702 ,  10.23115544,\n",
       "         11.71194068,  13.19272592,  14.67351116,  16.1542964 ,\n",
       "         17.63508164,  19.11586688,  20.59665212,  22.07743736,\n",
       "         23.5582226 ,  25.03900784,  26.51979308,  28.00057832,\n",
       "         29.48136356,  30.9621488 ,  32.44293404,  33.92371928,\n",
       "         35.40450452,  36.88528976,  38.366075  ]),\n",
       " <a list of 1 Patch objects>)"
      ]
     },
     "execution_count": 47,
     "metadata": {},
     "output_type": "execute_result"
    },
    {
     "data": {
      "image/png": "[encoded data removed]",
      "text/plain": [
       "<matplotlib.figure.Figure at 0x113a9dc18>"
      ]
     },
     "metadata": {},
     "output_type": "display_data"
    }
   ],
   "source": [
    "splt.hist(df_rand_sample_cut['dBx_intep'], bins=50, label='interp', log=True)\n",
    "splt.hist(df_rand_sample_cut['dBx_fit'], bins=50, label='fit', log=True)"
   ]
  },
  {
   "cell_type": "code",
   "execution_count": 15,
   "metadata": {},
   "outputs": [
    {
     "data": {
      "text/plain": [
       "(array([  0.00000000e+00,   0.00000000e+00,   0.00000000e+00,\n",
       "          0.00000000e+00,   0.00000000e+00,   0.00000000e+00,\n",
       "          0.00000000e+00,   0.00000000e+00,   0.00000000e+00,\n",
       "          0.00000000e+00,   0.00000000e+00,   0.00000000e+00,\n",
       "          1.00000000e+00,   1.00000000e+00,   0.00000000e+00,\n",
       "          1.00000000e+00,   0.00000000e+00,   0.00000000e+00,\n",
       "          0.00000000e+00,   0.00000000e+00,   0.00000000e+00,\n",
       "          1.00000000e+00,   1.00000000e+00,   0.00000000e+00,\n",
       "          0.00000000e+00,   0.00000000e+00,   2.00000000e+00,\n",
       "          0.00000000e+00,   0.00000000e+00,   4.00000000e+00,\n",
       "          2.00000000e+00,   0.00000000e+00,   8.00000000e+00,\n",
       "          2.80000000e+01,   5.10200000e+03,   4.79500000e+03,\n",
       "          3.00000000e+01,   8.00000000e+00,   4.00000000e+00,\n",
       "          1.00000000e+00,   2.00000000e+00,   1.00000000e+00,\n",
       "          1.00000000e+00,   0.00000000e+00,   1.00000000e+00,\n",
       "          1.00000000e+00,   0.00000000e+00,   0.00000000e+00,\n",
       "          0.00000000e+00,   0.00000000e+00]),\n",
       " array([-2.5, -2.4, -2.3, -2.2, -2.1, -2. , -1.9, -1.8, -1.7, -1.6, -1.5,\n",
       "        -1.4, -1.3, -1.2, -1.1, -1. , -0.9, -0.8, -0.7, -0.6, -0.5, -0.4,\n",
       "        -0.3, -0.2, -0.1,  0. ,  0.1,  0.2,  0.3,  0.4,  0.5,  0.6,  0.7,\n",
       "         0.8,  0.9,  1. ,  1.1,  1.2,  1.3,  1.4,  1.5,  1.6,  1.7,  1.8,\n",
       "         1.9,  2. ,  2.1,  2.2,  2.3,  2.4,  2.5]),\n",
       " <a list of 1 Patch objects>)"
      ]
     },
     "execution_count": 15,
     "metadata": {},
     "output_type": "execute_result"
    },
    {
     "data": {
      "image/png": "[encoded data removed]",
      "text/plain": [
       "<matplotlib.figure.Figure at 0x11a4e8208>"
      ]
     },
     "metadata": {},
     "output_type": "display_data"
    }
   ],
   "source": [
    "splt.hist(df_rand_sample['dBy_intep'], bins=50, range=(-2.5, 2.5), label='interp', log=True)\n",
    "splt.hist(df_rand_sample['dBy_fit'], bins=50, range=(-2.5, 2.5), label='fit', log=True)"
   ]
  },
  {
   "cell_type": "code",
   "execution_count": 48,
   "metadata": {},
   "outputs": [
    {
     "data": {
      "text/plain": [
       "<matplotlib.legend.Legend at 0x113b7e4e0>"
      ]
     },
     "execution_count": 48,
     "metadata": {},
     "output_type": "execute_result"
    },
    {
     "data": {
      "image/png": "[encoded data removed]",
      "text/plain": [
       "<matplotlib.figure.Figure at 0x113b7ec50>"
      ]
     },
     "metadata": {},
     "output_type": "display_data"
    }
   ],
   "source": [
    "splt.hist(df_rand_sample_cut['dBz_intep'], bins=50, label='interp', log=True)\n",
    "splt.hist(df_rand_sample_cut['dBz_fit'], bins=50, label='fit', log=True)\n",
    "plt.legend()"
   ]
  },
  {
   "cell_type": "code",
   "execution_count": 42,
   "metadata": {},
   "outputs": [],
   "source": [
    "df_rand_sample_cut = df_rand_sample.query('-700-3896<=X<=700-3896 and -700<=Y<=700')"
   ]
  },
  {
   "cell_type": "code",
   "execution_count": 21,
   "metadata": {},
   "outputs": [
    {
     "data": {
      "text/html": [
       "<div>\n",
       "<style>\n",
       "    .dataframe thead tr:only-child th {\n",
       "        text-align: right;\n",
       "    }\n",
       "\n",
       "    .dataframe thead th {\n",
       "        text-align: left;\n",
       "    }\n",
       "\n",
       "    .dataframe tbody tr th {\n",
       "        vertical-align: top;\n",
       "    }\n",
       "</style>\n",
       "<table border=\"1\" class=\"dataframe\">\n",
       "  <thead>\n",
       "    <tr style=\"text-align: right;\">\n",
       "      <th></th>\n",
       "      <th>X</th>\n",
       "      <th>Y</th>\n",
       "      <th>Z</th>\n",
       "      <th>Bx</th>\n",
       "      <th>By</th>\n",
       "      <th>Bz</th>\n",
       "      <th>dBx_fit</th>\n",
       "      <th>dBy_fit</th>\n",
       "      <th>dBz_fit</th>\n",
       "      <th>dBx_intep</th>\n",
       "      <th>dBy_intep</th>\n",
       "      <th>dBz_intep</th>\n",
       "    </tr>\n",
       "  </thead>\n",
       "  <tbody>\n",
       "    <tr>\n",
       "      <th>5273</th>\n",
       "      <td>-4553.9375</td>\n",
       "      <td>750.89721</td>\n",
       "      <td>9784.1071</td>\n",
       "      <td>0.000422</td>\n",
       "      <td>-0.00106</td>\n",
       "      <td>1.010728</td>\n",
       "      <td>-8.794625</td>\n",
       "      <td>2.075356</td>\n",
       "      <td>1.000871</td>\n",
       "      <td>1.545801</td>\n",
       "      <td>1.206578</td>\n",
       "      <td>0.999852</td>\n",
       "    </tr>\n",
       "  </tbody>\n",
       "</table>\n",
       "</div>"
      ],
      "text/plain": [
       "              X          Y          Z        Bx       By        Bz   dBx_fit  \\\n",
       "5273 -4553.9375  750.89721  9784.1071  0.000422 -0.00106  1.010728 -8.794625   \n",
       "\n",
       "       dBy_fit   dBz_fit  dBx_intep  dBy_intep  dBz_intep  \n",
       "5273  2.075356  1.000871   1.545801   1.206578   0.999852  "
      ]
     },
     "execution_count": 21,
     "metadata": {},
     "output_type": "execute_result"
    }
   ],
   "source": [
    "df_rand_sample.query('dBx_fit<-8')"
   ]
  },
  {
   "cell_type": "code",
   "execution_count": 23,
   "metadata": {},
   "outputs": [
    {
     "data": {
      "text/plain": [
       "X    -4553.937500\n",
       "Y      750.897210\n",
       "Z     9784.107100\n",
       "Bx      -0.000048\n",
       "By      -0.000511\n",
       "Bz       1.009848\n",
       "Name: 5273, dtype: float64"
      ]
     },
     "execution_count": 23,
     "metadata": {},
     "output_type": "execute_result"
    }
   ],
   "source": [
    "df_fit.ix[5273]"
   ]
  },
  {
   "cell_type": "code",
   "execution_count": 44,
   "metadata": {},
   "outputs": [
    {
     "data": {
      "text/html": [
       "<div>\n",
       "<style>\n",
       "    .dataframe thead tr:only-child th {\n",
       "        text-align: right;\n",
       "    }\n",
       "\n",
       "    .dataframe thead th {\n",
       "        text-align: left;\n",
       "    }\n",
       "\n",
       "    .dataframe tbody tr th {\n",
       "        vertical-align: top;\n",
       "    }\n",
       "</style>\n",
       "<table border=\"1\" class=\"dataframe\">\n",
       "  <thead>\n",
       "    <tr style=\"text-align: right;\">\n",
       "      <th></th>\n",
       "      <th>X</th>\n",
       "      <th>Y</th>\n",
       "      <th>Z</th>\n",
       "      <th>Bx</th>\n",
       "      <th>By</th>\n",
       "      <th>Bz</th>\n",
       "      <th>dBx_fit</th>\n",
       "      <th>dBy_fit</th>\n",
       "      <th>dBz_fit</th>\n",
       "      <th>dBx_intep</th>\n",
       "      <th>dBy_intep</th>\n",
       "      <th>dBz_intep</th>\n",
       "    </tr>\n",
       "  </thead>\n",
       "  <tbody>\n",
       "    <tr>\n",
       "      <th>count</th>\n",
       "      <td>7684.000000</td>\n",
       "      <td>7684.000000</td>\n",
       "      <td>7684.000000</td>\n",
       "      <td>7684.000000</td>\n",
       "      <td>7684.000000</td>\n",
       "      <td>7684.000000</td>\n",
       "      <td>7684.000000</td>\n",
       "      <td>7684.000000</td>\n",
       "      <td>7684.000000</td>\n",
       "      <td>7684.000000</td>\n",
       "      <td>7684.000000</td>\n",
       "      <td>7684.000000</td>\n",
       "    </tr>\n",
       "    <tr>\n",
       "      <th>mean</th>\n",
       "      <td>-3893.752491</td>\n",
       "      <td>4.466427</td>\n",
       "      <td>8914.818820</td>\n",
       "      <td>-0.000667</td>\n",
       "      <td>0.000112</td>\n",
       "      <td>1.195110</td>\n",
       "      <td>0.016317</td>\n",
       "      <td>0.023596</td>\n",
       "      <td>-0.187353</td>\n",
       "      <td>0.011314</td>\n",
       "      <td>0.013506</td>\n",
       "      <td>-0.180351</td>\n",
       "    </tr>\n",
       "    <tr>\n",
       "      <th>std</th>\n",
       "      <td>422.234476</td>\n",
       "      <td>405.217849</td>\n",
       "      <td>2842.272115</td>\n",
       "      <td>0.042514</td>\n",
       "      <td>0.041083</td>\n",
       "      <td>0.292481</td>\n",
       "      <td>1.522178</td>\n",
       "      <td>1.500479</td>\n",
       "      <td>2.057037</td>\n",
       "      <td>0.538915</td>\n",
       "      <td>0.536206</td>\n",
       "      <td>0.821774</td>\n",
       "    </tr>\n",
       "    <tr>\n",
       "      <th>min</th>\n",
       "      <td>-4595.880000</td>\n",
       "      <td>-699.991380</td>\n",
       "      <td>4000.586800</td>\n",
       "      <td>-0.320445</td>\n",
       "      <td>-0.336305</td>\n",
       "      <td>0.776090</td>\n",
       "      <td>-35.673187</td>\n",
       "      <td>-34.578532</td>\n",
       "      <td>-80.864161</td>\n",
       "      <td>-5.872260</td>\n",
       "      <td>-9.913230</td>\n",
       "      <td>-21.707563</td>\n",
       "    </tr>\n",
       "    <tr>\n",
       "      <th>25%</th>\n",
       "      <td>-4271.409775</td>\n",
       "      <td>-344.995223</td>\n",
       "      <td>6417.173450</td>\n",
       "      <td>-0.004046</td>\n",
       "      <td>-0.003256</td>\n",
       "      <td>1.003754</td>\n",
       "      <td>-0.065528</td>\n",
       "      <td>-0.061136</td>\n",
       "      <td>-0.479730</td>\n",
       "      <td>-0.074994</td>\n",
       "      <td>-0.069544</td>\n",
       "      <td>-0.472866</td>\n",
       "    </tr>\n",
       "    <tr>\n",
       "      <th>50%</th>\n",
       "      <td>-3894.586600</td>\n",
       "      <td>1.133683</td>\n",
       "      <td>8955.254000</td>\n",
       "      <td>-0.000523</td>\n",
       "      <td>-0.000005</td>\n",
       "      <td>1.024499</td>\n",
       "      <td>0.001512</td>\n",
       "      <td>0.000584</td>\n",
       "      <td>-0.159067</td>\n",
       "      <td>0.000983</td>\n",
       "      <td>0.000886</td>\n",
       "      <td>-0.130871</td>\n",
       "    </tr>\n",
       "    <tr>\n",
       "      <th>75%</th>\n",
       "      <td>-3513.575225</td>\n",
       "      <td>362.676045</td>\n",
       "      <td>11372.991250</td>\n",
       "      <td>0.002896</td>\n",
       "      <td>0.003415</td>\n",
       "      <td>1.351808</td>\n",
       "      <td>0.067448</td>\n",
       "      <td>0.063654</td>\n",
       "      <td>0.132394</td>\n",
       "      <td>0.080077</td>\n",
       "      <td>0.076174</td>\n",
       "      <td>0.133831</td>\n",
       "    </tr>\n",
       "    <tr>\n",
       "      <th>max</th>\n",
       "      <td>-3196.066700</td>\n",
       "      <td>699.751020</td>\n",
       "      <td>13797.569000</td>\n",
       "      <td>0.311706</td>\n",
       "      <td>0.288844</td>\n",
       "      <td>2.098486</td>\n",
       "      <td>38.366075</td>\n",
       "      <td>38.126923</td>\n",
       "      <td>57.330254</td>\n",
       "      <td>24.495008</td>\n",
       "      <td>26.772135</td>\n",
       "      <td>10.770481</td>\n",
       "    </tr>\n",
       "  </tbody>\n",
       "</table>\n",
       "</div>"
      ],
      "text/plain": [
       "                 X            Y             Z           Bx           By  \\\n",
       "count  7684.000000  7684.000000   7684.000000  7684.000000  7684.000000   \n",
       "mean  -3893.752491     4.466427   8914.818820    -0.000667     0.000112   \n",
       "std     422.234476   405.217849   2842.272115     0.042514     0.041083   \n",
       "min   -4595.880000  -699.991380   4000.586800    -0.320445    -0.336305   \n",
       "25%   -4271.409775  -344.995223   6417.173450    -0.004046    -0.003256   \n",
       "50%   -3894.586600     1.133683   8955.254000    -0.000523    -0.000005   \n",
       "75%   -3513.575225   362.676045  11372.991250     0.002896     0.003415   \n",
       "max   -3196.066700   699.751020  13797.569000     0.311706     0.288844   \n",
       "\n",
       "                Bz      dBx_fit      dBy_fit      dBz_fit    dBx_intep  \\\n",
       "count  7684.000000  7684.000000  7684.000000  7684.000000  7684.000000   \n",
       "mean      1.195110     0.016317     0.023596    -0.187353     0.011314   \n",
       "std       0.292481     1.522178     1.500479     2.057037     0.538915   \n",
       "min       0.776090   -35.673187   -34.578532   -80.864161    -5.872260   \n",
       "25%       1.003754    -0.065528    -0.061136    -0.479730    -0.074994   \n",
       "50%       1.024499     0.001512     0.000584    -0.159067     0.000983   \n",
       "75%       1.351808     0.067448     0.063654     0.132394     0.080077   \n",
       "max       2.098486    38.366075    38.126923    57.330254    24.495008   \n",
       "\n",
       "         dBy_intep    dBz_intep  \n",
       "count  7684.000000  7684.000000  \n",
       "mean      0.013506    -0.180351  \n",
       "std       0.536206     0.821774  \n",
       "min      -9.913230   -21.707563  \n",
       "25%      -0.069544    -0.472866  \n",
       "50%       0.000886    -0.130871  \n",
       "75%       0.076174     0.133831  \n",
       "max      26.772135    10.770481  "
      ]
     },
     "execution_count": 44,
     "metadata": {},
     "output_type": "execute_result"
    }
   ],
   "source": [
    "df_rand_sample_cut.describe()"
   ]
  },
  {
   "cell_type": "code",
   "execution_count": null,
   "metadata": {
    "collapsed": true
   },
   "outputs": [],
   "source": []
  }
 ],
 "metadata": {
  "kernelspec": {
   "display_name": "Python 3",
   "language": "python",
   "name": "python3"
  },
  "language_info": {
   "codemirror_mode": {
    "name": "ipython",
    "version": 3
   },
   "file_extension": ".py",
   "mimetype": "text/x-python",
   "name": "python",
   "nbconvert_exporter": "python",
   "pygments_lexer": "ipython3",
   "version": "3.6.2"
  }
 },
 "nbformat": 4,
 "nbformat_minor": 2
}
