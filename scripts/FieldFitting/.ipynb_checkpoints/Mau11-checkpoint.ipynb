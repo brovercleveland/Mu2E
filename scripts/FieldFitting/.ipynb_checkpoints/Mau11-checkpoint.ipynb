{
 "cells": [
  {
   "cell_type": "code",
   "execution_count": null,
   "metadata": {},
   "outputs": [],
   "source": [
    "import os\n",
    "from mu2e import mu2e_ext_path\n",
    "from mu2e.dataframeprod import DataFrameMaker\n",
    "from mu2e.mu2eplots import mu2e_plot, mu2e_plot3d\n",
    "%matplotlib inline\n",
    "plt.rcParams['figure.figsize'] = (12,8)"
   ]
  },
  {
   "cell_type": "code",
   "execution_count": null,
   "metadata": {},
   "outputs": [],
   "source": [
    "df_ga05 = DataFrameMaker(mu2e_ext_path+'datafiles/FieldMapsGA05/DSMap',use_pickle = True).data_frame\n",
    "df_mau11 = DataFrameMaker(mu2e_ext_path+'datafiles/Mau11/Mu2e_DSMap_5096_v11',use_pickle = True).data_frame"
   ]
  },
  {
   "cell_type": "code",
   "execution_count": null,
   "metadata": {},
   "outputs": [],
   "source": [
    "mu2e_plot3d(df_mau11, 'Z', 'X', 'Bz', 'Y==0',\n",
    "            info = 'Mau11', df_fit=False, mode='plotly_nb', ptype='3d')"
   ]
  },
  {
   "cell_type": "code",
   "execution_count": null,
   "metadata": {},
   "outputs": [],
   "source": [
    "df_comp = df_ga05.drop(['R','Phi'], axis=1)"
   ]
  },
  {
   "cell_type": "code",
   "execution_count": null,
   "metadata": {},
   "outputs": [],
   "source": [
    "df_comp = df_comp.merge(df_mau11.drop(['R','Phi'],axis=1),on=['X','Y','Z'],suffixes=(('_ga05', '_mau11')))"
   ]
  },
  {
   "cell_type": "code",
   "execution_count": null,
   "metadata": {},
   "outputs": [],
   "source": [
    "df_comp['dBx'] = df_comp['Bx_ga05']-df_comp['Bx_mau11']\n",
    "df_comp['dBy'] = df_comp['By_ga05']-df_comp['By_mau11']\n",
    "df_comp['dBz'] = df_comp['Bz_ga05']-df_comp['Bz_mau11']\n",
    "df_comp['dBr'] = df_comp['Br_ga05']-df_comp['Br_mau11']\n",
    "df_comp['dBphi'] = df_comp['Bphi_ga05']-df_comp['Bphi_mau11']"
   ]
  },
  {
   "cell_type": "code",
   "execution_count": null,
   "metadata": {},
   "outputs": [],
   "source": [
    "mu2e_plot3d(df_comp, 'Z', 'X', 'dBphi', 'Y==500 and -1000<=X<=1000 and 5000<Z<12000',\n",
    "            info = 'GA05-Mau11', df_fit=False, mode='plotly_nb', ptype='3d')"
   ]
  },
  {
   "cell_type": "code",
   "execution_count": null,
   "metadata": {},
   "outputs": [],
   "source": [
    "mu2e_plot3d(df_comp, 'Z', 'X', 'dBz', 'Y==0 and -800<X<800 and 5000<Z<13000',\n",
    "            info = 'GA05-Mau11', df_fit=False, mode='plotly_nb', ptype='3d')"
   ]
  },
  {
   "cell_type": "code",
   "execution_count": null,
   "metadata": {},
   "outputs": [],
   "source": [
    "print ('GA05 for R<800, 5000<Z<12000')\n",
    "df_ga05.query('R<=800 and 5000<=Z<=12000')[['Bx','By','Bz','Br','Bphi']].describe()"
   ]
  },
  {
   "cell_type": "code",
   "execution_count": null,
   "metadata": {},
   "outputs": [],
   "source": [
    "df_mau11.query('R<=800 and 5000<=Z<=12000')[['Bx','By','Bz','Br','Bphi']].describe()"
   ]
  },
  {
   "cell_type": "code",
   "execution_count": null,
   "metadata": {},
   "outputs": [],
   "source": [
    "mu2e_plot3d(df_comp, 'Z', 'X', 'dBphi', 'Y==-1025 and 3000<Z<14500',\n",
    "            info = 'GA05-Mau11', df_fit=False, mode='plotly_nb', ptype='heat')"
   ]
  },
  {
   "cell_type": "code",
   "execution_count": null,
   "metadata": {},
   "outputs": [],
   "source": [
    "mu2e_plot3d(df_comp, 'Z', 'X', 'dBphi', 'Y==-800 and 5000<Z<12000',\n",
    "            info = 'GA05-Mau11', df_fit=False, mode='plotly_nb', ptype='heat')"
   ]
  },
  {
   "cell_type": "code",
   "execution_count": null,
   "metadata": {},
   "outputs": [],
   "source": [
    "mu2e_plot3d(df_mau11, 'X', 'Y', 'Bphi', 'Z==4071',\n",
    "            info = 'GA05-Mau11', df_fit=False, mode='plotly_nb', ptype='heat')"
   ]
  },
  {
   "cell_type": "code",
   "execution_count": null,
   "metadata": {},
   "outputs": [],
   "source": [
    "mu2e_plot3d(df_comp, 'Z', 'X', 'dBphi', 'Y==200 and 5000<Z<12000',\n",
    "            info = 'GA05-Mau11', df_fit=False, mode='plotly_nb', ptype='heat')"
   ]
  },
  {
   "cell_type": "code",
   "execution_count": null,
   "metadata": {},
   "outputs": [],
   "source": []
  }
 ],
 "metadata": {
  "kernelspec": {
   "display_name": "Python 3",
   "language": "python",
   "name": "python3"
  },
  "language_info": {
   "codemirror_mode": {
    "name": "ipython",
    "version": 3
   },
   "file_extension": ".py",
   "mimetype": "text/x-python",
   "name": "python",
   "nbconvert_exporter": "python",
   "pygments_lexer": "ipython3",
   "version": "3.6.4"
  }
 },
 "nbformat": 4,
 "nbformat_minor": 2
}
