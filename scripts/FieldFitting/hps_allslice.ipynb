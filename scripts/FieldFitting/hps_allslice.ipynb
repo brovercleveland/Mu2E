{
 "cells": [
  {
   "cell_type": "code",
   "execution_count": null,
   "metadata": {},
   "outputs": [],
   "source": [
    "import os\n",
    "from mu2e import mu2e_ext_path\n",
    "from mu2e.dataframeprod import DataFrameMaker\n",
    "from mu2e.mu2eplots import mu2e_plot, mu2e_plot3d\n",
    "import pandas as pd\n",
    "%matplotlib inline\n",
    "plt.rcParams['figure.figsize'] = (12,8)\n",
    "from skhep.visual import MplPlotter as splt\n",
    "from copy import deepcopy\n",
    "from lmfit import Model, Parameters, report_fit\n",
    "from tqdm import tnrange, tqdm_notebook"
   ]
  },
  {
   "cell_type": "markdown",
   "metadata": {
    "collapsed": true
   },
   "source": [
    "# 8 Slice"
   ]
  },
  {
   "cell_type": "code",
   "execution_count": null,
   "metadata": {},
   "outputs": [],
   "source": [
    "run hallprobesim.py"
   ]
  },
  {
   "cell_type": "code",
   "execution_count": null,
   "metadata": {},
   "outputs": [],
   "source": [
    "ff1 = deepcopy(ff)"
   ]
  },
  {
   "cell_type": "code",
   "execution_count": null,
   "metadata": {},
   "outputs": [],
   "source": [
    "df = ff1.input_data"
   ]
  },
  {
   "cell_type": "code",
   "execution_count": null,
   "metadata": {},
   "outputs": [],
   "source": [
    "mu2e_plot3d(df, 'X', 'Z', 'Bz', 'Y==0 and -800<X<800 and -3500<Z<3500',\n",
    "            title_simp = 'Pure Solenoid Bz', df_fit=True, mode='plotly_nb', ptype='3d', aspect='rect')"
   ]
  },
  {
   "cell_type": "code",
   "execution_count": null,
   "metadata": {},
   "outputs": [],
   "source": [
    "chisqr = []\n",
    "pbars = range(1000,40000,100)\n",
    "for i in tqdm_notebook(pbars):\n",
    "    cfg_params_Glass_DS_Hel_Test = cfg_params_Glass_DS_Hel_Test._replace(Reff=int(i))\n",
    "    hmd, ff = field_map_analysis('halltoy_Glass_Hel_Small', cfg_data_DS_Glass_Hel_3S,\n",
    "                                  cfg_geom_hel_glass_small, cfg_params_Glass_DS_Hel_Test,\n",
    "                                  cfg_pickle_Glass_Hel_Test, cfg_plot_none)\n",
    "    chisqr.append(ff.result.chisqr)"
   ]
  },
  {
   "cell_type": "code",
   "execution_count": null,
   "metadata": {},
   "outputs": [],
   "source": [
    "plt.plot(pbars[100:150], chisqr[100:150])\n",
    "plt.title('Pbar Scan')\n",
    "plt.xlabel('Pbar')\n",
    "plt.ylabel('Chi2')"
   ]
  },
  {
   "cell_type": "code",
   "execution_count": null,
   "metadata": {},
   "outputs": [],
   "source": [
    "chisqr_deep = []\n",
    "pbars_deep = range(13000,14000,10)\n",
    "for i in tqdm_notebook(pbars_deep):\n",
    "    cfg_params_Glass_DS_Hel_Test = cfg_params_Glass_DS_Hel_Test._replace(Reff=int(i))\n",
    "    hmd, ff = field_map_analysis('halltoy_Glass_Hel_Small', cfg_data_DS_Glass_Hel_3S,\n",
    "                                  cfg_geom_hel_glass_small, cfg_params_Glass_DS_Hel_Test,\n",
    "                                  cfg_pickle_Glass_Hel_Test, cfg_plot_none)\n",
    "    chisqr_deep.append(ff.result.chisqr)"
   ]
  },
  {
   "cell_type": "code",
   "execution_count": null,
   "metadata": {},
   "outputs": [],
   "source": [
    "plt.plot(pbars_deep, chisqr_deep)\n",
    "plt.title('Pbar Scan')\n",
    "plt.xlabel('Pbar')\n",
    "plt.ylabel('Chi2')"
   ]
  },
  {
   "cell_type": "code",
   "execution_count": null,
   "metadata": {},
   "outputs": [],
   "source": [
    "chisqr_deeper = []\n",
    "pbars_deeper = range(13300,13500,1)\n",
    "for i in tqdm_notebook(pbars_deeper):\n",
    "    cfg_params_Glass_DS_Hel_Test = cfg_params_Glass_DS_Hel_Test._replace(Reff=int(i))\n",
    "    hmd, ff = field_map_analysis('halltoy_Glass_Hel_Small', cfg_data_DS_Glass_Hel_3S,\n",
    "                                  cfg_geom_hel_glass_small, cfg_params_Glass_DS_Hel_Test,\n",
    "                                  cfg_pickle_Glass_Hel_Test, cfg_plot_none)\n",
    "    chisqr_deeper.append(ff.result.chisqr)"
   ]
  },
  {
   "cell_type": "code",
   "execution_count": null,
   "metadata": {},
   "outputs": [],
   "source": [
    "plt.plot(pbars_deeper, chisqr_deeper)\n",
    "plt.title('Pbar Scan')\n",
    "plt.xlabel('Pbar')\n",
    "plt.ylabel('Chi2')"
   ]
  },
  {
   "cell_type": "code",
   "execution_count": null,
   "metadata": {},
   "outputs": [],
   "source": [
    "labs_A=[i[2:] for i in ff1.params if ('A' in i and ff1.params[i].vary==True and i.split('_')[1] != '0')]\n",
    "labs_B=[i[2:] for i in ff1.params if ('B' in i and ff1.params[i].vary==True and i.split('_')[1] != '0')]\n",
    "\n",
    "As_1=[ff1.params[i].value for i in ff1.params if ('A' in i and ff1.params[i].vary==True and i.split('_')[1] != '0')]\n",
    "\n",
    "Bs_1=[ff1.params[i].value for i in ff1.params if ('B' in i and ff1.params[i].vary==True and i.split('_')[1] != '0')]"
   ]
  },
  {
   "cell_type": "code",
   "execution_count": null,
   "metadata": {},
   "outputs": [],
   "source": [
    "_ = plt.plot(range(len(As_1)),As_1, 'o-', label='As, Ideal Helix')\n",
    "_ = plt.axhline(0,0, 1, linestyle='--', color='k')\n",
    "\n",
    "_ = plt.xticks(range(len(As_1)), labs, rotation='vertical')\n",
    "plt.yscale('symlog')\n",
    "plt.legend()\n",
    "plt.title('Free param values for A')"
   ]
  },
  {
   "cell_type": "code",
   "execution_count": null,
   "metadata": {},
   "outputs": [],
   "source": [
    "_ = plt.plot(range(len(Bs_1)),Bs_1, 'o-', label='Bs, Ideal Helix')\n",
    "_ = plt.axhline(0,0, 1, linestyle='--', color='k')\n",
    "\n",
    "\n",
    "_ = plt.xticks(range(len(Bs_1)), labs_B, rotation='vertical')\n",
    "plt.yscale('symlog')\n",
    "plt.legend()\n",
    "plt.title('Free param values for B')"
   ]
  },
  {
   "cell_type": "code",
   "execution_count": null,
   "metadata": {},
   "outputs": [],
   "source": [
    "n,m = np.meshgrid(range(13),range(13))\n",
    "Anm = np.asarray([ff1.params[i] for i in ff1.params if 'A' in i]).reshape(12,12)\n",
    "Bnm = np.asarray([ff1.params[i] for i in ff1.params if 'B' in i]).reshape(12,12)\n",
    "AB_comb = Anm**2+Bnm**2"
   ]
  },
  {
   "cell_type": "code",
   "execution_count": null,
   "metadata": {},
   "outputs": [],
   "source": [
    "import matplotlib.colors as colors\n",
    "plt.pcolor(n,m, Anm,\n",
    "          norm=colors.SymLogNorm(linthresh=0.03, linscale=0.03, vmin=Anm.min(), vmax=Anm.max()))\n",
    "plt.colorbar()\n",
    "plt.title('Amn for Phi=0')\n",
    "plt.xlabel('m')\n",
    "plt.ylabel('n')\n",
    "plt.figure()\n",
    "plt.pcolor(n,m, Bnm,\n",
    "          norm=colors.SymLogNorm(linthresh=0.03, linscale=0.03, vmin=Bnm.min(), vmax=Bnm.max()))\n",
    "plt.colorbar()\n",
    "plt.title('Bmn for Phi=0')\n",
    "plt.xlabel('m')\n",
    "plt.ylabel('n')"
   ]
  },
  {
   "cell_type": "code",
   "execution_count": null,
   "metadata": {},
   "outputs": [],
   "source": [
    "import matplotlib.colors as colors\n",
    "plt.pcolor(n,m, abs(Anm),\n",
    "          norm=colors.SymLogNorm(linthresh=0.03, linscale=0.03, vmin=0, vmax=Anm.max()))\n",
    "plt.colorbar()\n",
    "plt.title('abs(Amn) for Phi=0')\n",
    "plt.xlabel('m')\n",
    "plt.ylabel('n')\n",
    "plt.figure()\n",
    "plt.pcolor(n,m, abs(Bnm),\n",
    "          norm=colors.SymLogNorm(linthresh=0.03, linscale=0.03, vmin=0, vmax=Bnm.max()))\n",
    "plt.colorbar()\n",
    "plt.title('abs(Bmn) for Phi=0')\n",
    "plt.xlabel('m')\n",
    "plt.ylabel('n')"
   ]
  },
  {
   "cell_type": "code",
   "execution_count": null,
   "metadata": {},
   "outputs": [],
   "source": [
    "import matplotlib.colors as colors\n",
    "plt.pcolor(n,m, AB_comb,\n",
    "          norm=colors.SymLogNorm(linthresh=0.03, linscale=0.03, vmin=AB_comb.min(), vmax=AB_comb.max()))\n",
    "plt.colorbar()\n",
    "plt.title('Anm^2+Bnm^2, Ideal Helix')\n",
    "plt.xlabel('m')\n",
    "plt.ylabel('n')\n",
    "ax = plt.gca()\n",
    "#ax.text(0.1, 0.75, f'chi2={ff1.result.chisqr}',\n",
    "#        horizontalalignment='left',\n",
    "#        verticalalignment='top',\n",
    "#        color='white',\n",
    "#        fontsize=18,\n",
    "#        transform=ax.transAxes)"
   ]
  },
  {
   "cell_type": "code",
   "execution_count": null,
   "metadata": {},
   "outputs": [],
   "source": [
    "ff1.result.redchi"
   ]
  },
  {
   "cell_type": "code",
   "execution_count": null,
   "metadata": {},
   "outputs": [],
   "source": []
  },
  {
   "cell_type": "code",
   "execution_count": null,
   "metadata": {},
   "outputs": [],
   "source": []
  }
 ],
 "metadata": {
  "kernelspec": {
   "display_name": "Python 3",
   "language": "python",
   "name": "python3"
  },
  "language_info": {
   "codemirror_mode": {
    "name": "ipython",
    "version": 3
   },
   "file_extension": ".py",
   "mimetype": "text/x-python",
   "name": "python",
   "nbconvert_exporter": "python",
   "pygments_lexer": "ipython3",
   "version": "3.6.5"
  }
 },
 "nbformat": 4,
 "nbformat_minor": 2
}
