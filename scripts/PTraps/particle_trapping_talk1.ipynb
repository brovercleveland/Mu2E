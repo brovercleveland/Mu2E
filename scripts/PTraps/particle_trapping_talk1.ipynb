{
 "cells": [
  {
   "cell_type": "code",
   "execution_count": null,
   "metadata": {},
   "outputs": [],
   "source": [
    "from mu2e import mu2e_ext_path\n",
    "import pandas as pd\n",
    "from mu2e.mu2eplots import mu2e_plot3d_ptrap\n",
    "from mu2e.mu2eplots import mu2e_plot3d_ptrap_anim\n",
    "import cPickle as pkl\n",
    "%matplotlib inline\n",
    "plt.rcParams['figure.figsize'] = (12,8)"
   ]
  },
  {
   "cell_type": "code",
   "execution_count": null,
   "metadata": {},
   "outputs": [],
   "source": [
    "store = pd.HDFStore(mu2e_ext_path+'datafiles/G4ParticleSim/z13k_100p_ft_muons_GA05.h5')\n",
    "df_nttvd = store.df_nttvd\n",
    "df_ntpart = store.df_ntpart\n",
    "store.close()\n",
    "store_xray = pd.HDFStore(mu2e_ext_path+'datafiles/G4ParticleSim/low_e_ele.h5')\n",
    "df_xray = store_xray.df_ntpart\n",
    "store_xray.close()\n"
   ]
  },
  {
   "cell_type": "code",
   "execution_count": null,
   "metadata": {},
   "outputs": [],
   "source": [
    "df_nttvd_oldest = df_nttvd[(df_nttvd.runevt.isin(df_nttvd[df_nttvd.sid==df_nttvd.query('pdg==13').sid.max()].runevt))&(df_nttvd.pdg==13.0)].reset_index().ix[0:30000]\n",
    "df_nttvd_normal = df_nttvd[(~df_nttvd.runevt.isin(df_nttvd_oldest.runevt))&(df_nttvd.z>5000)&(df_nttvd.pdg==13.0)].sort_values(['runevt','sid']).reset_index().ix[0:30000]"
   ]
  },
  {
   "cell_type": "code",
   "execution_count": null,
   "metadata": {},
   "outputs": [],
   "source": [
    "df_nttvd_normal.name='Normal Muons'\n",
    "df_nttvd_oldest.name='Long-lived Muons'\n"
   ]
  },
  {
   "cell_type": "code",
   "execution_count": null,
   "metadata": {},
   "outputs": [],
   "source": [
    "g, fig = mu2e_plot3d_ptrap_anim(df_nttvd_oldest,'z','x','y',df_xray,\n",
    "                                df_group2=df_nttvd_normal, color=True,title='Trapped Muons, p=100 MeV, GA05')"
   ]
  },
  {
   "cell_type": "code",
   "execution_count": null,
   "metadata": {},
   "outputs": [],
   "source": [
    "g.plot(fig)"
   ]
  },
  {
   "cell_type": "code",
   "execution_count": null,
   "metadata": {},
   "outputs": [],
   "source": [
    "mplt.mu2e_plot3d_ptrap_anim_2(df_nttvd_oldest,'z','x','y',df_xray)\n",
    "                                "
   ]
  },
  {
   "cell_type": "code",
   "execution_count": null,
   "metadata": {},
   "outputs": [],
   "source": []
  }
 ],
 "metadata": {
  "kernelspec": {
   "display_name": "Python 3",
   "language": "python",
   "name": "python3"
  },
  "language_info": {
   "codemirror_mode": {
    "name": "ipython",
    "version": 3
   },
   "file_extension": ".py",
   "mimetype": "text/x-python",
   "name": "python",
   "nbconvert_exporter": "python",
   "pygments_lexer": "ipython3",
   "version": "3.6.2"
  }
 },
 "nbformat": 4,
 "nbformat_minor": 1
}
