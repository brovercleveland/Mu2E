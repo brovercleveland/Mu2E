{
 "cells": [
  {
   "cell_type": "code",
   "execution_count": null,
   "metadata": {},
   "outputs": [],
   "source": [
    "from mu2e import mu2e_ext_path\n",
    "from mu2e.dataframeprod import g4root_to_df\n",
    "from root_pandas import read_root\n",
    "import pandas as pd\n",
    "from mu2e.mu2eplots import mu2e_plot3d_ptrap\n",
    "from mu2e.mu2eplots import mu2e_plot3d_ptrap_traj\n",
    "from mu2e.mu2eplots import mu2e_plot3d_ptrap_anim\n",
    "import mu2e.mu2eplots as mplt\n",
    "import six.moves.cPickle as pkl\n",
    "%matplotlib inline\n",
    "plt.rcParams['figure.figsize'] = (12,8)\n",
    "mu2e_data_path = '/Volumes/DataDump/Mu2E/'\n",
    "from skhep.visual import MplPlotter as splt\n",
    "from matplotlib.colors import LogNorm\n",
    "pd.set_option(\"display.max_columns\",50)\n",
    "from IPython.display import display, HTML"
   ]
  },
  {
   "cell_type": "code",
   "execution_count": null,
   "metadata": {},
   "outputs": [],
   "source": [
    "# Get pions, make a subset df of matching pions and muons\n",
    "\n",
    "#df_ntpart_s1, df_nttvd_s1, _ = g4root_to_df(mu2e_data_path+'pion-st-Mau13/run3_s1/nts.bpollack.pions_Mau13_stage1_vd.v656.combined',\n",
    "#df_ntpart_s1, df_nttvd_s1, _ = g4root_to_df(mu2e_data_path+'pion-st-Mau13/run4/nts.bpollack.pions_Mau13_stage1_vd.v656.000001_00000319',\n",
    "df_ntpart_s1, df_nttvd_s1, _ = g4root_to_df(mu2e_data_path+'pion-st-cd3-Mau13/run1/nts.bpollack.pions_Mau13_stage1_vd.v656.000001_00001145',\n",
    "do_basic_modifications=True, trees=['part', 'tvd'])\n",
    "df_ntpart_s1.set_index(['run', 'subrun', 'evt'], inplace=True)\n",
    "\n",
    "#df_ntpart_s2, df_nttvd_s2, _ = g4root_to_df(mu2e_data_path+'pion-st-Mau13-s2/run1/nts.bpollack.pions_Mau13_stage2_vd.v656.combined',\n",
    "df_ntpart_s2e1, df_nttvd_s2e1, _ = g4root_to_df(mu2e_data_path+'pion-st-cd3-Mau13-s2/8899236/nts.bpollack.pions_Mau13_stage2_vd.v656.8899236',\n",
    "do_basic_modifications=True, trees=['part', 'tvd'])\n",
    "df_ntpart_s2e2, df_nttvd_s2e2, _ = g4root_to_df(mu2e_data_path+'pion-st-cd3-Mau13-s2/8899160/nts.bpollack.pions_Mau13_stage2_vd.v656.8899160',\n",
    "do_basic_modifications=True, trees=['part', 'tvd'])\n",
    "df_ntpart_s2e1.set_index(['run', 'subrun', 'evt'], inplace=True)\n",
    "df_ntpart_s2e2.set_index(['run', 'subrun', 'evt'], inplace=True)"
   ]
  },
  {
   "cell_type": "code",
   "execution_count": null,
   "metadata": {},
   "outputs": [],
   "source": [
    "df_ntpart_s2e2.query('pdg==11').tstop.hist(log=True)\n",
    "plt.title('Electron Stop Times')\n",
    "plt.xlabel('ns')"
   ]
  },
  {
   "cell_type": "code",
   "execution_count": null,
   "metadata": {},
   "outputs": [],
   "source": [
    "common_index = df_ntpart_s2e1.index.intersection(df_ntpart_s2e2.index)"
   ]
  },
  {
   "cell_type": "code",
   "execution_count": null,
   "metadata": {},
   "outputs": [],
   "source": [
    "df_ntpart_s2e1.ix[common_index].sort_values('tstop')"
   ]
  },
  {
   "cell_type": "code",
   "execution_count": null,
   "metadata": {},
   "outputs": [],
   "source": [
    "store_xray = pd.HDFStore(mu2e_data_path+'G4ParticleSim/low_e_ele_0T_v580.h5')\n",
    "df_xray = store_xray.df_ntpart\n",
    "store_xray.close()"
   ]
  },
  {
   "cell_type": "code",
   "execution_count": null,
   "metadata": {},
   "outputs": [],
   "source": [
    "mu2e_plot3d_ptrap(df_ntpart,\n",
    "                  'zstop','xstop','ystop', x_range=[3700,17500], y_range = [-1000,1000], z_range=[-1000,1000], save_name=None,\n",
    "                   df_xray=df_xray, color='pstop', title='Muon position at event termination')"
   ]
  },
  {
   "cell_type": "code",
   "execution_count": null,
   "metadata": {},
   "outputs": [],
   "source": [
    "df_pi_single_s1 = df_nttvd_s1.query('subrun==1145 and evt==30467 and pdg<0').sort_values('time')\n",
    "df_pi_single_s1.name = 'Pion'\n",
    "df_mu_single_s2e1 = df_nttvd_s2e1.query('subrun==1145 and evt==30467 and pdg==13').sort_values('time')\n",
    "df_mu_single_s2e1.name = 'Muon1'\n",
    "df_e_single_s2e1 = df_nttvd_s2e1.query('subrun==1145 and evt==30467and pdg==11').sort_values('time')\n",
    "df_e_single_s2e1.name = 'Electron1'\n",
    "df_mu_single_s2e2 = df_nttvd_s2e2.query('subrun==1145 and evt==30467 and pdg==13').sort_values('time')\n",
    "df_mu_single_s2e2.name = 'Muon2'\n",
    "df_e_single_s2e2 = df_nttvd_s2e2.query('subrun==1145 and evt==30467 and pdg==11').sort_values('time')\n",
    "df_e_single_s2e2.name = 'Electron2'"
   ]
  },
  {
   "cell_type": "code",
   "execution_count": null,
   "metadata": {},
   "outputs": [],
   "source": [
    "df_e_single_s2e1"
   ]
  },
  {
   "cell_type": "code",
   "execution_count": null,
   "metadata": {},
   "outputs": [],
   "source": [
    "#mu2e_plot3d_ptrap_traj([df_pi_single_s1, df_mu_single_s2, df_e_single_s2],'z','x','y',df_xray=df_xray,\n",
    "#                        title='Bad Pion Adventure', aspect='default')\n",
    "mu2e_plot3d_ptrap_traj([df_pi_single_s1, df_mu_single_s2e1, df_e_single_s2e1, df_mu_single_s2e2, df_e_single_s2e2],\n",
    "                       'z','x','y',df_xray=df_xray,\n",
    "                        title='Bad Pion Adventure', aspect='default')"
   ]
  },
  {
   "cell_type": "code",
   "execution_count": null,
   "metadata": {},
   "outputs": [],
   "source": [
    "df_nttvd_s2.pdg.unique()"
   ]
  },
  {
   "cell_type": "code",
   "execution_count": null,
   "metadata": {},
   "outputs": [],
   "source": []
  }
 ],
 "metadata": {
  "kernelspec": {
   "display_name": "Python 3",
   "language": "python",
   "name": "python3"
  },
  "language_info": {
   "codemirror_mode": {
    "name": "ipython",
    "version": 3
   },
   "file_extension": ".py",
   "mimetype": "text/x-python",
   "name": "python",
   "nbconvert_exporter": "python",
   "pygments_lexer": "ipython3",
   "version": "3.6.5"
  }
 },
 "nbformat": 4,
 "nbformat_minor": 2
}
