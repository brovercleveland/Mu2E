{
 "cells": [
  {
   "cell_type": "markdown",
   "metadata": {},
   "source": [
    "Notes:\n",
    "- Simulation is a three stage deal:\n",
    "    - Generate muons isotropically within the DS trap region, allow them to propigate for 700 ns (no decay)\n",
    "    - Use that output to further evolve remaining muons, allowing them to decay to electrons.\n",
    "    - Run full output through TrkAna, see if any tracks are reconstructed.\n",
    "- Their are two copies of each 2nd stage muon in `ntpart`.\n",
    "    - Looks like copy 1 has t==0, p==100, pstop=p at 700ns\n",
    "    - The second muon has t=~700, p==100, parent_pstop = original p_stop\n",
    "- No muons have an initial timestamp > 700 ns\n",
    "- No electrons are born before 700 ns\n",
    "- Skimmed vd requires electron to have been produced in the event, and it must have had energy>75 MeV\n"
   ]
  },
  {
   "cell_type": "markdown",
   "metadata": {},
   "source": [
    "### Some Findings"
   ]
  },
  {
   "cell_type": "markdown",
   "metadata": {},
   "source": [
    "Number of trapped muons per init muon p:\n",
    "* p=140: 37918*300 = 11,375,400\n",
    "\n",
    "Number of unique events in which an electron with p>95 makes it farther upstream than 11200mm:\n",
    "* Muon init p=140: 195 Events (About 1/60,000)"
   ]
  },
  {
   "cell_type": "markdown",
   "metadata": {},
   "source": [
    "# Initial Loading and Data Cleaning"
   ]
  },
  {
   "cell_type": "code",
   "execution_count": null,
   "metadata": {},
   "outputs": [],
   "source": [
    "from mu2e import mu2e_ext_path\n",
    "from mu2e.dataframeprod import g4root_to_df\n",
    "from root_pandas import read_root\n",
    "import pandas as pd\n",
    "from mu2e.mu2eplots import mu2e_plot3d_ptrap\n",
    "from mu2e.mu2eplots import mu2e_plot3d_ptrap_traj\n",
    "from mu2e.mu2eplots import mu2e_plot3d_ptrap_anim\n",
    "import cPickle as pkl\n",
    "from bb.tools.hist_tools_modified import hist\n",
    "%matplotlib inline\n",
    "plt.rcParams['figure.figsize'] = (12,8)\n",
    "mu2e_ext_path2 = '/Volumes/DataDump/Mu2E/'"
   ]
  },
  {
   "cell_type": "code",
   "execution_count": null,
   "metadata": {},
   "outputs": [],
   "source": [
    "pd.options.display.max_columns = 110"
   ]
  },
  {
   "cell_type": "code",
   "execution_count": null,
   "metadata": {},
   "outputs": [],
   "source": [
    "store = pd.HDFStore(mu2e_ext_path2+'iso_muons_GA05_stage2_vd_140p_skim.h5')\n",
    "df_ntpart = store.df_ntpart\n",
    "df_nttvd = store.df_nttvd\n",
    "store.close()\n",
    "\n",
    "\n",
    "store_xray = pd.HDFStore(mu2e_ext_path+'datafiles/G4ParticleSim/low_e_ele_0T_v580.h5')\n",
    "df_xray = store_xray.df_ntpart\n",
    "store_xray.close()\n"
   ]
  },
  {
   "cell_type": "code",
   "execution_count": null,
   "metadata": {},
   "outputs": [],
   "source": [
    "store = pd.HDFStore(mu2e_ext_path2+'iso_muons_GA05_trkana_140p_skim.h5')\n",
    "df_trkana = store.df_trkana\n",
    "store.close()\n",
    "\n",
    "store = pd.HDFStore(mu2e_ext_path2+'iso_muons_GA05_trkana_ce.h5')\n",
    "df_trkana_ce = store.df_trkana_ce\n",
    "store.close()\n",
    "\n"
   ]
  },
  {
   "cell_type": "code",
   "execution_count": null,
   "metadata": {},
   "outputs": [],
   "source": [
    "#df_nttvd.set_index(['evt', 'subrun', 'job'], inplace=True)\n",
    "#df_ntpart.set_index(['evt', 'subrun', 'job'], inplace=True)\n",
    "#df_trkana = df_trkana.rename(columns={'evtinfo_eventid':'evt', 'evtinfo_subrunid':'subrun', 'evtinfo_job':'job'})\n",
    "#df_trkana.set_index(['evt', 'subrun', 'job'], inplace=True)"
   ]
  },
  {
   "cell_type": "code",
   "execution_count": null,
   "metadata": {},
   "outputs": [],
   "source": [
    "#df_trkana_ce = read_root(mu2e_ext_path2+'iso_muons_GA05_trkana_ce.root', 'TrkAna/trkana', ['evtinfo', 'dem', 'uem', 'dmm'])\n",
    "#df_trkana_ce = df_trkana_ce.rename(columns={'evtinfo_eventid':'evt', 'evtinfo_subrunid':'subrun'})\n",
    "#df_trkana_ce.eval('job=1', inplace=True)\n",
    "#df_trkana_ce.set_index(['evt', 'subrun', 'job'], inplace=True)\n",
    "#store = pd.HDFStore(mu2e_ext_path2+'iso_muons_GA05_trkana_ce.h5')\n",
    "#store['df_trkana_ce'] = df_trkana_ce\n",
    "#store.close()"
   ]
  },
  {
   "cell_type": "code",
   "execution_count": null,
   "metadata": {},
   "outputs": [],
   "source": [
    "df_trkana_dems = df_trkana.query('dem_mom>0')\n",
    "df_trkana_uems = df_trkana.query('uem_mom>0')\n",
    "df_trkana_dems_no_uems = df_trkana_dems.ix[~df_trkana_dems.index.isin(df_trkana_uems.index)]\n",
    "\n",
    "df_trkana_ce_dems = df_trkana_ce.query('dem_mom>0')"
   ]
  },
  {
   "cell_type": "code",
   "execution_count": null,
   "metadata": {},
   "outputs": [],
   "source": [
    "bads_index = df_nttvd.query('pdg==11 and z<11200 and p>95').index.unique()\n",
    "df_ntpart_bads = df_ntpart.ix[bads_index]"
   ]
  },
  {
   "cell_type": "markdown",
   "metadata": {},
   "source": [
    "# Sanity Plots"
   ]
  },
  {
   "cell_type": "code",
   "execution_count": null,
   "metadata": {},
   "outputs": [],
   "source": [
    "df_ntpart.query('pdg==13 and time>0').pstop.hist(bins=50, color='r')\n",
    "plt.title('Muon P (t = 700 ns)')\n",
    "plt.ylabel('Counts')\n",
    "plt.xlabel('P (MeV)')\n",
    "plt.yscale('log')"
   ]
  },
  {
   "cell_type": "code",
   "execution_count": null,
   "metadata": {},
   "outputs": [],
   "source": [
    "df_ntpart.query('pdg==13 and time>0').zstop.hist(bins=50, color='r')\n",
    "plt.title('Muon Z Position (t = 700 ns)')\n",
    "plt.ylabel('Counts')\n",
    "plt.xlabel('Z (mm)')\n",
    "plt.yscale('log')"
   ]
  },
  {
   "cell_type": "code",
   "execution_count": null,
   "metadata": {},
   "outputs": [],
   "source": [
    "df_ntpart.query('pdg==11 and parent_pdg==13').pz.hist(bins=30)\n",
    "plt.title('Initial Electron Pz (Muon parent p = ~140 MeV)')\n",
    "plt.ylabel('Counts')\n",
    "plt.xlabel('Pz (MeV)')"
   ]
  },
  {
   "cell_type": "code",
   "execution_count": null,
   "metadata": {},
   "outputs": [],
   "source": [
    "df_ntpart.query('pdg==11 and parent_pdg==13').p.hist(bins=30)\n",
    "plt.title('Initial Electron P (Muon parent p = ~140 MeV)')\n",
    "plt.ylabel('Counts')\n",
    "plt.xlabel('P (MeV)')\n",
    "textstr = 'Skim cut: e- mom > 75 MeV'\n",
    "\n",
    "# these are matplotlib.patch.Patch properties\n",
    "props = dict(boxstyle='round', facecolor='wheat', alpha=0.5)\n",
    "\n",
    "# place a text box in upper left in axes coords\n",
    "plt.text(0.55, 0.85, textstr, transform=plt.gca().transAxes, fontsize=14,\n",
    "        verticalalignment='top', bbox=props)"
   ]
  },
  {
   "cell_type": "code",
   "execution_count": null,
   "metadata": {},
   "outputs": [],
   "source": [
    "df_ntpart_bads = df_ntpart.ix[bads_index]"
   ]
  },
  {
   "cell_type": "markdown",
   "metadata": {},
   "source": [
    "# Deeper Investigation"
   ]
  },
  {
   "cell_type": "code",
   "execution_count": null,
   "metadata": {},
   "outputs": [],
   "source": [
    "df_nttvd_ele_solo = df_nttvd.query('evt==5972661 and subrun==380 and job==15804245 and pdg==11')\n",
    "df_nttvd_ele_solo.name = 'Sneaky Electron'"
   ]
  },
  {
   "cell_type": "code",
   "execution_count": null,
   "metadata": {},
   "outputs": [],
   "source": [
    "mu2e_plot3d_ptrap_traj(df_nttvd_ele_solo,'z','x','y',df_xray=df_xray,\n",
    "                        title='Electrons from trapped muons')"
   ]
  },
  {
   "cell_type": "code",
   "execution_count": null,
   "metadata": {},
   "outputs": [],
   "source": [
    "cut_string = 'dem_trkqual>0.4 and -80<dem_d0<105 and 450<(dem_d0+2.0/dem_om)<680 and 0.57735<dem_td<1.0'"
   ]
  },
  {
   "cell_type": "code",
   "execution_count": null,
   "metadata": {},
   "outputs": [],
   "source": [
    "hist(df_trkana_dems.dem_mom, bins=20, range=(50,130), label='Downstream e-', histtype='stepfilled', errorbars=True, alpha=0.2)\n",
    "hist(df_trkana_uems.uem_mom, bins=20, range=(50,130), label='Upstream e-', histtype='step', linewidth=3, errorbars=True)\n",
    "hist(df_trkana_dems_no_uems.dem_mom, bins=20, range=(50,130), label='Downsteam e- (with no upstream)', histtype='step', linewidth=3, errorbars=True)\n",
    "\n",
    "plt.ylim(ymax=180)\n",
    "plt.plot((103.85, 103.85), (0, 180), 'k--', linewidth=3)\n",
    "plt.plot((105.1, 105.1), (0, 180), 'k--', linewidth=3)\n",
    "\n",
    "plt.title(\"Electrons recon'd by TrkAna for 140 MeV trapped muons\")\n",
    "plt.ylabel('Counts')\n",
    "plt.xlabel('Momentum (MeV)')\n",
    "plt.legend(loc='best')\n",
    "\n",
    "plt.figure()\n",
    "df_trkana_dems.dem_mom.hist(bins=10, range=(100,120), label='Downstream e-', alpha=0.2)\n",
    "df_trkana_uems.uem_mom.hist(bins=10, range=(100,120), label='Upstream e-', histtype='step', linewidth=3)\n",
    "df_trkana_dems_no_uems.dem_mom.hist(bins=5, range=(100,120), label='Downsteam e- (with no upstream)', histtype='step', linewidth=3)\n",
    "\n",
    "plt.plot((103.85, 103.85), (0, 30), 'k--', linewidth=3)\n",
    "plt.plot((105.1, 105.1), (0, 30), 'k--', linewidth=3)\n",
    "\n",
    "plt.title(\"Electrons recon'd by TrkAna for 140 MeV trapped muons\")\n",
    "plt.ylabel('Counts')\n",
    "plt.xlabel('Momentum (MeV)')\n",
    "plt.legend(loc='best')"
   ]
  },
  {
   "cell_type": "code",
   "execution_count": null,
   "metadata": {},
   "outputs": [],
   "source": [
    "hist(df_trkana_dems.query(cut_string).dem_mom, bins=10, range=(50,130), label='Downstream e-', alpha=0.2, errorbars=True)\n",
    "hist(df_trkana_uems.query(cut_string).uem_mom, bins=10, range=(50,130), label='Upstream e-', histtype='step', linewidth=3, errorbars=True)\n",
    "hist(df_trkana_dems_no_uems.query(cut_string).dem_mom, bins=10, range=(50,130), label='Downsteam e- (with no upstream)', histtype='step', linewidth=3, errorbars=True)\n",
    "\n",
    "plt.plot((103.85, 103.85), (0, 30), 'k--', linewidth=3)\n",
    "plt.plot((105.1, 105.1), (0, 30), 'k--', linewidth=3)\n",
    "\n",
    "plt.title(\"Electrons recon'd by TrkAna for 140 MeV trapped muons\")\n",
    "plt.ylabel('Counts')\n",
    "plt.xlabel('Momentum (MeV)')\n",
    "plt.legend(loc='best')\n",
    "textstr = 'CD3 cuts'\n",
    "\n",
    "# these are matplotlib.patch.Patch properties\n",
    "props = dict(boxstyle='round', facecolor='wheat', alpha=0.5)\n",
    "\n",
    "# place a text box in upper left in axes coords\n",
    "plt.text(0.75, 0.55, textstr, transform=plt.gca().transAxes, fontsize=20,\n",
    "        verticalalignment='top', bbox=props)"
   ]
  },
  {
   "cell_type": "code",
   "execution_count": null,
   "metadata": {},
   "outputs": [],
   "source": [
    "hist(df_ntpart_bads.query('pdg==11 and parent_pdg==13').x, bins=20, alpha=0.5, histtype='stepfilled', normed=True, range=(-600,600), errorbars=True, label='Sneaky Electrons')\n",
    "hist(df_ntpart.query('pdg==11 and parent_pdg==13').x, bins=20, alpha=0.5, histtype='stepfilled', normed=True, range=(-600,600), errorbars=True, label='All Electrons')\n",
    "plt.title('Electron Birth Location, X Position')\n",
    "plt.xlabel('X (mm)')\n",
    "plt.ylabel('Counts (Normalized)')\n",
    "plt.legend(loc='best')"
   ]
  },
  {
   "cell_type": "code",
   "execution_count": null,
   "metadata": {},
   "outputs": [],
   "source": [
    "hist(df_ntpart_bads.query('pdg==11 and parent_pdg==13').y, bins=20, alpha=0.5, normed=True, label='Sneaky Electrons', range=(-1000,500), histtype='stepfilled', errorbars=True)\n",
    "hist(df_ntpart.query('pdg==11 and parent_pdg==13').y, bins=20, alpha=0.5, normed=True, label='All Electrons', range=(-1000,500), histtype='stepfilled', errorbars=True)\n",
    "plt.title('Electron Birth Location, Y Position')\n",
    "plt.xlabel('Y (mm)')\n",
    "plt.ylabel('Counts (Normalized)')\n",
    "plt.legend(loc='best')\n",
    "#plt.yscale('log')\n",
    "#plt.ylim(ymin=1e-15)"
   ]
  },
  {
   "cell_type": "code",
   "execution_count": null,
   "metadata": {},
   "outputs": [],
   "source": [
    "hist(df_ntpart_bads.query('pdg==11 and parent_pdg==13').z, bins=20, alpha=0.5, normed=True, label='Sneaky Electrons', range=(12800, 13100), histtype='stepfilled', errorbars=True )\n",
    "hist(df_ntpart.query('pdg==11 and parent_pdg==13').z, bins=20, alpha=0.5, normed=True, label='All Electrons', range=(12800,13100), histtype='stepfilled', errorbars=True)\n",
    "plt.title('Electron Birth Location, Z Position')\n",
    "plt.ylim(ymax=0.012)\n",
    "plt.xlabel('Z (mm)')\n",
    "plt.ylabel('Counts (Normalized)')\n",
    "plt.legend(loc='best')"
   ]
  },
  {
   "cell_type": "code",
   "execution_count": null,
   "metadata": {},
   "outputs": [],
   "source": [
    "hist(df_ntpart_bads.query('pdg==11 and parent_pdg==13').px, bins=20, alpha=0.5, normed=True, range=(-140,140), label='Sneaky Electrons', histtype='stepfilled', errorbars=True)\n",
    "hist(df_ntpart.query('pdg==11 and parent_pdg==13').px, bins=20, alpha=0.5, normed=True, range=(-140,140), label='All Electrons', histtype='stepfilled', errorbars=True)\n",
    "plt.title('Electron Birth Momentum, PX')\n",
    "plt.xlabel('pX (mm)')\n",
    "plt.ylabel('Counts (Normalized)')\n",
    "plt.legend(loc='best')"
   ]
  },
  {
   "cell_type": "code",
   "execution_count": null,
   "metadata": {},
   "outputs": [],
   "source": [
    "hist(df_ntpart_bads.query('pdg==11 and parent_pdg==13').py, bins=20, alpha=0.5, normed=True, range=(-140,140), label='Sneaky Electrons', histtype='stepfilled', errorbars=True)\n",
    "hist(df_ntpart.query('pdg==11 and parent_pdg==13').py, bins=20, alpha=0.5, normed=True, range=(-140,140), label='All Electrons', histtype='stepfilled', errorbars=True)\n",
    "plt.title('Electron Birth Momentum, Py')\n",
    "plt.xlabel('Py (mm)')\n",
    "plt.ylabel('Counts (Normalized)')\n",
    "plt.legend(loc='best')"
   ]
  },
  {
   "cell_type": "code",
   "execution_count": null,
   "metadata": {},
   "outputs": [],
   "source": [
    "hist(df_ntpart_bads.query('pdg==11 and parent_pdg==13').pz, bins=20, alpha=0.5, normed=True, range=(-60,60), label='Sneaky Electrons', histtype='stepfilled', errorbars=True)\n",
    "hist(df_ntpart.query('pdg==11 and parent_pdg==13').pz, bins=20, alpha=0.5, normed=True, range=(-60,60), label='All Electrons', histtype='stepfilled', errorbars=True)\n",
    "plt.title('Electron Birth Momentum, Pz')\n",
    "plt.xlabel('Pz (mm)')\n",
    "plt.ylabel('Counts (Normalized)')\n",
    "plt.legend(loc='best')"
   ]
  },
  {
   "cell_type": "code",
   "execution_count": null,
   "metadata": {},
   "outputs": [],
   "source": [
    "hist(df_ntpart_bads.query('pdg==11 and parent_pdg==13').time, bins=20, alpha=0.5, normed=True, range=(700,2000), label='Sneaky Electrons', histtype='stepfilled', errorbars=True)\n",
    "hist(df_ntpart.query('pdg==11 and parent_pdg==13').time, bins=20, alpha=0.5, normed=True, range=(700,2000), label='All Electrons', histtype='stepfilled', errorbars=True)\n",
    "plt.ylim(ymax=0.004)\n",
    "plt.title('Electron Birth Time')\n",
    "plt.xlabel('Time (ns)')\n",
    "plt.ylabel('Counts (Normalized)')\n",
    "plt.legend(loc='best')"
   ]
  },
  {
   "cell_type": "code",
   "execution_count": null,
   "metadata": {},
   "outputs": [],
   "source": [
    "#bads_runevt = df_nttvd.query('pdg==11 and z<11200 and p>85').index.unique()\n",
    "#df_mu = df_ntpart.query('pdg==13 and time>0 and 100<xstop<575 and 150>ystop>-600')[0:20000].reset_index()\n",
    "df_mu_bads = df_ntpart.ix[bads_index].query('pdg==13 and time>0')\n",
    "#df_mu = df_ntpart.query('pdg==13 and time>0').reset_index()\n",
    "\n",
    "df_mu_bads.name = 'Muons'\n",
    "mu2e_plot3d_ptrap(df_mu_bads,\n",
    "                  'zstop','xstop','ystop', x_range=[3700,17500], y_range = [-1000,1000], z_range=[-1000,1000], save_name=None,\n",
    "                   df_xray=df_xray, color='pstop', title='Muon Decay Location Yeilding Sneaky Electrons')"
   ]
  },
  {
   "cell_type": "markdown",
   "metadata": {},
   "source": [
    "# Placing Limits"
   ]
  },
  {
   "cell_type": "code",
   "execution_count": null,
   "metadata": {},
   "outputs": [],
   "source": [
    "df_sig_fake = df_trkana_dems.query('103.85<dem_mom<105.1')"
   ]
  },
  {
   "cell_type": "code",
   "execution_count": null,
   "metadata": {},
   "outputs": [],
   "source": [
    "df_sig_fake_cut = df_trkana_dems.query('103.85<dem_mom<105.1 and '+cut_string)"
   ]
  },
  {
   "cell_type": "code",
   "execution_count": null,
   "metadata": {},
   "outputs": [],
   "source": [
    "print len(df_trkana_dems_no_uems.query('103.85<dem_mom<105.1')), len(df_sig_fake), len(df_sig_fake_cut)"
   ]
  },
  {
   "cell_type": "code",
   "execution_count": null,
   "metadata": {},
   "outputs": [],
   "source": [
    "len(df_sig_fake_cut)"
   ]
  },
  {
   "cell_type": "markdown",
   "metadata": {},
   "source": [
    "### Pessimistic Case Scenario:\n",
    "1. Muons trapped are all at ~140 MeV (approaching maximum trapping energy, radius will become too large)\n",
    "2. Perfect Trigger\n",
    "3. Infinite timing window\n",
    "4. No cuts after track reco\n",
    "\n",
    "11,375,400 starting muons, trapped, 5 electrons reco'd in signal window:\n",
    "\n",
    "4.4e-7 reco signal fakes/trapped muon (at 140 MeV)\n",
    "\n",
    "200,000 trapped muons -> ~0.1 BG events"
   ]
  },
  {
   "cell_type": "markdown",
   "metadata": {},
   "source": [
    "# Comparing with Signal Events"
   ]
  },
  {
   "cell_type": "code",
   "execution_count": null,
   "metadata": {},
   "outputs": [],
   "source": [
    "df_trkana_ce_dems = df_trkana_ce.query('dem_mom>0')"
   ]
  },
  {
   "cell_type": "code",
   "execution_count": null,
   "metadata": {},
   "outputs": [],
   "source": [
    "cut_string = 'dem_trkqual>0.4 and -80<dem_d0<105 and 450<(dem_d0+2.0/dem_om)<680 and 0.57735<dem_td<1.0'"
   ]
  },
  {
   "cell_type": "code",
   "execution_count": null,
   "metadata": {},
   "outputs": [],
   "source": [
    "#df_trkana_dems.query(cut_string).dem_mom.hist(bins=30, range=(40,160), label='Sneaky e-', alpha=0.2, normed=True)\n",
    "#df_trkana_ce_dems.query(cut_string).dem_mom.hist(bins=30, range=(40,160), label='Signal e-', alpha=0.2, normed=True)\n",
    "hist(df_trkana_dems.dem_mom, bins=30, range=(40,160), label='BG e-', alpha=0.5, histtype='stepfilled', errorbars=True)\n",
    "hist(df_trkana_ce_dems.dem_mom, bins=30, range=(40,160), label='Signal e-', alpha=0.5, histtype='stepfilled', errorbars=True, color='orange')\n",
    "plt.yscale('log')\n",
    "#plt.plot((103.85, 103.85), (0, 160), 'k--', linewidth=3)\n",
    "#plt.plot((105.1, 105.1), (0, 160), 'k--', linewidth=3)\n",
    "\n",
    "plt.title(\"Electrons recon'd by TrkAna for 140 MeV trapped muons\")\n",
    "plt.ylabel('Counts')\n",
    "plt.xlabel('Momentum (MeV)')\n",
    "plt.legend(loc='best')\n",
    "\n",
    "plt.figure()\n",
    "hist(df_trkana_dems.query(cut_string).dem_mom, bins=30, range=(40,160), label='BG e-', alpha=0.5, histtype='stepfilled', errorbars=True)\n",
    "hist(df_trkana_ce_dems.query(cut_string).dem_mom, bins=30, range=(40,160), label='Signal e-', alpha=0.5, histtype='stepfilled', errorbars=True, color='orange')\n",
    "plt.yscale('log')\n",
    "#plt.plot((103.85, 103.85), (0, 30), 'k--', linewidth=3)\n",
    "#plt.plot((105.1, 105.1), (0, 30), 'k--', linewidth=3)\n",
    "\n",
    "plt.title(\"Electrons recon'd by TrkAna for 140 MeV trapped muons\")\n",
    "plt.ylabel('Counts')\n",
    "plt.xlabel('Momentum (MeV)')\n",
    "plt.legend(loc='best')\n",
    "\n",
    "textstr = 'CD3 cuts'\n",
    "\n",
    "# these are matplotlib.patch.Patch properties\n",
    "props = dict(boxstyle='round', facecolor='wheat', alpha=0.5)\n",
    "\n",
    "# place a text box in upper left in axes coords\n",
    "plt.text(0.75, 0.55, textstr, transform=plt.gca().transAxes, fontsize=20,\n",
    "        verticalalignment='top', bbox=props)\n",
    "\n",
    "plt.figure()\n",
    "cut_string2 = cut_string+' and uem_mom<20'\n",
    "hist(df_trkana_dems.query(cut_string2).dem_mom, bins=30, range=(40,160), label='BG e-', alpha=0.5, histtype='stepfilled', errorbars=True)\n",
    "hist(df_trkana_ce_dems.query(cut_string2).dem_mom, bins=30, range=(40,160), label='Signal e-', alpha=0.5, histtype='stepfilled', errorbars=True, color='orange')\n",
    "plt.yscale('log')\n",
    "#plt.plot((103.85, 103.85), (0, 30), 'k--', linewidth=3)\n",
    "#plt.plot((105.1, 105.1), (0, 30), 'k--', linewidth=3)\n",
    "\n",
    "plt.title(\"Electrons recon'd by TrkAna for 140 MeV trapped muons\")\n",
    "plt.ylabel('Counts')\n",
    "plt.xlabel('Momentum (MeV)')\n",
    "plt.legend(loc='best')\n",
    "\n",
    "textstr = 'CD3 cuts+upstream veto'\n",
    "\n",
    "# these are matplotlib.patch.Patch properties\n",
    "props = dict(boxstyle='round', facecolor='wheat', alpha=0.5)\n",
    "\n",
    "# place a text box in upper left in axes coords\n",
    "plt.text(0.60, 0.55, textstr, transform=plt.gca().transAxes, fontsize=20,\n",
    "        verticalalignment='top', bbox=props)"
   ]
  },
  {
   "cell_type": "code",
   "execution_count": null,
   "metadata": {},
   "outputs": [],
   "source": [
    "all_dem = df_trkana_ce.query('dem_mom>0').filter(like='dem').columns"
   ]
  },
  {
   "cell_type": "code",
   "execution_count": null,
   "metadata": {},
   "outputs": [],
   "source": [
    "len(df_trkana_dems.query(cut_string2))/float(len(df_trkana_dems.dem_mom))"
   ]
  },
  {
   "cell_type": "code",
   "execution_count": null,
   "metadata": {},
   "outputs": [],
   "source": [
    "plt.errorbar?"
   ]
  },
  {
   "cell_type": "code",
   "execution_count": null,
   "metadata": {},
   "outputs": [],
   "source": [
    "#for dem in all_dem:\n",
    "for dem in ['dem_firstflt', 'dem_lastflt', 'dem_startvalid', 'dem_endvalid', 'dem_t0', 'dem_td', 'dem_d0']:\n",
    "    plt.figure()\n",
    "    h_range=(min(df_trkana_dems[dem].min(), df_trkana_ce_dems[dem].min()),\n",
    "             max(df_trkana_dems[dem].max(), df_trkana_ce_dems[dem].max()))\n",
    "    hist(df_trkana_dems[dem], bins=20, normed=True, alpha=0.5, histtype='stepfilled', range=h_range, errorbars=True, label='BG e-')\n",
    "    hist(df_trkana_ce_dems[dem], bins=20, normed=True, alpha=0.5,histtype='stepfilled', range=h_range, errorbars=True, label='Signal e-', color='orange')\n",
    "    plt.title(dem)\n",
    "    plt.legend(loc='best')"
   ]
  },
  {
   "cell_type": "code",
   "execution_count": null,
   "metadata": {},
   "outputs": [],
   "source": [
    "for dem in ['dem_firstflt', 'dem_lastflt', 'dem_startvalid', 'dem_endvalid', 'dem_t0', 'dem_td', 'dem_d0']:\n",
    "    plt.figure()\n",
    "    param_sneak = df_trkana_dems[dem]/df_trkana_dems.dem_mom\n",
    "    param_ce = df_trkana_ce_dems[dem]/df_trkana_ce_dems.dem_mom\n",
    "    h_range=(min(param_sneak.min(), param_ce.min()),\n",
    "             max(param_sneak.max(), param_ce.max()))\n",
    "    hist(param_sneak, bins=20, normed=True, alpha=0.5, range=h_range, histtype='stepfilled', errorbars=True, label='BG e-')\n",
    "    hist(param_ce, bins=20, normed=True, alpha=0.5, range=h_range, histtype='stepfilled', errorbars=True, label='Signal e-', color='orange')\n",
    "    plt.title(dem+'/mom')\n",
    "    plt.legend(loc='best')"
   ]
  },
  {
   "cell_type": "code",
   "execution_count": null,
   "metadata": {},
   "outputs": [],
   "source": [
    "df_sig_fake.query('dem_endvalid/dem_mom<250')"
   ]
  },
  {
   "cell_type": "code",
   "execution_count": null,
   "metadata": {},
   "outputs": [],
   "source": [
    "plt.plot(df_trkana_ce_dems.dem_endvalid, df_trkana_ce_dems.dem_startvalid, 'bo')\n",
    "plt.plot(df_trkana_dems.dem_endvalid, df_trkana_dems.dem_startvalid, 'ro')"
   ]
  },
  {
   "cell_type": "code",
   "execution_count": null,
   "metadata": {},
   "outputs": [],
   "source": [
    "for dem in ['dem_firstflt', 'dem_lastflt', 'dem_startvalid', 'dem_endvalid', 'dem_t0', 'dem_td', 'dem_d0']:\n",
    "    plt.figure()\n",
    "    param_sneak = df_trkana_dems.query(cut_string2)[dem]/df_trkana_dems.query(cut_string).dem_mom\n",
    "    param_ce = df_trkana_ce_dems.query(cut_string2)[dem]/df_trkana_ce_dems.query(cut_string).dem_mom\n",
    "    h_range=(min(param_sneak.min(), param_ce.min()),\n",
    "             max(param_sneak.max(), param_ce.max()))\n",
    "    hist(param_sneak, bins=20, normed=True, alpha=0.5, range=h_range, histtype='stepfilled', errorbars=True, label='BG e-')\n",
    "    hist(param_ce, bins=20, normed=True, alpha=0.5, range=h_range, histtype='stepfilled', errorbars=True, label='Signal e-', color='orange')\n",
    "    plt.title(dem+'/mom')\n",
    "    plt.legend(loc='best')"
   ]
  },
  {
   "cell_type": "code",
   "execution_count": null,
   "metadata": {},
   "outputs": [],
   "source": [
    "print len(df_trkana_dems.query('100<dem_mom<110'))"
   ]
  },
  {
   "cell_type": "code",
   "execution_count": null,
   "metadata": {},
   "outputs": [],
   "source": [
    "print len(df_trkana_dems.query('100<dem_mom<110 and '+cut_string))/11375400."
   ]
  },
  {
   "cell_type": "code",
   "execution_count": null,
   "metadata": {},
   "outputs": [],
   "source": [
    "len(df_trkana_dems.query('100<dem_mom<110 and '+cut_string2))"
   ]
  },
  {
   "cell_type": "code",
   "execution_count": null,
   "metadata": {},
   "outputs": [],
   "source": [
    "len(df_trkana_dems.query('100<dem_mom<110'))/11375400."
   ]
  },
  {
   "cell_type": "code",
   "execution_count": null,
   "metadata": {},
   "outputs": [],
   "source": [
    "print 2389"
   ]
  },
  {
   "cell_type": "code",
   "execution_count": null,
   "metadata": {},
   "outputs": [],
   "source": [
    "cut_string2"
   ]
  },
  {
   "cell_type": "code",
   "execution_count": null,
   "metadata": {},
   "outputs": [],
   "source": [
    "len(df_trkana_dems.query('100<dem_mom<110'))"
   ]
  },
  {
   "cell_type": "code",
   "execution_count": null,
   "metadata": {},
   "outputs": [],
   "source": []
  }
 ],
 "metadata": {
  "kernelspec": {
   "display_name": "Python 3",
   "language": "python",
   "name": "python3"
  },
  "language_info": {
   "codemirror_mode": {
    "name": "ipython",
    "version": 3
   },
   "file_extension": ".py",
   "mimetype": "text/x-python",
   "name": "python",
   "nbconvert_exporter": "python",
   "pygments_lexer": "ipython3",
   "version": "3.6.5"
  }
 },
 "nbformat": 4,
 "nbformat_minor": 1
}
