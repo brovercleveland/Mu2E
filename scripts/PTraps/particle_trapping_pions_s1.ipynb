{
 "cells": [
  {
   "cell_type": "code",
   "execution_count": null,
   "metadata": {},
   "outputs": [],
   "source": [
    "from mu2e import mu2e_ext_path\n",
    "from mu2e.dataframeprod import g4root_to_df\n",
    "from root_pandas import read_root\n",
    "import pandas as pd\n",
    "from mu2e.mu2eplots import mu2e_plot3d_ptrap\n",
    "from mu2e.mu2eplots import mu2e_plot3d_ptrap_traj\n",
    "from mu2e.mu2eplots import mu2e_plot3d_ptrap_anim\n",
    "import mu2e.mu2eplots as mplt\n",
    "import six.moves.cPickle as pkl\n",
    "%matplotlib inline\n",
    "plt.rcParams['figure.figsize'] = (12,8)\n",
    "mu2e_data_path = '/Volumes/DataDump/Mu2E/'\n",
    "from skhep.visual import MplPlotter as splt\n",
    "from matplotlib.colors import LogNorm\n",
    "pd.set_option(\"display.max_columns\",50)\n",
    "from IPython.display import display, HTML\n",
    "from tqdm import tnrange"
   ]
  },
  {
   "cell_type": "code",
   "execution_count": null,
   "metadata": {},
   "outputs": [],
   "source": [
    "# Get pions, make a subset df of matching pions and muons\n",
    "\n",
    "#df_ntpart_s1, df_nttvd_s1, _ = g4root_to_df(mu2e_data_path+'pion-st-Mau13/run3_s1/nts.bpollack.pions_Mau13_stage1_vd.v656.combined',\n",
    "#df_ntpart_s1, df_nttvd_s1, _ = g4root_to_df(mu2e_data_path+'pion-st-Mau13/run4/nts.bpollack.pions_Mau13_stage1_vd.v656.000001_00000319',\n",
    "#df_ntpart_s1, df_nttvd_s1, _ = g4root_to_df(mu2e_data_path+'pion-st-cd3-Mau13/run1/nts.bpollack.pions_Mau13_stage1_vd.v656.000001_00001145',\n",
    "#do_basic_modifications=True, trees=['part', 'tvd'])\n",
    "#df_ntpart_s1.set_index(['run', 'subrun', 'evt'], inplace=True)\n",
    "\n",
    "#df_ntpart_s2, df_nttvd_s2, _ = g4root_to_df(mu2e_data_path+'pion-st-Mau13-s2/run1/nts.bpollack.pions_Mau13_stage2_vd.v656.combined',\n",
    "df_ntpart, df_nttvd, _ = g4root_to_df(mu2e_data_path+'pion-st-full-Mau13-s2/nts.bpollack.pions_Mau13_stage2_vd.v656.resample_combined',\n",
    "do_basic_modifications=True, trees=['part', 'tvd'])\n",
    "df_ntpart.set_index(['run', 'subrun', 'evt', 'job'], inplace=True)\n"
   ]
  },
  {
   "cell_type": "code",
   "execution_count": null,
   "metadata": {},
   "outputs": [],
   "source": [
    "golden_index = pd.read_pickle('golden_index.pkl')"
   ]
  },
  {
   "cell_type": "code",
   "execution_count": null,
   "metadata": {},
   "outputs": [],
   "source": [
    "'999'.zfill(4)"
   ]
  },
  {
   "cell_type": "code",
   "execution_count": null,
   "metadata": {},
   "outputs": [],
   "source": [
    "for i in tnrange(1000):\n",
    "    num = str(i).zfill(4)\n",
    "    df_ntpart, df_nttvd, _ = g4root_to_df(mu2e_data_path+f'pion-st-full-Mau13/run1/nts.bpollack.pions_Mau13_stage1_vd.v656.000001_0000{num}',\n",
    "        do_basic_modifications=True, trees=['part', 'tvd'])\n",
    "    df_ntpart.set_index(['run', 'subrun', 'evt'], inplace=True)\n",
    "    df_nttvd.set_index(['run', 'subrun', 'evt'], inplace=True)\n",
    "    tmp_index = df_ntpart.index.intersection(golden_index)\n",
    "    df_ntpart.loc[tmp_index].to_pickle(f'./pickles_s1/ntpart_r1_{num}.pkl')\n",
    "    df_nttvd.loc[tmp_index].to_pickle(f'./pickles_s1/nttvd_r1_{num}.pkl')\n"
   ]
  },
  {
   "cell_type": "code",
   "execution_count": null,
   "metadata": {},
   "outputs": [],
   "source": [
    "frames_list = []\n",
    "for i in tnrange(1000):\n",
    "    num = str(i).zfill(4)\n",
    "    frames_list.append(pd.read_pickle(f'./pickles_s1/ntpart_r1_{num}.pkl'))\n",
    "df_comb = pd.concat(frames_list)\n",
    "df_comb.to_pickle('./pickles_s1/ntpart_r1_combo1.pkl')"
   ]
  },
  {
   "cell_type": "code",
   "execution_count": null,
   "metadata": {},
   "outputs": [],
   "source": [
    "df_comb.parent_x = df_comb.parent_x.astype(float)\n",
    "df_comb.parent_y = df_comb.parent_y.astype(float)"
   ]
  },
  {
   "cell_type": "code",
   "execution_count": null,
   "metadata": {},
   "outputs": [],
   "source": [
    "splt.hist(df_comb.parent_p)\n",
    "plt.title('Bad Pion Birth Mom')\n",
    "plt.xlabel('p (MeV)')\n",
    "\n",
    "plt.figure()\n",
    "splt.hist(df_comb.parent_pz)\n",
    "plt.title('Bad Pion Birth Pz')\n",
    "plt.xlabel('pz (MeV)')\n",
    "\n",
    "plt.figure()\n",
    "obj = splt.hist(df_comb.parent_pz/df_comb.parent_p)\n",
    "plt.title('Bad Pion Birth Cos(z)')\n",
    "plt.xlabel('cos(z)')\n",
    "\n",
    "plt.figure()\n",
    "splt.hist(df_comb.parent_z, range = (5000,6500))\n",
    "plt.title('Bad Pion Birth Z pos')\n",
    "plt.xlabel('Z mm')\n",
    "\n",
    "plt.figure()\n",
    "plt.hexbin(df_comb.query('-100<parent_x<100 and -100<parent_y<100').parent_x, df_comb.query('-100<parent_x<100 and -100<parent_y<100').parent_y)\n",
    "plt.colorbar()\n",
    "plt.title('Bad Pion X,Y')\n",
    "plt.xlabel('x (mm)')\n",
    "plt.ylabel('y (mm)')"
   ]
  },
  {
   "cell_type": "code",
   "execution_count": null,
   "metadata": {},
   "outputs": [],
   "source": [
    "(obj[1][:-1]+obj[1][1:])/2"
   ]
  },
  {
   "cell_type": "code",
   "execution_count": null,
   "metadata": {},
   "outputs": [],
   "source": [
    "obj[0]"
   ]
  },
  {
   "cell_type": "code",
   "execution_count": null,
   "metadata": {},
   "outputs": [],
   "source": [
    "store_xray = pd.HDFStore(mu2e_data_path+'G4ParticleSim/low_e_ele_0T_v580.h5')\n",
    "df_xray = store_xray.df_ntpart\n",
    "store_xray.close()"
   ]
  },
  {
   "cell_type": "code",
   "execution_count": null,
   "metadata": {},
   "outputs": [],
   "source": [
    "splt.hist(df_ntpart.query('pdg==11').parent_pz, bins=65, range=(-130,130), label='pz')\n",
    "splt.hist(df_ntpart.query('pdg==11').parent_px, bins=65, range=(-130,130), label='px')\n",
    "splt.hist(df_ntpart.query('pdg==11').parent_py, bins=65, range=(-130,130), label='py')\n",
    "plt.title('Muon Birth Momentum')\n",
    "plt.xlabel('MeV')\n",
    "plt.legend()"
   ]
  },
  {
   "cell_type": "code",
   "execution_count": null,
   "metadata": {},
   "outputs": [],
   "source": [
    "splt.hist(df_ntpart.query('pdg==11').parent_z, log=True)\n",
    "plt.title('Muon Birth Z')\n",
    "plt.xlabel('Z (mm)')"
   ]
  },
  {
   "cell_type": "code",
   "execution_count": null,
   "metadata": {},
   "outputs": [],
   "source": [
    "splt.hist(df_ntpart.query('pdg==11').pz, bins=65, range=(-130,130), label='pz', )\n",
    "splt.hist(df_ntpart.query('pdg==11').px, bins=65, range=(-130,130), label='px', )\n",
    "splt.hist(df_ntpart.query('pdg==11').py, bins=65, range=(-130,130), label='py',)\n",
    "splt.hist(df_ntpart.query('pdg==11').p, bins=65, range=(-130,130), label='p_mag', )\n",
    "plt.title('Electron Birth Momentum')\n",
    "plt.xlabel('MeV')\n",
    "plt.legend(loc=2)"
   ]
  },
  {
   "cell_type": "code",
   "execution_count": null,
   "metadata": {},
   "outputs": [],
   "source": [
    "splt.hist(df_ntpart.query('pdg==11').z, log=True)\n",
    "plt.title('Electron Birth Z')\n",
    "plt.xlabel('Z (mm)')"
   ]
  },
  {
   "cell_type": "code",
   "execution_count": null,
   "metadata": {},
   "outputs": [],
   "source": [
    "splt.hist(df_ntpart.query('pdg==11').zstop, log=True)\n",
    "plt.title('Electron Termination Z')\n",
    "plt.xlabel('Z (mm)')"
   ]
  },
  {
   "cell_type": "code",
   "execution_count": null,
   "metadata": {},
   "outputs": [],
   "source": [
    "splt.hist(df_ntpart.query('pdg==11').tstop, log=True)\n",
    "plt.title('Electron Termination Time (not including S0 time)')\n",
    "plt.xlabel('t (ns)')"
   ]
  },
  {
   "cell_type": "code",
   "execution_count": null,
   "metadata": {},
   "outputs": [],
   "source": [
    "plt.hexbin(df_ntpart.p, df_ntpart.tstop, bins='log')\n",
    "plt.colorbar()\n",
    "plt.title('Electron Mom vs Stop Time')\n",
    "plt.xlabel('p (MeV)')\n",
    "plt.ylabel('t (ns)')"
   ]
  },
  {
   "cell_type": "code",
   "execution_count": null,
   "metadata": {},
   "outputs": [],
   "source": [
    "plt.hexbin(df_ntpart.query('tstop>200').p, df_ntpart.query('tstop>200').tstop, bins='log')\n",
    "plt.colorbar()\n",
    "plt.title('Electron Mom vs Stop Time')\n",
    "plt.xlabel('p (MeV)')\n",
    "plt.ylabel('t (ns)')"
   ]
  },
  {
   "cell_type": "code",
   "execution_count": null,
   "metadata": {},
   "outputs": [],
   "source": [
    "plt.hexbin(df_ntpart.p, df_ntpart.zstop, bins='log')\n",
    "plt.colorbar()\n",
    "plt.title('Electron Mom vs Stop Position')\n",
    "plt.xlabel('p (MeV)')\n",
    "plt.ylabel('Z (mm)')"
   ]
  },
  {
   "cell_type": "code",
   "execution_count": null,
   "metadata": {},
   "outputs": [],
   "source": [
    "long_live_index = df_ntpart.query('pdg==11 and tstop>200').index"
   ]
  },
  {
   "cell_type": "code",
   "execution_count": null,
   "metadata": {},
   "outputs": [],
   "source": [
    "df_nttvd = df_nttvd.loc[long_live_index]"
   ]
  },
  {
   "cell_type": "code",
   "execution_count": null,
   "metadata": {},
   "outputs": [],
   "source": [
    "mu2e_plot3d_ptrap(df_ntpart.ix[0:50000],\n",
    "                  'parent_z','parent_x','parent_y', x_range=[3700,17500], y_range = [-1000,1000], z_range=[-1000,1000], save_name=None,\n",
    "                   df_xray=df_xray, color='parent_p', title='Muon position at stage2 start')"
   ]
  },
  {
   "cell_type": "code",
   "execution_count": null,
   "metadata": {},
   "outputs": [],
   "source": [
    "df_ntpart.sort_values('tstop').tail()"
   ]
  },
  {
   "cell_type": "code",
   "execution_count": null,
   "metadata": {},
   "outputs": [],
   "source": [
    "#df_pi_single_s1 = df_nttvd_s1.query('subrun==1145 and evt==30467 and pdg<0').sort_values('time')\n",
    "#df_pi_single_s1.name = 'Pion'\n",
    "df_mu_single_s2e1 = df_nttvd.query('run==2 and subrun==291 and evt==8831 and job ==9076398 and pdg==13').sort_values('time')\n",
    "df_mu_single_s2e1.name = 'Muon1'\n",
    "df_e_single_s2e1 = df_nttvd.query('run==2 and subrun==291 and evt==8831 and job ==9076398 and pdg==11').sort_values('time')\n",
    "df_e_single_s2e1.name = 'Electron1'\n",
    "\n",
    "df_mu_single_s2e2 = df_nttvd.query('run==1 and subrun==1679 and evt==60831 and job==9075987 and pdg==13').sort_values('time')\n",
    "df_mu_single_s2e2.name = 'Muon2'\n",
    "df_e_single_s2e2 = df_nttvd.query('run==1 and subrun==1679 and evt==60831 and job==9075987 and pdg==11').sort_values('time')\n",
    "df_e_single_s2e2.name = 'Electron2'"
   ]
  },
  {
   "cell_type": "code",
   "execution_count": null,
   "metadata": {},
   "outputs": [],
   "source": [
    "df_mu_single_s2e2"
   ]
  },
  {
   "cell_type": "code",
   "execution_count": null,
   "metadata": {},
   "outputs": [],
   "source": [
    "mu2e_plot3d_ptrap_traj([df_mu_single_s2e1, df_e_single_s2e1, df_mu_single_s2e2, df_e_single_s2e2],'z','x','y',df_xray=df_xray,\n",
    "                        title='Long Event', aspect='default')\n",
    "#mu2e_plot3d_ptrap_traj([df_pi_single_s1, df_mu_single_s2e1, df_e_single_s2e1, df_mu_single_s2e2, df_e_single_s2e2],\n",
    "#                       'z','x','y',df_xray=df_xray,\n",
    "#                        title='Bad Pion Adventure', aspect='default')"
   ]
  },
  {
   "cell_type": "code",
   "execution_count": null,
   "metadata": {},
   "outputs": [],
   "source": [
    "possible_signal_index = df_ntpart.query('pdg==11 and p>104 and zstop>11700').index"
   ]
  },
  {
   "cell_type": "code",
   "execution_count": null,
   "metadata": {},
   "outputs": [],
   "source": [
    "cut_index = df_nttvd.loc[possible_signal_index].query('z<9200').index"
   ]
  },
  {
   "cell_type": "code",
   "execution_count": null,
   "metadata": {},
   "outputs": [],
   "source": [
    "df_ntpart.loc[cut_index].size"
   ]
  },
  {
   "cell_type": "code",
   "execution_count": null,
   "metadata": {},
   "outputs": [],
   "source": []
  }
 ],
 "metadata": {
  "kernelspec": {
   "display_name": "Python 3",
   "language": "python",
   "name": "python3"
  },
  "language_info": {
   "codemirror_mode": {
    "name": "ipython",
    "version": 3
   },
   "file_extension": ".py",
   "mimetype": "text/x-python",
   "name": "python",
   "nbconvert_exporter": "python",
   "pygments_lexer": "ipython3",
   "version": "3.6.5"
  }
 },
 "nbformat": 4,
 "nbformat_minor": 2
}
