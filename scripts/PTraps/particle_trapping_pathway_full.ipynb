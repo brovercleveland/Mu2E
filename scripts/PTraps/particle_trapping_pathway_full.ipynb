{
 "cells": [
  {
   "cell_type": "code",
   "execution_count": null,
   "metadata": {},
   "outputs": [],
   "source": [
    "from mu2e import mu2e_ext_path\n",
    "from mu2e.dataframeprod import g4root_to_df\n",
    "from root_pandas import read_root\n",
    "import pandas as pd\n",
    "from mu2e.mu2eplots import mu2e_plot3d_ptrap\n",
    "from mu2e.mu2eplots import mu2e_plot3d_ptrap_traj\n",
    "from mu2e.mu2eplots import mu2e_plot3d_ptrap_anim\n",
    "import mu2e.mu2eplots as mplt\n",
    "import six.moves.cPickle as pkl\n",
    "%matplotlib inline\n",
    "plt.rcParams['figure.figsize'] = (12,8)\n",
    "mu2e_data_path = '/Volumes/DataDump/Mu2E/'\n",
    "from skhep.visual import MplPlotter as splt\n",
    "from matplotlib.colors import LogNorm\n",
    "pd.set_option(\"display.max_columns\",50)\n",
    "from IPython.display import display, HTML"
   ]
  },
  {
   "cell_type": "code",
   "execution_count": null,
   "metadata": {},
   "outputs": [],
   "source": [
    "# Get pions, make a subset df of matching pions and muons\n",
    "\n",
    "#df_ntpart_s1, df_nttvd_s1, _ = g4root_to_df(mu2e_data_path+'pion-st-Mau13/run3_s1/nts.bpollack.pions_Mau13_stage1_vd.v656.combined',\n",
    "#df_ntpart_s1, df_nttvd_s1, _ = g4root_to_df(mu2e_data_path+'pion-st-Mau13/run4/nts.bpollack.pions_Mau13_stage1_vd.v656.000001_00000319',\n",
    "#df_ntpart_s1, df_nttvd_s1, _ = g4root_to_df(mu2e_data_path+'pion-st-cd3-Mau13/run1/nts.bpollack.pions_Mau13_stage1_vd.v656.000001_00001145',\n",
    "#do_basic_modifications=True, trees=['part', 'tvd'])\n",
    "#df_ntpart_s1.set_index(['run', 'subrun', 'evt'], inplace=True)\n",
    "\n",
    "#df_ntpart_s2, df_nttvd_s2, _ = g4root_to_df(mu2e_data_path+'pion-st-Mau13-s2/run1/nts.bpollack.pions_Mau13_stage2_vd.v656.combined',\n",
    "df_ntpart, _, _ = g4root_to_df(mu2e_data_path+'pion-st-full-Mau13-s2/nts.bpollack.pions_Mau13_stage2_vd.v656.resample_combined',\n",
    "do_basic_modifications=True, trees=['part'])\n",
    "df_ntpart.set_index(['run', 'subrun', 'evt', 'job'], inplace=True)\n",
    "#df_nttvd.set_index(['run', 'subrun', 'evt', 'job'], inplace=True)\n"
   ]
  },
  {
   "cell_type": "code",
   "execution_count": null,
   "metadata": {},
   "outputs": [],
   "source": [
    "df_skim = pd.read_hdf(mu2e_data_path+'pion-st-full-Mau13/pion_skim.h5', 'df')"
   ]
  },
  {
   "cell_type": "code",
   "execution_count": null,
   "metadata": {},
   "outputs": [],
   "source": [
    "#df_ntpart_s1, _, _ = g4root_to_df(mu2e_data_path+'pion-st-full-Mau13/run3b/nts.bpollack.pions_Mau13_stage1_vd.v656.combined',\n",
    "#do_basic_modifications=True, trees=['part'])\n",
    "#df_ntpart_s1.set_index(['run', 'subrun', 'evt'], inplace=True)\n",
    "#df_nttvd_s1.set_index(['run', 'subrun', 'evt'], inplace=True)"
   ]
  },
  {
   "cell_type": "code",
   "execution_count": null,
   "metadata": {},
   "outputs": [],
   "source": [
    "df_skim.shape"
   ]
  },
  {
   "cell_type": "code",
   "execution_count": null,
   "metadata": {},
   "outputs": [],
   "source": [
    "golden_index.shape"
   ]
  },
  {
   "cell_type": "code",
   "execution_count": null,
   "metadata": {},
   "outputs": [],
   "source": [
    "df_skim.loc[golden_index].w.describe()"
   ]
  },
  {
   "cell_type": "code",
   "execution_count": null,
   "metadata": {},
   "outputs": [],
   "source": [
    "def calc_weight(p, pz):\n",
    "    cz = pz/p\n",
    "    p1beg = 90\n",
    "    p1end = 120\n",
    "    bp1 = 0.234\n",
    "    p1Norm = bp1/(np.exp(-bp1*p1beg) - np.exp(-bp1*p1end))\n",
    "    \n",
    "    csMax = 0.869\n",
    "    acs =  7.722\n",
    "    bcs = -5.956\n",
    "    ccs =  6.414\n",
    "    csNorm = 0.0161771\n",
    "    \n",
    "    mom_weight = p1Norm*np.exp(-bp1*p)\n",
    "    \n",
    "    cz_weight = csNorm*np.exp(acs*cz+bcs*cz**2+ccs*cz**3)\n",
    "    \n",
    "    return mom_weight*cz_weight"
   ]
  },
  {
   "cell_type": "markdown",
   "metadata": {},
   "source": [
    "To calc prob of going from p>90, 0<cosz<0.82 to a starting S2 muon, take s1 (6e8 events).  Events were gen flat with -1<cz<1 and 55<p<120.  so df_skim.shape[0]/6e8*(0.869/2)*(30/65) = 0.21"
   ]
  },
  {
   "cell_type": "code",
   "execution_count": null,
   "metadata": {},
   "outputs": [],
   "source": [
    "df_ntpart.shape"
   ]
  },
  {
   "cell_type": "code",
   "execution_count": null,
   "metadata": {},
   "outputs": [],
   "source": [
    "df_ntpart.query('tstop>460').shape"
   ]
  },
  {
   "cell_type": "code",
   "execution_count": null,
   "metadata": {},
   "outputs": [],
   "source": [
    "#df_skim_6 = df_ntpart_s1.query('parent_pdg<0 and z>8000 and parent_p>90 and 0<parent_pz/parent_p<0.869')"
   ]
  },
  {
   "cell_type": "code",
   "execution_count": null,
   "metadata": {},
   "outputs": [],
   "source": [
    "#df_skim_6.head()"
   ]
  },
  {
   "cell_type": "code",
   "execution_count": null,
   "metadata": {},
   "outputs": [],
   "source": [
    "#df_pion_skim = pd.concat([df_skim_1, df_skim_2, df_skim_3, df_skim_4, df_skim_5, df_skim_6])"
   ]
  },
  {
   "cell_type": "code",
   "execution_count": null,
   "metadata": {},
   "outputs": [],
   "source": [
    "#df_pion_skim.to_hdf(mu2e_data_path+'pion-st-full-Mau13/pion_skim.h5', 'df')"
   ]
  },
  {
   "cell_type": "code",
   "execution_count": null,
   "metadata": {},
   "outputs": [],
   "source": [
    "df_skim.shape"
   ]
  },
  {
   "cell_type": "code",
   "execution_count": null,
   "metadata": {},
   "outputs": [],
   "source": [
    "df_skim['w'] = calc_weight(df_skim.parent_p, df_skim.parent_pz)\n"
   ]
  },
  {
   "cell_type": "code",
   "execution_count": null,
   "metadata": {},
   "outputs": [],
   "source": [
    "df_skim.w.sum()/df_skim.shape[0]"
   ]
  },
  {
   "cell_type": "code",
   "execution_count": null,
   "metadata": {},
   "outputs": [],
   "source": [
    "_ = splt.hist(df_skim.parent_p)\n",
    "plt.title('pion momentum')\n",
    "plt.figure()\n",
    "_ = splt.hist(df_skim.parent_pz/df_skim.parent_p)\n",
    "plt.title('pion cos(z)')"
   ]
  },
  {
   "cell_type": "code",
   "execution_count": null,
   "metadata": {},
   "outputs": [],
   "source": [
    "_ = splt.hist(df_skim.loc[golden_index].parent_p)\n",
    "plt.title('pion momentum')\n",
    "plt.figure()\n",
    "_ = splt.hist(df_skim.loc[golden_index].parent_pz/df_skim.loc[golden_index].parent_p)\n",
    "plt.title('pion cos(z)')"
   ]
  },
  {
   "cell_type": "code",
   "execution_count": null,
   "metadata": {},
   "outputs": [],
   "source": [
    "store_xray = pd.HDFStore(mu2e_data_path+'G4ParticleSim/low_e_ele_0T_v580.h5')\n",
    "df_xray = store_xray.df_ntpart\n",
    "store_xray.close()"
   ]
  },
  {
   "cell_type": "code",
   "execution_count": null,
   "metadata": {},
   "outputs": [],
   "source": [
    "golden_index = pd.read_pickle('/Users/brianpollack/Coding/Mu2E_Extras/datafiles/golden_index.pkl')"
   ]
  },
  {
   "cell_type": "code",
   "execution_count": null,
   "metadata": {},
   "outputs": [],
   "source": [
    "s2_final_index = df_ntpart.reset_index('job').index.intersection(golden_index)"
   ]
  },
  {
   "cell_type": "code",
   "execution_count": null,
   "metadata": {},
   "outputs": [],
   "source": [
    "df_ntpart_bad = df_ntpart.reset_index('job').loc[s2_final_index]"
   ]
  },
  {
   "cell_type": "code",
   "execution_count": null,
   "metadata": {},
   "outputs": [],
   "source": [
    "splt.hist(df_ntpart.query('pdg==11').parent_p,  label='All Muons', log=True)\n",
    "splt.hist(df_ntpart_bad.query('pdg==11').parent_p,  label='Bad Muons', log=True, alpha=0.8)\n",
    "#splt.hist(df_ntpart.query('pdg==11').reset_index('job').loc[s2_final_index].parent_pz, bins=65, range=(-130,130), label='pz')\n",
    "#splt.hist(df_ntpart.query('pdg==11').reset_index('job').loc[s2_final_index].parent_px, bins=65, range=(-130,130), label='px')\n",
    "#splt.hist(df_ntpart.query('pdg==11').reset_index('job').loc[s2_final_index].parent_py, bins=65, range=(-130,130), label='py')\n",
    "plt.title('Muon Birth Momentum')\n",
    "plt.xlabel('p (MeV)')\n",
    "plt.legend()"
   ]
  },
  {
   "cell_type": "code",
   "execution_count": null,
   "metadata": {},
   "outputs": [],
   "source": [
    "splt.hist(df_ntpart.query('pdg==11').parent_pz/df_ntpart.query('pdg==11').parent_p, label='All Muons', log=True)\n",
    "splt.hist(df_ntpart_bad.query('pdg==11').parent_pz/df_ntpart_bad.query('pdg==11').parent_p, label='Bad Muons', log=True, alpha=0.8)\n",
    "plt.title('Muon Birth Cos(z)')\n",
    "plt.xlabel('cos(z)')\n",
    "plt.legend(loc=2)"
   ]
  },
  {
   "cell_type": "code",
   "execution_count": null,
   "metadata": {},
   "outputs": [],
   "source": [
    "splt.hist(df_ntpart.query('pdg==11').parent_pz, label='pz birth')\n",
    "splt.hist(df_ntpart.query('pdg==11').parent_pzstop, label='pz_decay')\n",
    "plt.title('Bad Muon Birth Z')\n",
    "plt.xlabel('Z (mm)')"
   ]
  },
  {
   "cell_type": "code",
   "execution_count": null,
   "metadata": {},
   "outputs": [],
   "source": [
    "splt.hist(df_ntpart.query('pdg==11').reset_index('job').loc[s2_final_index].z)\n",
    "plt.title('Bad Muon Decay Z')\n",
    "plt.xlabel('Z (mm)')"
   ]
  },
  {
   "cell_type": "code",
   "execution_count": null,
   "metadata": {},
   "outputs": [],
   "source": [
    "splt.hist(df_ntpart.query('pdg==11').pz, bins=65, range=(-130,130), label='pz', )\n",
    "splt.hist(df_ntpart.query('pdg==11').px, bins=65, range=(-130,130), label='px', )\n",
    "splt.hist(df_ntpart.query('pdg==11').py, bins=65, range=(-130,130), label='py',)\n",
    "splt.hist(df_ntpart.query('pdg==11').p, bins=65, range=(-130,130), label='p_mag', )\n",
    "plt.title('Electron Birth Momentum')\n",
    "plt.xlabel('MeV')\n",
    "plt.legend(loc=2)"
   ]
  },
  {
   "cell_type": "code",
   "execution_count": null,
   "metadata": {},
   "outputs": [],
   "source": [
    "splt.hist(df_ntpart.query('pdg==11').pz/df_ntpart.query('pdg==11').p, label='All Electrons', log=True)\n",
    "splt.hist(df_ntpart_bad.query('pdg==11').pz/df_ntpart_bad.query('pdg==11').p, label='Bad Electrons', log=True)\n",
    "plt.title('Electron Birth Cos(z)')\n",
    "plt.xlabel('cos(z)')\n",
    "plt.legend()"
   ]
  },
  {
   "cell_type": "code",
   "execution_count": null,
   "metadata": {},
   "outputs": [],
   "source": [
    "splt.hist(df_ntpart.query('pdg==11').p, label='All Electrons', log=True)\n",
    "splt.hist(df_ntpart_bad.query('pdg==11').p, label='Bad Electrons', log=True, alpha=0.8)\n",
    "plt.title('Electron Birth Momentum')\n",
    "plt.xlabel('p (MeV)')\n",
    "plt.legend()"
   ]
  },
  {
   "cell_type": "code",
   "execution_count": null,
   "metadata": {},
   "outputs": [],
   "source": [
    "splt.hist(df_ntpart.query('pdg==11').tstop, label='All Electrons', log=True)\n",
    "splt.hist(df_ntpart_bad.query('pdg==11').tstop, label='Bad Electrons', log=True, alpha=0.8)\n",
    "plt.title('Electron Termination Time')\n",
    "plt.xlabel('t (ns)')\n",
    "plt.legend()"
   ]
  },
  {
   "cell_type": "code",
   "execution_count": null,
   "metadata": {},
   "outputs": [],
   "source": [
    "splt.hist(df_ntpart.query('pdg==11').zstop, log=True)\n",
    "plt.title('Electron Termination Z')\n",
    "plt.xlabel('Z (mm)')"
   ]
  },
  {
   "cell_type": "code",
   "execution_count": null,
   "metadata": {},
   "outputs": [],
   "source": [
    "splt.hist(df_ntpart.query('pdg==11').tstop, log=True)\n",
    "plt.title('Electron Termination Time (not including S0 time)')\n",
    "plt.xlabel('t (ns)')"
   ]
  },
  {
   "cell_type": "code",
   "execution_count": null,
   "metadata": {},
   "outputs": [],
   "source": [
    "plt.hexbin(df_ntpart.p, df_ntpart.tstop, bins='log')\n",
    "plt.colorbar()\n",
    "plt.title('Electron Mom vs Stop Time')\n",
    "plt.xlabel('p (MeV)')\n",
    "plt.ylabel('t (ns)')"
   ]
  },
  {
   "cell_type": "code",
   "execution_count": null,
   "metadata": {},
   "outputs": [],
   "source": [
    "plt.hexbin(df_ntpart.query('tstop>200').p, df_ntpart.query('tstop>200').tstop, bins='log')\n",
    "plt.colorbar()\n",
    "plt.title('Electron Mom vs Stop Time')\n",
    "plt.xlabel('p (MeV)')\n",
    "plt.ylabel('t (ns)')"
   ]
  },
  {
   "cell_type": "code",
   "execution_count": null,
   "metadata": {},
   "outputs": [],
   "source": [
    "plt.hexbin(df_ntpart.p, df_ntpart.zstop, bins='log')\n",
    "plt.colorbar()\n",
    "plt.title('Electron Mom vs Stop Position')\n",
    "plt.xlabel('p (MeV)')\n",
    "plt.ylabel('Z (mm)')"
   ]
  },
  {
   "cell_type": "code",
   "execution_count": null,
   "metadata": {},
   "outputs": [],
   "source": [
    "long_live_index = df_ntpart.query('pdg==11 and tstop>200').index"
   ]
  },
  {
   "cell_type": "code",
   "execution_count": null,
   "metadata": {},
   "outputs": [],
   "source": [
    "df_nttvd = df_nttvd.loc[long_live_index]"
   ]
  },
  {
   "cell_type": "code",
   "execution_count": null,
   "metadata": {},
   "outputs": [],
   "source": [
    "mu2e_plot3d_ptrap(df_ntpart.ix[0:50000],\n",
    "                  'parent_z','parent_x','parent_y', x_range=[3700,17500], y_range = [-1000,1000], z_range=[-1000,1000], save_name=None,\n",
    "                   df_xray=df_xray, color='parent_p', title='Muon position at stage2 start')"
   ]
  },
  {
   "cell_type": "code",
   "execution_count": null,
   "metadata": {},
   "outputs": [],
   "source": [
    "df_ntpart.reset_index('job').loc[s2_final_index].sort_values('tstop').tail()"
   ]
  },
  {
   "cell_type": "code",
   "execution_count": null,
   "metadata": {},
   "outputs": [],
   "source": [
    "df_pi_single_s1 = df_nttvd_s1.query('run==1 and subrun==1323 and evt==92392 and pdg<0').sort_values('time')\n",
    "df_pi_single_s1.name = 'Pion'\n",
    "#df_mu_single_s2e1 = df_nttvd.query('run==2 and subrun==291 and evt==8831 and job ==9076398 and pdg==13').sort_values('time')\n",
    "#df_mu_single_s2e1.name = 'Muon1'\n",
    "#df_e_single_s2e1 = df_nttvd.query('run==2 and subrun==291 and evt==8831 and job ==9076398 and pdg==11').sort_values('time')\n",
    "#df_e_single_s2e1.name = 'Electron1'\n",
    "\n",
    "df_mu_single_s2e1 = df_nttvd.query('run==1 and subrun==1323 and evt==92392 and job ==9076384 and pdg==13').sort_values('time')\n",
    "df_mu_single_s2e1.name = 'Muon'\n",
    "df_e_single_s2e1 = df_nttvd.query('run==1 and subrun==1323 and evt==92392 and job ==9076384 and pdg==11').sort_values('time')\n",
    "df_e_single_s2e1.name = 'Electron'\n",
    "\n",
    "#df_mu_single_s2e2 = df_nttvd.query('run==1 and subrun==1679 and evt==60831 and job==9075987 and pdg==13').sort_values('time')\n",
    "#df_mu_single_s2e2.name = 'Muon2'\n",
    "#df_e_single_s2e2 = df_nttvd.query('run==1 and subrun==1679 and evt==60831 and job==9075987 and pdg==11').sort_values('time')\n",
    "#df_e_single_s2e2.name = 'Electron2'"
   ]
  },
  {
   "cell_type": "code",
   "execution_count": null,
   "metadata": {},
   "outputs": [],
   "source": [
    "del df_nttvd\n",
    "del df_nttvd_s1"
   ]
  },
  {
   "cell_type": "code",
   "execution_count": null,
   "metadata": {},
   "outputs": [],
   "source": [
    "mu2e_plot3d_ptrap_traj([df_pi_single_s1, df_mu_single_s2e1, df_e_single_s2e1],'z','x','y',df_xray=df_xray,\n",
    "                        title='Long Event', aspect='default')\n",
    "#mu2e_plot3d_ptrap_traj([df_pi_single_s1, df_mu_single_s2e1, df_e_single_s2e1, df_mu_single_s2e2, df_e_single_s2e2],\n",
    "#                       'z','x','y',df_xray=df_xray,\n",
    "#                        title='Bad Pion Adventure', aspect='default')"
   ]
  },
  {
   "cell_type": "code",
   "execution_count": null,
   "metadata": {},
   "outputs": [],
   "source": [
    "possible_signal_index = df_ntpart.query('pdg==11 and p>104 and zstop>11700').index"
   ]
  },
  {
   "cell_type": "code",
   "execution_count": null,
   "metadata": {},
   "outputs": [],
   "source": [
    "cut_index = df_nttvd.loc[possible_signal_index].query('z<9200').index"
   ]
  },
  {
   "cell_type": "code",
   "execution_count": null,
   "metadata": {},
   "outputs": [],
   "source": [
    "df_ntpart.loc[cut_index].size"
   ]
  },
  {
   "cell_type": "code",
   "execution_count": null,
   "metadata": {},
   "outputs": [],
   "source": []
  },
  {
   "cell_type": "code",
   "execution_count": null,
   "metadata": {},
   "outputs": [],
   "source": []
  }
 ],
 "metadata": {
  "kernelspec": {
   "display_name": "Python 3",
   "language": "python",
   "name": "python3"
  },
  "language_info": {
   "codemirror_mode": {
    "name": "ipython",
    "version": 3
   },
   "file_extension": ".py",
   "mimetype": "text/x-python",
   "name": "python",
   "nbconvert_exporter": "python",
   "pygments_lexer": "ipython3",
   "version": "3.6.5"
  }
 },
 "nbformat": 4,
 "nbformat_minor": 2
}
