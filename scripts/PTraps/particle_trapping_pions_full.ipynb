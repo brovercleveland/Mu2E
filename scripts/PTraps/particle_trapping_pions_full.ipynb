{
 "cells": [
  {
   "cell_type": "code",
   "execution_count": null,
   "metadata": {},
   "outputs": [],
   "source": [
    "from mu2e import mu2e_ext_path\n",
    "from mu2e.dataframeprod import g4root_to_df\n",
    "from root_pandas import read_root\n",
    "import pandas as pd\n",
    "from mu2e.mu2eplots import mu2e_plot3d_ptrap\n",
    "from mu2e.mu2eplots import mu2e_plot3d_ptrap_traj\n",
    "from mu2e.mu2eplots import mu2e_plot3d_ptrap_anim\n",
    "import mu2e.mu2eplots as mplt\n",
    "import six.moves.cPickle as pkl\n",
    "%matplotlib inline\n",
    "plt.rcParams['figure.figsize'] = (12,8)\n",
    "mu2e_data_path = '/Volumes/DataDump/Mu2E/'\n",
    "from skhep.visual import MplPlotter as splt\n",
    "from matplotlib.colors import LogNorm\n",
    "pd.set_option(\"display.max_columns\",50)"
   ]
  },
  {
   "cell_type": "code",
   "execution_count": null,
   "metadata": {},
   "outputs": [],
   "source": [
    "# Get pions, make a subset df of matching pions and muons\n",
    "df = read_root(mu2e_data_path+'pion-cd3-st-Mau12/nts.bpollack.pions_Mau12_stage1_vd.v650p.combined.root')\n",
    "\n",
    "# df_mu_and_pi = df_ntpart.loc[df_ntpart.query('pdg==-211').index]\n",
    "# df_mu_and_pi = df_mu_and_pi.loc[df_mu_and_pi.query('pdg==13').index]"
   ]
  },
  {
   "cell_type": "code",
   "execution_count": null,
   "metadata": {},
   "outputs": [],
   "source": [
    "df.query('hits_pz>0', inplace=True)"
   ]
  },
  {
   "cell_type": "code",
   "execution_count": null,
   "metadata": {},
   "outputs": [],
   "source": [
    "df.hits_pmag.max()"
   ]
  },
  {
   "cell_type": "code",
   "execution_count": null,
   "metadata": {},
   "outputs": [],
   "source": [
    "df.query('hits_pmag>80').hist('tau')\n",
    "df.query('50<hits_pmag<80').hist('tau')"
   ]
  },
  {
   "cell_type": "code",
   "execution_count": null,
   "metadata": {},
   "outputs": [],
   "source": [
    "splt.hist(df.query('hits_pmag>80').hits_pz, bins=65, range=(-130,130))\n",
    "splt.hist(df.query('hits_pmag>80').hits_px, bins=65, range=(-130,130))\n",
    "splt.hist(df.query('hits_pmag>80').hits_py, bins=65, range=(-130,130))"
   ]
  },
  {
   "cell_type": "code",
   "execution_count": null,
   "metadata": {},
   "outputs": [],
   "source": [
    "splt.hist(df.query('hits_pmag>80').hits_pz/df.query('hits_pmag>80').hits_pmag)"
   ]
  },
  {
   "cell_type": "code",
   "execution_count": null,
   "metadata": {},
   "outputs": [],
   "source": [
    "plt.hexbin(df.query('hits_pmag>80').hits_x, df.query('hits_pmag>80').hits_y)\n",
    "plt.colorbar()\n",
    "plt.title('Position for pion>80 MeV')\n",
    "plt.xlabel('X (mm)')\n",
    "plt.ylabel('Y (mm)')"
   ]
  },
  {
   "cell_type": "code",
   "execution_count": null,
   "metadata": {},
   "outputs": [],
   "source": [
    "plt.hexbin(df.hits_pmag, df.hits_y, bins='log')\n",
    "plt.colorbar()\n",
    "plt.title('Mom vs Y-Pos')\n",
    "plt.xlabel('p (MeV)')\n",
    "plt.ylabel('Y (mm)')"
   ]
  },
  {
   "cell_type": "code",
   "execution_count": null,
   "metadata": {},
   "outputs": [],
   "source": [
    "plt.hexbin(df.hits_pmag, df.hits_x, bins='log')\n",
    "plt.colorbar()\n",
    "plt.title('Mom vs X-Pos')\n",
    "plt.xlabel('p (MeV)')\n",
    "plt.ylabel('X (mm)')"
   ]
  },
  {
   "cell_type": "code",
   "execution_count": null,
   "metadata": {},
   "outputs": [],
   "source": []
  }
 ],
 "metadata": {
  "kernelspec": {
   "display_name": "Python 3",
   "language": "python",
   "name": "python3"
  },
  "language_info": {
   "codemirror_mode": {
    "name": "ipython",
    "version": 3
   },
   "file_extension": ".py",
   "mimetype": "text/x-python",
   "name": "python",
   "nbconvert_exporter": "python",
   "pygments_lexer": "ipython3",
   "version": "3.6.5"
  }
 },
 "nbformat": 4,
 "nbformat_minor": 2
}
