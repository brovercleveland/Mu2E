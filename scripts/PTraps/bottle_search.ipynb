{
 "cells": [
  {
   "cell_type": "code",
   "execution_count": null,
   "metadata": {},
   "outputs": [],
   "source": [
    "import os\n",
    "from time import sleep\n",
    "import pandas as pd\n",
    "import plotly.plotly as py\n",
    "from mu2e import mu2e_ext_path\n",
    "from mu2e.dataframeprod import DataFrameMaker\n",
    "from mu2e.mu2eplots import mu2e_plot, mu2e_plot3d, mu2e_plot3d_ptrap\n",
    "from skhep.visual import MplPlotter as splt\n",
    "from matplotlib import gridspec\n",
    "%matplotlib inline\n",
    "plt.rcParams['figure.figsize'] = (12,8)"
   ]
  },
  {
   "cell_type": "code",
   "execution_count": null,
   "metadata": {},
   "outputs": [],
   "source": [
    "df_mau12 = DataFrameMaker(mu2e_ext_path+'datafiles/Mau12/DSMap',input_type = 'pkl').data_frame\n",
    "df_mau13 = DataFrameMaker(mu2e_ext_path+'datafiles/Mau13/Mu2e_DSMap_V13',input_type = 'pkl').data_frame\n",
    "df_mau13nb = DataFrameMaker(mu2e_ext_path+'datafiles/Mau13/DSMap_NoBus_V13',input_type = 'pkl').data_frame\n",
    "df_GA05 = DataFrameMaker(mu2e_ext_path+'datafiles/FieldMapsGA05/DSMap',input_type = 'pkl').data_frame\n",
    "df_mu_r1 = pd.read_pickle('mau12_700ns_r1.p')\n",
    "df_mu_r1_ring1 = df_mu_r1.query('zstop<5300')\n",
    "df_mu_r1_ring1 = df_mu_r1_ring1.astype(float)\n",
    "df_mu_r2 = pd.read_pickle('mau12_700ns_r2.p').astype(float)"
   ]
  },
  {
   "cell_type": "code",
   "execution_count": null,
   "metadata": {},
   "outputs": [],
   "source": [
    "df_mau12_highlight = df_mau12.copy()\n",
    "df_mau12_highlight['Br'][df_mau12_highlight.Br < 0] = -1000\n",
    "df_mau12_highlight['Br'][df_mau12_highlight.Br > 0] = 1000\n",
    "df_mau12_highlight['Bphi'][df_mau12_highlight.Bphi < 0] = -1000\n",
    "df_mau12_highlight['Bphi'][df_mau12_highlight.Bphi > 0] = 1000\n",
    "df_mau12_highlight['Bz'][df_mau12_highlight.Bz < 0] = -1000\n",
    "df_mau12_highlight['Bz'][df_mau12_highlight.Bz > 0] = 1000\n",
    "\n",
    "df_mau13_highlight = df_mau13.copy()\n",
    "df_mau13_highlight['Br'][df_mau13_highlight.Br < 0] = -1000\n",
    "df_mau13_highlight['Br'][df_mau13_highlight.Br > 0] = 1000\n",
    "df_mau13_highlight['Bphi'][df_mau13_highlight.Bphi < 0] = -1000\n",
    "df_mau13_highlight['Bphi'][df_mau13_highlight.Bphi > 0] = 1000\n",
    "df_mau13_highlight['Bz'][df_mau13_highlight.Bz < 0] = -1000\n",
    "df_mau13_highlight['Bz'][df_mau13_highlight.Bz > 0] = 1000\n",
    "\n",
    "df_mau13nb_highlight = df_mau13nb.copy()\n",
    "df_mau13nb_highlight['Br'][df_mau13nb_highlight.Br < 0] = -1000\n",
    "df_mau13nb_highlight['Br'][df_mau13nb_highlight.Br > 0] = 1000\n",
    "df_mau13nb_highlight['Bphi'][df_mau13nb_highlight.Bphi < 0] = -1000\n",
    "df_mau13nb_highlight['Bphi'][df_mau13nb_highlight.Bphi > 0] = 1000\n",
    "df_mau13nb_highlight['Bz'][df_mau13nb_highlight.Bz < 0] = -1000\n",
    "df_mau13nb_highlight['Bz'][df_mau13nb_highlight.Bz > 0] = 1000"
   ]
  },
  {
   "cell_type": "code",
   "execution_count": null,
   "metadata": {},
   "outputs": [],
   "source": [
    "df_mu_r1_ring1['rstop'] = np.sqrt(df_mu_r1_ring1.ystop**2+df_mu_r1_ring1.xstop**2)\n",
    "df_mu_r2['rstop'] = np.sqrt(df_mu_r2.ystop**2+df_mu_r2.xstop**2)"
   ]
  },
  {
   "cell_type": "code",
   "execution_count": null,
   "metadata": {},
   "outputs": [],
   "source": [
    "mu2e_plot3d(df_mau12, 'Z', 'X', 'Br', 'Y==0 and R<900 and 6000<Z<13000',\n",
    "            info = 'Mau11', df_fit=False, mode='plotly_nb', ptype='3d')"
   ]
  },
  {
   "cell_type": "code",
   "execution_count": null,
   "metadata": {},
   "outputs": [],
   "source": [
    "mu2e_plot3d(df_mau12, 'X', 'Y', 'Br', 'Z==11771 and R<900',\n",
    "            info = 'Mau11', df_fit=False, mode='plotly_nb', ptype='3d')"
   ]
  },
  {
   "cell_type": "code",
   "execution_count": null,
   "metadata": {},
   "outputs": [],
   "source": [
    "mu2e_plot3d_ptrap(df_mu_r2.query('zstop>11700 and pstop>75'),\n",
    "                  'zstop','xstop','ystop', x_range=[3700,17500], y_range = [-1000,1000], z_range=[-1000,1000], save_name=None,\n",
    "                   df_xray=None, color='pstop', title='Muon position at t=700ns (permanent trap)')"
   ]
  },
  {
   "cell_type": "code",
   "execution_count": null,
   "metadata": {},
   "outputs": [],
   "source": [
    "splt.hist(df_mu_r1_ring1.query('rstop>800').zstop.values, normed=True, range = (4800, 5250), bins=20, errorbars=True, label='r>800')\n",
    "splt.hist(df_mu_r1_ring1.query('rstop<600').zstop.values, normed=True, range = (4800, 5250), histtype='step', bins=20, errorbars=True, label='r<600')\n",
    "plt.title('OPA Ring 1 Trap Width')\n",
    "plt.xlabel('Z (mm)')\n",
    "plt.ylabel('Counts (Normalized)')\n",
    "plt.legend()\n",
    "plt.axvline(x=4850, color='k', linestyle='--')\n",
    "plt.axvline(x=5175, color='k', linestyle='--')"
   ]
  },
  {
   "cell_type": "code",
   "execution_count": null,
   "metadata": {},
   "outputs": [],
   "source": [
    "df_one_dim = df_mau12.query('Y==-25 and X==-700 and 11000<Z<13000')"
   ]
  },
  {
   "cell_type": "code",
   "execution_count": null,
   "metadata": {},
   "outputs": [],
   "source": [
    "df_one_dim['dBz'] = np.gradient(df_one_dim.Bz, 25)\n",
    "df_one_dim['dBr'] = np.gradient(df_one_dim.Br, 25)\n",
    "df_one_dim['dBphi'] = np.gradient(df_one_dim.Bphi, 25)\n",
    "\n",
    "df_one_dim['Bmag'] = np.sqrt(df_one_dim.Bz**2+df_one_dim.Br**2+df_one_dim.Bphi**2)\n",
    "df_one_dim['dBmag'] = np.gradient(df_one_dim.Bmag, 25)"
   ]
  },
  {
   "cell_type": "code",
   "execution_count": null,
   "metadata": {},
   "outputs": [],
   "source": [
    "#plt.plot(df_one_dim['Z'],df_one_dim['Bz'])\n",
    "#plt.plot(df_one_dim['Z'],df_one_dim['dBz'])\n",
    "\n",
    "fig, ax1 = plt.subplots()\n",
    "ax1.plot(df_one_dim['Z'],df_one_dim['Bz'], color='C0')\n",
    "ax1.set_xlabel('Z (mm)')\n",
    "# Make the y-axis label, ticks and tick labels match the line color.\n",
    "ax1.set_ylabel('Field Strength (T)', color='C0')\n",
    "ax1.tick_params('y', colors='C0')\n",
    "\n",
    "ax2 = ax1.twinx()\n",
    "ax2.plot(df_one_dim['Z'],df_one_dim['dBz'], color='C1')\n",
    "ax2.set_ylabel('Field Gradient (T/mm)', color='C1')\n",
    "ax2.tick_params('y', colors='C1')\n",
    "plt.axvline(x=11750, color='k', linestyle='--')\n",
    "plt.axvline(x=11810, color='k', linestyle='--')\n",
    "\n",
    "fig.tight_layout()\n",
    "plt.title('Bz')"
   ]
  },
  {
   "cell_type": "code",
   "execution_count": null,
   "metadata": {},
   "outputs": [],
   "source": [
    "fig, ax1 = plt.subplots()\n",
    "ax1.plot(df_one_dim['Z'],df_one_dim['Br'], color='C0')\n",
    "ax1.set_xlabel('Z (mm)')\n",
    "# Make the y-axis label, ticks and tick labels match the line color.\n",
    "ax1.set_ylabel('Field Strength (T)', color='C0')\n",
    "ax1.tick_params('y', colors='C0')\n",
    "plt.axhline(y=0, color='k', linestyle='--')\n",
    "\n",
    "\n",
    "ax2 = ax1.twinx()\n",
    "ax2.plot(df_one_dim['Z'],df_one_dim['dBr'], color='C1')\n",
    "ax2.set_ylabel('Field Gradient (T/mm)', color='C1')\n",
    "ax2.tick_params('y', colors='C1')\n",
    "plt.axvline(x=11750, color='k', linestyle='--')\n",
    "plt.axvline(x=11810, color='k', linestyle='--')\n",
    "\n",
    "\n",
    "fig.tight_layout()\n",
    "plt.title('Br')"
   ]
  },
  {
   "cell_type": "code",
   "execution_count": null,
   "metadata": {},
   "outputs": [],
   "source": [
    "fig, ax1 = plt.subplots()\n",
    "ax1.plot(df_one_dim['Z'],df_one_dim['Bphi'], color='C0')\n",
    "ax1.set_xlabel('Z (mm)')\n",
    "# Make the y-axis label, ticks and tick labels match the line color.\n",
    "ax1.set_ylabel('Field Strength (T)', color='C0')\n",
    "ax1.tick_params('y', colors='C0')\n",
    "\n",
    "ax2 = ax1.twinx()\n",
    "ax2.plot(df_one_dim['Z'],df_one_dim['dBphi'], color='C1')\n",
    "ax2.set_ylabel('Field Gradient (T/mm)', color='C1')\n",
    "ax2.tick_params('y', colors='C1')\n",
    "plt.axvline(x=11750, color='k', linestyle='--')\n",
    "plt.axvline(x=11810, color='k', linestyle='--')\n",
    "\n",
    "\n",
    "fig.tight_layout()\n",
    "plt.title('Bphi')"
   ]
  },
  {
   "cell_type": "code",
   "execution_count": null,
   "metadata": {},
   "outputs": [],
   "source": [
    "fig, ax1 = plt.subplots()\n",
    "ax1.plot(df_one_dim['Z'],df_one_dim['Bmag'], color='C0')\n",
    "ax1.set_xlabel('Z (mm)')\n",
    "# Make the y-axis label, ticks and tick labels match the line color.\n",
    "ax1.set_ylabel('Field Strength (T)', color='C0')\n",
    "ax1.tick_params('y', colors='C0')\n",
    "\n",
    "ax2 = ax1.twinx()\n",
    "ax2.plot(df_one_dim['Z'],df_one_dim['dBmag'], color='C1')\n",
    "ax2.set_ylabel('Field Gradient (T/mm)', color='C1')\n",
    "ax2.tick_params('y', colors='C1')\n",
    "plt.axvline(x=4850, color='k', linestyle='--')\n",
    "plt.axvline(x=5175, color='k', linestyle='--')\n",
    "\n",
    "\n",
    "fig.tight_layout()\n",
    "plt.title('Bmag')"
   ]
  },
  {
   "cell_type": "code",
   "execution_count": null,
   "metadata": {},
   "outputs": [],
   "source": [
    "splt.hist(df_mu_r1.query('pstop>75').pzstop.values)"
   ]
  },
  {
   "cell_type": "code",
   "execution_count": null,
   "metadata": {},
   "outputs": [],
   "source": [
    "plt.axhline?"
   ]
  },
  {
   "cell_type": "code",
   "execution_count": null,
   "metadata": {},
   "outputs": [],
   "source": [
    "mu2e_plot3d(df_mau12, 'Z', 'X', 'Bphi', 'Y==1100',\n",
    "            info = 'Mau12', df_fit=False, mode='plotly_nb', ptype='heat')"
   ]
  },
  {
   "cell_type": "code",
   "execution_count": null,
   "metadata": {},
   "outputs": [],
   "source": [
    "mu2e_plot3d(df_mau12, 'X', 'Y', 'Bphi', 'Z==12021',\n",
    "            info = 'Mau12', df_fit=False, mode='plotly_nb', ptype='heat')"
   ]
  },
  {
   "cell_type": "code",
   "execution_count": null,
   "metadata": {},
   "outputs": [],
   "source": [
    "mu2e_plot3d(df_mau12, 'X', 'Y', 'Phi', 'Z==12021',\n",
    "            info = 'Mau12', df_fit=False, mode='plotly_nb', ptype='heat')"
   ]
  },
  {
   "cell_type": "code",
   "execution_count": null,
   "metadata": {},
   "outputs": [],
   "source": [
    "mu2e_plot3d(df_mau12_highlight, 'X', 'Y', 'Br', 'Z==11971',\n",
    "            info = 'Mau12', df_fit=False, mode='plotly_nb', ptype='heat')"
   ]
  },
  {
   "cell_type": "code",
   "execution_count": null,
   "metadata": {},
   "outputs": [],
   "source": [
    "mu2e_plot3d(df_mau13_highlight, 'X', 'Y', 'Br', 'Z==11971',\n",
    "            info = 'Mau13', df_fit=False, mode='plotly_nb', ptype='heat')"
   ]
  },
  {
   "cell_type": "code",
   "execution_count": null,
   "metadata": {},
   "outputs": [],
   "source": [
    "mu2e_plot3d(df_mau12_highlight, 'X', 'Y', 'Bphi', 'Z==12021',\n",
    "            info = 'Mau12', df_fit=False, mode='plotly_nb', ptype='heat')"
   ]
  },
  {
   "cell_type": "code",
   "execution_count": null,
   "metadata": {},
   "outputs": [],
   "source": [
    "_ = mu2e_plot3d(df_mau12_highlight, 'X', 'Y', 'Bphi', 'Z==12021',\n",
    "            info = 'Mau12', df_fit=False, mode='plotly_nb', ptype='heat')"
   ]
  },
  {
   "cell_type": "code",
   "execution_count": null,
   "metadata": {},
   "outputs": [],
   "source": [
    "_ = mu2e_plot3d(df_mau12_highlight, 'Z', 'Y', 'Br', 'X==0 and R<1000',\n",
    "            info = 'Mau12', df_fit=False, mode='plotly_nb', ptype='heat')"
   ]
  },
  {
   "cell_type": "code",
   "execution_count": null,
   "metadata": {},
   "outputs": [],
   "source": [
    "_ = mu2e_plot3d(df_mau13_highlight, 'Z', 'X', 'Br', 'Y==0 and R<1000',\n",
    "            info = 'Mau13', df_fit=False, mode='plotly_nb', ptype='heat')"
   ]
  },
  {
   "cell_type": "code",
   "execution_count": null,
   "metadata": {},
   "outputs": [],
   "source": [
    "_ = mu2e_plot3d(df_mau13nb_highlight, 'Z', 'X', 'Br', 'Y==0 and R<1000',\n",
    "            info = 'Mau13 No Bus', df_fit=False, mode='plotly_nb', ptype='heat')"
   ]
  },
  {
   "cell_type": "code",
   "execution_count": null,
   "metadata": {},
   "outputs": [],
   "source": [
    "mu2e_plot3d(df_mau12, 'Z', 'X', 'Bphi', 'Y==0 and R<1000',\n",
    "            info = 'Mau12', df_fit=False, mode='plotly_nb', ptype='heat')"
   ]
  },
  {
   "cell_type": "code",
   "execution_count": null,
   "metadata": {},
   "outputs": [],
   "source": [
    "mu2e_plot3d(df_GA05_highlight, 'Z', 'X', 'Br', 'Y==0 and R<1000',\n",
    "            info = 'GA05', df_fit=False, mode='plotly_nb', ptype='heat')"
   ]
  },
  {
   "cell_type": "code",
   "execution_count": null,
   "metadata": {},
   "outputs": [],
   "source": [
    "mu2e_plot3d(df_GA05_highlight, 'Z', 'Y', 'Br', 'X==0 and R<1000',\n",
    "            info = 'GA05', df_fit=False, mode='plotly_nb', ptype='heat')"
   ]
  },
  {
   "cell_type": "code",
   "execution_count": null,
   "metadata": {},
   "outputs": [],
   "source": [
    "ax = mu2e_plot(df_GA05, 'Z', 'Br', 'Y==0 and X==400 and 6000<Z<13000',\n",
    "            info = 'GA05', mode='mpl')\n",
    "mu2e_plot(df_mau12, 'Z', 'Br', 'Y==0 and X==400 and 6000<Z<13000',\n",
    "            info = 'Mau12', mode='mpl', ax=ax)\n",
    "mu2e_plot(df_mau13, 'Z', 'Br', 'Y==0 and X==400 and 6000<Z<13000',\n",
    "            info = 'Mau13', mode='mpl', ax=ax)"
   ]
  },
  {
   "cell_type": "code",
   "execution_count": null,
   "metadata": {},
   "outputs": [],
   "source": [
    "mu2e_plot3d(df_mau12, 'X', 'Y', 'Bphi', 'Z==11771',\n",
    "            info = 'Mau12', df_fit=False, mode='plotly_nb', ptype='heat')"
   ]
  },
  {
   "cell_type": "code",
   "execution_count": null,
   "metadata": {},
   "outputs": [],
   "source": []
  },
  {
   "cell_type": "code",
   "execution_count": null,
   "metadata": {},
   "outputs": [],
   "source": [
    "mu2e_plot3d(df_mau12_highlight, 'Z', 'X', 'Br', 'Y==0 and R<1000',\n",
    "            info = 'Mau12', df_fit=False, mode='plotly_nb', ptype='heat')"
   ]
  },
  {
   "cell_type": "code",
   "execution_count": null,
   "metadata": {},
   "outputs": [],
   "source": [
    "angle=0\n",
    "mu2e_plot3d(df_mau12_highlight, 'Z', 'R', 'Br', f'R<1000 and Phi=={angle}',\n",
    "            info = 'Mau12', df_fit=False, mode='plotly_nb', ptype='heat')\n",
    "sleep(0.5)\n",
    "angle=0.463648\n",
    "mu2e_plot3d(df_mau12_highlight, 'Z', 'R', 'Br', f'R<1000 and Phi=={angle}',\n",
    "            info = 'Mau12', df_fit=False, mode='plotly_nb', ptype='heat')\n",
    "sleep(0.5)\n",
    "angle=np.pi/4\n",
    "mu2e_plot3d(df_mau12_highlight, 'Z', 'R', 'Br', f'R<1000 and Phi=={angle}',\n",
    "            info = 'Mau12', df_fit=False, mode='plotly_nb', ptype='heat')\n",
    "sleep(0.5)\n",
    "angle=1.107149\n",
    "mu2e_plot3d(df_mau12_highlight, 'Z', 'R', 'Br', f'R<1000 and Phi=={angle}',\n",
    "            info = 'Mau12', df_fit=False, mode='plotly_nb', ptype='heat')\n",
    "sleep(0.5)\n",
    "angle=np.pi/2\n",
    "mu2e_plot3d(df_mau12_highlight, 'Z', 'R', 'Br', f'R<1000 and Phi=={angle}',\n",
    "            info = 'Mau12', df_fit=False, mode='plotly_nb', ptype='heat')\n",
    "sleep(0.5)\n",
    "angle=2.034444\n",
    "mu2e_plot3d(df_mau12_highlight, 'Z', 'R', 'Br', f'R<1000 and Phi=={angle}',\n",
    "            info = 'Mau12', df_fit=False, mode='plotly_nb', ptype='heat')\n",
    "sleep(0.5)\n",
    "angle=3*np.pi/4\n",
    "mu2e_plot3d(df_mau12_highlight, 'Z', 'R', 'Br', f'R<1000 and Phi=={angle}',\n",
    "            info = 'Mau12', df_fit=False, mode='plotly_nb', ptype='heat')\n",
    "sleep(0.5)\n",
    "angle=2.677945\n",
    "mu2e_plot3d(df_mau12_highlight, 'Z', 'R', 'Br', f'R<1000 and Phi=={angle}',\n",
    "            info = 'Mau12', df_fit=False, mode='plotly_nb', ptype='heat')"
   ]
  },
  {
   "cell_type": "code",
   "execution_count": null,
   "metadata": {},
   "outputs": [],
   "source": [
    "for z in range(9521,12521,25):\n",
    "    fig = plt.figure(figsize=(24, 12))\n",
    "    gs = gridspec.GridSpec(2, 2, height_ratios=[3, 1], width_ratios=[1,1])\n",
    "    ax0 = plt.subplot(gs[0])\n",
    "    fig = mu2e_plot3d(df_mau13_highlight, 'X', 'Y', 'Br', f'Z=={z} and R<1000',\n",
    "                info = 'Mau13', df_fit=False, mode='mpl', ptype='heat', ax=ax0)\n",
    "    ax2 = plt.subplot(gs[2])\n",
    "    fig = mu2e_plot3d(df_mau13_highlight, 'Z', 'X', 'Br', 'Y==0 and R<1000',\n",
    "                info = 'Mau13', df_fit=False, mode='mpl', ptype='heat', ax=ax2, do_title=False)\n",
    "    ax2.axvline(x=z, color='red')\n",
    "    ax1 = plt.subplot(gs[1])\n",
    "    fig = mu2e_plot3d(df_mau13nb_highlight, 'X', 'Y', 'Br', f'Z=={z} and R<1000',\n",
    "                info = 'Mau13 No Bus', df_fit=False, mode='mpl', ptype='heat', ax=ax1)\n",
    "    ax3 = plt.subplot(gs[3])\n",
    "    fig = mu2e_plot3d(df_mau13nb_highlight, 'Z', 'X', 'Br', 'Y==0 and R<1000',\n",
    "                info = 'Mau13 No Bus', df_fit=False, mode='mpl', ptype='heat', ax=ax3, do_title=False)\n",
    "    ax3.axvline(x=z, color='red')\n",
    "    plt.savefig(f'/Users/brianpollack/Downloads/CT_Scan/comp_slice_z={z}.png', bbox_inches='tight')\n",
    "    sleep(0.5)\n",
    "    plt.close()"
   ]
  },
  {
   "cell_type": "code",
   "execution_count": null,
   "metadata": {},
   "outputs": [],
   "source": [
    "z = 10021\n",
    "fig = plt.figure(figsize=(24, 12))\n",
    "gs = gridspec.GridSpec(2, 2, height_ratios=[3, 1], width_ratios=[1,1])\n",
    "ax0 = plt.subplot(gs[0])\n",
    "fig = mu2e_plot3d(df_mau13_highlight, 'X', 'Y', 'Br', f'Z=={z} and R<1000',\n",
    "            info = 'Mau13', df_fit=False, mode='mpl', ptype='heat', ax=ax0)\n",
    "ax2 = plt.subplot(gs[2])\n",
    "fig = mu2e_plot3d(df_mau13_highlight, 'Z', 'X', 'Br', 'Y==0 and R<1000',\n",
    "            info = 'Mau13', df_fit=False, mode='mpl', ptype='heat', ax=ax2, do_title=False)\n",
    "ax2.axvline(x=z, color='red')\n",
    "ax1 = plt.subplot(gs[1])\n",
    "fig = mu2e_plot3d(df_mau13nb_highlight, 'X', 'Y', 'Br', f'Z=={z} and R<1000',\n",
    "            info = 'Mau13 No Bus', df_fit=False, mode='mpl', ptype='heat', ax=ax1)\n",
    "ax3 = plt.subplot(gs[3])\n",
    "fig = mu2e_plot3d(df_mau13nb_highlight, 'Z', 'X', 'Br', 'Y==0 and R<1000',\n",
    "            info = 'Mau13 No Bus', df_fit=False, mode='mpl', ptype='heat', ax=ax3, do_title=False)\n",
    "ax3.axvline(x=z, color='red')\n"
   ]
  },
  {
   "cell_type": "code",
   "execution_count": null,
   "metadata": {},
   "outputs": [],
   "source": [
    "plt.colorbar?"
   ]
  },
  {
   "cell_type": "code",
   "execution_count": null,
   "metadata": {},
   "outputs": [],
   "source": [
    "fig = mu2e_plot3d(df_mau12_highlight, 'Z', 'X', 'Br', 'Y==0 and R<1000 and 9521<=Z<=12521',\n",
    "            info = 'Mau12', df_fit=False, mode='plotly_nb', ptype='heat')"
   ]
  },
  {
   "cell_type": "code",
   "execution_count": null,
   "metadata": {},
   "outputs": [],
   "source": [
    "fig = mu2e_plot3d(df_mau12_highlight, 'Z', 'X', 'Bphi', 'Y==0 and R<1000 and 9521<=Z<=12521',\n",
    "            info = 'Mau12', df_fit=False, mode='plotly_nb', ptype='heat')"
   ]
  },
  {
   "cell_type": "code",
   "execution_count": null,
   "metadata": {},
   "outputs": [],
   "source": [
    "fig = mu2e_plot3d(df_mau12, 'Z', 'X', 'Br', 'Y==0 and R<1000 and 9521<=Z<=12521',\n",
    "            info = 'Mau12', df_fit=False, mode='plotly_nb', ptype='heat', cmin=-0.001, cmax=0.001)"
   ]
  },
  {
   "cell_type": "code",
   "execution_count": null,
   "metadata": {},
   "outputs": [],
   "source": [
    "fig = mu2e_plot3d(df_mau12, 'Z', 'X', 'Br', 'Y==0 and R<1000 and 9521<=Z<=12521',\n",
    "            info = 'Mau12', df_fit=False, mode='plotly_nb', ptype='heat', cmin=-0.01, cmax=0.01)"
   ]
  },
  {
   "cell_type": "code",
   "execution_count": null,
   "metadata": {},
   "outputs": [],
   "source": []
  }
 ],
 "metadata": {
  "kernelspec": {
   "display_name": "Python 3",
   "language": "python",
   "name": "python3"
  },
  "language_info": {
   "codemirror_mode": {
    "name": "ipython",
    "version": 3
   },
   "file_extension": ".py",
   "mimetype": "text/x-python",
   "name": "python",
   "nbconvert_exporter": "python",
   "pygments_lexer": "ipython3",
   "version": "3.6.5"
  }
 },
 "nbformat": 4,
 "nbformat_minor": 2
}
