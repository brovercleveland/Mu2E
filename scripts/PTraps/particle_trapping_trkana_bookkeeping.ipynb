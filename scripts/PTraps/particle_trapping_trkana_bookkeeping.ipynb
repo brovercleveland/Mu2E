{
 "cells": [
  {
   "cell_type": "markdown",
   "metadata": {},
   "source": [
    "# Particle Trapping with Muon decay"
   ]
  },
  {
   "cell_type": "markdown",
   "metadata": {},
   "source": [
    "Notes:\n",
    "- Simulation is a three stage deal:\n",
    "    - Generate muons isotropically within the DS trap region, allow them to propigate for 700 ns (no decay)\n",
    "    - Use that output to further evolve remaining muons, allowing them to decay to electrons.\n",
    "    - Run full output through TrkAna, see if any tracks are reconstructed.\n",
    "- Their are two copies of each 2nd stage muon in `ntpart`.\n",
    "    - Looks like copy 1 has t==0, p==100, pstop=p at 700ns\n",
    "    - The second muon has t=~700, p==100, parent_pstop = original p_stop\n",
    "- No muons have an initial timestamp > 700 ns\n",
    "- No electrons are born before 700 ns\n"
   ]
  },
  {
   "cell_type": "markdown",
   "metadata": {},
   "source": [
    "### Some Findings"
   ]
  },
  {
   "cell_type": "markdown",
   "metadata": {},
   "source": [
    "Number of trapped muons per init muon p:\n",
    "* p=140: 33000*300 = ~9.9mil\n",
    "\n",
    "Number of unique events in which an electron with p>100 makes it farther upstream than 11200mm:\n",
    "* Muon init p=140: ? Events"
   ]
  },
  {
   "cell_type": "code",
   "execution_count": null,
   "metadata": {},
   "outputs": [],
   "source": [
    "from mu2e import mu2e_ext_path\n",
    "from mu2e.dataframeprod import g4root_to_df\n",
    "from root_pandas import read_root\n",
    "import pandas as pd\n",
    "from mu2e.mu2eplots import mu2e_plot3d_ptrap\n",
    "from mu2e.mu2eplots import mu2e_plot3d_ptrap_traj\n",
    "from mu2e.mu2eplots import mu2e_plot3d_ptrap_anim\n",
    "from skhep.visual import MplPlotter as splt\n",
    "%matplotlib inline\n",
    "plt.rcParams['figure.figsize'] = (12,8)"
   ]
  },
  {
   "cell_type": "code",
   "execution_count": null,
   "metadata": {},
   "outputs": [],
   "source": [
    "with open('/Volumes/DataDump/Mu2E/jobs_stage2.txt', 'r') as job_file:\n",
    "    print job_file.readline()"
   ]
  },
  {
   "cell_type": "code",
   "execution_count": null,
   "metadata": {},
   "outputs": [],
   "source": [
    "import mmap\n",
    "def get_line_number(file_path):  \n",
    "    fp = open(file_path, \"r+\")\n",
    "    buf = mmap.mmap(fp.fileno(), 0)\n",
    "    lines = 0\n",
    "    while buf.readline():\n",
    "        lines += 1\n",
    "    return lines"
   ]
  },
  {
   "cell_type": "markdown",
   "metadata": {},
   "source": [
    "# Bookkeeping for high-stats samples"
   ]
  },
  {
   "cell_type": "code",
   "execution_count": null,
   "metadata": {},
   "outputs": [],
   "source": [
    "from root_pandas import to_root, read_root\n",
    "import tqdm\n",
    "jobs_list_tmp = [15613699, 15613700, 15613702, 15613704]\n",
    "jobs_path = '/Volumes/DataDump/Mu2E/jobs_stage2.txt'\n",
    "#for i in tqdm.tqdm_notebook(jobs_list_tmp):\n",
    "with open(jobs_path, 'r') as job_file:\n",
    "    for line in tqdm.tqdm_notebook(job_file, total=get_line_number(jobs_path)):\n",
    "        i = int(line)\n",
    "        input_root = '/Volumes/DataDump/Mu2E/stage2-140p-hack/outstage/{}/00/00000/nts.bpollack.iso_muons_GA05_stage2_vd.v0.all.root'.format(i)\n",
    "        output_root = '/Volumes/DataDump/Mu2E/stage2-140p-hack/outstage/{}/00/00000/nts.bpollack.iso_muons_GA05_stage2_vd.v0.skim.root'.format(i)\n",
    "        df_ntpart = read_root(input_root, 'readvd/ntpart', ignore='*vd')\n",
    "        df_nttvd = read_root(input_root, 'readvd/nttvd')\n",
    "        #df_ntvd = read_root(input_root, 'readvd/ntvd')\n",
    "    \n",
    "        df_ntpart.set_index(['evt', 'subrun'], inplace=True)\n",
    "        \n",
    "        df_nttvd.set_index(['evt', 'subrun'], inplace=True)\n",
    "        #df_ntvd.set_index(['evt', 'subrun'], inplace=True)\n",
    "    \n",
    "        good_index = df_ntpart.query('pdg==11 and p>75').index\n",
    "        df_ntpart = df_ntpart.ix[good_index]\n",
    "        #df_ntvd = df_ntvd.ix[good_index]\n",
    "        df_nttvd = df_nttvd.ix[good_index]\n",
    "        #df_ntpart['job'] = i\n",
    "        df_ntpart.eval('job = {}'.format(i), inplace=True)\n",
    "        df_ntpart.eval('x = x+3904', inplace=True)\n",
    "        df_ntpart.eval('xstop = xstop+3904', inplace=True)\n",
    "        #df_ntvd['job'] = i\n",
    "        #df_nttvd['job'] = i\n",
    "        df_nttvd.eval('job = {}'.format(i), inplace=True)\n",
    "        df_nttvd.eval('x = x+3904', inplace=True)\n",
    "        df_nttvd.eval('p = sqrt(px**2+py**2+pz**2)', inplace=True)\n",
    "    \n",
    "        df_ntpart.reset_index(inplace=True)\n",
    "        df_nttvd.reset_index(inplace=True)\n",
    "        #df_ntvd.reset_index(inplace=True)\n",
    "    \n",
    "        #df_ntvd.to_root(output_root, key='ntvd', mode = 'w')\n",
    "        df_nttvd.to_root(output_root, key='nttvd', mode = 'w')\n",
    "        df_ntpart.to_root(output_root, key='ntpart', mode = 'a')\n",
    "    #print df_nttvd.head()\n"
   ]
  },
  {
   "cell_type": "code",
   "execution_count": null,
   "metadata": {},
   "outputs": [],
   "source": [
    "input_root = '/Volumes/DataDump/Mu2E/pion-st-full-Mau13-trkana/nts.bpollack.pions_Mau13_trkana.v656.combined_all.root'\n",
    "df_trkana = read_root(input_root, 'TrkAna/trkana', ['evtinfo', 'dem', 'uem', 'dmm'])"
   ]
  },
  {
   "cell_type": "code",
   "execution_count": null,
   "metadata": {},
   "outputs": [],
   "source": [
    "df_trkana['dem_d0'] = df_trkana['dem_d0'].astype(float)\n",
    "df_trkana.dem_d0.dtype"
   ]
  },
  {
   "cell_type": "code",
   "execution_count": null,
   "metadata": {},
   "outputs": [],
   "source": [
    "cut_string = 'dem_trkqual>0.4 and dem_d0>-80 and dem_d0<105 and 450<(dem_d0+2.0/dem_om)<680 and 0.57735<dem_td<1.0'"
   ]
  },
  {
   "cell_type": "code",
   "execution_count": null,
   "metadata": {},
   "outputs": [],
   "source": [
    "df_trkana.query(cut_string+' and 103.85<dem_mom<105.1').shape\n",
    "#df_trkana.query(cut_string).shape"
   ]
  },
  {
   "cell_type": "code",
   "execution_count": null,
   "metadata": {},
   "outputs": [],
   "source": [
    "df_trkana.query('90<dem_mom and dem_pdg==11').shape"
   ]
  },
  {
   "cell_type": "code",
   "execution_count": null,
   "metadata": {},
   "outputs": [],
   "source": [
    "df_trkana.columns"
   ]
  },
  {
   "cell_type": "code",
   "execution_count": null,
   "metadata": {},
   "outputs": [],
   "source": [
    "df_trkana.rename(columns={'evtinfo_eventid':'evt', 'evtinfo_runid':'run', 'evtinfo_subrunid':'subrun'}, inplace=True)"
   ]
  },
  {
   "cell_type": "code",
   "execution_count": null,
   "metadata": {},
   "outputs": [],
   "source": [
    "df_trkana.set_index(['run', 'subrun', 'evt'], inplace=True)"
   ]
  },
  {
   "cell_type": "code",
   "execution_count": null,
   "metadata": {},
   "outputs": [],
   "source": [
    "pd.to_pickle(df_trkana.query(cut_string+' and 103.85<dem_mom<105.1').index, 'golden_index.pkl')"
   ]
  },
  {
   "cell_type": "code",
   "execution_count": null,
   "metadata": {},
   "outputs": [],
   "source": [
    "df_trkana.loc[df_trkana.query(cut_string+' and 103.85<dem_mom<105.1').index]"
   ]
  },
  {
   "cell_type": "code",
   "execution_count": null,
   "metadata": {},
   "outputs": [],
   "source": [
    "splt.hist(df_trkana.query(cut_string).dem_mom)\n",
    "plt.title('Reconstructed Electron Momemtum')\n",
    "plt.xlabel('p (MeV)')"
   ]
  },
  {
   "cell_type": "code",
   "execution_count": null,
   "metadata": {},
   "outputs": [],
   "source": [
    "import re\n",
    "from root_pandas import to_root, read_root\n",
    "import tqdm\n",
    "jobs_path = '/Volumes/DataDump/Mu2E/jobs_trkana.txt'\n",
    "with open(jobs_path, 'r') as job_file:\n",
    "    for line in tqdm.tqdm_notebook(job_file, total=get_line_number(jobs_path)):\n",
    "        i = int(line)\n",
    "        input_root = '/Volumes/DataDump/Mu2E/trkana-140p-hack/outstage/{}/00/00000/nts.bpollack.iso_muons_GA05_trkana.v0.all.root'.format(i)\n",
    "        input_log = '/Volumes/DataDump/Mu2E/trkana-140p-hack/outstage/{}/00/00000/log.bpollack.trkana-140p-hack.v0.all.log'.format(i)\n",
    "        output_root = '/Volumes/DataDump/Mu2E/trkana-140p-hack/outstage/{}/00/00000/nts.bpollack.iso_muons_GA05_trkana.v0.skim.root'.format(i)\n",
    "        \n",
    "        df_trkana = read_root(input_root, 'TrkAna/trkana', ['evtinfo', 'dem', 'uem', 'dmm'])\n",
    "        \n",
    "        with open(input_log) as log_file:\n",
    "            m = re.search('(?<=stage2-140p-hack/outstage/)\\w+', log_file.read())\n",
    "        jn = int(m.group(0))\n",
    "        \n",
    "        df_trkana['evtinfo_job'] = jn\n",
    "        \n",
    "        df_trkana.to_root(output_root, key='trkana', mode = 'w')\n",
    "        "
   ]
  },
  {
   "cell_type": "code",
   "execution_count": null,
   "metadata": {},
   "outputs": [],
   "source": [
    "input_log = '/Volumes/DataDump/Mu2E/trkana-140p-hack/outstage/15669486/00/00000/log.bpollack.trkana-140p-hack.v0.all.log'"
   ]
  },
  {
   "cell_type": "code",
   "execution_count": null,
   "metadata": {},
   "outputs": [],
   "source": [
    "import re\n",
    "with open(input_log) as f:\n",
    "    m = re.search('(?<=stage2-140p-hack/outstage/)\\w+', f.read())\n",
    "jn = m.group(0)"
   ]
  },
  {
   "cell_type": "code",
   "execution_count": null,
   "metadata": {},
   "outputs": [],
   "source": [
    "print int(jn)"
   ]
  },
  {
   "cell_type": "code",
   "execution_count": null,
   "metadata": {},
   "outputs": [],
   "source": [
    "m.group(0)"
   ]
  },
  {
   "cell_type": "code",
   "execution_count": null,
   "metadata": {},
   "outputs": [],
   "source": [
    "print 'hello'"
   ]
  },
  {
   "cell_type": "code",
   "execution_count": null,
   "metadata": {},
   "outputs": [],
   "source": []
  }
 ],
 "metadata": {
  "kernelspec": {
   "display_name": "Python 3",
   "language": "python",
   "name": "python3"
  },
  "language_info": {
   "codemirror_mode": {
    "name": "ipython",
    "version": 3
   },
   "file_extension": ".py",
   "mimetype": "text/x-python",
   "name": "python",
   "nbconvert_exporter": "python",
   "pygments_lexer": "ipython3",
   "version": "3.6.5"
  }
 },
 "nbformat": 4,
 "nbformat_minor": 1
}
