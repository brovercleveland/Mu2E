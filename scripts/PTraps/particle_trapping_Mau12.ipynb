{
 "cells": [
  {
   "cell_type": "code",
   "execution_count": null,
   "metadata": {},
   "outputs": [],
   "source": [
    "from mu2e import mu2e_ext_path\n",
    "from mu2e.dataframeprod import g4root_to_df\n",
    "from root_pandas import read_root\n",
    "import pandas as pd\n",
    "from mu2e.mu2eplots import mu2e_plot3d_ptrap\n",
    "from mu2e.mu2eplots import mu2e_plot3d_ptrap_traj\n",
    "from mu2e.mu2eplots import mu2e_plot3d_ptrap_anim\n",
    "import mu2e.mu2eplots as mplt\n",
    "import six.moves.cPickle as pkl\n",
    "%matplotlib inline\n",
    "plt.rcParams['figure.figsize'] = (12,8)\n",
    "mu2e_data_path = '/Volumes/DataDump/Mu2E/'\n",
    "from skhep.visual import MplPlotter as splt"
   ]
  },
  {
   "cell_type": "code",
   "execution_count": null,
   "metadata": {},
   "outputs": [],
   "source": [
    "# df_ntpart, _, _ = g4root_to_df(mu2e_data_path+'muon-test-Mau12/nts.bpollack.iso_muons_Mau12_stage1_vd.v633.combined',\n",
    "# do_basic_modifications=True, trees=['part'])\n",
    "# df_mu_rall = pd.read_pickle('mau12_700ns_v1.p')\n",
    "# df_mu_rall.name = 'Muons (all region)'\n",
    "df_mu_r1 = pd.read_pickle('mau12_700ns_r1.p')\n",
    "df_mu_r1.name = 'Muons (Region 1)'\n",
    "#df_mu_r2 = pd.read_pickle('mau12_700ns_r2.p')\n",
    "#df_mu_r2.name = 'Muons (Region 2)'\n",
    "df_mu_r2a = pd.read_pickle('mau12_700ns_r2a.p')\n",
    "df_mu_r2a.name = 'Muons (Region 2a)'\n",
    "df_mu_r2b = pd.read_pickle('mau12_700ns_r2b.p')\n",
    "df_mu_r2b.name = 'Muons (Region 2b)'\n",
    "df_mu_r2brass = pd.read_pickle('mau12_700ns_r2brass.p')\n",
    "df_mu_r2brass.name = 'Muons (Region 2, brass)'\n",
    "df_mu_r2 = pd.concat([df_mu_r2a, df_mu_r2b], ignore_index=True)\n",
    "df_mu_r2.name= 'Muons (Region 2)'\n",
    "df_mu_r3 = pd.read_pickle('mau12_700ns_r3.p')\n",
    "df_mu_r3.name = 'Muons (Region 3)'\n",
    "df_mu_rall = pd.concat([df_mu_r1, df_mu_r2, df_mu_r3], ignore_index=True)\n",
    "df_mu_rall.name = 'Muons (all region)'"
   ]
  },
  {
   "cell_type": "code",
   "execution_count": null,
   "metadata": {},
   "outputs": [],
   "source": [
    "store_xray = pd.HDFStore(mu2e_data_path+'G4ParticleSim/low_e_ele_0T_v580.h5')\n",
    "df_xray = store_xray.df_ntpart\n",
    "store_xray.close()"
   ]
  },
  {
   "cell_type": "code",
   "execution_count": null,
   "metadata": {},
   "outputs": [],
   "source": [
    "# df_mu = df_ntpart.query('pdg==13 and tstop>700').reset_index()\n",
    "# df_mu.name = 'Muons'\n",
    "# df_mu.to_pickle('mau12_700ns_v1.p')"
   ]
  },
  {
   "cell_type": "code",
   "execution_count": null,
   "metadata": {},
   "outputs": [],
   "source": [
    "mu2e_plot3d_ptrap(df_mu_rall.query('pstop>75'),\n",
    "                  'z','x','y', x_range=[3700,17500], y_range = [-1000,1000], z_range=[-1000,1000], save_name=None,\n",
    "                   df_xray=df_xray, color='p', title='Muon position at t=0 (Will be trapped)')"
   ]
  },
  {
   "cell_type": "code",
   "execution_count": null,
   "metadata": {},
   "outputs": [],
   "source": [
    "mu2e_plot3d_ptrap(df_mu_rall.query('pstop>75'),\n",
    "                  'zstop','xstop','ystop', x_range=[3700,17500], y_range = [-1000,1000], z_range=[-1000,1000], save_name=None,\n",
    "                   df_xray=df_xray, color='pstop', title='Muon position at t=700ns (permanent trap)')"
   ]
  },
  {
   "cell_type": "code",
   "execution_count": null,
   "metadata": {},
   "outputs": [],
   "source": [
    "mu2e_plot3d_ptrap(df_mu_r2,\n",
    "                  'zstop','xstop','ystop', x_range=[3700,17500], y_range = [-1000,1000], z_range=[-1000,1000], save_name=None,\n",
    "                   df_xray=None, color='pstop', title='Muon position at t=700ns (permanent trap)')"
   ]
  },
  {
   "cell_type": "code",
   "execution_count": null,
   "metadata": {},
   "outputs": [],
   "source": [
    "mu2e_plot3d_ptrap(df_mu_r2brass,\n",
    "                  'zstop','xstop','ystop', x_range=[3700,17500], y_range = [-1000,1000], z_range=[-1000,1000], save_name=None,\n",
    "                   df_xray=None, color='pstop', title='Muon position at t=700ns (permanent trap)')"
   ]
  },
  {
   "cell_type": "code",
   "execution_count": null,
   "metadata": {},
   "outputs": [],
   "source": [
    "splt.hist(df_mu_r2.query('9700<zstop<10000').pstop, normed=True, range=(75,140), bins=20, histtype='step', label='R2a')\n",
    "splt.hist(df_mu_r2.query('11570<zstop').pstop.values, normed=True, range=(75,140), bins=20, histtype='step', label='R2b')\n",
    "splt.hist(df_mu_r2.query('10000<zstop<11570').pstop.values, normed=True, range=(75,140), bins=20, histtype='step', label='R2c')\n",
    "plt.ylabel('Counts (normalized)')\n",
    "plt.xlabel('p (MeV)')\n",
    "plt.title('Final Momenta for Trapped Muons in Region 2')\n",
    "plt.legend()"
   ]
  },
  {
   "cell_type": "code",
   "execution_count": null,
   "metadata": {},
   "outputs": [],
   "source": [
    "df_mu_single = df_nttvd_ft.query('runevt==23340830').sort_values('time')\n",
    "#df_mu_single = pd.concat([df_mu_single[0:20], df_mu_single[-20:]])\n",
    "df_mu_single.name = 'Muon'\n",
    "\n",
    "df_mu_single2 = df_nttvd_ft.query('runevt==32013674').sort_values('time')\n",
    "#df_mu_single = pd.concat([df_mu_single[0:20], df_mu_single[-20:]])\n",
    "df_mu_single2.name = 'Muon'\n",
    "\n",
    "df_mu_single3 = df_nttvd_ft.query('runevt==38884487').sort_values('time')\n",
    "#df_mu_single = pd.concat([df_mu_single[0:20], df_mu_single[-20:]])\n",
    "df_mu_single3.name = 'Muon'\n"
   ]
  },
  {
   "cell_type": "code",
   "execution_count": null,
   "metadata": {},
   "outputs": [],
   "source": [
    "df_tmp = df_mu_single3\n",
    "df_tmp.name = 'Muon'\n",
    "mu2e_plot3d_ptrap_traj(df_tmp,'z','x','y',df_xray=df_xray, aspect='default',\n",
    "                        title='Trapped Muon Trajetory', color_mode='time')"
   ]
  },
  {
   "cell_type": "code",
   "execution_count": null,
   "metadata": {},
   "outputs": [],
   "source": [
    "df_ntpart_ft.zstop.describe()"
   ]
  },
  {
   "cell_type": "code",
   "execution_count": null,
   "metadata": {},
   "outputs": [],
   "source": [
    "df_ntpart_ft.query('runevt==7657397').pstop"
   ]
  },
  {
   "cell_type": "code",
   "execution_count": null,
   "metadata": {},
   "outputs": [],
   "source": [
    "df_mu_single = df_nttvd_ft.query('runevt==66467').sort_values('time')\n",
    "df_mu_single.name = 'Muon'"
   ]
  },
  {
   "cell_type": "code",
   "execution_count": null,
   "metadata": {},
   "outputs": [],
   "source": [
    "df_mu_single.iloc[0:20].x.max()-df_mu_single.iloc[0:20].x.min()"
   ]
  },
  {
   "cell_type": "code",
   "execution_count": null,
   "metadata": {},
   "outputs": [],
   "source": [
    "\n",
    "mu2e_plot3d_ptrap_traj(df_mu_single,'z','x','y',df_xray=df_xray, aspect='default',\n",
    "                        title='Trapped Muon Trajetory', color_mode='time')"
   ]
  },
  {
   "cell_type": "code",
   "execution_count": null,
   "metadata": {},
   "outputs": [],
   "source": [
    "plt.plot(df_mu_single.time, df_mu_single.p)\n",
    "plt.title('Trapped Muon Pz over Time')\n",
    "plt.xlabel('Time (ns)')\n",
    "plt.ylabel('pz (MeV)')"
   ]
  },
  {
   "cell_type": "code",
   "execution_count": null,
   "metadata": {},
   "outputs": [],
   "source": [
    "r2_cut = df_mu_r2.query('pstop>75')\n",
    "r2_cut.name = 'Muons (Region 2)'\n",
    "mu2e_plot3d_ptrap(r2_cut,\n",
    "                  'zstop','xstop','ystop', x_range=[3700,17500], y_range = [-1000,1000], z_range=[-1000,1000], save_name=None,\n",
    "                   df_xray=None, color='pstop', title='Muon position at t=700ns (permanent trap)', color_min=50, color_max=140)"
   ]
  },
  {
   "cell_type": "code",
   "execution_count": null,
   "metadata": {},
   "outputs": [],
   "source": [
    "mu2e_plot3d_ptrap(df_mu_r2.query('pstop>110'),\n",
    "                  'zstop','xstop','ystop', x_range=[3700,17500], y_range = [-1000,1000], z_range=[-1000,1000], save_name=None,\n",
    "                   df_xray=None, color='pstop', title='Muon position at t=700ns (permanent trap)', color_min=50, color_max=140)"
   ]
  },
  {
   "cell_type": "code",
   "execution_count": null,
   "metadata": {},
   "outputs": [],
   "source": [
    "mu2e_plot3d_ptrap(df_mu_r3,\n",
    "                  'zstop','xstop','ystop', x_range=[3700,17500], y_range = [-1000,1000], z_range=[-1000,1000], save_name=None,\n",
    "                   df_xray=df_xray, color='pstop', title='Muon position at t=700ns (permanent trap)')"
   ]
  },
  {
   "cell_type": "markdown",
   "metadata": {},
   "source": [
    "# Observations"
   ]
  },
  {
   "cell_type": "markdown",
   "metadata": {},
   "source": [
    "There seem to be three distinct regions (with sub regions?) in which particles can become trapped.\n",
    "\n",
    "    1) Low Z region: Around the OPA.\n",
    "        a) Primary Ring at Z=~5000\n",
    "        b) Secondary Ring at Z=~5660\n",
    "        c) Tertiary Ring? at Z=~6300\n",
    "    2) Tracker section:\n",
    "        a) Primary Group at 9200<Z<11000\n",
    "        b) Secondary Group at Z=~11700\n",
    "    3) Calo section:\n",
    "        a) Single group at Z=~13000"
   ]
  },
  {
   "cell_type": "code",
   "execution_count": null,
   "metadata": {},
   "outputs": [],
   "source": [
    "_ = splt.hist(df_mu.query('zstop<7000').p.values, range=(40,140), bins=50, label='Initial P', log=True)\n",
    "_ = splt.hist(df_mu.query('zstop<7000').pstop.values, range=(40,140), bins=50, label='Final P', histtype='step', log=True)\n",
    "plt.legend()\n",
    "plt.title('Trapped Muons, Z<7000')\n",
    "plt.xlabel('Momentum (GeV)')\n",
    "plt.ylabel('Count')\n"
   ]
  },
  {
   "cell_type": "code",
   "execution_count": null,
   "metadata": {},
   "outputs": [],
   "source": [
    "_ = splt.hist(df_mu.query('9000<zstop<12000').p.values, range=(40,140), bins=50, label='Initial P')\n",
    "_ = splt.hist(df_mu.query('9000<zstop<12000').pstop.values, range=(40,140), bins=50, label='Final P', histtype='step')\n",
    "plt.legend()\n",
    "plt.title('Trapped Muons, 9000<Z<12000')\n",
    "plt.xlabel('Momentum (GeV)')\n",
    "plt.ylabel('Count')"
   ]
  },
  {
   "cell_type": "code",
   "execution_count": null,
   "metadata": {},
   "outputs": [],
   "source": [
    "_ = splt.hist(df_mu.query('12000<zstop').p.values, range=(40,140), bins=50, label='Initial P')\n",
    "_ = splt.hist(df_mu.query('12000<zstop').pstop.values, range=(40,140), bins=50, label='Final P', histtype='step')\n",
    "plt.legend()\n",
    "plt.title('Trapped Muons, 12000<Z')\n",
    "plt.xlabel('Momentum (GeV)')\n",
    "plt.ylabel('Count')"
   ]
  },
  {
   "cell_type": "code",
   "execution_count": null,
   "metadata": {},
   "outputs": [],
   "source": [
    "_ = splt.hist(df_mu_r1.query('zstop>5350').p.values, range=(40,140), bins=50, label='Initial P', log=True)\n",
    "_ = splt.hist(df_mu_r1.query('zstop>5350').pstop.values, range=(40,140), bins=50, label='Final P', histtype='step', log=True)\n",
    "plt.legend()\n",
    "plt.title('Trapped Muons (OPA Ring 2)')\n",
    "plt.xlabel('Momentum (MeV)')\n",
    "plt.ylabel('Count')"
   ]
  },
  {
   "cell_type": "markdown",
   "metadata": {
    "collapsed": true
   },
   "source": [
    "# Data Munging"
   ]
  },
  {
   "cell_type": "code",
   "execution_count": null,
   "metadata": {},
   "outputs": [],
   "source": [
    "# Region 1\n",
    "\n",
    "df_ntpart, _, _ = g4root_to_df(mu2e_data_path+'muon-r2brass-Mau12/nts.bpollack.iso_muons_Mau12_stage1_vd.v650p.combined',\n",
    "do_basic_modifications=True, trees=['part'])\n",
    "df_mu = df_ntpart.query('pdg==13 and tstop>700').reset_index()\n",
    "df_mu.name = 'Muons'\n",
    "df_mu.to_pickle('mau12_700ns_r2brass.p')"
   ]
  },
  {
   "cell_type": "code",
   "execution_count": null,
   "metadata": {},
   "outputs": [],
   "source": [
    "# Region 1 (finetime)\n",
    "\n",
    "df_ntpart_ft, df_nttvd_ft, _ = g4root_to_df(mu2e_data_path+'muon-r1-Mau12/nts.bpollack.iso_muons_Mau12_stage1_vd.v633.finetime_r1',\n",
    "do_basic_modifications=True, trees=['part', 'tvd'])"
   ]
  },
  {
   "cell_type": "code",
   "execution_count": null,
   "metadata": {},
   "outputs": [],
   "source": [
    "# Region 2\n",
    "\n",
    "df_ntpart, _, _ = g4root_to_df(mu2e_data_path+'muon-r2-Mau12/nts.bpollack.iso_muons_Mau12_stage1_vd.v633.combined_r2',\n",
    "do_basic_modifications=True, trees=['part'])\n",
    "df_mu = df_ntpart.query('pdg==13 and tstop>700').reset_index()\n",
    "df_mu.name = 'Muons'\n",
    "df_mu.to_pickle('mau12_700ns_r2.p')"
   ]
  },
  {
   "cell_type": "code",
   "execution_count": null,
   "metadata": {},
   "outputs": [],
   "source": [
    "# Region 3\n",
    "\n",
    "df_ntpart, _, _ = g4root_to_df(mu2e_data_path+'muon-r3-Mau12/nts.bpollack.iso_muons_Mau12_stage1_vd.v633.combined_r3',\n",
    "do_basic_modifications=True, trees=['part'])\n",
    "df_mu = df_ntpart.query('pdg==13 and tstop>700').reset_index()\n",
    "df_mu.name = 'Muons'\n",
    "df_mu.to_pickle('mau12_700ns_r3.p')"
   ]
  },
  {
   "cell_type": "code",
   "execution_count": null,
   "metadata": {},
   "outputs": [],
   "source": [
    "# Region 2a\n",
    "\n",
    "df_ntpart, _, _ = g4root_to_df(mu2e_data_path+'muon-r2a-Mau12/nts.bpollack.iso_muons_Mau12_stage1_vd.v633.combined_r2a',\n",
    "do_basic_modifications=True, trees=['part'])\n",
    "df_mu = df_ntpart.query('pdg==13 and tstop>700').reset_index()\n",
    "df_mu.name = 'Muons'\n",
    "df_mu.to_pickle('mau12_700ns_r2a.p')\n"
   ]
  },
  {
   "cell_type": "code",
   "execution_count": null,
   "metadata": {},
   "outputs": [],
   "source": [
    "# Region 2a (finetime)\n",
    "\n",
    "df_ntpart_ft, df_nttvd_ft, _ = g4root_to_df(mu2e_data_path+'muon-r2a-Mau12/nts.bpollack.iso_muons_Mau12_stage1_vd.v633.finetime_r2a',\n",
    "do_basic_modifications=True, trees=['part', 'tvd'])"
   ]
  },
  {
   "cell_type": "code",
   "execution_count": null,
   "metadata": {},
   "outputs": [],
   "source": [
    "# Region 2b\n",
    "\n",
    "df_ntpart, _, _ = g4root_to_df(mu2e_data_path+'muon-r2b-Mau12/nts.bpollack.iso_muons_Mau12_stage1_vd.v633.combined_r2b',\n",
    "do_basic_modifications=True, trees=['part'])\n",
    "df_mu = df_ntpart.query('pdg==13 and tstop>700').reset_index()\n",
    "df_mu.name = 'Muons'\n",
    "df_mu.to_pickle('mau12_700ns_r2b.p')\n"
   ]
  },
  {
   "cell_type": "code",
   "execution_count": null,
   "metadata": {},
   "outputs": [],
   "source": [
    "_ = splt.hist(df_mu_r2.pz.values, bins=50, label='Pz')\n",
    "plt.legend()\n",
    "plt.title('Trapped Muons')\n",
    "plt.xlabel('Momentum (MeV)')\n",
    "plt.ylabel('Count')"
   ]
  },
  {
   "cell_type": "code",
   "execution_count": null,
   "metadata": {},
   "outputs": [],
   "source": [
    "_ = splt.hist(df_mu_r2.query('pstop>75 and z>10700').pz.values, bins=20)\n",
    "plt.legend()\n",
    "plt.title('Trapped Muons')\n",
    "plt.xlabel('Momentum (MeV)')\n",
    "plt.ylabel('Count')"
   ]
  },
  {
   "cell_type": "code",
   "execution_count": null,
   "metadata": {},
   "outputs": [],
   "source": [
    "_ = splt.hist(df_mu_r2.query('pstop>75').p.values, range=(40,140), bins=50, label='Initial P')\n",
    "_ = splt.hist(df_mu_r2.query('pstop>75').pstop.values, range=(40,140), bins=50, label='Final P', histtype='step')\n",
    "plt.legend()\n",
    "plt.title('Trapped Muons Tracker (p_final>75)')\n",
    "plt.xlabel('Momentum (MeV)')\n",
    "plt.ylabel('Count')"
   ]
  },
  {
   "cell_type": "code",
   "execution_count": null,
   "metadata": {},
   "outputs": [],
   "source": [
    "r2_cut = df_mu_r2.query('pstop>75')\n",
    "theta = np.arctan2(r2_cut.ystop, r2_cut.xstop)\n",
    "r = np.sqrt(r2_cut.ystop**2+r2_cut.xstop**2)\n",
    "ax = plt.subplot(111, projection='polar')\n",
    "ax.plot(theta, r, 'o')\n",
    "ax.set_rmax(1000)\n",
    "#ax.set_rticks([0.5, 1, 1.5, 2])  # less radial ticks\n",
    "ax.set_rlabel_position(-22.5)  # get radial labels away from plotted line\n",
    "ax.grid(True)\n",
    "\n",
    "ax.set_title(\"Trapped Muons Tracker (p_final>75)\", va='bottom')"
   ]
  },
  {
   "cell_type": "code",
   "execution_count": null,
   "metadata": {},
   "outputs": [],
   "source": [
    "_ = splt.hist(df_mu_r3.p.values, range=(40,140), bins=50, label='Initial P')\n",
    "_ = splt.hist(df_mu_r3.pstop.values, range=(40,140), bins=50, label='Final P', histtype='step')\n",
    "plt.legend()\n",
    "plt.title('Trapped Muons Downstream')\n",
    "plt.xlabel('Momentum (MeV)')\n",
    "plt.ylabel('Count')"
   ]
  },
  {
   "cell_type": "code",
   "execution_count": null,
   "metadata": {},
   "outputs": [],
   "source": [
    "df_ntpart_ft.query('tstop>690 and pstop>100')"
   ]
  }
 ],
 "metadata": {
  "kernelspec": {
   "display_name": "Python 3",
   "language": "python",
   "name": "python3"
  },
  "language_info": {
   "codemirror_mode": {
    "name": "ipython",
    "version": 3
   },
   "file_extension": ".py",
   "mimetype": "text/x-python",
   "name": "python",
   "nbconvert_exporter": "python",
   "pygments_lexer": "ipython3",
   "version": "3.6.4"
  }
 },
 "nbformat": 4,
 "nbformat_minor": 2
}
