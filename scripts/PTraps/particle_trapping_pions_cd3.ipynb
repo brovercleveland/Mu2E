{
 "cells": [
  {
   "cell_type": "code",
   "execution_count": null,
   "metadata": {},
   "outputs": [],
   "source": [
    "from mu2e import mu2e_ext_path\n",
    "from mu2e.dataframeprod import g4root_to_df\n",
    "from root_pandas import read_root\n",
    "import pandas as pd\n",
    "from mu2e.mu2eplots import mu2e_plot3d_ptrap\n",
    "from mu2e.mu2eplots import mu2e_plot3d_ptrap_traj\n",
    "from mu2e.mu2eplots import mu2e_plot3d_ptrap_anim\n",
    "import mu2e.mu2eplots as mplt\n",
    "import six.moves.cPickle as pkl\n",
    "%matplotlib inline\n",
    "plt.rcParams['figure.figsize'] = (12,8)\n",
    "mu2e_data_path = '/Volumes/DataDump/Mu2E/'\n",
    "from skhep.visual import MplPlotter as splt\n",
    "from matplotlib.colors import LogNorm\n",
    "pd.set_option(\"display.max_columns\",50)\n",
    "from matplotlib.colors import LightSource, Normalize"
   ]
  },
  {
   "cell_type": "code",
   "execution_count": null,
   "metadata": {},
   "outputs": [],
   "source": [
    "# Get pions, make a subset df of matching pions and muons\n",
    "df = read_root(mu2e_data_path+'pions-cd3-s2/nts.bpollack.pions_Mau12_stage1_vd.v656.combined.root')\n",
    "#df_trimmed = pd.read_pickle(mu2e_data_path+'pions-cd3-s2/nts.bpollack.pions_Mau12_stage1_vd.v656.trimmed.p')\n",
    "#df_ntpart, _, df_ntvd = g4root_to_df(mu2e_data_path+'pion-st-full-Mau13-g4s2/nts.bpollack.pions_Mau12_stage1_vd.v656.combined_1',\n",
    "#                                      do_basic_modifications=True, trees=['part', 'vd'])\n",
    "#df_ntpart.set_index(['run', 'subrun', 'evt'], inplace=True)\n",
    "\n",
    "# df_mu_and_pi = df_ntpart.loc[df_ntpart.query('pdg==-211').index]\n",
    "# df_mu_and_pi = df_mu_and_pi.loc[df_mu_and_pi.query('pdg==13').index]"
   ]
  },
  {
   "cell_type": "code",
   "execution_count": null,
   "metadata": {},
   "outputs": [],
   "source": [
    "df['tw'] = np.exp(-df.tau)"
   ]
  },
  {
   "cell_type": "code",
   "execution_count": null,
   "metadata": {},
   "outputs": [],
   "source": [
    "#df_trimmed2 = df.query('hits_pmag>70 and hits_pz>0')"
   ]
  },
  {
   "cell_type": "code",
   "execution_count": null,
   "metadata": {},
   "outputs": [],
   "source": [
    "#df_trimmed_full = df_trimmed.append(df_trimmed2, ignore_index=True)"
   ]
  },
  {
   "cell_type": "code",
   "execution_count": null,
   "metadata": {},
   "outputs": [],
   "source": [
    "#df_trimmed_full.to_pickle(mu2e_data_path+'pions-cd3-s2/nts.bpollack.pions_Mau12_stage1_vd.v656.trimmed.p')\n",
    "df = df.query('hits_pz>0')"
   ]
  },
  {
   "cell_type": "code",
   "execution_count": null,
   "metadata": {},
   "outputs": [],
   "source": [
    "_ = splt.hist(df.hits_pmag, bins=70, normed=True, label='Unweighted')\n",
    "#plt.figure()\n",
    "_ = splt.hist(df.hits_pmag, bins=70, weights=df.tw, label='Weighted (lifetime)', normed=True)\n",
    "plt.title('Pion Momentum at ST')\n",
    "plt.xlabel('Momentum (MeV)')\n",
    "plt.ylabel('Normalized Count')\n",
    "plt.legend()"
   ]
  },
  {
   "cell_type": "code",
   "execution_count": null,
   "metadata": {},
   "outputs": [],
   "source": [
    "_ = splt.hist(df.hits_x, bins=70, normed=True, label='Unweighted')\n",
    "#plt.figure()\n",
    "_ = splt.hist(df.hits_x, bins=70, weights=df.tw, label='Weighted (lifetime)', normed=True)\n",
    "plt.title('Pion X Position at ST')\n",
    "plt.xlabel('X (mm)')\n",
    "plt.ylabel('Normalized Count')\n",
    "plt.legend()"
   ]
  },
  {
   "cell_type": "code",
   "execution_count": null,
   "metadata": {},
   "outputs": [],
   "source": [
    "_ = splt.hist(df.hits_y, bins=70, normed=True, label='Unweighted')\n",
    "#plt.figure()\n",
    "_ = splt.hist(df.hits_y, bins=70, weights=df.tw, label='Weighted (lifetime)', normed=True)\n",
    "plt.title('Pion Y Position at ST')\n",
    "plt.xlabel('Y (mm)')\n",
    "plt.ylabel('Normalized Count')\n",
    "plt.legend()"
   ]
  },
  {
   "cell_type": "code",
   "execution_count": null,
   "metadata": {},
   "outputs": [],
   "source": [
    "_ = splt.hist(df.query('hits_time<700').hits_time, bins=70, normed=True, label='Unweighted')\n",
    "#plt.figure()\n",
    "_ = splt.hist(df.query('hits_time<700').hits_time, bins=70, weights=df.query('hits_time<700').tw, label='Weighted (lifetime)', normed=True)\n",
    "plt.title('Global Time at ST')\n",
    "plt.xlabel('t (ns)')\n",
    "plt.ylabel('Normalized Count')\n",
    "plt.legend()"
   ]
  },
  {
   "cell_type": "code",
   "execution_count": null,
   "metadata": {},
   "outputs": [],
   "source": [
    "_ = splt.hist(df.query('hits_pmag>80').hits_time, bins=50, normed=True, label='Unweighted', log=True)\n",
    "#plt.figure()\n",
    "_ = splt.hist(df.query('hits_pmag>80').hits_time, bins=50, weights=df.query('hits_pmag>80').tw, label='Weighted (lifetime)', normed=True, log=True)\n",
    "plt.title('Global Time at ST (p>80 MeV)')\n",
    "plt.xlabel('t (ns)')\n",
    "plt.ylabel('Normalized Count')\n",
    "plt.legend()"
   ]
  },
  {
   "cell_type": "code",
   "execution_count": null,
   "metadata": {},
   "outputs": [],
   "source": [
    "df.query('hits_time<700').tw.sum()"
   ]
  },
  {
   "cell_type": "code",
   "execution_count": null,
   "metadata": {},
   "outputs": [],
   "source": [
    "df.query('hits_pmag>80 and hits_time>190').tw.sum()/df.query('hits_pmag>80 and hits_time<190').tw.sum()"
   ]
  },
  {
   "cell_type": "code",
   "execution_count": null,
   "metadata": {},
   "outputs": [],
   "source": [
    "splt.hist(df.query('hits_pmag>55').tau, log=True)\n",
    "plt.title('Tau, p_pion>55 at ST')\n",
    "plt.xlabel('tau (ns)')"
   ]
  },
  {
   "cell_type": "code",
   "execution_count": null,
   "metadata": {},
   "outputs": [],
   "source": [
    "splt.hist(df.query('hits_pmag>55').hits_time, log=True)\n",
    "plt.title('Total time, p_pion>55 at ST')\n",
    "plt.xlabel('time (ns)')"
   ]
  },
  {
   "cell_type": "code",
   "execution_count": null,
   "metadata": {},
   "outputs": [],
   "source": [
    "splt.hist(df.query('hits_pmag>55').hits_pz, bins=65, range=(-130,130), label='pz')\n",
    "splt.hist(df.query('hits_pmag>55').hits_px, bins=65, range=(-130,130), label='px')\n",
    "splt.hist(df.query('hits_pmag>55').hits_py, bins=65, range=(-130,130), label='py')\n",
    "plt.title('Momentum, p_pion>55 at ST')\n",
    "plt.xlabel('MeV')"
   ]
  },
  {
   "cell_type": "code",
   "execution_count": null,
   "metadata": {},
   "outputs": [],
   "source": [
    "splt.hist(df.query('hits_pmag>55').hits_pz/df.query('hits_pmag>55').hits_pmag, log=True)\n",
    "plt.title('cos(z), p_pion>55 at ST')\n",
    "plt.xlabel('cos(z)')"
   ]
  },
  {
   "cell_type": "code",
   "execution_count": null,
   "metadata": {},
   "outputs": [],
   "source": [
    "plt.hexbin?"
   ]
  },
  {
   "cell_type": "code",
   "execution_count": null,
   "metadata": {},
   "outputs": [],
   "source": [
    "plt.hexbin(df.hits_x, df.hits_y)\n",
    "plt.colorbar()\n",
    "plt.title('Position for All Pions at ST')\n",
    "plt.xlabel('X (mm)')\n",
    "plt.ylabel('Y (mm)')"
   ]
  },
  {
   "cell_type": "code",
   "execution_count": null,
   "metadata": {},
   "outputs": [],
   "source": [
    "plt.hexbin(df.hits_x, df.hits_y, C=df.tw, gridsize=50)\n",
    "plt.colorbar()\n",
    "plt.title('Position for All Pions at ST (weighted)')\n",
    "plt.xlabel('X (mm)')\n",
    "plt.ylabel('Y (mm)')\n",
    "cmap = matplotlib.cm.get_cmap('viridis')\n",
    "rgba = cmap(0.0)\n",
    "ax = plt.gca()\n",
    "ax.set_facecolor(rgba)"
   ]
  },
  {
   "cell_type": "code",
   "execution_count": null,
   "metadata": {},
   "outputs": [],
   "source": [
    "plt.hexbin(df.hits_pmag, df.hits_y, bins='log')\n",
    "plt.colorbar()\n",
    "plt.title('Mom vs Y-Pos (log scale)')\n",
    "plt.xlabel('p (MeV)')\n",
    "plt.ylabel('Y (mm)')"
   ]
  },
  {
   "cell_type": "code",
   "execution_count": null,
   "metadata": {},
   "outputs": [],
   "source": [
    "plt.hexbin(df.hits_pmag, df.hits_x, bins='log')\n",
    "plt.colorbar()\n",
    "plt.title('Mom vs X-Pos (log scale)')\n",
    "plt.xlabel('p (MeV)')\n",
    "plt.ylabel('X (mm)')"
   ]
  },
  {
   "cell_type": "code",
   "execution_count": null,
   "metadata": {},
   "outputs": [],
   "source": [
    "plt.hexbin(df.query('hits_pmag>55').hits_pmag, df.query('hits_pmag>55').hits_time, bins='log')\n",
    "plt.colorbar()\n",
    "plt.title('Mom vs Time (log scale)')\n",
    "plt.xlabel('p (MeV)')\n",
    "plt.ylabel('t (ns)')"
   ]
  },
  {
   "cell_type": "code",
   "execution_count": null,
   "metadata": {},
   "outputs": [],
   "source": [
    "plt.hexbin(df.query('hits_pmag>55').hits_pmag, df.query('hits_pmag>55').hits_pz/df.query('hits_pmag>55').hits_pmag, bins='log')\n",
    "plt.colorbar()\n",
    "plt.title('Mom vs Cos(z) (log scale)')\n",
    "plt.xlabel('p (MeV)')\n",
    "plt.ylabel('cos(z)')"
   ]
  },
  {
   "cell_type": "code",
   "execution_count": null,
   "metadata": {},
   "outputs": [],
   "source": [
    "plt.hexbin(df.hits_pmag, df.tau, bins='log')\n",
    "plt.colorbar()\n",
    "plt.title('Mom vs Tau (log scale)')\n",
    "plt.xlabel('p (MeV)')\n",
    "plt.ylabel('t (ns)')"
   ]
  },
  {
   "cell_type": "code",
   "execution_count": null,
   "metadata": {},
   "outputs": [],
   "source": [
    "def mean2(a):\n",
    "    if len(a) is 0: return 1e-15\n",
    "    else: return np.mean(a)"
   ]
  },
  {
   "cell_type": "code",
   "execution_count": null,
   "metadata": {},
   "outputs": [],
   "source": [
    "df_trimmed.to_csv(mu2e_data_path+'pions-cd3-s2/st_pions_70MeV.txt', columns=['hits_px', 'hits_py', 'hits_pz', 'hits_x','hits_y','hits_z','tau'], header=None, sep=' ', index=False)"
   ]
  },
  {
   "cell_type": "code",
   "execution_count": null,
   "metadata": {},
   "outputs": [],
   "source": []
  }
 ],
 "metadata": {
  "kernelspec": {
   "display_name": "Python 3",
   "language": "python",
   "name": "python3"
  },
  "language_info": {
   "codemirror_mode": {
    "name": "ipython",
    "version": 3
   },
   "file_extension": ".py",
   "mimetype": "text/x-python",
   "name": "python",
   "nbconvert_exporter": "python",
   "pygments_lexer": "ipython3",
   "version": "3.6.5"
  }
 },
 "nbformat": 4,
 "nbformat_minor": 2
}
