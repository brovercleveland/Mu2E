{
 "cells": [
  {
   "cell_type": "code",
   "execution_count": null,
   "metadata": {},
   "outputs": [],
   "source": [
    "from mu2e import mu2e_ext_path\n",
    "from mu2e.dataframeprod import g4root_to_df\n",
    "from root_pandas import read_root\n",
    "import pandas as pd\n",
    "from mu2e.mu2eplots import mu2e_plot3d_ptrap\n",
    "from mu2e.mu2eplots import mu2e_plot3d_ptrap_traj\n",
    "from mu2e.mu2eplots import mu2e_plot3d_ptrap_anim\n",
    "import mu2e.mu2eplots as mplt\n",
    "import six.moves.cPickle as pkl\n",
    "%matplotlib inline\n",
    "plt.rcParams['figure.figsize'] = (12,8)\n",
    "mu2e_data_path = '/Volumes/DataDump/Mu2E/'\n",
    "from skhep.visual import MplPlotter as splt\n",
    "from matplotlib.colors import LogNorm\n",
    "pd.set_option(\"display.max_columns\",50)"
   ]
  },
  {
   "cell_type": "code",
   "execution_count": null,
   "metadata": {},
   "outputs": [],
   "source": [
    "# Get pions, make a subset df of matching pions and muons\n",
    "df = read_root(mu2e_data_path+'pions-cd3-s2/nts.bpollack.pions_Mau12_stage1_vd.v656.combined_1.root')\n",
    "#df_ntpart, _, df_ntvd = g4root_to_df(mu2e_data_path+'pion-st-full-Mau13-g4s2/nts.bpollack.pions_Mau12_stage1_vd.v656.combined_1',\n",
    "#                                      do_basic_modifications=True, trees=['part', 'vd'])\n",
    "#df_ntpart.set_index(['run', 'subrun', 'evt'], inplace=True)\n",
    "\n",
    "# df_mu_and_pi = df_ntpart.loc[df_ntpart.query('pdg==-211').index]\n",
    "# df_mu_and_pi = df_mu_and_pi.loc[df_mu_and_pi.query('pdg==13').index]"
   ]
  },
  {
   "cell_type": "code",
   "execution_count": null,
   "metadata": {},
   "outputs": [],
   "source": [
    "df['tw'] = np.exp(-df.tau)"
   ]
  },
  {
   "cell_type": "code",
   "execution_count": null,
   "metadata": {},
   "outputs": [],
   "source": [
    "df_trimmed = df.query('hits_pmag>55 and hits_pz>0')"
   ]
  },
  {
   "cell_type": "code",
   "execution_count": null,
   "metadata": {},
   "outputs": [],
   "source": [
    "_ = splt.hist(df_trimmed.hits_pmag, bins=70)\n",
    "plt.figure()\n",
    "_ = splt.hist(df_trimmed.hits_pmag, bins=70, weights=df_trimmed.tw)"
   ]
  },
  {
   "cell_type": "code",
   "execution_count": null,
   "metadata": {},
   "outputs": [],
   "source": [
    "df_trimmed.query('hits_pmag>80').tw.sum()"
   ]
  },
  {
   "cell_type": "code",
   "execution_count": null,
   "metadata": {},
   "outputs": [],
   "source": [
    "df_ntvd.query('pz>0 and p>55 and pdg<0').shape"
   ]
  },
  {
   "cell_type": "code",
   "execution_count": null,
   "metadata": {},
   "outputs": [],
   "source": [
    "df.query('hits_pz>0 and hits_pmag<5').shape"
   ]
  },
  {
   "cell_type": "code",
   "execution_count": null,
   "metadata": {},
   "outputs": [],
   "source": [
    "df.query('hits_pz>0 and hits_pmag<5').eval('exp(-tau/26)').sum()"
   ]
  },
  {
   "cell_type": "code",
   "execution_count": null,
   "metadata": {},
   "outputs": [],
   "source": [
    "df.query('hits_pz>0', inplace=True)"
   ]
  },
  {
   "cell_type": "code",
   "execution_count": null,
   "metadata": {},
   "outputs": [],
   "source": [
    "df.hits_pmag.max()"
   ]
  },
  {
   "cell_type": "code",
   "execution_count": null,
   "metadata": {},
   "outputs": [],
   "source": [
    "splt.hist(df.query('hits_pmag>55').tau, log=True)\n",
    "plt.title('Tau, p_pion>55 at ST')\n",
    "plt.xlabel('tau (ns)')"
   ]
  },
  {
   "cell_type": "code",
   "execution_count": null,
   "metadata": {},
   "outputs": [],
   "source": [
    "splt.hist(df.query('hits_pmag>55').hits_time, log=True)\n",
    "plt.title('Total time, p_pion>55 at ST')\n",
    "plt.xlabel('time (ns)')"
   ]
  },
  {
   "cell_type": "code",
   "execution_count": null,
   "metadata": {},
   "outputs": [],
   "source": [
    "splt.hist(df.query('hits_pmag>55').hits_pz, bins=65, range=(-130,130), label='pz')\n",
    "splt.hist(df.query('hits_pmag>55').hits_px, bins=65, range=(-130,130), label='px')\n",
    "splt.hist(df.query('hits_pmag>55').hits_py, bins=65, range=(-130,130), label='py')\n",
    "plt.title('Momentum, p_pion>55 at ST')\n",
    "plt.xlabel('MeV')"
   ]
  },
  {
   "cell_type": "code",
   "execution_count": null,
   "metadata": {},
   "outputs": [],
   "source": [
    "splt.hist(df.query('hits_pmag>55').hits_pz/df.query('hits_pmag>55').hits_pmag, log=True)\n",
    "plt.title('cos(z), p_pion>55 at ST')\n",
    "plt.xlabel('cos(z)')"
   ]
  },
  {
   "cell_type": "code",
   "execution_count": null,
   "metadata": {},
   "outputs": [],
   "source": [
    "plt.hexbin(df.query('hits_pmag>55').hits_x, df.query('hits_pmag>55').hits_y, bins='log')\n",
    "plt.colorbar()\n",
    "plt.title('Position for pion>55 MeV (log scale)')\n",
    "plt.xlabel('X (mm)')\n",
    "plt.ylabel('Y (mm)')"
   ]
  },
  {
   "cell_type": "code",
   "execution_count": null,
   "metadata": {},
   "outputs": [],
   "source": [
    "plt.hexbin(df.hits_pmag, df.hits_y, bins='log')\n",
    "plt.colorbar()\n",
    "plt.title('Mom vs Y-Pos (log scale)')\n",
    "plt.xlabel('p (MeV)')\n",
    "plt.ylabel('Y (mm)')"
   ]
  },
  {
   "cell_type": "code",
   "execution_count": null,
   "metadata": {},
   "outputs": [],
   "source": [
    "plt.hexbin(df.hits_pmag, df.hits_x, bins='log')\n",
    "plt.colorbar()\n",
    "plt.title('Mom vs X-Pos (log scale)')\n",
    "plt.xlabel('p (MeV)')\n",
    "plt.ylabel('X (mm)')"
   ]
  },
  {
   "cell_type": "code",
   "execution_count": null,
   "metadata": {},
   "outputs": [],
   "source": [
    "plt.hexbin(df.query('hits_pmag>55').hits_pmag, df.query('hits_pmag>55').hits_time, bins='log')\n",
    "plt.colorbar()\n",
    "plt.title('Mom vs Time (log scale)')\n",
    "plt.xlabel('p (MeV)')\n",
    "plt.ylabel('t (ns)')"
   ]
  },
  {
   "cell_type": "code",
   "execution_count": null,
   "metadata": {},
   "outputs": [],
   "source": [
    "plt.hexbin(df.query('hits_pmag>55').hits_pmag, df.query('hits_pmag>55').hits_pz/df.query('hits_pmag>55').hits_pmag, bins='log')\n",
    "plt.colorbar()\n",
    "plt.title('Mom vs Cos(z) (log scale)')\n",
    "plt.xlabel('p (MeV)')\n",
    "plt.ylabel('cos(z)')"
   ]
  },
  {
   "cell_type": "code",
   "execution_count": null,
   "metadata": {},
   "outputs": [],
   "source": [
    "plt.hexbin(df.hits_pmag, df.tau, bins='log')\n",
    "plt.colorbar()\n",
    "plt.title('Mom vs Tau (log scale)')\n",
    "plt.xlabel('p (MeV)')\n",
    "plt.ylabel('t (ns)')"
   ]
  },
  {
   "cell_type": "code",
   "execution_count": null,
   "metadata": {},
   "outputs": [],
   "source": [
    "\n"
   ]
  }
 ],
 "metadata": {
  "kernelspec": {
   "display_name": "Python 3",
   "language": "python",
   "name": "python3"
  },
  "language_info": {
   "codemirror_mode": {
    "name": "ipython",
    "version": 3
   },
   "file_extension": ".py",
   "mimetype": "text/x-python",
   "name": "python",
   "nbconvert_exporter": "python",
   "pygments_lexer": "ipython3",
   "version": "3.6.5"
  }
 },
 "nbformat": 4,
 "nbformat_minor": 2
}
