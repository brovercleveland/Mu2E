{
 "cells": [
  {
   "cell_type": "markdown",
   "metadata": {},
   "source": [
    "# Validation Checks for BTrk"
   ]
  },
  {
   "cell_type": "markdown",
   "metadata": {},
   "source": [
    "Notes:\n",
    "* Removed '.' from TrkAna Code for some branch names.  Only needed for ROOT-based analysis template generation\n",
    "* Added proper initialization for some values so validation is more reliable"
   ]
  },
  {
   "cell_type": "code",
   "execution_count": 1,
   "metadata": {
    "collapsed": false
   },
   "outputs": [
    {
     "data": {
      "application/javascript": [
       "\n",
       "require(['notebook'],\n",
       "  function() {\n",
       "    IPython.CodeCell.config_defaults.highlight_modes['magic_text/x-c++src'] = {'reg':[/^%%cpp/]};\n",
       "    console.log(\"JupyROOT - %%cpp magic configured\");\n",
       "  }\n",
       ");\n"
      ]
     },
     "metadata": {},
     "output_type": "display_data"
    },
    {
     "name": "stdout",
     "output_type": "stream",
     "text": [
      "Welcome to JupyROOT 6.08/02\n"
     ]
    }
   ],
   "source": [
    "from mu2e import mu2e_ext_path\n",
    "from root_pandas import read_root\n",
    "import pandas as pd"
   ]
  },
  {
   "cell_type": "code",
   "execution_count": 2,
   "metadata": {
    "collapsed": false,
    "scrolled": true
   },
   "outputs": [],
   "source": [
    "def print_full(x):\n",
    "    pd.set_option('display.max_rows', len(x))\n",
    "    print(x)\n",
    "    pd.reset_option('display.max_rows')"
   ]
  },
  {
   "cell_type": "code",
   "execution_count": null,
   "metadata": {
    "collapsed": false
   },
   "outputs": [],
   "source": [
    "df_stable = read_root(mu2e_ext_path+'datafiles/BTrk/stable.root', 'TrkAna/trkana', ['dem', 'demc', 'demmc'])\n",
    "df_test = read_root(mu2e_ext_path+'datafiles/BTrk/test.root', 'TrkAna/trkana', ['dem', 'demc', 'demmc'])"
   ]
  },
  {
   "cell_type": "code",
   "execution_count": null,
   "metadata": {
    "collapsed": false
   },
   "outputs": [],
   "source": [
    "df_stable = read_root(mu2e_ext_path+'datafiles/BTrk/stable_6-15-17.root', 'TrkAna/trkana')\n",
    "#df_stable2 = read_root(mu2e_ext_path+'datafiles/BTrk/stable2.root', 'TrkAna/trkana')\n",
    "df_test = read_root(mu2e_ext_path+'datafiles/BTrk/test_6-15-17.root', 'TrkAna/trkana')"
   ]
  },
  {
   "cell_type": "code",
   "execution_count": null,
   "metadata": {
    "collapsed": true
   },
   "outputs": [],
   "source": [
    "df_stable1000 = read_root(mu2e_ext_path+'datafiles/BTrk/stable1000_6-15-17.root', 'TrkAna/trkana')\n",
    "#df_stable2 = read_root(mu2e_ext_path+'datafiles/BTrk/stable2.root', 'TrkAna/trkana')\n",
    "df_test1000 = read_root(mu2e_ext_path+'datafiles/BTrk/test1000_6-15-17.root', 'TrkAna/trkana')"
   ]
  },
  {
   "cell_type": "code",
   "execution_count": 3,
   "metadata": {
    "collapsed": false
   },
   "outputs": [
    {
     "name": "stderr",
     "output_type": "stream",
     "text": [
      "Warning in <TClass::Init>: no dictionary for class mu2e::CrvHitInfoMC is available\n"
     ]
    }
   ],
   "source": [
    "df_stable_v1 = read_root(mu2e_ext_path+'datafiles/BTrk/stable_r1_vMaster.root', 'TrkAna/trkana')\n",
    "df_stable_v2 = read_root(mu2e_ext_path+'datafiles/BTrk/stable_r2_vMaster.root', 'TrkAna/trkana')\n",
    "df_stable_v3 = read_root(mu2e_ext_path+'datafiles/BTrk/stable_r3_vMaster.root', 'TrkAna/trkana')\n",
    "df_stable_v4 = read_root(mu2e_ext_path+'datafiles/BTrk/stable_r4_vMaster.root', 'TrkAna/trkana')\n",
    "df_stable_v5 = read_root(mu2e_ext_path+'datafiles/BTrk/stable_r5_vMaster.root', 'TrkAna/trkana')\n"
   ]
  },
  {
   "cell_type": "code",
   "execution_count": 18,
   "metadata": {
    "collapsed": false
   },
   "outputs": [
    {
     "data": {
      "text/html": [
       "<div>\n",
       "<table border=\"1\" class=\"dataframe\">\n",
       "  <thead>\n",
       "    <tr style=\"text-align: right;\">\n",
       "      <th></th>\n",
       "      <th>demc._section</th>\n",
       "    </tr>\n",
       "  </thead>\n",
       "  <tbody>\n",
       "    <tr>\n",
       "      <th>0</th>\n",
       "      <td>32767</td>\n",
       "    </tr>\n",
       "    <tr>\n",
       "      <th>1</th>\n",
       "      <td>32767</td>\n",
       "    </tr>\n",
       "    <tr>\n",
       "      <th>2</th>\n",
       "      <td>32767</td>\n",
       "    </tr>\n",
       "    <tr>\n",
       "      <th>3</th>\n",
       "      <td>32767</td>\n",
       "    </tr>\n",
       "    <tr>\n",
       "      <th>4</th>\n",
       "      <td>32767</td>\n",
       "    </tr>\n",
       "    <tr>\n",
       "      <th>5</th>\n",
       "      <td>32767</td>\n",
       "    </tr>\n",
       "    <tr>\n",
       "      <th>6</th>\n",
       "      <td>32767</td>\n",
       "    </tr>\n",
       "    <tr>\n",
       "      <th>7</th>\n",
       "      <td>0</td>\n",
       "    </tr>\n",
       "    <tr>\n",
       "      <th>8</th>\n",
       "      <td>0</td>\n",
       "    </tr>\n",
       "    <tr>\n",
       "      <th>9</th>\n",
       "      <td>0</td>\n",
       "    </tr>\n",
       "  </tbody>\n",
       "</table>\n",
       "</div>"
      ],
      "text/plain": [
       "   demc._section\n",
       "0          32767\n",
       "1          32767\n",
       "2          32767\n",
       "3          32767\n",
       "4          32767\n",
       "5          32767\n",
       "6          32767\n",
       "7              0\n",
       "8              0\n",
       "9              0"
      ]
     },
     "execution_count": 18,
     "metadata": {},
     "output_type": "execute_result"
    }
   ],
   "source": [
    "df_stable_v1.filter(regex='demc._section')"
   ]
  },
  {
   "cell_type": "code",
   "execution_count": null,
   "metadata": {
    "collapsed": false
   },
   "outputs": [],
   "source": [
    "c = df_stable_v1.columns"
   ]
  },
  {
   "cell_type": "code",
   "execution_count": null,
   "metadata": {
    "collapsed": false
   },
   "outputs": [],
   "source": [
    "for i in c:\n",
    "    print i"
   ]
  },
  {
   "cell_type": "code",
   "execution_count": 14,
   "metadata": {
    "collapsed": false,
    "scrolled": false
   },
   "outputs": [
    {
     "name": "stdout",
     "output_type": "stream",
     "text": [
      "demc._dt          True\n",
      "demc._du          True\n",
      "demc._dv          True\n",
      "demc._ds          True\n",
      "demc._ep          True\n",
      "demc._uvchisq     True\n",
      "demc._tchisq      True\n",
      "demc._dtllr       True\n",
      "demc._epllr       True\n",
      "demc._eclust      True\n",
      "demc._tclust      True\n",
      "demc._section    False\n",
      "demc._cposx       True\n",
      "demc._cposy       True\n",
      "demc._cposz       True\n",
      "demc._tposx       True\n",
      "demc._tposy       True\n",
      "demc._tposz       True\n",
      "demc._tdirx       True\n",
      "demc._tdiry       True\n",
      "demc._tdirz       True\n",
      "demc._ttrk        True\n",
      "dtype: bool\n"
     ]
    }
   ],
   "source": [
    "print_full(((df_stable_v1.filter(regex='demc.') == df_stable_v3.filter(regex='demc.')).all()))"
   ]
  },
  {
   "cell_type": "code",
   "execution_count": 16,
   "metadata": {
    "collapsed": false
   },
   "outputs": [
    {
     "name": "stdout",
     "output_type": "stream",
     "text": [
      "5    0.000000\n",
      "6    0.000000\n",
      "7   -0.106405\n",
      "8    4.171185\n",
      "9    3.048980\n",
      "Name: demc._dt, dtype: float32\n",
      "5    0.000000\n",
      "6    0.000000\n",
      "7   -0.106405\n",
      "8    4.171185\n",
      "9    3.048980\n",
      "Name: demc._dt, dtype: float32\n",
      "5    0.000000\n",
      "6    0.000000\n",
      "7   -0.106405\n",
      "8    4.171185\n",
      "9    3.048980\n",
      "Name: demc._dt, dtype: float32\n",
      "5    0.000000\n",
      "6    0.000000\n",
      "7   -0.106405\n",
      "8    4.171185\n",
      "9    3.048980\n",
      "Name: demc._dt, dtype: float32\n",
      "5    0.000000\n",
      "6    0.000000\n",
      "7   -0.106405\n",
      "8    4.171185\n",
      "9    3.048980\n",
      "Name: demc._dt, dtype: float32\n"
     ]
    }
   ],
   "source": [
    "print df_stable_v1['demc._dt'].tail()\n",
    "print df_stable_v2['demc._dt'].tail()\n",
    "print df_stable_v3['demc._dt'].tail()\n",
    "print df_stable_v4['demc._dt'].tail()\n",
    "print df_stable_v5['demc._dt'].tail()"
   ]
  },
  {
   "cell_type": "markdown",
   "metadata": {
    "collapsed": true
   },
   "source": [
    "# ROOT details"
   ]
  },
  {
   "cell_type": "code",
   "execution_count": null,
   "metadata": {
    "collapsed": true
   },
   "outputs": [],
   "source": [
    "from ROOT import TFile\n",
    "tf_with_dot = TFile.Open(mu2e_ext_path+'datafiles/BTrk/stable.root')\n",
    "tf_no_dot = TFile.Open(mu2e_ext_path+'datafiles/BTrk/test.root')\n",
    "print 'File with trailing period'\n",
    "print tf_with_dot.Get('TrkAna').Get('trkana').Scan('evtinfo.eventid:evtinfo.runid:evtinfo.subrunid:evtinfo.evtwt:evtinfo.beamwt:evtinfo.genwt','','\"colsize=15',5)\n",
    "print 'File without trailing period'\n",
    "print tf_no_dot.Get('TrkAna').Get('trkana').Scan('evtinfo.eventid:evtinfo.runid:evtinfo.subrunid:evtinfo.evtwt:evtinfo.beamwt:evtinfo.genwt','','\"colsize=15',5)"
   ]
  }
 ],
 "metadata": {
  "kernelspec": {
   "display_name": "Python 2",
   "language": "python",
   "name": "python2"
  },
  "language_info": {
   "codemirror_mode": {
    "name": "ipython",
    "version": 2
   },
   "file_extension": ".py",
   "mimetype": "text/x-python",
   "name": "python",
   "nbconvert_exporter": "python",
   "pygments_lexer": "ipython2",
   "version": "2.7.13"
  }
 },
 "nbformat": 4,
 "nbformat_minor": 0
}
