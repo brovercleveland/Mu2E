{
 "cells": [
  {
   "cell_type": "markdown",
   "metadata": {},
   "source": [
    "# Validation Checks for BTrk"
   ]
  },
  {
   "cell_type": "markdown",
   "metadata": {},
   "source": [
    "Notes:\n",
    "* Removed '.' from TrkAna Code for some branch names.  Only needed for ROOT-based analysis template generation\n",
    "* Added proper initialization for some values so validation is more reliable"
   ]
  },
  {
   "cell_type": "code",
   "execution_count": 1,
   "metadata": {},
   "outputs": [
    {
     "name": "stdout",
     "output_type": "stream",
     "text": [
      "Welcome to JupyROOT 6.10/04\n"
     ]
    }
   ],
   "source": [
    "from mu2e import mu2e_ext_path\n",
    "from root_pandas import read_root\n",
    "import pandas as pd"
   ]
  },
  {
   "cell_type": "code",
   "execution_count": 2,
   "metadata": {
    "scrolled": true
   },
   "outputs": [],
   "source": [
    "def print_full(x):\n",
    "    pd.set_option('display.max_rows', len(x))\n",
    "    print(x)\n",
    "    pd.reset_option('display.max_rows')"
   ]
  },
  {
   "cell_type": "code",
   "execution_count": null,
   "metadata": {},
   "outputs": [],
   "source": [
    "df_stable = read_root(mu2e_ext_path+'datafiles/BTrk/stable.root', 'TrkAna/trkana', ['dem', 'demc', 'demmc'])\n",
    "df_test = read_root(mu2e_ext_path+'datafiles/BTrk/output_.root', 'TrkAna/trkana', ['dem', 'demc', 'demmc'])"
   ]
  },
  {
   "cell_type": "code",
   "execution_count": 3,
   "metadata": {},
   "outputs": [
    {
     "name": "stderr",
     "output_type": "stream",
     "text": [
      "Warning in <TClass::Init>: no dictionary for class mu2e::CrvHitInfoMC is available\n"
     ]
    }
   ],
   "source": [
    "df_stable = read_root(mu2e_ext_path+'datafiles/BTrk/output_9-26-17.root', 'TrkAna/trkana')\n",
    "#df_stable2 = read_root(mu2e_ext_path+'datafiles/BTrk/stable2.root', 'TrkAna/trkana')\n",
    "df_test = read_root(mu2e_ext_path+'datafiles/BTrk/output_9-27-17.root', 'TrkAna/trkana')"
   ]
  },
  {
   "cell_type": "code",
   "execution_count": null,
   "metadata": {
    "collapsed": true
   },
   "outputs": [],
   "source": [
    "df_stable1000 = read_root(mu2e_ext_path+'datafiles/BTrk/stable1000_6-15-17.root', 'TrkAna/trkana')\n",
    "#df_stable2 = read_root(mu2e_ext_path+'datafiles/BTrk/stable2.root', 'TrkAna/trkana')\n",
    "df_test1000 = read_root(mu2e_ext_path+'datafiles/BTrk/test1000_6-15-17.root', 'TrkAna/trkana')"
   ]
  },
  {
   "cell_type": "code",
   "execution_count": 3,
   "metadata": {},
   "outputs": [
    {
     "name": "stderr",
     "output_type": "stream",
     "text": [
      "Warning in <TClass::Init>: no dictionary for class mu2e::CrvHitInfoMC is available\n"
     ]
    }
   ],
   "source": [
    "df_stable_v1 = read_root(mu2e_ext_path+'datafiles/BTrk/stable_r1_vMaster.root', 'TrkAna/trkana')\n",
    "df_stable_v2 = read_root(mu2e_ext_path+'datafiles/BTrk/stable_r2_vMaster.root', 'TrkAna/trkana')\n",
    "df_stable_v3 = read_root(mu2e_ext_path+'datafiles/BTrk/stable_r3_vMaster.root', 'TrkAna/trkana')\n",
    "df_stable_v4 = read_root(mu2e_ext_path+'datafiles/BTrk/stable_r4_vMaster.root', 'TrkAna/trkana')\n",
    "df_stable_v5 = read_root(mu2e_ext_path+'datafiles/BTrk/stable_r5_vMaster.root', 'TrkAna/trkana')\n"
   ]
  },
  {
   "cell_type": "code",
   "execution_count": 18,
   "metadata": {},
   "outputs": [
    {
     "data": {
      "text/html": [
       "<div>\n",
       "<table border=\"1\" class=\"dataframe\">\n",
       "  <thead>\n",
       "    <tr style=\"text-align: right;\">\n",
       "      <th></th>\n",
       "      <th>demc._section</th>\n",
       "    </tr>\n",
       "  </thead>\n",
       "  <tbody>\n",
       "    <tr>\n",
       "      <th>0</th>\n",
       "      <td>32767</td>\n",
       "    </tr>\n",
       "    <tr>\n",
       "      <th>1</th>\n",
       "      <td>32767</td>\n",
       "    </tr>\n",
       "    <tr>\n",
       "      <th>2</th>\n",
       "      <td>32767</td>\n",
       "    </tr>\n",
       "    <tr>\n",
       "      <th>3</th>\n",
       "      <td>32767</td>\n",
       "    </tr>\n",
       "    <tr>\n",
       "      <th>4</th>\n",
       "      <td>32767</td>\n",
       "    </tr>\n",
       "    <tr>\n",
       "      <th>5</th>\n",
       "      <td>32767</td>\n",
       "    </tr>\n",
       "    <tr>\n",
       "      <th>6</th>\n",
       "      <td>32767</td>\n",
       "    </tr>\n",
       "    <tr>\n",
       "      <th>7</th>\n",
       "      <td>0</td>\n",
       "    </tr>\n",
       "    <tr>\n",
       "      <th>8</th>\n",
       "      <td>0</td>\n",
       "    </tr>\n",
       "    <tr>\n",
       "      <th>9</th>\n",
       "      <td>0</td>\n",
       "    </tr>\n",
       "  </tbody>\n",
       "</table>\n",
       "</div>"
      ],
      "text/plain": [
       "   demc._section\n",
       "0          32767\n",
       "1          32767\n",
       "2          32767\n",
       "3          32767\n",
       "4          32767\n",
       "5          32767\n",
       "6          32767\n",
       "7              0\n",
       "8              0\n",
       "9              0"
      ]
     },
     "execution_count": 18,
     "metadata": {},
     "output_type": "execute_result"
    }
   ],
   "source": [
    "df_stable_v1.filter(regex='demc._section')"
   ]
  },
  {
   "cell_type": "code",
   "execution_count": null,
   "metadata": {},
   "outputs": [],
   "source": [
    "c = df_stable_v1.columns"
   ]
  },
  {
   "cell_type": "code",
   "execution_count": null,
   "metadata": {},
   "outputs": [],
   "source": [
    "for i in c:\n",
    "    print i"
   ]
  },
  {
   "cell_type": "code",
   "execution_count": 8,
   "metadata": {
    "scrolled": false
   },
   "outputs": [
    {
     "name": "stdout",
     "output_type": "stream",
     "text": [
      "tcnt._ndemc        False\n",
      "tcnt._ndemo         True\n",
      "dem._status        False\n",
      "dem._pdg           False\n",
      "dem._nhits         False\n",
      "dem._ndof          False\n",
      "dem._nactive       False\n",
      "dem._ndouble       False\n",
      "dem._ndactive      False\n",
      "dem._nnullambig    False\n",
      "dem._nmat          False\n",
      "dem._nmatactive    False\n",
      "dem._nbend         False\n",
      "dem._t0            False\n",
      "dem._t0err         False\n",
      "dem._chisq         False\n",
      "dem._con           False\n",
      "dem._radlen        False\n",
      "dem._firstflt      False\n",
      "dem._lastflt       False\n",
      "dem._startvalid    False\n",
      "dem._endvalid      False\n",
      "dem._trkqual       False\n",
      "dem._mom           False\n",
      "dem._momerr        False\n",
      "dem._fltlen        False\n",
      "dem._d0            False\n",
      "dem._p0            False\n",
      "dem._om            False\n",
      "dem._z0            False\n",
      "dem._td            False\n",
      "dem._d0err         False\n",
      "dem._p0err         False\n",
      "dem._omerr         False\n",
      "dem._z0err         False\n",
      "dem._tderr         False\n",
      "demc._dt           False\n",
      "demc._du           False\n",
      "demc._dv           False\n",
      "demc._ds           False\n",
      "demc._ep           False\n",
      "demc._uvchisq      False\n",
      "demc._tchisq       False\n",
      "demc._dtllr        False\n",
      "demc._epllr        False\n",
      "demc._eclust       False\n",
      "demc._tclust       False\n",
      "demc._section      False\n",
      "demc._cposx        False\n",
      "demc._cposy        False\n",
      "demc._cposz        False\n",
      "demc._tposx        False\n",
      "demc._tposy        False\n",
      "demc._tposz        False\n",
      "demc._tdirx        False\n",
      "demc._tdiry        False\n",
      "demc._tdirz        False\n",
      "demc._ttrk         False\n",
      "demmc_ndigi         True\n",
      "demmc_ndigigood     True\n",
      "demmc_nhits        False\n",
      "demmc_nactive      False\n",
      "demmc_ngood        False\n",
      "demmc_nambig       False\n",
      "demmc_pdg           True\n",
      "demmc_gen           True\n",
      "demmc_proc          True\n",
      "demmc_ppdg          True\n",
      "demmc_pgen          True\n",
      "demmc_pproc         True\n",
      "demmc_pmom          True\n",
      "demmcgen_t0         True\n",
      "demmcgen_mom        True\n",
      "demmcgen_x          True\n",
      "demmcgen_y          True\n",
      "demmcgen_z          True\n",
      "demmcgen_d0        False\n",
      "demmcgen_p0        False\n",
      "demmcgen_om         True\n",
      "demmcgen_z0        False\n",
      "demmcgen_td         True\n",
      "demmcent_t0         True\n",
      "demmcent_mom        True\n",
      "demmcent_x          True\n",
      "demmcent_y          True\n",
      "demmcent_z          True\n",
      "demmcent_d0        False\n",
      "demmcent_p0        False\n",
      "demmcent_om         True\n",
      "demmcent_z0        False\n",
      "demmcent_td         True\n",
      "demmcmid_t0         True\n",
      "demmcmid_mom        True\n",
      "demmcmid_x          True\n",
      "demmcmid_y          True\n",
      "demmcmid_z          True\n",
      "demmcmid_d0        False\n",
      "demmcmid_p0        False\n",
      "demmcmid_om         True\n",
      "demmcmid_z0        False\n",
      "demmcmid_td         True\n",
      "demmcxit_t0         True\n",
      "demmcxit_mom        True\n",
      "demmcxit_x          True\n",
      "demmcxit_y          True\n",
      "demmcxit_z          True\n",
      "demmcxit_d0        False\n",
      "demmcxit_p0        False\n",
      "demmcxit_om         True\n",
      "demmcxit_z0        False\n",
      "demmcxit_td         True\n",
      "dtype: bool\n"
     ]
    }
   ],
   "source": [
    "print_full(((df_stable.filter(regex='dem.') == df_test.filter(regex='dem.')).all()))"
   ]
  },
  {
   "cell_type": "code",
   "execution_count": 9,
   "metadata": {},
   "outputs": [
    {
     "name": "stdout",
     "output_type": "stream",
     "text": [
      "45    11\n",
      "46    11\n",
      "47    11\n",
      "48    11\n",
      "49    11\n",
      "Name: demmc_pdg, dtype: int32\n",
      "45    11\n",
      "46    11\n",
      "47    11\n",
      "48    11\n",
      "49    11\n",
      "Name: demmc_pdg, dtype: int32\n"
     ]
    }
   ],
   "source": [
    "print(df_stable['demmc_pdg'].tail())\n",
    "print(df_test['demmc_pdg'].tail())\n"
   ]
  },
  {
   "cell_type": "markdown",
   "metadata": {
    "collapsed": true
   },
   "source": [
    "# ROOT details"
   ]
  },
  {
   "cell_type": "code",
   "execution_count": null,
   "metadata": {
    "collapsed": true
   },
   "outputs": [],
   "source": [
    "from ROOT import TFile\n",
    "tf_with_dot = TFile.Open(mu2e_ext_path+'datafiles/BTrk/stable.root')\n",
    "tf_no_dot = TFile.Open(mu2e_ext_path+'datafiles/BTrk/test.root')\n",
    "print 'File with trailing period'\n",
    "print tf_with_dot.Get('TrkAna').Get('trkana').Scan('evtinfo.eventid:evtinfo.runid:evtinfo.subrunid:evtinfo.evtwt:evtinfo.beamwt:evtinfo.genwt','','\"colsize=15',5)\n",
    "print 'File without trailing period'\n",
    "print tf_no_dot.Get('TrkAna').Get('trkana').Scan('evtinfo.eventid:evtinfo.runid:evtinfo.subrunid:evtinfo.evtwt:evtinfo.beamwt:evtinfo.genwt','','\"colsize=15',5)"
   ]
  }
 ],
 "metadata": {
  "kernelspec": {
   "display_name": "Python 3",
   "language": "python",
   "name": "python3"
  },
  "language_info": {
   "codemirror_mode": {
    "name": "ipython",
    "version": 3
   },
   "file_extension": ".py",
   "mimetype": "text/x-python",
   "name": "python",
   "nbconvert_exporter": "python",
   "pygments_lexer": "ipython3",
   "version": "3.6.2"
  }
 },
 "nbformat": 4,
 "nbformat_minor": 1
}
